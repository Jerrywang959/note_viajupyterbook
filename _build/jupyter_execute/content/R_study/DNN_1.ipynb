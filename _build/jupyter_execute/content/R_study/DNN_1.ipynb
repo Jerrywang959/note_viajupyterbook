{
 "cells": [
  {
   "cell_type": "markdown",
   "metadata": {
    "nteract": {
     "transient": {
      "deleting": false
     }
    }
   },
   "source": [
    "# 简单生成DNN\n",
    "再次考虑 为二手丰田卡罗拉定价 问题\n",
    "## 加载和预处理数据集\n",
    "加载包"
   ]
  },
  {
   "cell_type": "code",
   "execution_count": 1,
   "metadata": {
    "collapsed": true,
    "execution": {
     "iopub.execute_input": "2020-06-18T06:49:08.015Z",
     "iopub.status.busy": "2020-06-18T06:49:08.006Z",
     "iopub.status.idle": "2020-06-18T06:49:27.934Z",
     "shell.execute_reply": "2020-06-18T06:49:27.926Z"
    },
    "jupyter": {
     "outputs_hidden": false,
     "source_hidden": false
    },
    "nteract": {
     "transient": {
      "deleting": false
     }
    }
   },
   "outputs": [
    {
     "name": "stderr",
     "output_type": "stream",
     "text": [
      "Loading required package: lattice\n",
      "\n",
      "Loading required package: ggplot2\n",
      "\n",
      "Registered S3 method overwritten by 'quantmod':\n",
      "  method            from\n",
      "  as.zoo.data.frame zoo \n",
      "\n"
     ]
    }
   ],
   "source": [
    "library(mxnet)\n",
    "library(caret)\n",
    "library(forecast)"
   ]
  },
  {
   "cell_type": "markdown",
   "metadata": {
    "nteract": {
     "transient": {
      "deleting": false
     }
    }
   },
   "source": [
    "加载数据集"
   ]
  },
  {
   "cell_type": "code",
   "execution_count": 2,
   "metadata": {
    "collapsed": true,
    "execution": {
     "iopub.execute_input": "2020-06-18T06:51:12.069Z",
     "iopub.status.busy": "2020-06-18T06:51:12.064Z",
     "iopub.status.idle": "2020-06-18T06:51:16.265Z",
     "shell.execute_reply": "2020-06-18T06:51:16.260Z"
    },
    "jupyter": {
     "outputs_hidden": false,
     "source_hidden": false
    },
    "nteract": {
     "transient": {
      "deleting": false
     }
    }
   },
   "outputs": [],
   "source": [
    "toyota.df <- read.csv(\"https://github.com/Jerrywang959/note_viajupyterbook/raw/master/datas/ToyotaCorolla.csv\")"
   ]
  },
  {
   "cell_type": "markdown",
   "metadata": {
    "nteract": {
     "transient": {
      "deleting": false
     }
    }
   },
   "source": [
    "使用`Age_08_04，KM，Fuel_Type，HP，Automatic，Doors，Quarterly_Tax，Mfr_Guarantee，Guarantee_Period，Airco，Automatic_airco，CD_Player，Powered_Windows，Sport_Model和Tow_Bar`来做价格预测,一次性做好变量的预处理"
   ]
  },
  {
   "cell_type": "code",
   "execution_count": 3,
   "metadata": {
    "collapsed": true,
    "execution": {
     "iopub.execute_input": "2020-06-18T06:52:03.024Z",
     "iopub.status.busy": "2020-06-18T06:52:03.015Z",
     "iopub.status.idle": "2020-06-18T06:52:03.101Z",
     "shell.execute_reply": "2020-06-18T06:52:03.092Z"
    },
    "jupyter": {
     "outputs_hidden": false,
     "source_hidden": false
    },
    "nteract": {
     "transient": {
      "deleting": false
     }
    }
   },
   "outputs": [
    {
     "name": "stdout",
     "output_type": "stream",
     "text": [
      "'data.frame':\t575 obs. of  17 variables:\n",
      " $ Price           : num  0.563 0.572 0.614 0.795 0.542 ...\n",
      " $ Age_08_04       : num  0.278 0.278 0.316 0.329 0.278 ...\n",
      " $ KM              : num  0.2154 0.3344 0.2201 0.0903 0.3261 ...\n",
      " $ HP              : num  0.171 0.171 0.171 1 0 ...\n",
      " $ Automatic       : num  0 0 0 0 0 0 0 0 0 0 ...\n",
      " $ Doors           : num  0.333 0.333 0.333 0.333 0.333 ...\n",
      " $ Quarterly_Tax   : num  0.723 0.723 0.723 0.307 0.629 ...\n",
      " $ Mfr_Guarantee   : num  0 0 1 0 0 1 1 0 0 0 ...\n",
      " $ Guarantee_Period: num  0 0 0 0 0 ...\n",
      " $ Airco           : num  0 1 0 1 1 1 1 1 1 1 ...\n",
      " $ Automatic_airco : num  0 0 0 0 0 1 1 1 0 1 ...\n",
      " $ CD_Player       : num  0 1 0 0 0 0 1 0 0 1 ...\n",
      " $ Powered_Windows : num  1 0 0 1 0 1 1 1 1 1 ...\n",
      " $ Sport_Model     : num  0 0 0 0 0 1 1 1 0 1 ...\n",
      " $ Tow_Bar         : num  0 0 0 0 0 0 0 0 1 1 ...\n",
      " $ Fuel_Type_CNG   : num  0 0 0 0 0 0 0 0 0 0 ...\n",
      " $ Fuel_Type_Diesel: num  1 1 1 0 1 0 0 0 0 0 ...\n"
     ]
    }
   ],
   "source": [
    "toyota=toyota.df[,-c(1,2,5,6,10,11,13,15,16,18,20,22,23,24,27,29,31,32,33,35,36,37,38)]\n",
    "toyota$Fuel_Type_CNG <- 1* (toyota$Fuel_Type == \"CNG\")\n",
    "toyota$Fuel_Type_Diesel <- 1* (toyota$Fuel_Type == \"Diesel\")\n",
    "toyota=toyota[,-4]\n",
    "toyota$Price=log(toyota$Price)\n",
    "set.seed(1)\n",
    "train.index <- sample(row.names(toyota), 0.6*dim(toyota)[1])  \n",
    "valid.index <- setdiff(row.names(toyota), train.index) \n",
    "train <- toyota[train.index, ]\n",
    "valid <- toyota[valid.index, ]\n",
    "preProcValues=preProcess(train,method = \"range\",rangeBounds = c(0,1))\n",
    "trainTransformed <- predict(preProcValues, train)\n",
    "validTransformed <- predict(preProcValues, valid)\n",
    "str(validTransformed)"
   ]
  },
  {
   "cell_type": "markdown",
   "metadata": {
    "nteract": {
     "transient": {
      "deleting": false
     }
    }
   },
   "source": [
    "## 训练深度神经网络\n",
    "软件包mxnet可以逐层生成神经网络。因此，我们可以根据设计的网络结构独立定义每个层。  \n",
    "我们首先通过函数`mx.symbol.Variable()`定义输入层。此步骤仅创建具有指定名称的符号变量。"
   ]
  },
  {
   "cell_type": "code",
   "execution_count": 4,
   "metadata": {
    "collapsed": true,
    "execution": {
     "iopub.execute_input": "2020-06-18T06:52:38.031Z",
     "iopub.status.busy": "2020-06-18T06:52:38.024Z",
     "iopub.status.idle": "2020-06-18T06:52:38.038Z",
     "shell.execute_reply": "2020-06-18T06:52:38.044Z"
    },
    "jupyter": {
     "outputs_hidden": false,
     "source_hidden": false
    },
    "nteract": {
     "transient": {
      "deleting": false
     }
    }
   },
   "outputs": [],
   "source": [
    "data <- mx.symbol.Variable(\"data\")"
   ]
  },
  {
   "cell_type": "markdown",
   "metadata": {
    "nteract": {
     "transient": {
      "deleting": false
     }
    }
   },
   "source": [
    "然后，我们定义第一个隐藏层。`mx.symbol.FullyConnected()`用于定义具有输入数据和隐藏节点数15 的完全连接层。"
   ]
  },
  {
   "cell_type": "code",
   "execution_count": 5,
   "metadata": {
    "collapsed": true,
    "execution": {
     "iopub.execute_input": "2020-06-18T06:52:53.741Z",
     "iopub.status.busy": "2020-06-18T06:52:53.734Z",
     "iopub.status.idle": "2020-06-18T06:52:53.753Z",
     "shell.execute_reply": "2020-06-18T06:52:53.764Z"
    },
    "jupyter": {
     "outputs_hidden": false,
     "source_hidden": false
    },
    "nteract": {
     "transient": {
      "deleting": false
     }
    }
   },
   "outputs": [],
   "source": [
    "fc1 <- mx.symbol.FullyConnected(data, num_hidden=15, name=\"fc1\")"
   ]
  },
  {
   "cell_type": "markdown",
   "metadata": {
    "nteract": {
     "transient": {
      "deleting": false
     }
    }
   },
   "source": [
    "然后在第一个隐藏层之后定义激活函数。第一个参数是输入，它是第一隐藏层的输出。我们在这里使用`tanh`函数。"
   ]
  },
  {
   "cell_type": "code",
   "execution_count": 6,
   "metadata": {
    "collapsed": true,
    "execution": {
     "iopub.execute_input": "2020-06-18T06:53:19.809Z",
     "iopub.status.busy": "2020-06-18T06:53:19.802Z",
     "iopub.status.idle": "2020-06-18T06:53:19.818Z",
     "shell.execute_reply": "2020-06-18T06:53:19.831Z"
    },
    "jupyter": {
     "outputs_hidden": false,
     "source_hidden": false
    },
    "nteract": {
     "transient": {
      "deleting": false
     }
    }
   },
   "outputs": [],
   "source": [
    "act1 <- mx.symbol.Activation(fc1, name=\"tanh1\", act_type=\"tanh\")"
   ]
  },
  {
   "cell_type": "markdown",
   "metadata": {
    "nteract": {
     "transient": {
      "deleting": false
     }
    }
   },
   "source": [
    "然后是第二个隐藏层。"
   ]
  },
  {
   "cell_type": "code",
   "execution_count": 7,
   "metadata": {
    "collapsed": true,
    "execution": {
     "iopub.execute_input": "2020-06-18T06:53:38.026Z",
     "iopub.status.busy": "2020-06-18T06:53:38.019Z",
     "iopub.status.idle": "2020-06-18T06:53:38.036Z",
     "shell.execute_reply": "2020-06-18T06:53:38.045Z"
    },
    "jupyter": {
     "outputs_hidden": false,
     "source_hidden": false
    },
    "nteract": {
     "transient": {
      "deleting": false
     }
    }
   },
   "outputs": [],
   "source": [
    "fc2 <- mx.symbol.FullyConnected(act1, name=\"fc2\", num_hidden=25)"
   ]
  },
  {
   "cell_type": "markdown",
   "metadata": {
    "nteract": {
     "transient": {
      "deleting": false
     }
    }
   },
   "source": [
    "第二隐藏层之后的激活函数。我们现在使用`relu`。"
   ]
  },
  {
   "cell_type": "code",
   "execution_count": 8,
   "metadata": {
    "collapsed": true,
    "execution": {
     "iopub.execute_input": "2020-06-18T06:54:03.830Z",
     "iopub.status.busy": "2020-06-18T06:54:03.821Z",
     "iopub.status.idle": "2020-06-18T06:54:03.840Z",
     "shell.execute_reply": "2020-06-18T06:54:03.847Z"
    },
    "jupyter": {
     "outputs_hidden": false,
     "source_hidden": false
    },
    "nteract": {
     "transient": {
      "deleting": false
     }
    }
   },
   "outputs": [],
   "source": [
    "act2 <- mx.symbol.Activation(fc2, name=\"relu2\", act_type=\"relu\")"
   ]
  },
  {
   "cell_type": "markdown",
   "metadata": {
    "nteract": {
     "transient": {
      "deleting": false
     }
    }
   },
   "source": [
    "现在我们定义输出层。\n",
    "\n"
   ]
  },
  {
   "cell_type": "code",
   "execution_count": 9,
   "metadata": {
    "collapsed": true,
    "execution": {
     "iopub.execute_input": "2020-06-18T06:54:16.445Z",
     "iopub.status.busy": "2020-06-18T06:54:16.435Z",
     "iopub.status.idle": "2020-06-18T06:54:16.457Z",
     "shell.execute_reply": "2020-06-18T06:54:16.464Z"
    },
    "jupyter": {
     "outputs_hidden": false,
     "source_hidden": false
    },
    "nteract": {
     "transient": {
      "deleting": false
     }
    }
   },
   "outputs": [],
   "source": [
    "fc3 <- mx.symbol.FullyConnected(act2, name=\"fc3\", num_hidden=1)"
   ]
  },
  {
   "cell_type": "markdown",
   "metadata": {
    "nteract": {
     "transient": {
      "deleting": false
     }
    }
   },
   "source": [
    "以及线性回归输出。"
   ]
  },
  {
   "cell_type": "code",
   "execution_count": 10,
   "metadata": {
    "collapsed": true,
    "execution": {
     "iopub.execute_input": "2020-06-18T06:54:34.097Z",
     "iopub.status.busy": "2020-06-18T06:54:34.088Z",
     "iopub.status.idle": "2020-06-18T06:54:34.109Z",
     "shell.execute_reply": "2020-06-18T06:54:34.117Z"
    },
    "jupyter": {
     "outputs_hidden": false,
     "source_hidden": false
    },
    "nteract": {
     "transient": {
      "deleting": false
     }
    }
   },
   "outputs": [],
   "source": [
    "lro <- mx.symbol.LinearRegressionOutput(fc3)"
   ]
  },
  {
   "cell_type": "markdown",
   "metadata": {
    "nteract": {
     "transient": {
      "deleting": false
     }
    }
   },
   "source": [
    "基本上，神经网络的结构是：`数据-> fc1-> ac1-> fc2-> act2-> fc3-> lro`。\n",
    "\n",
    "然后我们训练模型。使用`mx.model.FeedForward.create()`创建前馈神经网络。"
   ]
  },
  {
   "cell_type": "code",
   "execution_count": 11,
   "metadata": {
    "collapsed": true,
    "execution": {
     "iopub.execute_input": "2020-06-18T06:55:57.153Z",
     "iopub.status.busy": "2020-06-18T06:55:57.143Z",
     "iopub.status.idle": "2020-06-18T06:56:13.061Z",
     "shell.execute_reply": "2020-06-18T06:56:13.051Z"
    },
    "jupyter": {
     "outputs_hidden": false,
     "source_hidden": false
    },
    "nteract": {
     "transient": {
      "deleting": false
     }
    }
   },
   "outputs": [
    {
     "name": "stderr",
     "output_type": "stream",
     "text": [
      "Start training with 1 devices\n",
      "\n",
      "[1] Train-rmse=0.186881958025283\n",
      "\n",
      "[2] Train-rmse=0.148715730242688\n",
      "\n",
      "[3] Train-rmse=0.148841657001397\n",
      "\n",
      "[4] Train-rmse=0.148833905443035\n",
      "\n",
      "[5] Train-rmse=0.14883360151073\n",
      "\n",
      "[6] Train-rmse=0.148833054278431\n",
      "\n",
      "[7] Train-rmse=0.148832373192598\n",
      "\n",
      "[8] Train-rmse=0.148831513935122\n",
      "\n",
      "[9] Train-rmse=0.148830420112815\n",
      "\n",
      "[10] Train-rmse=0.148828979067761\n",
      "\n",
      "[11] Train-rmse=0.148827070306087\n",
      "\n",
      "[12] Train-rmse=0.148824475063332\n",
      "\n",
      "[13] Train-rmse=0.148820842391458\n",
      "\n",
      "[14] Train-rmse=0.148815656915821\n",
      "\n",
      "[15] Train-rmse=0.148807899833753\n",
      "\n",
      "[16] Train-rmse=0.148795893480038\n",
      "\n",
      "[17] Train-rmse=0.14877622484647\n",
      "\n",
      "[18] Train-rmse=0.148741996365375\n",
      "\n",
      "[19] Train-rmse=0.148676605574016\n",
      "\n",
      "[20] Train-rmse=0.148536937632437\n",
      "\n",
      "[21] Train-rmse=0.148185138943894\n",
      "\n",
      "[22] Train-rmse=0.147050494906204\n",
      "\n",
      "[23] Train-rmse=0.141780573617795\n",
      "\n",
      "[24] Train-rmse=0.11588363554971\n",
      "\n",
      "[25] Train-rmse=0.0876695057698365\n",
      "\n",
      "[26] Train-rmse=0.0746788884802111\n",
      "\n",
      "[27] Train-rmse=0.0652738864180343\n",
      "\n",
      "[28] Train-rmse=0.0600101350453393\n",
      "\n",
      "[29] Train-rmse=0.057397688193054\n",
      "\n",
      "[30] Train-rmse=0.0560045706043983\n",
      "\n",
      "[31] Train-rmse=0.0553326530960099\n",
      "\n",
      "[32] Train-rmse=0.0550199089700292\n",
      "\n",
      "[33] Train-rmse=0.0548242331514585\n",
      "\n",
      "[34] Train-rmse=0.0547228159126023\n",
      "\n",
      "[35] Train-rmse=0.0546463660189304\n",
      "\n",
      "[36] Train-rmse=0.0545873485248664\n",
      "\n",
      "[37] Train-rmse=0.0545363056890923\n",
      "\n",
      "[38] Train-rmse=0.054500093041309\n",
      "\n",
      "[39] Train-rmse=0.0544633062171011\n",
      "\n",
      "[40] Train-rmse=0.05443709928157\n",
      "\n",
      "[41] Train-rmse=0.0544108966493915\n",
      "\n",
      "[42] Train-rmse=0.0543899612244347\n",
      "\n",
      "[43] Train-rmse=0.0543683881967746\n",
      "\n",
      "[44] Train-rmse=0.0543485359642012\n",
      "\n",
      "[45] Train-rmse=0.0543327230382068\n",
      "\n",
      "[46] Train-rmse=0.0543141780613825\n",
      "\n",
      "[47] Train-rmse=0.0543005198946801\n",
      "\n",
      "[48] Train-rmse=0.0542846243057785\n",
      "\n",
      "[49] Train-rmse=0.0542693998150784\n",
      "\n",
      "[50] Train-rmse=0.0542576866352866\n",
      "\n",
      "[51] Train-rmse=0.0542437443509698\n",
      "\n",
      "[52] Train-rmse=0.0542303527030965\n",
      "\n",
      "[53] Train-rmse=0.0542199277672274\n",
      "\n",
      "[54] Train-rmse=0.0542073801545234\n",
      "\n",
      "[55] Train-rmse=0.0541953509031185\n",
      "\n",
      "[56] Train-rmse=0.0541858362547796\n",
      "\n",
      "[57] Train-rmse=0.054173584674196\n",
      "\n",
      "[58] Train-rmse=0.0541647531670229\n",
      "\n",
      "[59] Train-rmse=0.054153845966633\n",
      "\n",
      "[60] Train-rmse=0.0541431974170023\n",
      "\n",
      "[61] Train-rmse=0.0541349634656618\n",
      "\n",
      "[62] Train-rmse=0.0541247795175376\n",
      "\n",
      "[63] Train-rmse=0.0541148630516796\n",
      "\n",
      "[64] Train-rmse=0.0541070784153096\n",
      "\n",
      "[65] Train-rmse=0.0540975739794045\n",
      "\n",
      "[66] Train-rmse=0.0540881523027502\n",
      "\n",
      "[67] Train-rmse=0.0540816075778727\n",
      "\n",
      "[68] Train-rmse=0.0540834935703154\n",
      "\n",
      "[69] Train-rmse=0.0540793251952734\n",
      "\n",
      "[70] Train-rmse=0.0540752503378638\n",
      "\n",
      "[71] Train-rmse=0.0540681745022022\n",
      "\n",
      "[72] Train-rmse=0.0540666492848561\n",
      "\n",
      "[73] Train-rmse=0.0540598863093504\n",
      "\n",
      "[74] Train-rmse=0.0540546967872772\n",
      "\n",
      "[75] Train-rmse=0.0540442498529266\n",
      "\n",
      "[76] Train-rmse=0.0540400148722632\n",
      "\n",
      "[77] Train-rmse=0.0540300972502807\n",
      "\n",
      "[78] Train-rmse=0.0540243755897571\n",
      "\n",
      "[79] Train-rmse=0.0540155393296275\n",
      "\n",
      "[80] Train-rmse=0.0540100331578789\n",
      "\n",
      "[81] Train-rmse=0.0540023420070266\n",
      "\n",
      "[82] Train-rmse=0.0539948601789516\n",
      "\n",
      "[83] Train-rmse=0.0539885515282894\n",
      "\n",
      "[84] Train-rmse=0.053979828279337\n",
      "\n",
      "[85] Train-rmse=0.053972474620517\n",
      "\n",
      "[86] Train-rmse=0.0539682954870935\n",
      "\n",
      "[87] Train-rmse=0.0539588952629731\n",
      "\n",
      "[88] Train-rmse=0.0539553380924566\n",
      "\n",
      "[89] Train-rmse=0.0539480129513761\n",
      "\n",
      "[90] Train-rmse=0.053942014752277\n",
      "\n",
      "[91] Train-rmse=0.0539332520345162\n",
      "\n",
      "[92] Train-rmse=0.0539300232033791\n",
      "\n",
      "[93] Train-rmse=0.0539221845824143\n",
      "\n",
      "[94] Train-rmse=0.0539169486868998\n",
      "\n",
      "[95] Train-rmse=0.0539112004676256\n",
      "\n",
      "[96] Train-rmse=0.0539041467267891\n",
      "\n",
      "[97] Train-rmse=0.053899233550604\n",
      "\n",
      "[98] Train-rmse=0.0538953059706195\n",
      "\n",
      "[99] Train-rmse=0.053886569683151\n",
      "\n",
      "[100] Train-rmse=0.0538828286888271\n",
      "\n"
     ]
    }
   ],
   "source": [
    "train.x=data.matrix(trainTransformed[,2:17])\n",
    "train.y=trainTransformed[,1]\n",
    "mx.set.seed(0)\n",
    "model <- mx.model.FeedForward.create(lro, X=train.x, y=train.y,\n",
    "                                     num.round=100, array.batch.size=15,\n",
    "                                     learning.rate=0.07, momentum=0.9,\n",
    "                                     eval.metric=mx.metric.rmse, array.layout = \"rowmajor\")"
   ]
  },
  {
   "cell_type": "markdown",
   "metadata": {
    "nteract": {
     "transient": {
      "deleting": false
     }
    }
   },
   "source": [
    "## 预测验证集\n",
    "使用训练有素的模型来预测测试集。这里的`predit()`将使用模型来预测`valid.x`。"
   ]
  },
  {
   "cell_type": "code",
   "execution_count": 12,
   "metadata": {
    "collapsed": true,
    "execution": {
     "iopub.execute_input": "2020-06-18T07:02:41.561Z",
     "iopub.status.busy": "2020-06-18T07:02:41.550Z",
     "iopub.status.idle": "2020-06-18T07:02:41.584Z",
     "shell.execute_reply": "2020-06-18T07:02:41.598Z"
    },
    "jupyter": {
     "outputs_hidden": false,
     "source_hidden": false
    },
    "nteract": {
     "transient": {
      "deleting": false
     }
    }
   },
   "outputs": [],
   "source": [
    "valid.x=data.matrix(validTransformed[,2:17])\n",
    "valid.y=validTransformed[,1]\n",
    "preds = predict(model, valid.x, array.layout=\"rowmajor\")\n",
    "preds=as.vector(preds)"
   ]
  },
  {
   "cell_type": "markdown",
   "metadata": {
    "nteract": {
     "transient": {
      "deleting": false
     }
    }
   },
   "source": [
    "可以通过包装预测中的函数`precision()`计算预测精度。"
   ]
  },
  {
   "cell_type": "code",
   "execution_count": 13,
   "metadata": {
    "collapsed": true,
    "execution": {
     "iopub.execute_input": "2020-06-18T07:02:59.241Z",
     "iopub.status.busy": "2020-06-18T07:02:59.232Z",
     "iopub.status.idle": "2020-06-18T07:02:59.267Z",
     "shell.execute_reply": "2020-06-18T07:02:59.278Z"
    },
    "jupyter": {
     "outputs_hidden": false,
     "source_hidden": false
    },
    "nteract": {
     "transient": {
      "deleting": false
     }
    }
   },
   "outputs": [
    {
     "data": {
      "text/html": [
       "<table>\n",
       "<caption>A matrix: 1 × 5 of type dbl</caption>\n",
       "<thead>\n",
       "\t<tr><th></th><th scope=col>ME</th><th scope=col>RMSE</th><th scope=col>MAE</th><th scope=col>MPE</th><th scope=col>MAPE</th></tr>\n",
       "</thead>\n",
       "<tbody>\n",
       "\t<tr><th scope=row>Test set</th><td>0.005780164</td><td>0.05044384</td><td>0.03988474</td><td>-0.5297637</td><td>11.04301</td></tr>\n",
       "</tbody>\n",
       "</table>\n"
      ],
      "text/latex": [
       "A matrix: 1 × 5 of type dbl\n",
       "\\begin{tabular}{r|lllll}\n",
       "  & ME & RMSE & MAE & MPE & MAPE\\\\\n",
       "\\hline\n",
       "\tTest set & 0.005780164 & 0.05044384 & 0.03988474 & -0.5297637 & 11.04301\\\\\n",
       "\\end{tabular}\n"
      ],
      "text/markdown": [
       "\n",
       "A matrix: 1 × 5 of type dbl\n",
       "\n",
       "| <!--/--> | ME | RMSE | MAE | MPE | MAPE |\n",
       "|---|---|---|---|---|---|\n",
       "| Test set | 0.005780164 | 0.05044384 | 0.03988474 | -0.5297637 | 11.04301 |\n",
       "\n"
      ],
      "text/plain": [
       "         ME          RMSE       MAE        MPE        MAPE    \n",
       "Test set 0.005780164 0.05044384 0.03988474 -0.5297637 11.04301"
      ]
     },
     "metadata": {},
     "output_type": "display_data"
    }
   ],
   "source": [
    "accu=accuracy(preds, valid.y)\n",
    "accu"
   ]
  },
  {
   "cell_type": "markdown",
   "metadata": {
    "nteract": {
     "transient": {
      "deleting": false
     }
    }
   },
   "source": [
    "有效均方根值为0.05。\n",
    "\n",
    "ME：平均误差\n",
    "\n",
    "RMSE：均方根误差\n",
    "\n",
    "MAE：平均绝对误差\n",
    "\n",
    "MPE：平均百分比误差\n",
    "\n",
    "MAPE：平均绝对百分比误差"
   ]
  }
 ],
 "metadata": {
  "kernel_info": {
   "name": "ir40"
  },
  "kernelspec": {
   "argv": [
    "/usr/lib/R/bin/R",
    "--slave",
    "-e",
    "IRkernel::main()",
    "--args",
    "{connection_file}"
   ],
   "display_name": "R 4.0",
   "language": "R",
   "name": "ir40"
  },
  "language_info": {
   "codemirror_mode": "r",
   "file_extension": ".r",
   "mimetype": "text/x-r-source",
   "name": "R",
   "pygments_lexer": "r",
   "version": "4.0.1"
  },
  "nteract": {
   "version": "0.23.3"
  }
 },
 "nbformat": 4,
 "nbformat_minor": 0
}