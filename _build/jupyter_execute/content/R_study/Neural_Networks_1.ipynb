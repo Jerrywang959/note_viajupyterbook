{
 "cells": [
  {
   "cell_type": "markdown",
   "metadata": {
    "nteract": {
     "transient": {
      "deleting": false
     }
    }
   },
   "source": [
    "# 多层感知机\n",
    "为二手丰田卡罗拉定价\n",
    "## 加载和预处理数据集"
   ]
  },
  {
   "cell_type": "code",
   "execution_count": 1,
   "metadata": {
    "collapsed": true,
    "execution": {
     "iopub.execute_input": "2020-06-17T14:40:21.325Z",
     "iopub.status.busy": "2020-06-17T14:40:21.312Z",
     "iopub.status.idle": "2020-06-17T14:40:39.386Z",
     "shell.execute_reply": "2020-06-17T14:40:39.369Z"
    },
    "jupyter": {
     "outputs_hidden": false,
     "source_hidden": false
    },
    "nteract": {
     "transient": {
      "deleting": false
     }
    }
   },
   "outputs": [
    {
     "name": "stderr",
     "output_type": "stream",
     "text": [
      "Loading required package: lattice\n",
      "\n",
      "Loading required package: ggplot2\n",
      "\n",
      "Registered S3 method overwritten by 'quantmod':\n",
      "  method            from\n",
      "  as.zoo.data.frame zoo \n",
      "\n"
     ]
    }
   ],
   "source": [
    "library(mxnet)\n",
    "library(caret)\n",
    "library(forecast)"
   ]
  },
  {
   "cell_type": "markdown",
   "metadata": {
    "nteract": {
     "transient": {
      "deleting": false
     }
    }
   },
   "source": [
    "读取数据,并转化成dataframe"
   ]
  },
  {
   "cell_type": "code",
   "execution_count": 2,
   "metadata": {
    "collapsed": true,
    "execution": {
     "iopub.execute_input": "2020-06-17T14:40:39.425Z",
     "iopub.status.busy": "2020-06-17T14:40:39.408Z",
     "iopub.status.idle": "2020-06-17T14:40:42.832Z",
     "shell.execute_reply": "2020-06-17T14:40:43.336Z"
    },
    "jupyter": {
     "outputs_hidden": false,
     "source_hidden": false
    },
    "nteract": {
     "transient": {
      "deleting": false
     }
    }
   },
   "outputs": [
    {
     "name": "stdout",
     "output_type": "stream",
     "text": [
      "'data.frame':\t1436 obs. of  39 variables:\n",
      " $ Id               : int  1 2 3 4 5 6 7 8 9 10 ...\n",
      " $ Model            : chr  \"TOYOTA Corolla 2.0 D4D HATCHB TERRA 2/3-Doors\" \"TOYOTA Corolla 2.0 D4D HATCHB TERRA 2/3-Doors\" \"\\xa0TOYOTA Corolla 2.0 D4D HATCHB TERRA 2/3-Doors\" \"TOYOTA Corolla 2.0 D4D HATCHB TERRA 2/3-Doors\" ...\n",
      " $ Price            : int  13500 13750 13950 14950 13750 12950 16900 18600 21500 12950 ...\n",
      " $ Age_08_04        : int  23 23 24 26 30 32 27 30 27 23 ...\n",
      " $ Mfg_Month        : int  10 10 9 7 3 1 6 3 6 10 ...\n",
      " $ Mfg_Year         : int  2002 2002 2002 2002 2002 2002 2002 2002 2002 2002 ...\n",
      " $ KM               : int  46986 72937 41711 48000 38500 61000 94612 75889 19700 71138 ...\n",
      " $ Fuel_Type        : chr  \"Diesel\" \"Diesel\" \"Diesel\" \"Diesel\" ...\n",
      " $ HP               : int  90 90 90 90 90 90 90 90 192 69 ...\n",
      " $ Met_Color        : int  1 1 1 0 0 0 1 1 0 0 ...\n",
      " $ Color            : chr  \"Blue\" \"Silver\" \"Blue\" \"Black\" ...\n",
      " $ Automatic        : int  0 0 0 0 0 0 0 0 0 0 ...\n",
      " $ CC               : int  2000 2000 2000 2000 2000 2000 2000 2000 1800 1900 ...\n",
      " $ Doors            : int  3 3 3 3 3 3 3 3 3 3 ...\n",
      " $ Cylinders        : int  4 4 4 4 4 4 4 4 4 4 ...\n",
      " $ Gears            : int  5 5 5 5 5 5 5 5 5 5 ...\n",
      " $ Quarterly_Tax    : int  210 210 210 210 210 210 210 210 100 185 ...\n",
      " $ Weight           : int  1165 1165 1165 1165 1170 1170 1245 1245 1185 1105 ...\n",
      " $ Mfr_Guarantee    : int  0 0 1 1 1 0 0 1 0 0 ...\n",
      " $ BOVAG_Guarantee  : int  1 1 1 1 1 1 1 1 1 1 ...\n",
      " $ Guarantee_Period : int  3 3 3 3 3 3 3 3 3 3 ...\n",
      " $ ABS              : int  1 1 1 1 1 1 1 1 1 1 ...\n",
      " $ Airbag_1         : int  1 1 1 1 1 1 1 1 1 1 ...\n",
      " $ Airbag_2         : int  1 1 1 1 1 1 1 1 0 1 ...\n",
      " $ Airco            : int  0 1 0 0 1 1 1 1 1 1 ...\n",
      " $ Automatic_airco  : int  0 0 0 0 0 0 0 0 0 0 ...\n",
      " $ Boardcomputer    : int  1 1 1 1 1 1 1 1 0 1 ...\n",
      " $ CD_Player        : int  0 1 0 0 0 0 0 1 0 0 ...\n",
      " $ Central_Lock     : int  1 1 0 0 1 1 1 1 1 0 ...\n",
      " $ Powered_Windows  : int  1 0 0 0 1 1 1 1 1 0 ...\n",
      " $ Power_Steering   : int  1 1 1 1 1 1 1 1 1 1 ...\n",
      " $ Radio            : int  0 0 0 0 0 0 0 0 1 0 ...\n",
      " $ Mistlamps        : int  0 0 0 0 1 1 0 0 0 0 ...\n",
      " $ Sport_Model      : int  0 0 0 0 0 0 1 0 0 0 ...\n",
      " $ Backseat_Divider : int  1 1 1 1 1 1 1 1 0 1 ...\n",
      " $ Metallic_Rim     : int  0 0 0 0 0 0 0 0 1 0 ...\n",
      " $ Radio_cassette   : int  0 0 0 0 0 0 0 0 1 0 ...\n",
      " $ Parking_Assistant: int  0 0 0 0 0 0 0 0 0 0 ...\n",
      " $ Tow_Bar          : int  0 0 0 0 0 0 0 0 0 0 ...\n"
     ]
    }
   ],
   "source": [
    "toyota.df <- read.csv(\"https://github.com/Jerrywang959/note_viajupyterbook/raw/master/datas/ToyotaCorolla.csv\")\n",
    "str(toyota.df)"
   ]
  },
  {
   "cell_type": "markdown",
   "metadata": {
    "nteract": {
     "transient": {
      "deleting": false
     }
    }
   },
   "source": [
    "我们用`Age_08_04, KM, Fuel_Type, HP, Automatic, Doors, Quarterly_Tax, Mfr_Guarantee, Guarantee_Period, Airco, Automatic_airco, CD_Player, Powered_Windows, Sport_Model and Tow_Bar`来预测价格,因此删除不需要的变量"
   ]
  },
  {
   "cell_type": "code",
   "execution_count": 3,
   "metadata": {
    "collapsed": true,
    "execution": {
     "iopub.execute_input": "2020-06-17T14:40:42.869Z",
     "iopub.status.busy": "2020-06-17T14:40:42.854Z",
     "iopub.status.idle": "2020-06-17T14:40:42.906Z",
     "shell.execute_reply": "2020-06-17T14:40:43.347Z"
    },
    "jupyter": {
     "outputs_hidden": false,
     "source_hidden": false
    },
    "nteract": {
     "transient": {
      "deleting": false
     }
    }
   },
   "outputs": [
    {
     "name": "stdout",
     "output_type": "stream",
     "text": [
      "'data.frame':\t1436 obs. of  16 variables:\n",
      " $ Price           : int  13500 13750 13950 14950 13750 12950 16900 18600 21500 12950 ...\n",
      " $ Age_08_04       : int  23 23 24 26 30 32 27 30 27 23 ...\n",
      " $ KM              : int  46986 72937 41711 48000 38500 61000 94612 75889 19700 71138 ...\n",
      " $ Fuel_Type       : chr  \"Diesel\" \"Diesel\" \"Diesel\" \"Diesel\" ...\n",
      " $ HP              : int  90 90 90 90 90 90 90 90 192 69 ...\n",
      " $ Automatic       : int  0 0 0 0 0 0 0 0 0 0 ...\n",
      " $ Doors           : int  3 3 3 3 3 3 3 3 3 3 ...\n",
      " $ Quarterly_Tax   : int  210 210 210 210 210 210 210 210 100 185 ...\n",
      " $ Mfr_Guarantee   : int  0 0 1 1 1 0 0 1 0 0 ...\n",
      " $ Guarantee_Period: int  3 3 3 3 3 3 3 3 3 3 ...\n",
      " $ Airco           : int  0 1 0 0 1 1 1 1 1 1 ...\n",
      " $ Automatic_airco : int  0 0 0 0 0 0 0 0 0 0 ...\n",
      " $ CD_Player       : int  0 1 0 0 0 0 0 1 0 0 ...\n",
      " $ Powered_Windows : int  1 0 0 0 1 1 1 1 1 0 ...\n",
      " $ Sport_Model     : int  0 0 0 0 0 0 1 0 0 0 ...\n",
      " $ Tow_Bar         : int  0 0 0 0 0 0 0 0 0 0 ...\n"
     ]
    }
   ],
   "source": [
    "toyota=toyota.df[,-c(1,2,5,6,10,11,13,15,16,18,20,22,23,24,27,29,31,32,33,35,36,37,38)]\n",
    "str(toyota)"
   ]
  },
  {
   "cell_type": "markdown",
   "metadata": {
    "nteract": {
     "transient": {
      "deleting": false
     }
    }
   },
   "source": [
    "把字符串类型变量`Fuel_Type`转化为虚拟变量.因为Fuel_Type有三种类型的字符串 Fuel_Type==\"CNG\" 则赋值`Fuel_Type_CNG`为1. Fuel_Type==\"Diesel\"则赋值`Fuel_Type_Diesel`为1.最后删除`Fuel_Type`这一变量"
   ]
  },
  {
   "cell_type": "code",
   "execution_count": 4,
   "metadata": {
    "collapsed": true,
    "execution": {
     "iopub.execute_input": "2020-06-17T14:40:42.942Z",
     "iopub.status.busy": "2020-06-17T14:40:42.930Z",
     "iopub.status.idle": "2020-06-17T14:40:42.970Z",
     "shell.execute_reply": "2020-06-17T14:40:43.358Z"
    },
    "jupyter": {
     "outputs_hidden": false,
     "source_hidden": false
    },
    "nteract": {
     "transient": {
      "deleting": false
     }
    }
   },
   "outputs": [
    {
     "name": "stdout",
     "output_type": "stream",
     "text": [
      "'data.frame':\t1436 obs. of  17 variables:\n",
      " $ Price           : int  13500 13750 13950 14950 13750 12950 16900 18600 21500 12950 ...\n",
      " $ Age_08_04       : int  23 23 24 26 30 32 27 30 27 23 ...\n",
      " $ KM              : int  46986 72937 41711 48000 38500 61000 94612 75889 19700 71138 ...\n",
      " $ HP              : int  90 90 90 90 90 90 90 90 192 69 ...\n",
      " $ Automatic       : int  0 0 0 0 0 0 0 0 0 0 ...\n",
      " $ Doors           : int  3 3 3 3 3 3 3 3 3 3 ...\n",
      " $ Quarterly_Tax   : int  210 210 210 210 210 210 210 210 100 185 ...\n",
      " $ Mfr_Guarantee   : int  0 0 1 1 1 0 0 1 0 0 ...\n",
      " $ Guarantee_Period: int  3 3 3 3 3 3 3 3 3 3 ...\n",
      " $ Airco           : int  0 1 0 0 1 1 1 1 1 1 ...\n",
      " $ Automatic_airco : int  0 0 0 0 0 0 0 0 0 0 ...\n",
      " $ CD_Player       : int  0 1 0 0 0 0 0 1 0 0 ...\n",
      " $ Powered_Windows : int  1 0 0 0 1 1 1 1 1 0 ...\n",
      " $ Sport_Model     : int  0 0 0 0 0 0 1 0 0 0 ...\n",
      " $ Tow_Bar         : int  0 0 0 0 0 0 0 0 0 0 ...\n",
      " $ Fuel_Type_CNG   : num  0 0 0 0 0 0 0 0 0 0 ...\n",
      " $ Fuel_Type_Diesel: num  1 1 1 1 1 1 1 1 0 1 ...\n"
     ]
    }
   ],
   "source": [
    "toyota$Fuel_Type_CNG <- 1* (toyota$Fuel_Type == \"CNG\")\n",
    "toyota$Fuel_Type_Diesel <- 1* (toyota$Fuel_Type == \"Diesel\")\n",
    "toyota=toyota[,-4]\n",
    "str(toyota)"
   ]
  },
  {
   "cell_type": "markdown",
   "metadata": {
    "nteract": {
     "transient": {
      "deleting": false
     }
    }
   },
   "source": [
    "对于价格,一般都求log"
   ]
  },
  {
   "cell_type": "code",
   "execution_count": 5,
   "metadata": {
    "collapsed": true,
    "execution": {
     "iopub.execute_input": "2020-06-17T14:40:43.003Z",
     "iopub.status.busy": "2020-06-17T14:40:42.990Z",
     "iopub.status.idle": "2020-06-17T14:40:43.022Z",
     "shell.execute_reply": "2020-06-17T14:40:43.370Z"
    },
    "jupyter": {
     "outputs_hidden": false,
     "source_hidden": false
    },
    "nteract": {
     "transient": {
      "deleting": false
     }
    }
   },
   "outputs": [],
   "source": [
    "toyota$Price=log(toyota$Price)"
   ]
  },
  {
   "cell_type": "markdown",
   "metadata": {
    "nteract": {
     "transient": {
      "deleting": false
     }
    }
   },
   "source": [
    "将数据集拆分为训练和验证集。我们在这里使用另一个函数`sample()`"
   ]
  },
  {
   "cell_type": "code",
   "execution_count": 6,
   "metadata": {
    "collapsed": true,
    "execution": {
     "iopub.execute_input": "2020-06-17T14:40:43.055Z",
     "iopub.status.busy": "2020-06-17T14:40:43.043Z",
     "iopub.status.idle": "2020-06-17T14:40:43.077Z",
     "shell.execute_reply": "2020-06-17T14:40:43.383Z"
    },
    "jupyter": {
     "outputs_hidden": false,
     "source_hidden": false
    },
    "nteract": {
     "transient": {
      "deleting": false
     }
    }
   },
   "outputs": [],
   "source": [
    "set.seed(1)\n",
    "train.index <- sample(row.names(toyota), 0.6*dim(toyota)[1])  \n",
    "valid.index <- setdiff(row.names(toyota), train.index) \n",
    "train <- toyota[train.index, ]\n",
    "valid <- toyota[valid.index, ]"
   ]
  },
  {
   "cell_type": "markdown",
   "metadata": {
    "nteract": {
     "transient": {
      "deleting": false
     }
    }
   },
   "source": [
    "我们首先在包插入符号中使用函数preProcess将数字变量缩放为0-1，并将转换保存到preProcValues。然后使用`predict()`将转换应用于数据。"
   ]
  },
  {
   "cell_type": "code",
   "execution_count": 7,
   "metadata": {
    "collapsed": true,
    "execution": {
     "iopub.execute_input": "2020-06-17T14:40:43.108Z",
     "iopub.status.busy": "2020-06-17T14:40:43.096Z",
     "iopub.status.idle": "2020-06-17T14:40:43.143Z",
     "shell.execute_reply": "2020-06-17T14:40:43.393Z"
    },
    "jupyter": {
     "outputs_hidden": false,
     "source_hidden": false
    },
    "nteract": {
     "transient": {
      "deleting": false
     }
    }
   },
   "outputs": [
    {
     "name": "stdout",
     "output_type": "stream",
     "text": [
      "'data.frame':\t575 obs. of  17 variables:\n",
      " $ Price           : num  0.563 0.572 0.614 0.795 0.542 ...\n",
      " $ Age_08_04       : num  0.278 0.278 0.316 0.329 0.278 ...\n",
      " $ KM              : num  0.2154 0.3344 0.2201 0.0903 0.3261 ...\n",
      " $ HP              : num  0.171 0.171 0.171 1 0 ...\n",
      " $ Automatic       : num  0 0 0 0 0 0 0 0 0 0 ...\n",
      " $ Doors           : num  0.333 0.333 0.333 0.333 0.333 ...\n",
      " $ Quarterly_Tax   : num  0.723 0.723 0.723 0.307 0.629 ...\n",
      " $ Mfr_Guarantee   : num  0 0 1 0 0 1 1 0 0 0 ...\n",
      " $ Guarantee_Period: num  0 0 0 0 0 ...\n",
      " $ Airco           : num  0 1 0 1 1 1 1 1 1 1 ...\n",
      " $ Automatic_airco : num  0 0 0 0 0 1 1 1 0 1 ...\n",
      " $ CD_Player       : num  0 1 0 0 0 0 1 0 0 1 ...\n",
      " $ Powered_Windows : num  1 0 0 1 0 1 1 1 1 1 ...\n",
      " $ Sport_Model     : num  0 0 0 0 0 1 1 1 0 1 ...\n",
      " $ Tow_Bar         : num  0 0 0 0 0 0 0 0 1 1 ...\n",
      " $ Fuel_Type_CNG   : num  0 0 0 0 0 0 0 0 0 0 ...\n",
      " $ Fuel_Type_Diesel: num  1 1 1 0 1 0 0 0 0 0 ...\n"
     ]
    }
   ],
   "source": [
    "preProcValues=preProcess(train,method = \"range\",rangeBounds = c(0,1))\n",
    "trainTransformed <- predict(preProcValues, train)\n",
    "validTransformed <- predict(preProcValues, valid)\n",
    "str(validTransformed)"
   ]
  },
  {
   "cell_type": "markdown",
   "metadata": {
    "nteract": {
     "transient": {
      "deleting": false
     }
    }
   },
   "source": [
    "## 训练神经网络\n",
    "我们将在包`mxnet`中使用`mx.mlp()`函数。数据和标签表示x和y。让我们首先创建它们。"
   ]
  },
  {
   "cell_type": "code",
   "execution_count": 8,
   "metadata": {
    "collapsed": true,
    "execution": {
     "iopub.execute_input": "2020-06-17T14:40:43.190Z",
     "iopub.status.busy": "2020-06-17T14:40:43.172Z",
     "iopub.status.idle": "2020-06-17T14:40:43.219Z",
     "shell.execute_reply": "2020-06-17T14:40:43.403Z"
    },
    "jupyter": {
     "outputs_hidden": false,
     "source_hidden": false
    },
    "nteract": {
     "transient": {
      "deleting": false
     }
    }
   },
   "outputs": [],
   "source": [
    "train.x=data.matrix(trainTransformed[,2:17])\n",
    "train.y=trainTransformed[,1]"
   ]
  },
  {
   "cell_type": "markdown",
   "metadata": {
    "nteract": {
     "transient": {
      "deleting": false
     }
    }
   },
   "source": [
    "`hidden_node`:隐藏层中的节点数。c(2,3)表示有2个隐藏层，第一个隐藏层具有2个神经元，第二个隐藏层具有3个。   \n",
    "`out_node = 1`:由于是回归问题,因此在输出层中有1个节点   \n",
    "`activation =\"relu\"`: 激活函数选择`relu`,也可以选择`Sigmoid,tanh`    \n",
    "`out_activation =\"rmse\"`:输出层中的激活函数；对于分类问题，默认值为softmax。  \n",
    "`array.layout =\"rowmajor\"`：如果row是数据的实例  \n",
    "`num.round`：迭代次数   \n",
    "`array.batch.size`：每个批次中的样本数 \n",
    "`learning.rate`：梯度下降中的学习率  \n",
    "`momentum`: 带有动量的梯度下降考虑了过去的梯度以平滑更新。它计算渐变的指数加权平均值，然后使用该渐变来更新您的权重。它比标准的梯度下降算法更快地工作。这是介于0到1之间的数字。   \n",
    "`eval_metric`：  评估指标。分类问题可以使用mx.metric.accuracy\n"
   ]
  },
  {
   "cell_type": "code",
   "execution_count": 9,
   "metadata": {
    "collapsed": true,
    "execution": {
     "iopub.execute_input": "2020-06-17T14:40:43.258Z",
     "iopub.status.busy": "2020-06-17T14:40:43.242Z",
     "iopub.status.idle": "2020-06-17T14:40:51.296Z",
     "shell.execute_reply": "2020-06-17T14:40:51.686Z"
    },
    "jupyter": {
     "outputs_hidden": false,
     "source_hidden": false
    },
    "nteract": {
     "transient": {
      "deleting": false
     }
    }
   },
   "outputs": [
    {
     "name": "stderr",
     "output_type": "stream",
     "text": [
      "Start training with 1 devices\n",
      "\n",
      "[1] Train-rmse=0.183488687949962\n",
      "\n",
      "[2] Train-rmse=0.153313753548367\n",
      "\n",
      "[3] Train-rmse=0.153974139741782\n",
      "\n",
      "[4] Train-rmse=0.154017912416623\n",
      "\n",
      "[5] Train-rmse=0.154020231730979\n",
      "\n",
      "[6] Train-rmse=0.15402033282765\n",
      "\n",
      "[7] Train-rmse=0.154020323193279\n",
      "\n",
      "[8] Train-rmse=0.154020316128073\n",
      "\n",
      "[9] Train-rmse=0.154020304309911\n",
      "\n",
      "[10] Train-rmse=0.154020291977915\n",
      "\n",
      "[11] Train-rmse=0.154020283242752\n",
      "\n",
      "[12] Train-rmse=0.154020263717092\n",
      "\n",
      "[13] Train-rmse=0.154020254339637\n",
      "\n",
      "[14] Train-rmse=0.154020238924643\n",
      "\n",
      "[15] Train-rmse=0.154020228519522\n",
      "\n",
      "[16] Train-rmse=0.154020210149987\n",
      "\n",
      "[17] Train-rmse=0.1540201987172\n",
      "\n",
      "[18] Train-rmse=0.154020177650041\n",
      "\n",
      "[19] Train-rmse=0.154020161721213\n",
      "\n",
      "[20] Train-rmse=0.154020142195554\n",
      "\n",
      "[21] Train-rmse=0.154020116889271\n",
      "\n",
      "[22] Train-rmse=0.154020088243073\n",
      "\n",
      "[23] Train-rmse=0.154020059853792\n",
      "\n",
      "[24] Train-rmse=0.15402002928072\n",
      "\n",
      "[25] Train-rmse=0.154019988944818\n",
      "\n",
      "[26] Train-rmse=0.154019947067417\n",
      "\n",
      "[27] Train-rmse=0.15401990634614\n",
      "\n",
      "[28] Train-rmse=0.15401985316441\n",
      "\n",
      "[29] Train-rmse=0.154019790091391\n",
      "\n",
      "[30] Train-rmse=0.154019718411668\n",
      "\n",
      "[31] Train-rmse=0.154019638639072\n",
      "\n",
      "[32] Train-rmse=0.154019539212358\n",
      "\n",
      "[33] Train-rmse=0.15401943040819\n",
      "\n",
      "[34] Train-rmse=0.154019292443991\n",
      "\n",
      "[35] Train-rmse=0.154019130715008\n",
      "\n",
      "[36] Train-rmse=0.154018936742996\n",
      "\n",
      "[37] Train-rmse=0.154018693443002\n",
      "\n",
      "[38] Train-rmse=0.154018403255734\n",
      "\n",
      "[39] Train-rmse=0.154018040874909\n",
      "\n",
      "[40] Train-rmse=0.15401757534208\n",
      "\n",
      "[41] Train-rmse=0.154016981607881\n",
      "\n",
      "[42] Train-rmse=0.154016203921417\n",
      "\n",
      "[43] Train-rmse=0.154015167134589\n",
      "\n",
      "[44] Train-rmse=0.154013746899777\n",
      "\n",
      "[45] Train-rmse=0.15401174693272\n",
      "\n",
      "[46] Train-rmse=0.154008840178621\n",
      "\n",
      "[47] Train-rmse=0.15400443598628\n",
      "\n",
      "[48] Train-rmse=0.15399742563223\n",
      "\n",
      "[49] Train-rmse=0.153985560968004\n",
      "\n",
      "[50] Train-rmse=0.153963776241089\n",
      "\n"
     ]
    }
   ],
   "source": [
    "mx.set.seed(1)\n",
    "model<-mx.mlp(train.x, train.y, hidden_node=c(4,4), activation = \"tanh\",out_node=1,out_activation=\"rmse\",array.layout=\"rowmajor\", num.round=50, array.batch.size=15, learning.rate=0.1, momentum=0.9, eval.metric=mx.metric.rmse)"
   ]
  },
  {
   "cell_type": "markdown",
   "metadata": {
    "nteract": {
     "transient": {
      "deleting": false
     }
    }
   },
   "source": [
    "生成的神经网络中的权重和偏差可以通过`model$arg.params`找到。"
   ]
  },
  {
   "cell_type": "code",
   "execution_count": 10,
   "metadata": {
    "collapsed": true,
    "execution": {
     "iopub.execute_input": "2020-06-17T14:40:51.353Z",
     "iopub.status.busy": "2020-06-17T14:40:51.331Z",
     "iopub.status.idle": "2020-06-17T14:40:51.396Z",
     "shell.execute_reply": "2020-06-17T14:40:51.709Z"
    },
    "jupyter": {
     "outputs_hidden": false,
     "source_hidden": false
    },
    "nteract": {
     "transient": {
      "deleting": false
     }
    }
   },
   "outputs": [
    {
     "data": {
      "text/plain": [
       "$fullyconnected0_weight\n",
       "              [,1]         [,2]          [,3]         [,4]\n",
       " [1,]  0.000251364  0.002721510  0.0227664988  0.015098012\n",
       " [2,]  0.007656842  0.007514593  0.0155111169  0.013211223\n",
       " [3,] -0.001833370 -0.002022291  0.0066052107 -0.001807258\n",
       " [4,] -0.005291542  0.004286422  0.0010420483 -0.007832700\n",
       " [5,]  0.003257737 -0.011945103 -0.0126218610  0.001095789\n",
       " [6,] -0.001088850 -0.004286718  0.0030281481 -0.002240660\n",
       " [7,]  0.008684259 -0.007507119 -0.0174596384 -0.010892521\n",
       " [8,] -0.005166853  0.007712031 -0.0021526928  0.001577258\n",
       " [9,] -0.004102852 -0.002837309 -0.0146477185 -0.014754630\n",
       "[10,]  0.004337608 -0.014782390 -0.0178184658 -0.014386953\n",
       "[11,]  0.003708433 -0.011563182 -0.0172139946 -0.014998819\n",
       "[12,]  0.006491954 -0.004553760 -0.0156454649 -0.002145444\n",
       "[13,] -0.000991428 -0.007957110 -0.0117291473  0.001156766\n",
       "[14,] -0.005837713  0.004476704  0.0091741346  0.002934348\n",
       "[15,] -0.006012313  0.008900746 -0.0009431211 -0.006508498\n",
       "[16,]  0.006296108  0.007908014 -0.0044523384 -0.006566367\n",
       "\n",
       "$fullyconnected0_bias\n",
       "[1] -6.956844e-06  1.790000e-05  4.851807e-05  4.376541e-06\n",
       "\n",
       "$fullyconnected1_weight\n",
       "             [,1]         [,2]         [,3]         [,4]\n",
       "[1,] -0.004922843 -0.007851154 -0.001978758 -0.005360282\n",
       "[2,] -0.003904139  0.012083029 -0.011141293  0.014593910\n",
       "[3,] -0.011899862  0.017043669 -0.029824894  0.031573217\n",
       "[4,]  0.004266148  0.017065141 -0.024430301  0.012832401\n",
       "\n",
       "$fullyconnected1_bias\n",
       "[1] -3.499730e-05  6.165585e-05  4.006649e-05  1.216710e-04\n",
       "\n",
       "$fullyconnected2_weight\n",
       "             [,1]\n",
       "[1,]  0.005857619\n",
       "[2,] -0.019910228\n",
       "[3,]  0.029440334\n",
       "[4,] -0.027128175\n",
       "\n",
       "$fullyconnected2_bias\n",
       "[1] 0.4279093\n"
      ]
     },
     "metadata": {},
     "output_type": "display_data"
    }
   ],
   "source": [
    "model$arg.params"
   ]
  },
  {
   "cell_type": "markdown",
   "metadata": {
    "nteract": {
     "transient": {
      "deleting": false
     }
    }
   },
   "source": [
    "## 预测验证集\n",
    "使用训练有素的模型来预测测试集。这里的`predit()`将使用模型来预测valid.x。"
   ]
  },
  {
   "cell_type": "code",
   "execution_count": 11,
   "metadata": {
    "collapsed": true,
    "execution": {
     "iopub.execute_input": "2020-06-17T14:40:51.449Z",
     "iopub.status.busy": "2020-06-17T14:40:51.428Z",
     "iopub.status.idle": "2020-06-17T14:40:51.480Z",
     "shell.execute_reply": "2020-06-17T14:40:51.721Z"
    },
    "jupyter": {
     "outputs_hidden": false,
     "source_hidden": false
    },
    "nteract": {
     "transient": {
      "deleting": false
     }
    }
   },
   "outputs": [],
   "source": [
    "valid.x=data.matrix(validTransformed[,2:17])\n",
    "valid.y=validTransformed[,1]\n",
    "preds = predict(model, valid.x, array.layout=\"rowmajor\")\n",
    "preds=as.vector(preds)"
   ]
  },
  {
   "cell_type": "markdown",
   "metadata": {
    "nteract": {
     "transient": {
      "deleting": false
     }
    }
   },
   "source": [
    "可以通过包装预测中的函数 `precision()` 计算预测精度。"
   ]
  },
  {
   "cell_type": "code",
   "execution_count": 12,
   "metadata": {
    "collapsed": true,
    "execution": {
     "iopub.execute_input": "2020-06-17T14:40:51.531Z",
     "iopub.status.busy": "2020-06-17T14:40:51.511Z",
     "iopub.status.idle": "2020-06-17T14:40:51.575Z",
     "shell.execute_reply": "2020-06-17T14:40:51.734Z"
    },
    "jupyter": {
     "outputs_hidden": false,
     "source_hidden": false
    },
    "nteract": {
     "transient": {
      "deleting": false
     }
    }
   },
   "outputs": [
    {
     "data": {
      "text/html": [
       "<table>\n",
       "<caption>A matrix: 1 × 5 of type dbl</caption>\n",
       "<thead>\n",
       "\t<tr><th></th><th scope=col>ME</th><th scope=col>RMSE</th><th scope=col>MAE</th><th scope=col>MPE</th><th scope=col>MAPE</th></tr>\n",
       "</thead>\n",
       "<tbody>\n",
       "\t<tr><th scope=row>Test set</th><td>-0.006539717</td><td>0.1417234</td><td>0.1112813</td><td>-13.51134</td><td>30.00869</td></tr>\n",
       "</tbody>\n",
       "</table>\n"
      ],
      "text/latex": [
       "A matrix: 1 × 5 of type dbl\n",
       "\\begin{tabular}{r|lllll}\n",
       "  & ME & RMSE & MAE & MPE & MAPE\\\\\n",
       "\\hline\n",
       "\tTest set & -0.006539717 & 0.1417234 & 0.1112813 & -13.51134 & 30.00869\\\\\n",
       "\\end{tabular}\n"
      ],
      "text/markdown": [
       "\n",
       "A matrix: 1 × 5 of type dbl\n",
       "\n",
       "| <!--/--> | ME | RMSE | MAE | MPE | MAPE |\n",
       "|---|---|---|---|---|---|\n",
       "| Test set | -0.006539717 | 0.1417234 | 0.1112813 | -13.51134 | 30.00869 |\n",
       "\n"
      ],
      "text/plain": [
       "         ME           RMSE      MAE       MPE       MAPE    \n",
       "Test set -0.006539717 0.1417234 0.1112813 -13.51134 30.00869"
      ]
     },
     "metadata": {},
     "output_type": "display_data"
    }
   ],
   "source": [
    "accu=accuracy(preds, valid.y)\n",
    "accu"
   ]
  },
  {
   "cell_type": "markdown",
   "metadata": {
    "nteract": {
     "transient": {
      "deleting": false
     }
    }
   },
   "source": [
    "有效均方根值为0.14 \n",
    "ME：平均误差  \n",
    "RMSE：均方根误差  \n",
    "MAE：平均绝对误差   \n",
    "MPE：平均百分比误差  \n",
    "MAPE：平均绝对百分比误差  \n"
   ]
  },
  {
   "cell_type": "markdown",
   "metadata": {
    "nteract": {
     "transient": {
      "deleting": false
     }
    }
   },
   "source": [
    "## 调整模型\n",
    "让我们降低学习率并增加迭代次数。并通过辍学简化模型。   \n",
    "这里的dropout是`[0,1)`中的数字，其中包含从最后一个隐藏层到输出层的丢失率。"
   ]
  },
  {
   "cell_type": "code",
   "execution_count": 13,
   "metadata": {
    "collapsed": true,
    "execution": {
     "iopub.execute_input": "2020-06-17T14:40:51.625Z",
     "iopub.status.busy": "2020-06-17T14:40:51.605Z",
     "iopub.status.idle": "2020-06-17T14:41:08.087Z",
     "shell.execute_reply": "2020-06-17T14:41:08.690Z"
    },
    "jupyter": {
     "outputs_hidden": false,
     "source_hidden": false
    },
    "nteract": {
     "transient": {
      "deleting": false
     }
    }
   },
   "outputs": [
    {
     "name": "stderr",
     "output_type": "stream",
     "text": [
      "Start training with 1 devices\n",
      "\n",
      "[1] Train-rmse=0.181136857846688\n",
      "\n",
      "[2] Train-rmse=0.14961624505191\n",
      "\n",
      "[3] Train-rmse=0.149909008294344\n",
      "\n",
      "[4] Train-rmse=0.149925264947373\n",
      "\n",
      "[5] Train-rmse=0.14992555975914\n",
      "\n",
      "[6] Train-rmse=0.149925827851583\n",
      "\n",
      "[7] Train-rmse=0.149925471508297\n",
      "\n",
      "[8] Train-rmse=0.149925226024513\n",
      "\n",
      "[9] Train-rmse=0.149925478316587\n",
      "\n",
      "[10] Train-rmse=0.14992534536226\n",
      "\n",
      "[11] Train-rmse=0.149925387881953\n",
      "\n",
      "[12] Train-rmse=0.149925299759569\n",
      "\n",
      "[13] Train-rmse=0.14992560921558\n",
      "\n",
      "[14] Train-rmse=0.149925383771288\n",
      "\n",
      "[15] Train-rmse=0.1499252824177\n",
      "\n",
      "[16] Train-rmse=0.14992511529347\n",
      "\n",
      "[17] Train-rmse=0.149924984908309\n",
      "\n",
      "[18] Train-rmse=0.149924703327746\n",
      "\n",
      "[19] Train-rmse=0.149925772999895\n",
      "\n",
      "[20] Train-rmse=0.149925673316265\n",
      "\n",
      "[21] Train-rmse=0.149925271241829\n",
      "\n",
      "[22] Train-rmse=0.149925235530426\n",
      "\n",
      "[23] Train-rmse=0.149925186844735\n",
      "\n",
      "[24] Train-rmse=0.149924863900604\n",
      "\n",
      "[25] Train-rmse=0.149924803653668\n",
      "\n",
      "[26] Train-rmse=0.149925042842997\n",
      "\n",
      "[27] Train-rmse=0.149924286994441\n",
      "\n",
      "[28] Train-rmse=0.149924871222726\n",
      "\n",
      "[29] Train-rmse=0.149924092637054\n",
      "\n",
      "[30] Train-rmse=0.149924787082549\n",
      "\n",
      "[31] Train-rmse=0.149924159563821\n",
      "\n",
      "[32] Train-rmse=0.149924602359533\n",
      "\n",
      "[33] Train-rmse=0.14992410869434\n",
      "\n",
      "[34] Train-rmse=0.149924391302569\n",
      "\n",
      "[35] Train-rmse=0.149923594861195\n",
      "\n",
      "[36] Train-rmse=0.149923151166275\n",
      "\n",
      "[37] Train-rmse=0.149922473805732\n",
      "\n",
      "[38] Train-rmse=0.14992360719319\n",
      "\n",
      "[39] Train-rmse=0.149921787838484\n",
      "\n",
      "[40] Train-rmse=0.149923002283121\n",
      "\n",
      "[41] Train-rmse=0.14992159399493\n",
      "\n",
      "[42] Train-rmse=0.149921005655979\n",
      "\n",
      "[43] Train-rmse=0.149922627827217\n",
      "\n",
      "[44] Train-rmse=0.149922246563024\n",
      "\n",
      "[45] Train-rmse=0.149918797201124\n",
      "\n",
      "[46] Train-rmse=0.149918206293007\n",
      "\n",
      "[47] Train-rmse=0.14991570713705\n",
      "\n",
      "[48] Train-rmse=0.149915914468724\n",
      "\n",
      "[49] Train-rmse=0.149913916300083\n",
      "\n",
      "[50] Train-rmse=0.149911961421884\n",
      "\n",
      "[51] Train-rmse=0.149907904195374\n",
      "\n",
      "[52] Train-rmse=0.149900396836215\n",
      "\n",
      "[53] Train-rmse=0.149897898322549\n",
      "\n",
      "[54] Train-rmse=0.149889087111786\n",
      "\n",
      "[55] Train-rmse=0.14988150601757\n",
      "\n",
      "[56] Train-rmse=0.149846929928352\n",
      "\n",
      "[57] Train-rmse=0.1498215007114\n",
      "\n",
      "[58] Train-rmse=0.14981069094662\n",
      "\n",
      "[59] Train-rmse=0.149749014783522\n",
      "\n",
      "[60] Train-rmse=0.149558845650533\n",
      "\n",
      "[61] Train-rmse=0.149352366040493\n",
      "\n",
      "[62] Train-rmse=0.148745559155941\n",
      "\n",
      "[63] Train-rmse=0.14699293261972\n",
      "\n",
      "[64] Train-rmse=0.141735690164155\n",
      "\n",
      "[65] Train-rmse=0.12237073326933\n",
      "\n",
      "[66] Train-rmse=0.0961748195234044\n",
      "\n",
      "[67] Train-rmse=0.0894276273019355\n",
      "\n",
      "[68] Train-rmse=0.0810258749487071\n",
      "\n",
      "[69] Train-rmse=0.0765387288712222\n",
      "\n",
      "[70] Train-rmse=0.0744790292890935\n",
      "\n",
      "[71] Train-rmse=0.0731971587600379\n",
      "\n",
      "[72] Train-rmse=0.0731499554782078\n",
      "\n",
      "[73] Train-rmse=0.0680770960090489\n",
      "\n",
      "[74] Train-rmse=0.065006568706755\n",
      "\n",
      "[75] Train-rmse=0.0654980097736778\n",
      "\n",
      "[76] Train-rmse=0.0655092588657963\n",
      "\n",
      "[77] Train-rmse=0.0631624267854053\n",
      "\n",
      "[78] Train-rmse=0.0646996150628246\n",
      "\n",
      "[79] Train-rmse=0.0676517292600254\n",
      "\n",
      "[80] Train-rmse=0.064760457338958\n",
      "\n",
      "[81] Train-rmse=0.0639198906719685\n",
      "\n",
      "[82] Train-rmse=0.0619818811015836\n",
      "\n",
      "[83] Train-rmse=0.0653810565327776\n",
      "\n",
      "[84] Train-rmse=0.0633438109452354\n",
      "\n",
      "[85] Train-rmse=0.0645651376709856\n",
      "\n",
      "[86] Train-rmse=0.0634866696300692\n",
      "\n",
      "[87] Train-rmse=0.0638958855435766\n",
      "\n",
      "[88] Train-rmse=0.0641264837106754\n",
      "\n",
      "[89] Train-rmse=0.065074404894278\n",
      "\n",
      "[90] Train-rmse=0.0661649225793522\n",
      "\n",
      "[91] Train-rmse=0.0621323503939242\n",
      "\n",
      "[92] Train-rmse=0.0631795721449729\n",
      "\n",
      "[93] Train-rmse=0.0647599571866208\n",
      "\n",
      "[94] Train-rmse=0.0639930803585669\n",
      "\n",
      "[95] Train-rmse=0.0605873103285658\n",
      "\n",
      "[96] Train-rmse=0.0631588802769266\n",
      "\n",
      "[97] Train-rmse=0.0615651053858214\n",
      "\n",
      "[98] Train-rmse=0.0633189174635657\n",
      "\n",
      "[99] Train-rmse=0.0626326498158019\n",
      "\n",
      "[100] Train-rmse=0.0643827822059393\n",
      "\n"
     ]
    }
   ],
   "source": [
    "mx.set.seed(1)\n",
    "model2<-mx.mlp(train.x, train.y, hidden_node=c(4,5), activation = \"tanh\",out_node=1, dropout=0.2, out_activation=\"rmse\",array.layout=\"rowmajor\", num.round=100, array.batch.size=15, learning.rate=0.05, momentum=0.9, eval.metric=mx.metric.rmse)"
   ]
  },
  {
   "cell_type": "markdown",
   "metadata": {
    "nteract": {
     "transient": {
      "deleting": false
     }
    }
   },
   "source": [
    "让我们检查准确性。"
   ]
  },
  {
   "cell_type": "code",
   "execution_count": 14,
   "metadata": {
    "collapsed": true,
    "execution": {
     "iopub.execute_input": "2020-06-17T14:41:08.152Z",
     "iopub.status.busy": "2020-06-17T14:41:08.130Z",
     "iopub.status.idle": "2020-06-17T14:41:08.226Z",
     "shell.execute_reply": "2020-06-17T14:41:08.703Z"
    },
    "jupyter": {
     "outputs_hidden": false,
     "source_hidden": false
    },
    "nteract": {
     "transient": {
      "deleting": false
     }
    }
   },
   "outputs": [
    {
     "data": {
      "text/html": [
       "<table>\n",
       "<caption>A matrix: 1 × 5 of type dbl</caption>\n",
       "<thead>\n",
       "\t<tr><th></th><th scope=col>ME</th><th scope=col>RMSE</th><th scope=col>MAE</th><th scope=col>MPE</th><th scope=col>MAPE</th></tr>\n",
       "</thead>\n",
       "<tbody>\n",
       "\t<tr><th scope=row>Test set</th><td>-0.004508121</td><td>0.05052696</td><td>0.03975079</td><td>-3.564681</td><td>11.37297</td></tr>\n",
       "</tbody>\n",
       "</table>\n"
      ],
      "text/latex": [
       "A matrix: 1 × 5 of type dbl\n",
       "\\begin{tabular}{r|lllll}\n",
       "  & ME & RMSE & MAE & MPE & MAPE\\\\\n",
       "\\hline\n",
       "\tTest set & -0.004508121 & 0.05052696 & 0.03975079 & -3.564681 & 11.37297\\\\\n",
       "\\end{tabular}\n"
      ],
      "text/markdown": [
       "\n",
       "A matrix: 1 × 5 of type dbl\n",
       "\n",
       "| <!--/--> | ME | RMSE | MAE | MPE | MAPE |\n",
       "|---|---|---|---|---|---|\n",
       "| Test set | -0.004508121 | 0.05052696 | 0.03975079 | -3.564681 | 11.37297 |\n",
       "\n"
      ],
      "text/plain": [
       "         ME           RMSE       MAE        MPE       MAPE    \n",
       "Test set -0.004508121 0.05052696 0.03975079 -3.564681 11.37297"
      ]
     },
     "metadata": {},
     "output_type": "display_data"
    }
   ],
   "source": [
    "preds2 = as.vector(predict(model2, valid.x, array.layout=\"rowmajor\"))\n",
    "accu2=accuracy(preds2, valid.y)\n",
    "accu2"
   ]
  },
  {
   "cell_type": "markdown",
   "metadata": {
    "nteract": {
     "transient": {
      "deleting": false
     }
    }
   },
   "source": [
    "有效均方根值是0.05，比以前的模型好。"
   ]
  },
  {
   "cell_type": "markdown",
   "metadata": {
    "nteract": {
     "transient": {
      "deleting": false
     }
    }
   },
   "source": [
    "## 绘制预测价格和真实价格\n",
    "当前的preds2是标准化的标签。让我们重置它们。"
   ]
  },
  {
   "cell_type": "code",
   "execution_count": 15,
   "metadata": {
    "collapsed": true,
    "execution": {
     "iopub.execute_input": "2020-06-17T14:41:08.317Z",
     "iopub.status.busy": "2020-06-17T14:41:08.294Z",
     "iopub.status.idle": "2020-06-17T14:41:08.354Z",
     "shell.execute_reply": "2020-06-17T14:41:08.714Z"
    },
    "jupyter": {
     "outputs_hidden": false,
     "source_hidden": false
    },
    "nteract": {
     "transient": {
      "deleting": false
     }
    }
   },
   "outputs": [],
   "source": [
    "real.preds2=exp(preds2*(max(train[,1])-min(train[,1]))+min(train[,1]))\n",
    "real.valid.y=exp(valid[,1])"
   ]
  },
  {
   "cell_type": "markdown",
   "metadata": {
    "nteract": {
     "transient": {
      "deleting": false
     }
    }
   },
   "source": [
    "让我们使用`ggplot()`，让我们首先将预测价格和真实价格合并为一列。使用“预测”或“正确”来标记它们。"
   ]
  },
  {
   "cell_type": "code",
   "execution_count": 16,
   "metadata": {
    "collapsed": true,
    "execution": {
     "iopub.execute_input": "2020-06-17T14:41:08.396Z",
     "iopub.status.busy": "2020-06-17T14:41:08.381Z",
     "iopub.status.idle": "2020-06-17T14:41:08.423Z",
     "shell.execute_reply": "2020-06-17T14:41:08.724Z"
    },
    "jupyter": {
     "outputs_hidden": false,
     "source_hidden": false
    },
    "nteract": {
     "transient": {
      "deleting": false
     }
    }
   },
   "outputs": [],
   "source": [
    "result_compare2=rbind(cbind(seq(1:575),real.valid.y,rep(\"True\",575)),cbind(seq(1:575),real.preds2,rep(\"Predict\",575)))"
   ]
  },
  {
   "cell_type": "markdown",
   "metadata": {
    "nteract": {
     "transient": {
      "deleting": false
     }
    }
   },
   "source": [
    "将矩阵转换为data.frame。"
   ]
  },
  {
   "cell_type": "code",
   "execution_count": 18,
   "metadata": {
    "collapsed": true,
    "execution": {
     "iopub.execute_input": "2020-06-17T14:41:08.482Z",
     "iopub.status.busy": "2020-06-17T14:41:08.465Z",
     "iopub.status.idle": "2020-06-17T14:41:08.506Z",
     "shell.execute_reply": "2020-06-17T14:41:08.735Z"
    },
    "jupyter": {
     "outputs_hidden": false,
     "source_hidden": false
    },
    "nteract": {
     "transient": {
      "deleting": false
     }
    }
   },
   "outputs": [],
   "source": [
    "result_compare2=as.data.frame(result_compare2)\n",
    "colnames(result_compare2)=c(\"Index\",\"Price\",\"Value\")"
   ]
  },
  {
   "cell_type": "markdown",
   "metadata": {
    "nteract": {
     "transient": {
      "deleting": false
     }
    }
   },
   "source": [
    "我们需要将指数和价格转换为数字变量。"
   ]
  },
  {
   "cell_type": "code",
   "execution_count": 21,
   "metadata": {
    "collapsed": true,
    "execution": {
     "iopub.execute_input": "2020-06-17T14:41:08.569Z",
     "iopub.status.busy": "2020-06-17T14:41:08.553Z",
     "iopub.status.idle": "2020-06-17T14:41:08.596Z",
     "shell.execute_reply": "2020-06-17T14:41:08.746Z"
    },
    "jupyter": {
     "outputs_hidden": false,
     "source_hidden": false
    },
    "nteract": {
     "transient": {
      "deleting": false
     }
    }
   },
   "outputs": [],
   "source": [
    "result_compare2$Index=as.numeric(result_compare2$Index)\n",
    "result_compare2$Price=as.numeric(result_compare2$Price)\n",
    "## 在R 3.5-3.6中 ,应该使用\n",
    "## result_compare2$Index=as.numeric(levels(result_compare2$Index))[result_compare2$Index]\n",
    "##  result_compare2$Price=as.numeric(levels(result_compare2$Price))[result_compare2$Price]\n",
    "## 这一差异的产生是因为3.5-3.6的R预测变量结果类型是factor 而这里是是 str"
   ]
  },
  {
   "cell_type": "markdown",
   "metadata": {
    "nteract": {
     "transient": {
      "deleting": false
     }
    }
   },
   "source": [
    "使用`ggplot()`绘制它们。"
   ]
  },
  {
   "cell_type": "code",
   "execution_count": 23,
   "metadata": {
    "collapsed": true,
    "execution": {
     "iopub.execute_input": "2020-06-17T14:41:08.650Z",
     "iopub.status.busy": "2020-06-17T14:41:08.634Z",
     "iopub.status.idle": "2020-06-17T14:41:09.116Z",
     "shell.execute_reply": "2020-06-17T14:41:09.137Z"
    },
    "jupyter": {
     "outputs_hidden": false,
     "source_hidden": false
    },
    "nteract": {
     "transient": {
      "deleting": false
     }
    }
   },
   "outputs": [
    {
     "data": {
      "image/png": "[encoded data removed]",
      "text/plain": [
       "plot without title"
      ]
     },
     "metadata": {
      "filenames": {
       "image/png": "/home/jerrywang/GitHub/note_viajupyterbook/_build/jupyter_execute/content/R_study/Neural_Networks_1_39_0.png"
      },
      "image/png": {
       "height": 420,
       "width": 420
      },
      "text/plain": {
       "height": 420,
       "width": 420
      }
     },
     "output_type": "display_data"
    }
   ],
   "source": [
    "ggplot(result_compare2, aes(x=Index, y=Price, colour=Value)) + geom_point()"
   ]
  }
 ],
 "metadata": {
  "gist_id": "1e84863f821612fdf56c351b0f4c7492",
  "kernel_info": {
   "name": "ir40"
  },
  "kernelspec": {
   "argv": [
    "/usr/lib/R/bin/R",
    "--slave",
    "-e",
    "IRkernel::main()",
    "--args",
    "{connection_file}"
   ],
   "display_name": "R 4.0",
   "language": "R",
   "name": "ir40"
  },
  "language_info": {
   "codemirror_mode": "r",
   "file_extension": ".r",
   "mimetype": "text/x-r-source",
   "name": "R",
   "pygments_lexer": "r",
   "version": "4.0.1"
  },
  "nteract": {
   "version": "0.23.3"
  }
 },
 "nbformat": 4,
 "nbformat_minor": 0
}