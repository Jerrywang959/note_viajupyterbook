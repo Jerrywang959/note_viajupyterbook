{
  "cells": [
    {
      "cell_type": "markdown",
      "source": [
        "# 神经网络练习1:为二手丰田卡罗拉定价\n",
        "## 加载和预处理数据集"
      ],
      "metadata": {
        "nteract": {
          "transient": {
            "deleting": false
          }
        }
      }
    },
    {
      "cell_type": "code",
      "source": [
        "library(mxnet)\n",
        "library(caret)\n",
        "library(forecast)"
      ],
      "outputs": [
        {
          "output_type": "stream",
          "name": "stderr",
          "text": [
            "Loading required package: lattice\n",
            "\n",
            "Loading required package: ggplot2\n",
            "\n",
            "Registered S3 method overwritten by 'quantmod':\n",
            "  method            from\n",
            "  as.zoo.data.frame zoo \n",
            "\n"
          ]
        }
      ],
      "execution_count": 17,
      "metadata": {
        "collapsed": true,
        "jupyter": {
          "source_hidden": false,
          "outputs_hidden": false
        },
        "nteract": {
          "transient": {
            "deleting": false
          }
        },
        "execution": {
          "iopub.status.busy": "2020-06-17T11:30:39.500Z",
          "iopub.execute_input": "2020-06-17T11:30:39.506Z",
          "shell.execute_reply": "2020-06-17T11:31:00.493Z",
          "iopub.status.idle": "2020-06-17T11:31:00.499Z"
        }
      }
    },
    {
      "cell_type": "markdown",
      "source": [
        "读取数据,并转化成dataframe"
      ],
      "metadata": {
        "nteract": {
          "transient": {
            "deleting": false
          }
        }
      }
    },
    {
      "cell_type": "code",
      "source": [
        "toyota.df <- read.csv(\"~/GitHub/note_viajupyterbook/datas/ToyotaCorolla.csv\")\n",
        "str(toyota.df)"
      ],
      "outputs": [
        {
          "output_type": "stream",
          "name": "stdout",
          "text": [
            "'data.frame':\t1436 obs. of  39 variables:\n",
            " $ Id               : int  1 2 3 4 5 6 7 8 9 10 ...\n",
            " $ Model            : chr  \"TOYOTA Corolla 2.0 D4D HATCHB TERRA 2/3-Doors\" \"TOYOTA Corolla 2.0 D4D HATCHB TERRA 2/3-Doors\" \"\\xa0TOYOTA Corolla 2.0 D4D HATCHB TERRA 2/3-Doors\" \"TOYOTA Corolla 2.0 D4D HATCHB TERRA 2/3-Doors\" ...\n",
            " $ Price            : int  13500 13750 13950 14950 13750 12950 16900 18600 21500 12950 ...\n",
            " $ Age_08_04        : int  23 23 24 26 30 32 27 30 27 23 ...\n",
            " $ Mfg_Month        : int  10 10 9 7 3 1 6 3 6 10 ...\n",
            " $ Mfg_Year         : int  2002 2002 2002 2002 2002 2002 2002 2002 2002 2002 ...\n",
            " $ KM               : int  46986 72937 41711 48000 38500 61000 94612 75889 19700 71138 ...\n",
            " $ Fuel_Type        : chr  \"Diesel\" \"Diesel\" \"Diesel\" \"Diesel\" ...\n",
            " $ HP               : int  90 90 90 90 90 90 90 90 192 69 ...\n",
            " $ Met_Color        : int  1 1 1 0 0 0 1 1 0 0 ...\n",
            " $ Color            : chr  \"Blue\" \"Silver\" \"Blue\" \"Black\" ...\n",
            " $ Automatic        : int  0 0 0 0 0 0 0 0 0 0 ...\n",
            " $ CC               : int  2000 2000 2000 2000 2000 2000 2000 2000 1800 1900 ...\n",
            " $ Doors            : int  3 3 3 3 3 3 3 3 3 3 ...\n",
            " $ Cylinders        : int  4 4 4 4 4 4 4 4 4 4 ...\n",
            " $ Gears            : int  5 5 5 5 5 5 5 5 5 5 ...\n",
            " $ Quarterly_Tax    : int  210 210 210 210 210 210 210 210 100 185 ...\n",
            " $ Weight           : int  1165 1165 1165 1165 1170 1170 1245 1245 1185 1105 ...\n",
            " $ Mfr_Guarantee    : int  0 0 1 1 1 0 0 1 0 0 ...\n",
            " $ BOVAG_Guarantee  : int  1 1 1 1 1 1 1 1 1 1 ...\n",
            " $ Guarantee_Period : int  3 3 3 3 3 3 3 3 3 3 ...\n",
            " $ ABS              : int  1 1 1 1 1 1 1 1 1 1 ...\n",
            " $ Airbag_1         : int  1 1 1 1 1 1 1 1 1 1 ...\n",
            " $ Airbag_2         : int  1 1 1 1 1 1 1 1 0 1 ...\n",
            " $ Airco            : int  0 1 0 0 1 1 1 1 1 1 ...\n",
            " $ Automatic_airco  : int  0 0 0 0 0 0 0 0 0 0 ...\n",
            " $ Boardcomputer    : int  1 1 1 1 1 1 1 1 0 1 ...\n",
            " $ CD_Player        : int  0 1 0 0 0 0 0 1 0 0 ...\n",
            " $ Central_Lock     : int  1 1 0 0 1 1 1 1 1 0 ...\n",
            " $ Powered_Windows  : int  1 0 0 0 1 1 1 1 1 0 ...\n",
            " $ Power_Steering   : int  1 1 1 1 1 1 1 1 1 1 ...\n",
            " $ Radio            : int  0 0 0 0 0 0 0 0 1 0 ...\n",
            " $ Mistlamps        : int  0 0 0 0 1 1 0 0 0 0 ...\n",
            " $ Sport_Model      : int  0 0 0 0 0 0 1 0 0 0 ...\n",
            " $ Backseat_Divider : int  1 1 1 1 1 1 1 1 0 1 ...\n",
            " $ Metallic_Rim     : int  0 0 0 0 0 0 0 0 1 0 ...\n",
            " $ Radio_cassette   : int  0 0 0 0 0 0 0 0 1 0 ...\n",
            " $ Parking_Assistant: int  0 0 0 0 0 0 0 0 0 0 ...\n",
            " $ Tow_Bar          : int  0 0 0 0 0 0 0 0 0 0 ...\n"
          ]
        }
      ],
      "execution_count": 19,
      "metadata": {
        "collapsed": true,
        "jupyter": {
          "source_hidden": false,
          "outputs_hidden": false
        },
        "nteract": {
          "transient": {
            "deleting": false
          }
        },
        "execution": {
          "iopub.status.busy": "2020-06-17T11:31:43.858Z",
          "iopub.execute_input": "2020-06-17T11:31:43.863Z",
          "iopub.status.idle": "2020-06-17T11:31:43.942Z",
          "shell.execute_reply": "2020-06-17T11:31:43.955Z"
        }
      }
    },
    {
      "cell_type": "markdown",
      "source": [
        "我们用`Age_08_04, KM, Fuel_Type, HP, Automatic, Doors, Quarterly_Tax, Mfr_Guarantee, Guarantee_Period, Airco, Automatic_airco, CD_Player, Powered_Windows, Sport_Model and Tow_Bar`来预测价格,因此删除不需要的变量"
      ],
      "metadata": {
        "nteract": {
          "transient": {
            "deleting": false
          }
        }
      }
    },
    {
      "cell_type": "code",
      "source": [
        "toyota=toyota.df[,-c(1,2,5,6,10,11,13,15,16,18,20,22,23,24,27,29,31,32,33,35,36,37,38)]\n",
        "str(toyota)"
      ],
      "outputs": [
        {
          "output_type": "stream",
          "name": "stdout",
          "text": [
            "'data.frame':\t1436 obs. of  16 variables:\n",
            " $ Price           : int  13500 13750 13950 14950 13750 12950 16900 18600 21500 12950 ...\n",
            " $ Age_08_04       : int  23 23 24 26 30 32 27 30 27 23 ...\n",
            " $ KM              : int  46986 72937 41711 48000 38500 61000 94612 75889 19700 71138 ...\n",
            " $ Fuel_Type       : chr  \"Diesel\" \"Diesel\" \"Diesel\" \"Diesel\" ...\n",
            " $ HP              : int  90 90 90 90 90 90 90 90 192 69 ...\n",
            " $ Automatic       : int  0 0 0 0 0 0 0 0 0 0 ...\n",
            " $ Doors           : int  3 3 3 3 3 3 3 3 3 3 ...\n",
            " $ Quarterly_Tax   : int  210 210 210 210 210 210 210 210 100 185 ...\n",
            " $ Mfr_Guarantee   : int  0 0 1 1 1 0 0 1 0 0 ...\n",
            " $ Guarantee_Period: int  3 3 3 3 3 3 3 3 3 3 ...\n",
            " $ Airco           : int  0 1 0 0 1 1 1 1 1 1 ...\n",
            " $ Automatic_airco : int  0 0 0 0 0 0 0 0 0 0 ...\n",
            " $ CD_Player       : int  0 1 0 0 0 0 0 1 0 0 ...\n",
            " $ Powered_Windows : int  1 0 0 0 1 1 1 1 1 0 ...\n",
            " $ Sport_Model     : int  0 0 0 0 0 0 1 0 0 0 ...\n",
            " $ Tow_Bar         : int  0 0 0 0 0 0 0 0 0 0 ...\n"
          ]
        }
      ],
      "execution_count": 21,
      "metadata": {
        "collapsed": true,
        "jupyter": {
          "source_hidden": false,
          "outputs_hidden": false
        },
        "nteract": {
          "transient": {
            "deleting": false
          }
        },
        "execution": {
          "iopub.status.busy": "2020-06-17T11:33:07.473Z",
          "iopub.execute_input": "2020-06-17T11:33:07.479Z",
          "iopub.status.idle": "2020-06-17T11:33:07.498Z",
          "shell.execute_reply": "2020-06-17T11:33:07.510Z"
        }
      }
    },
    {
      "cell_type": "markdown",
      "source": [
        "把字符串类型变量`Fuel_Type`转化为虚拟变量.因为Fuel_Type有三种类型的字符串 Fuel_Type==\"CNG\" 则赋值`Fuel_Type_CNG`为1. Fuel_Type==\"Diesel\"则赋值`Fuel_Type_Diesel`为1.最后删除`Fuel_Type`这一变量"
      ],
      "metadata": {
        "nteract": {
          "transient": {
            "deleting": false
          }
        }
      }
    },
    {
      "cell_type": "code",
      "source": [
        "toyota$Fuel_Type_CNG <- 1* (toyota$Fuel_Type == \"CNG\")\n",
        "toyota$Fuel_Type_Diesel <- 1* (toyota$Fuel_Type == \"Diesel\")\n",
        "toyota=toyota[,-4]\n",
        "str(toyota)"
      ],
      "outputs": [
        {
          "output_type": "stream",
          "name": "stdout",
          "text": [
            "'data.frame':\t1436 obs. of  17 variables:\n",
            " $ Price           : int  13500 13750 13950 14950 13750 12950 16900 18600 21500 12950 ...\n",
            " $ Age_08_04       : int  23 23 24 26 30 32 27 30 27 23 ...\n",
            " $ KM              : int  46986 72937 41711 48000 38500 61000 94612 75889 19700 71138 ...\n",
            " $ HP              : int  90 90 90 90 90 90 90 90 192 69 ...\n",
            " $ Automatic       : int  0 0 0 0 0 0 0 0 0 0 ...\n",
            " $ Doors           : int  3 3 3 3 3 3 3 3 3 3 ...\n",
            " $ Quarterly_Tax   : int  210 210 210 210 210 210 210 210 100 185 ...\n",
            " $ Mfr_Guarantee   : int  0 0 1 1 1 0 0 1 0 0 ...\n",
            " $ Guarantee_Period: int  3 3 3 3 3 3 3 3 3 3 ...\n",
            " $ Airco           : int  0 1 0 0 1 1 1 1 1 1 ...\n",
            " $ Automatic_airco : int  0 0 0 0 0 0 0 0 0 0 ...\n",
            " $ CD_Player       : int  0 1 0 0 0 0 0 1 0 0 ...\n",
            " $ Powered_Windows : int  1 0 0 0 1 1 1 1 1 0 ...\n",
            " $ Sport_Model     : int  0 0 0 0 0 0 1 0 0 0 ...\n",
            " $ Tow_Bar         : int  0 0 0 0 0 0 0 0 0 0 ...\n",
            " $ Fuel_Type_CNG   : num  0 0 0 0 0 0 0 0 0 0 ...\n",
            " $ Fuel_Type_Diesel: num  1 1 1 1 1 1 1 1 0 1 ...\n"
          ]
        }
      ],
      "execution_count": 33,
      "metadata": {
        "collapsed": true,
        "jupyter": {
          "source_hidden": false,
          "outputs_hidden": false
        },
        "nteract": {
          "transient": {
            "deleting": false
          }
        },
        "execution": {
          "iopub.status.busy": "2020-06-17T11:50:14.486Z",
          "iopub.execute_input": "2020-06-17T11:50:14.493Z",
          "iopub.status.idle": "2020-06-17T11:50:14.537Z",
          "shell.execute_reply": "2020-06-17T11:50:14.527Z"
        }
      }
    },
    {
      "cell_type": "markdown",
      "source": [
        "对于价格,一般都求log"
      ],
      "metadata": {
        "nteract": {
          "transient": {
            "deleting": false
          }
        }
      }
    },
    {
      "cell_type": "code",
      "source": [
        "toyota$Price=log(toyota$Price)"
      ],
      "outputs": [],
      "execution_count": 34,
      "metadata": {
        "collapsed": true,
        "jupyter": {
          "source_hidden": false,
          "outputs_hidden": false
        },
        "nteract": {
          "transient": {
            "deleting": false
          }
        },
        "execution": {
          "iopub.status.busy": "2020-06-17T11:50:45.799Z",
          "iopub.execute_input": "2020-06-17T11:50:45.805Z",
          "iopub.status.idle": "2020-06-17T11:50:45.814Z",
          "shell.execute_reply": "2020-06-17T11:50:45.823Z"
        }
      }
    },
    {
      "cell_type": "markdown",
      "source": [
        "将数据集拆分为训练和验证集。我们在这里使用另一个函数`sample()`"
      ],
      "metadata": {
        "nteract": {
          "transient": {
            "deleting": false
          }
        }
      }
    },
    {
      "cell_type": "code",
      "source": [
        "set.seed(1)\n",
        "train.index <- sample(row.names(toyota), 0.6*dim(toyota)[1])  \n",
        "valid.index <- setdiff(row.names(toyota), train.index) \n",
        "train <- toyota[train.index, ]\n",
        "valid <- toyota[valid.index, ]"
      ],
      "outputs": [],
      "execution_count": 38,
      "metadata": {
        "collapsed": true,
        "jupyter": {
          "source_hidden": false,
          "outputs_hidden": false
        },
        "nteract": {
          "transient": {
            "deleting": false
          }
        },
        "execution": {
          "iopub.status.busy": "2020-06-17T11:54:25.312Z",
          "iopub.execute_input": "2020-06-17T11:54:25.322Z",
          "shell.execute_reply": "2020-06-17T11:54:25.338Z",
          "iopub.status.idle": "2020-06-17T11:54:25.389Z"
        }
      }
    },
    {
      "cell_type": "markdown",
      "source": [
        "我们首先在包插入符号中使用函数preProcess将数字变量缩放为0-1，并将转换保存到preProcValues。然后使用`predict()`将转换应用于数据。"
      ],
      "metadata": {
        "nteract": {
          "transient": {
            "deleting": false
          }
        }
      }
    },
    {
      "cell_type": "code",
      "source": [
        "preProcValues=preProcess(train,method = \"range\",rangeBounds = c(0,1))\n",
        "trainTransformed <- predict(preProcValues, train)\n",
        "validTransformed <- predict(preProcValues, valid)\n",
        "str(validTransformed)"
      ],
      "outputs": [
        {
          "output_type": "stream",
          "name": "stdout",
          "text": [
            "'data.frame':\t575 obs. of  17 variables:\n",
            " $ Price           : num  0.563 0.572 0.614 0.795 0.542 ...\n",
            " $ Age_08_04       : num  0.278 0.278 0.316 0.329 0.278 ...\n",
            " $ KM              : num  0.2154 0.3344 0.2201 0.0903 0.3261 ...\n",
            " $ HP              : num  0.171 0.171 0.171 1 0 ...\n",
            " $ Automatic       : num  0 0 0 0 0 0 0 0 0 0 ...\n",
            " $ Doors           : num  0.333 0.333 0.333 0.333 0.333 ...\n",
            " $ Quarterly_Tax   : num  0.723 0.723 0.723 0.307 0.629 ...\n",
            " $ Mfr_Guarantee   : num  0 0 1 0 0 1 1 0 0 0 ...\n",
            " $ Guarantee_Period: num  0 0 0 0 0 ...\n",
            " $ Airco           : num  0 1 0 1 1 1 1 1 1 1 ...\n",
            " $ Automatic_airco : num  0 0 0 0 0 1 1 1 0 1 ...\n",
            " $ CD_Player       : num  0 1 0 0 0 0 1 0 0 1 ...\n",
            " $ Powered_Windows : num  1 0 0 1 0 1 1 1 1 1 ...\n",
            " $ Sport_Model     : num  0 0 0 0 0 1 1 1 0 1 ...\n",
            " $ Tow_Bar         : num  0 0 0 0 0 0 0 0 1 1 ...\n",
            " $ Fuel_Type_CNG   : num  0 0 0 0 0 0 0 0 0 0 ...\n",
            " $ Fuel_Type_Diesel: num  1 1 1 0 1 0 0 0 0 0 ...\n"
          ]
        }
      ],
      "execution_count": 45,
      "metadata": {
        "collapsed": true,
        "jupyter": {
          "source_hidden": false,
          "outputs_hidden": false
        },
        "nteract": {
          "transient": {
            "deleting": false
          }
        },
        "execution": {
          "iopub.status.busy": "2020-06-17T13:20:56.149Z",
          "iopub.execute_input": "2020-06-17T13:20:56.159Z",
          "shell.execute_reply": "2020-06-17T13:20:56.268Z",
          "iopub.status.idle": "2020-06-17T13:20:56.249Z"
        }
      }
    },
    {
      "cell_type": "markdown",
      "source": [
        "## 训练神经网络\n",
        "我们将在包`mxnet`中使用`mx.mlp()`函数。数据和标签表示x和y。让我们首先创建它们。"
      ],
      "metadata": {
        "nteract": {
          "transient": {
            "deleting": false
          }
        }
      }
    },
    {
      "cell_type": "code",
      "source": [
        "train.x=data.matrix(trainTransformed[,2:17])\n",
        "train.y=trainTransformed[,1]"
      ],
      "outputs": [],
      "execution_count": 46,
      "metadata": {
        "collapsed": true,
        "jupyter": {
          "source_hidden": false,
          "outputs_hidden": false
        },
        "nteract": {
          "transient": {
            "deleting": false
          }
        },
        "execution": {
          "iopub.status.busy": "2020-06-17T13:21:02.496Z",
          "iopub.execute_input": "2020-06-17T13:21:02.504Z",
          "shell.execute_reply": "2020-06-17T13:21:02.522Z",
          "iopub.status.idle": "2020-06-17T13:21:02.516Z"
        }
      }
    },
    {
      "cell_type": "markdown",
      "source": [
        "`hidden_node`:隐藏层中的节点数。c(2,3)表示有2个隐藏层，第一个隐藏层具有2个神经元，第二个隐藏层具有3个。   \n",
        "`out_node = 1`:由于是回归问题,因此在输出层中有1个节点   \n",
        "`activation =\"relu\"`: 激活函数选择`relu`,也可以选择`Sigmoid,tanh`    \n",
        "`out_activation =\"rmse\"`:输出层中的激活函数；对于分类问题，默认值为softmax。  \n",
        "`array.layout =\"rowmajor\"`：如果row是数据的实例  \n",
        "`num.round`：迭代次数   \n",
        "`array.batch.size`：每个批次中的样本数 \n",
        "`learning.rate`：梯度下降中的学习率  \n",
        "`momentum`: 带有动量的梯度下降考虑了过去的梯度以平滑更新。它计算渐变的指数加权平均值，然后使用该渐变来更新您的权重。它比标准的梯度下降算法更快地工作。这是介于0到1之间的数字。   \n",
        "`eval_metric`：  评估指标。分类问题可以使用mx.metric.accuracy\n"
      ],
      "metadata": {
        "nteract": {
          "transient": {
            "deleting": false
          }
        }
      }
    },
    {
      "cell_type": "code",
      "source": [
        "mx.set.seed(1)\n",
        "model<-mx.mlp(train.x, train.y, hidden_node=c(4,4), activation = \"tanh\",out_node=1,out_activation=\"rmse\",array.layout=\"rowmajor\", num.round=50, array.batch.size=15, learning.rate=0.1, momentum=0.9, eval.metric=mx.metric.rmse)"
      ],
      "outputs": [
        {
          "output_type": "stream",
          "name": "stderr",
          "text": [
            "Start training with 1 devices\n",
            "\n",
            "[1] Train-rmse=0.183488687949962\n",
            "\n",
            "[2] Train-rmse=0.153313753548367\n",
            "\n",
            "[3] Train-rmse=0.153974139741782\n",
            "\n",
            "[4] Train-rmse=0.154017912416623\n",
            "\n",
            "[5] Train-rmse=0.154020231730979\n",
            "\n",
            "[6] Train-rmse=0.15402033282765\n",
            "\n",
            "[7] Train-rmse=0.154020323193279\n",
            "\n",
            "[8] Train-rmse=0.154020316128073\n",
            "\n",
            "[9] Train-rmse=0.154020304309911\n",
            "\n",
            "[10] Train-rmse=0.154020291977915\n",
            "\n",
            "[11] Train-rmse=0.154020283242752\n",
            "\n",
            "[12] Train-rmse=0.154020263717092\n",
            "\n",
            "[13] Train-rmse=0.154020254339637\n",
            "\n",
            "[14] Train-rmse=0.154020238924643\n",
            "\n",
            "[15] Train-rmse=0.154020228519522\n",
            "\n",
            "[16] Train-rmse=0.154020210149987\n",
            "\n",
            "[17] Train-rmse=0.1540201987172\n",
            "\n",
            "[18] Train-rmse=0.154020177650041\n",
            "\n",
            "[19] Train-rmse=0.154020161721213\n",
            "\n",
            "[20] Train-rmse=0.154020142195554\n",
            "\n",
            "[21] Train-rmse=0.154020116889271\n",
            "\n",
            "[22] Train-rmse=0.154020088243073\n",
            "\n",
            "[23] Train-rmse=0.154020059853792\n",
            "\n",
            "[24] Train-rmse=0.15402002928072\n",
            "\n",
            "[25] Train-rmse=0.154019988944818\n",
            "\n",
            "[26] Train-rmse=0.154019947067417\n",
            "\n",
            "[27] Train-rmse=0.15401990634614\n",
            "\n",
            "[28] Train-rmse=0.15401985316441\n",
            "\n",
            "[29] Train-rmse=0.154019790091391\n",
            "\n",
            "[30] Train-rmse=0.154019718411668\n",
            "\n",
            "[31] Train-rmse=0.154019638639072\n",
            "\n",
            "[32] Train-rmse=0.154019539212358\n",
            "\n",
            "[33] Train-rmse=0.15401943040819\n",
            "\n",
            "[34] Train-rmse=0.154019292443991\n",
            "\n",
            "[35] Train-rmse=0.154019130715008\n",
            "\n",
            "[36] Train-rmse=0.154018936742996\n",
            "\n",
            "[37] Train-rmse=0.154018693443002\n",
            "\n",
            "[38] Train-rmse=0.154018403255734\n",
            "\n",
            "[39] Train-rmse=0.154018040874909\n",
            "\n",
            "[40] Train-rmse=0.15401757534208\n",
            "\n",
            "[41] Train-rmse=0.154016981607881\n",
            "\n",
            "[42] Train-rmse=0.154016203921417\n",
            "\n",
            "[43] Train-rmse=0.154015167134589\n",
            "\n",
            "[44] Train-rmse=0.154013746899777\n",
            "\n",
            "[45] Train-rmse=0.15401174693272\n",
            "\n",
            "[46] Train-rmse=0.154008840178621\n",
            "\n",
            "[47] Train-rmse=0.15400443598628\n",
            "\n",
            "[48] Train-rmse=0.15399742563223\n",
            "\n",
            "[49] Train-rmse=0.153985560968004\n",
            "\n",
            "[50] Train-rmse=0.153963776241089\n",
            "\n"
          ]
        }
      ],
      "execution_count": 47,
      "metadata": {
        "collapsed": true,
        "jupyter": {
          "source_hidden": false,
          "outputs_hidden": false
        },
        "nteract": {
          "transient": {
            "deleting": false
          }
        },
        "execution": {
          "iopub.status.busy": "2020-06-17T13:31:50.588Z",
          "iopub.execute_input": "2020-06-17T13:31:50.596Z",
          "iopub.status.idle": "2020-06-17T13:32:00.650Z",
          "shell.execute_reply": "2020-06-17T13:32:00.665Z"
        }
      }
    },
    {
      "cell_type": "markdown",
      "source": [
        "生成的神经网络中的权重和偏差可以通过`model$arg.params`找到。"
      ],
      "metadata": {
        "nteract": {
          "transient": {
            "deleting": false
          }
        }
      }
    },
    {
      "cell_type": "code",
      "source": [
        "model$arg.params"
      ],
      "outputs": [
        {
          "output_type": "display_data",
          "data": {
            "text/plain": [
              "$fullyconnected0_weight\n",
              "              [,1]         [,2]          [,3]         [,4]\n",
              " [1,]  0.000251364  0.002721510  0.0227664988  0.015098012\n",
              " [2,]  0.007656842  0.007514593  0.0155111169  0.013211223\n",
              " [3,] -0.001833370 -0.002022291  0.0066052107 -0.001807258\n",
              " [4,] -0.005291542  0.004286422  0.0010420483 -0.007832700\n",
              " [5,]  0.003257737 -0.011945103 -0.0126218610  0.001095789\n",
              " [6,] -0.001088850 -0.004286718  0.0030281481 -0.002240660\n",
              " [7,]  0.008684259 -0.007507119 -0.0174596384 -0.010892521\n",
              " [8,] -0.005166853  0.007712031 -0.0021526928  0.001577258\n",
              " [9,] -0.004102852 -0.002837309 -0.0146477185 -0.014754630\n",
              "[10,]  0.004337608 -0.014782390 -0.0178184658 -0.014386953\n",
              "[11,]  0.003708433 -0.011563182 -0.0172139946 -0.014998819\n",
              "[12,]  0.006491954 -0.004553760 -0.0156454649 -0.002145444\n",
              "[13,] -0.000991428 -0.007957110 -0.0117291473  0.001156766\n",
              "[14,] -0.005837713  0.004476704  0.0091741346  0.002934348\n",
              "[15,] -0.006012313  0.008900746 -0.0009431211 -0.006508498\n",
              "[16,]  0.006296108  0.007908014 -0.0044523384 -0.006566367\n",
              "\n",
              "$fullyconnected0_bias\n",
              "[1] -6.956844e-06  1.790000e-05  4.851807e-05  4.376541e-06\n",
              "\n",
              "$fullyconnected1_weight\n",
              "             [,1]         [,2]         [,3]         [,4]\n",
              "[1,] -0.004922843 -0.007851154 -0.001978758 -0.005360282\n",
              "[2,] -0.003904139  0.012083029 -0.011141293  0.014593910\n",
              "[3,] -0.011899862  0.017043669 -0.029824894  0.031573217\n",
              "[4,]  0.004266148  0.017065141 -0.024430301  0.012832401\n",
              "\n",
              "$fullyconnected1_bias\n",
              "[1] -3.499730e-05  6.165585e-05  4.006649e-05  1.216710e-04\n",
              "\n",
              "$fullyconnected2_weight\n",
              "             [,1]\n",
              "[1,]  0.005857619\n",
              "[2,] -0.019910228\n",
              "[3,]  0.029440334\n",
              "[4,] -0.027128175\n",
              "\n",
              "$fullyconnected2_bias\n",
              "[1] 0.4279093\n"
            ]
          },
          "metadata": {}
        }
      ],
      "execution_count": 48,
      "metadata": {
        "collapsed": true,
        "jupyter": {
          "source_hidden": false,
          "outputs_hidden": false
        },
        "nteract": {
          "transient": {
            "deleting": false
          }
        },
        "execution": {
          "iopub.status.busy": "2020-06-17T13:32:28.563Z",
          "iopub.execute_input": "2020-06-17T13:32:28.574Z",
          "iopub.status.idle": "2020-06-17T13:32:28.605Z",
          "shell.execute_reply": "2020-06-17T13:32:28.614Z"
        }
      }
    },
    {
      "cell_type": "markdown",
      "source": [
        "## 预测验证集\n",
        "使用训练有素的模型来预测测试集。这里的`predit()`将使用模型来预测valid.x。"
      ],
      "metadata": {
        "nteract": {
          "transient": {
            "deleting": false
          }
        }
      }
    },
    {
      "cell_type": "code",
      "source": [
        "valid.x=data.matrix(validTransformed[,2:17])\n",
        "valid.y=validTransformed[,1]\n",
        "preds = predict(model, valid.x, array.layout=\"rowmajor\")\n",
        "preds=as.vector(preds)"
      ],
      "outputs": [],
      "execution_count": 49,
      "metadata": {
        "collapsed": true,
        "jupyter": {
          "source_hidden": false,
          "outputs_hidden": false
        },
        "nteract": {
          "transient": {
            "deleting": false
          }
        },
        "execution": {
          "iopub.status.busy": "2020-06-17T13:33:37.742Z",
          "iopub.execute_input": "2020-06-17T13:33:37.757Z",
          "shell.execute_reply": "2020-06-17T13:33:37.790Z",
          "iopub.status.idle": "2020-06-17T13:33:37.810Z"
        }
      }
    },
    {
      "cell_type": "markdown",
      "source": [
        "可以通过包装预测中的函数 `precision()` 计算预测精度。"
      ],
      "metadata": {
        "nteract": {
          "transient": {
            "deleting": false
          }
        }
      }
    },
    {
      "cell_type": "code",
      "source": [
        "accu=accuracy(preds, valid.y)\n",
        "accu"
      ],
      "outputs": [
        {
          "output_type": "display_data",
          "data": {
            "text/html": [
              "<table>\n",
              "<caption>A matrix: 1 × 5 of type dbl</caption>\n",
              "<thead>\n",
              "\t<tr><th></th><th scope=col>ME</th><th scope=col>RMSE</th><th scope=col>MAE</th><th scope=col>MPE</th><th scope=col>MAPE</th></tr>\n",
              "</thead>\n",
              "<tbody>\n",
              "\t<tr><th scope=row>Test set</th><td>-0.006539717</td><td>0.1417234</td><td>0.1112813</td><td>-13.51134</td><td>30.00869</td></tr>\n",
              "</tbody>\n",
              "</table>\n"
            ],
            "text/markdown": [
              "\n",
              "A matrix: 1 × 5 of type dbl\n",
              "\n",
              "| <!--/--> | ME | RMSE | MAE | MPE | MAPE |\n",
              "|---|---|---|---|---|---|\n",
              "| Test set | -0.006539717 | 0.1417234 | 0.1112813 | -13.51134 | 30.00869 |\n",
              "\n"
            ],
            "text/latex": [
              "A matrix: 1 × 5 of type dbl\n",
              "\\begin{tabular}{r|lllll}\n",
              "  & ME & RMSE & MAE & MPE & MAPE\\\\\n",
              "\\hline\n",
              "\tTest set & -0.006539717 & 0.1417234 & 0.1112813 & -13.51134 & 30.00869\\\\\n",
              "\\end{tabular}\n"
            ],
            "text/plain": [
              "         ME           RMSE      MAE       MPE       MAPE    \n",
              "Test set -0.006539717 0.1417234 0.1112813 -13.51134 30.00869"
            ]
          },
          "metadata": {}
        }
      ],
      "execution_count": 50,
      "metadata": {
        "collapsed": true,
        "jupyter": {
          "source_hidden": false,
          "outputs_hidden": false
        },
        "nteract": {
          "transient": {
            "deleting": false
          }
        },
        "execution": {
          "iopub.status.busy": "2020-06-17T13:33:56.342Z",
          "iopub.execute_input": "2020-06-17T13:33:56.352Z",
          "iopub.status.idle": "2020-06-17T13:33:56.409Z",
          "shell.execute_reply": "2020-06-17T13:33:56.419Z"
        }
      }
    },
    {
      "cell_type": "markdown",
      "source": [
        "有效均方根值为0.14 \n",
        "ME：平均误差  \n",
        "RMSE：均方根误差  \n",
        "MAE：平均绝对误差   \n",
        "MPE：平均百分比误差  \n",
        "MAPE：平均绝对百分比误差  \n"
      ],
      "metadata": {
        "nteract": {
          "transient": {
            "deleting": false
          }
        }
      }
    },
    {
      "cell_type": "markdown",
      "source": [
        "## 调整模型\n",
        "让我们降低学习率并增加迭代次数。并通过辍学简化模型。   \n",
        "这里的dropout是`[0,1)`中的数字，其中包含从最后一个隐藏层到输出层的丢失率。"
      ],
      "metadata": {
        "nteract": {
          "transient": {
            "deleting": false
          }
        }
      }
    },
    {
      "cell_type": "code",
      "source": [
        "mx.set.seed(1)\n",
        "model2<-mx.mlp(train.x, train.y, hidden_node=c(4,5), activation = \"tanh\",out_node=1, dropout=0.2, out_activation=\"rmse\",array.layout=\"rowmajor\", num.round=100, array.batch.size=15, learning.rate=0.05, momentum=0.9, eval.metric=mx.metric.rmse)"
      ],
      "outputs": [
        {
          "output_type": "stream",
          "name": "stderr",
          "text": [
            "Start training with 1 devices\n",
            "\n",
            "[1] Train-rmse=0.181136857846688\n",
            "\n",
            "[2] Train-rmse=0.14961624505191\n",
            "\n",
            "[3] Train-rmse=0.149909008294344\n",
            "\n",
            "[4] Train-rmse=0.149925264947373\n",
            "\n",
            "[5] Train-rmse=0.14992555975914\n",
            "\n",
            "[6] Train-rmse=0.149925827851583\n",
            "\n",
            "[7] Train-rmse=0.149925471508297\n",
            "\n",
            "[8] Train-rmse=0.149925226024513\n",
            "\n",
            "[9] Train-rmse=0.149925478316587\n",
            "\n",
            "[10] Train-rmse=0.14992534536226\n",
            "\n",
            "[11] Train-rmse=0.149925387881953\n",
            "\n",
            "[12] Train-rmse=0.149925299759569\n",
            "\n",
            "[13] Train-rmse=0.14992560921558\n",
            "\n",
            "[14] Train-rmse=0.149925383771288\n",
            "\n",
            "[15] Train-rmse=0.1499252824177\n",
            "\n",
            "[16] Train-rmse=0.14992511529347\n",
            "\n",
            "[17] Train-rmse=0.149924984908309\n",
            "\n",
            "[18] Train-rmse=0.149924703327746\n",
            "\n",
            "[19] Train-rmse=0.149925772999895\n",
            "\n",
            "[20] Train-rmse=0.149925673316265\n",
            "\n",
            "[21] Train-rmse=0.149925271241829\n",
            "\n",
            "[22] Train-rmse=0.149925235530426\n",
            "\n",
            "[23] Train-rmse=0.149925186844735\n",
            "\n",
            "[24] Train-rmse=0.149924863900604\n",
            "\n",
            "[25] Train-rmse=0.149924803653668\n",
            "\n",
            "[26] Train-rmse=0.149925042842997\n",
            "\n",
            "[27] Train-rmse=0.149924286994441\n",
            "\n",
            "[28] Train-rmse=0.149924871222726\n",
            "\n",
            "[29] Train-rmse=0.149924092637054\n",
            "\n",
            "[30] Train-rmse=0.149924787082549\n",
            "\n",
            "[31] Train-rmse=0.149924159563821\n",
            "\n",
            "[32] Train-rmse=0.149924602359533\n",
            "\n",
            "[33] Train-rmse=0.14992410869434\n",
            "\n",
            "[34] Train-rmse=0.149924391302569\n",
            "\n",
            "[35] Train-rmse=0.149923594861195\n",
            "\n",
            "[36] Train-rmse=0.149923151166275\n",
            "\n",
            "[37] Train-rmse=0.149922473805732\n",
            "\n",
            "[38] Train-rmse=0.14992360719319\n",
            "\n",
            "[39] Train-rmse=0.149921787838484\n",
            "\n",
            "[40] Train-rmse=0.149923002283121\n",
            "\n",
            "[41] Train-rmse=0.14992159399493\n",
            "\n",
            "[42] Train-rmse=0.149921005655979\n",
            "\n",
            "[43] Train-rmse=0.149922627827217\n",
            "\n",
            "[44] Train-rmse=0.149922246563024\n",
            "\n",
            "[45] Train-rmse=0.149918797201124\n",
            "\n",
            "[46] Train-rmse=0.149918206293007\n",
            "\n",
            "[47] Train-rmse=0.14991570713705\n",
            "\n",
            "[48] Train-rmse=0.149915914468724\n",
            "\n",
            "[49] Train-rmse=0.149913916300083\n",
            "\n",
            "[50] Train-rmse=0.149911961421884\n",
            "\n",
            "[51] Train-rmse=0.149907904195374\n",
            "\n",
            "[52] Train-rmse=0.149900396836215\n",
            "\n",
            "[53] Train-rmse=0.149897898322549\n",
            "\n",
            "[54] Train-rmse=0.149889087111786\n",
            "\n",
            "[55] Train-rmse=0.14988150601757\n",
            "\n",
            "[56] Train-rmse=0.149846929928352\n",
            "\n",
            "[57] Train-rmse=0.1498215007114\n",
            "\n",
            "[58] Train-rmse=0.14981069094662\n",
            "\n",
            "[59] Train-rmse=0.149749014783522\n",
            "\n",
            "[60] Train-rmse=0.149558845650533\n",
            "\n",
            "[61] Train-rmse=0.149352366040493\n",
            "\n",
            "[62] Train-rmse=0.148745559155941\n",
            "\n",
            "[63] Train-rmse=0.14699293261972\n",
            "\n",
            "[64] Train-rmse=0.141735690164155\n",
            "\n",
            "[65] Train-rmse=0.12237073326933\n",
            "\n",
            "[66] Train-rmse=0.0961748195234044\n",
            "\n",
            "[67] Train-rmse=0.0894276273019355\n",
            "\n",
            "[68] Train-rmse=0.0810258749487071\n",
            "\n",
            "[69] Train-rmse=0.0765387288712222\n",
            "\n",
            "[70] Train-rmse=0.0744790292890935\n",
            "\n",
            "[71] Train-rmse=0.0731971587600379\n",
            "\n",
            "[72] Train-rmse=0.0731499554782078\n",
            "\n",
            "[73] Train-rmse=0.0680770960090489\n",
            "\n",
            "[74] Train-rmse=0.065006568706755\n",
            "\n",
            "[75] Train-rmse=0.0654980097736778\n",
            "\n",
            "[76] Train-rmse=0.0655092588657963\n",
            "\n",
            "[77] Train-rmse=0.0631624267854053\n",
            "\n",
            "[78] Train-rmse=0.0646996150628246\n",
            "\n",
            "[79] Train-rmse=0.0676517292600254\n",
            "\n",
            "[80] Train-rmse=0.064760457338958\n",
            "\n",
            "[81] Train-rmse=0.0639198906719685\n",
            "\n",
            "[82] Train-rmse=0.0619818811015836\n",
            "\n",
            "[83] Train-rmse=0.0653810565327776\n",
            "\n",
            "[84] Train-rmse=0.0633438109452354\n",
            "\n",
            "[85] Train-rmse=0.0645651376709856\n",
            "\n",
            "[86] Train-rmse=0.0634866696300692\n",
            "\n",
            "[87] Train-rmse=0.0638958855435766\n",
            "\n",
            "[88] Train-rmse=0.0641264837106754\n",
            "\n",
            "[89] Train-rmse=0.065074404894278\n",
            "\n",
            "[90] Train-rmse=0.0661649225793522\n",
            "\n",
            "[91] Train-rmse=0.0621323503939242\n",
            "\n",
            "[92] Train-rmse=0.0631795721449729\n",
            "\n",
            "[93] Train-rmse=0.0647599571866208\n",
            "\n",
            "[94] Train-rmse=0.0639930803585669\n",
            "\n",
            "[95] Train-rmse=0.0605873103285658\n",
            "\n",
            "[96] Train-rmse=0.0631588802769266\n",
            "\n",
            "[97] Train-rmse=0.0615651053858214\n",
            "\n",
            "[98] Train-rmse=0.0633189174635657\n",
            "\n",
            "[99] Train-rmse=0.0626326498158019\n",
            "\n",
            "[100] Train-rmse=0.0643827822059393\n",
            "\n"
          ]
        }
      ],
      "execution_count": 51,
      "metadata": {
        "collapsed": true,
        "jupyter": {
          "source_hidden": false,
          "outputs_hidden": false
        },
        "nteract": {
          "transient": {
            "deleting": false
          }
        },
        "execution": {
          "iopub.status.busy": "2020-06-17T13:35:38.922Z",
          "iopub.execute_input": "2020-06-17T13:35:38.937Z",
          "iopub.status.idle": "2020-06-17T13:35:54.996Z",
          "shell.execute_reply": "2020-06-17T13:35:55.020Z"
        }
      }
    },
    {
      "cell_type": "markdown",
      "source": [
        "让我们检查准确性。"
      ],
      "metadata": {
        "nteract": {
          "transient": {
            "deleting": false
          }
        }
      }
    },
    {
      "cell_type": "code",
      "source": [
        "preds2 = as.vector(predict(model2, valid.x, array.layout=\"rowmajor\"))\n",
        "accu2=accuracy(preds2, valid.y)\n",
        "accu2"
      ],
      "outputs": [
        {
          "output_type": "display_data",
          "data": {
            "text/html": [
              "<table>\n",
              "<caption>A matrix: 1 × 5 of type dbl</caption>\n",
              "<thead>\n",
              "\t<tr><th></th><th scope=col>ME</th><th scope=col>RMSE</th><th scope=col>MAE</th><th scope=col>MPE</th><th scope=col>MAPE</th></tr>\n",
              "</thead>\n",
              "<tbody>\n",
              "\t<tr><th scope=row>Test set</th><td>-0.004508121</td><td>0.05052696</td><td>0.03975079</td><td>-3.564681</td><td>11.37297</td></tr>\n",
              "</tbody>\n",
              "</table>\n"
            ],
            "text/markdown": [
              "\n",
              "A matrix: 1 × 5 of type dbl\n",
              "\n",
              "| <!--/--> | ME | RMSE | MAE | MPE | MAPE |\n",
              "|---|---|---|---|---|---|\n",
              "| Test set | -0.004508121 | 0.05052696 | 0.03975079 | -3.564681 | 11.37297 |\n",
              "\n"
            ],
            "text/latex": [
              "A matrix: 1 × 5 of type dbl\n",
              "\\begin{tabular}{r|lllll}\n",
              "  & ME & RMSE & MAE & MPE & MAPE\\\\\n",
              "\\hline\n",
              "\tTest set & -0.004508121 & 0.05052696 & 0.03975079 & -3.564681 & 11.37297\\\\\n",
              "\\end{tabular}\n"
            ],
            "text/plain": [
              "         ME           RMSE       MAE        MPE       MAPE    \n",
              "Test set -0.004508121 0.05052696 0.03975079 -3.564681 11.37297"
            ]
          },
          "metadata": {}
        }
      ],
      "execution_count": 52,
      "metadata": {
        "collapsed": true,
        "jupyter": {
          "source_hidden": false,
          "outputs_hidden": false
        },
        "nteract": {
          "transient": {
            "deleting": false
          }
        },
        "execution": {
          "iopub.status.busy": "2020-06-17T13:36:08.666Z",
          "iopub.execute_input": "2020-06-17T13:36:08.684Z",
          "iopub.status.idle": "2020-06-17T13:36:08.719Z",
          "shell.execute_reply": "2020-06-17T13:36:08.738Z"
        }
      }
    },
    {
      "cell_type": "markdown",
      "source": [
        "有效均方根值是0.05，比以前的模型好。"
      ],
      "metadata": {
        "nteract": {
          "transient": {
            "deleting": false
          }
        }
      }
    },
    {
      "cell_type": "markdown",
      "source": [
        "## 绘制预测价格和真实价格\n",
        "当前的preds2是标准化的标签。让我们重置它们。"
      ],
      "metadata": {
        "nteract": {
          "transient": {
            "deleting": false
          }
        }
      }
    },
    {
      "cell_type": "code",
      "source": [
        "train"
      ],
      "outputs": [
        {
          "output_type": "display_data",
          "data": {
            "text/html": [
              "<table>\n",
              "<caption>A data.frame: 861 × 17</caption>\n",
              "<thead>\n",
              "\t<tr><th></th><th scope=col>Price</th><th scope=col>Age_08_04</th><th scope=col>KM</th><th scope=col>HP</th><th scope=col>Automatic</th><th scope=col>Doors</th><th scope=col>Quarterly_Tax</th><th scope=col>Mfr_Guarantee</th><th scope=col>Guarantee_Period</th><th scope=col>Airco</th><th scope=col>Automatic_airco</th><th scope=col>CD_Player</th><th scope=col>Powered_Windows</th><th scope=col>Sport_Model</th><th scope=col>Tow_Bar</th><th scope=col>Fuel_Type_CNG</th><th scope=col>Fuel_Type_Diesel</th></tr>\n",
              "\t<tr><th></th><th scope=col>&lt;dbl&gt;</th><th scope=col>&lt;int&gt;</th><th scope=col>&lt;int&gt;</th><th scope=col>&lt;int&gt;</th><th scope=col>&lt;int&gt;</th><th scope=col>&lt;int&gt;</th><th scope=col>&lt;int&gt;</th><th scope=col>&lt;int&gt;</th><th scope=col>&lt;int&gt;</th><th scope=col>&lt;int&gt;</th><th scope=col>&lt;int&gt;</th><th scope=col>&lt;int&gt;</th><th scope=col>&lt;int&gt;</th><th scope=col>&lt;int&gt;</th><th scope=col>&lt;int&gt;</th><th scope=col>&lt;dbl&gt;</th><th scope=col>&lt;dbl&gt;</th></tr>\n",
              "</thead>\n",
              "<tbody>\n",
              "\t<tr><th scope=row>1017</th><td> 9.132379</td><td>65</td><td> 35283</td><td> 86</td><td>0</td><td>3</td><td> 69</td><td>0</td><td> 3</td><td>0</td><td>0</td><td>0</td><td>1</td><td>0</td><td>0</td><td>0</td><td>0</td></tr>\n",
              "\t<tr><th scope=row>679</th><td> 9.199785</td><td>68</td><td>102494</td><td>110</td><td>0</td><td>5</td><td> 85</td><td>1</td><td> 3</td><td>1</td><td>0</td><td>0</td><td>1</td><td>0</td><td>1</td><td>0</td><td>0</td></tr>\n",
              "\t<tr><th scope=row>129</th><td> 9.795345</td><td>17</td><td> 33740</td><td> 97</td><td>0</td><td>5</td><td> 85</td><td>0</td><td> 3</td><td>1</td><td>1</td><td>0</td><td>1</td><td>1</td><td>0</td><td>0</td><td>0</td></tr>\n",
              "\t<tr><th scope=row>930</th><td> 9.209840</td><td>57</td><td> 55844</td><td> 86</td><td>0</td><td>5</td><td> 69</td><td>0</td><td> 3</td><td>1</td><td>0</td><td>0</td><td>1</td><td>0</td><td>1</td><td>0</td><td>0</td></tr>\n",
              "\t<tr><th scope=row>471</th><td> 9.296518</td><td>50</td><td> 65471</td><td> 97</td><td>0</td><td>5</td><td> 85</td><td>0</td><td> 3</td><td>1</td><td>0</td><td>1</td><td>0</td><td>0</td><td>0</td><td>0</td><td>0</td></tr>\n",
              "\t<tr><th scope=row>299</th><td> 9.546455</td><td>35</td><td> 41000</td><td>110</td><td>0</td><td>5</td><td> 85</td><td>1</td><td> 3</td><td>1</td><td>0</td><td>1</td><td>1</td><td>0</td><td>0</td><td>0</td><td>0</td></tr>\n",
              "\t<tr><th scope=row>270</th><td> 9.301095</td><td>39</td><td> 48945</td><td>110</td><td>0</td><td>3</td><td> 69</td><td>0</td><td> 3</td><td>1</td><td>0</td><td>1</td><td>1</td><td>0</td><td>1</td><td>0</td><td>0</td></tr>\n",
              "\t<tr><th scope=row>1211</th><td> 8.980927</td><td>73</td><td> 87000</td><td> 86</td><td>0</td><td>3</td><td> 69</td><td>0</td><td>12</td><td>0</td><td>0</td><td>0</td><td>0</td><td>0</td><td>0</td><td>0</td><td>0</td></tr>\n",
              "\t<tr><th scope=row>1331</th><td> 9.099409</td><td>71</td><td> 65021</td><td> 72</td><td>0</td><td>3</td><td>185</td><td>0</td><td> 3</td><td>0</td><td>0</td><td>0</td><td>0</td><td>0</td><td>1</td><td>0</td><td>1</td></tr>\n",
              "\t<tr><th scope=row>597</th><td> 9.254357</td><td>50</td><td> 17619</td><td>110</td><td>0</td><td>4</td><td> 69</td><td>0</td><td> 3</td><td>0</td><td>0</td><td>0</td><td>0</td><td>0</td><td>0</td><td>0</td><td>0</td></tr>\n",
              "\t<tr><th scope=row>1301</th><td> 8.980927</td><td>76</td><td> 71000</td><td>110</td><td>0</td><td>3</td><td> 69</td><td>1</td><td>12</td><td>0</td><td>0</td><td>0</td><td>0</td><td>0</td><td>0</td><td>0</td><td>0</td></tr>\n",
              "\t<tr><th scope=row>330</th><td> 9.366917</td><td>43</td><td> 33113</td><td>110</td><td>0</td><td>5</td><td> 85</td><td>1</td><td> 3</td><td>0</td><td>0</td><td>1</td><td>0</td><td>0</td><td>0</td><td>0</td><td>0</td></tr>\n",
              "\t<tr><th scope=row>37</th><td> 9.677214</td><td>25</td><td> 25000</td><td> 97</td><td>0</td><td>3</td><td> 85</td><td>0</td><td> 3</td><td>1</td><td>0</td><td>1</td><td>1</td><td>1</td><td>0</td><td>0</td><td>0</td></tr>\n",
              "\t<tr><th scope=row>1129</th><td> 8.922658</td><td>78</td><td>109263</td><td>110</td><td>0</td><td>5</td><td> 85</td><td>0</td><td> 3</td><td>0</td><td>0</td><td>0</td><td>0</td><td>0</td><td>1</td><td>0</td><td>0</td></tr>\n",
              "\t<tr><th scope=row>729</th><td> 9.159047</td><td>59</td><td> 86871</td><td> 86</td><td>0</td><td>5</td><td> 69</td><td>0</td><td> 3</td><td>1</td><td>0</td><td>0</td><td>1</td><td>0</td><td>0</td><td>0</td><td>0</td></tr>\n",
              "\t<tr><th scope=row>878</th><td> 9.205328</td><td>58</td><td> 62024</td><td>110</td><td>0</td><td>5</td><td> 85</td><td>0</td><td> 3</td><td>1</td><td>0</td><td>0</td><td>1</td><td>0</td><td>0</td><td>0</td><td>0</td></tr>\n",
              "\t<tr><th scope=row>485</th><td> 9.159047</td><td>54</td><td> 62519</td><td> 97</td><td>0</td><td>3</td><td> 69</td><td>0</td><td> 3</td><td>0</td><td>0</td><td>1</td><td>0</td><td>0</td><td>0</td><td>0</td><td>0</td></tr>\n",
              "\t<tr><th scope=row>874</th><td> 9.185023</td><td>68</td><td> 62292</td><td>110</td><td>0</td><td>3</td><td> 85</td><td>0</td><td> 3</td><td>0</td><td>0</td><td>0</td><td>1</td><td>0</td><td>0</td><td>0</td><td>0</td></tr>\n",
              "\t<tr><th scope=row>382</th><td> 8.955448</td><td>54</td><td>174139</td><td> 72</td><td>0</td><td>4</td><td>185</td><td>0</td><td> 3</td><td>0</td><td>0</td><td>0</td><td>0</td><td>0</td><td>1</td><td>0</td><td>1</td></tr>\n",
              "\t<tr><th scope=row>975</th><td> 9.254357</td><td>60</td><td> 47060</td><td>110</td><td>0</td><td>4</td><td> 69</td><td>1</td><td> 3</td><td>1</td><td>0</td><td>0</td><td>0</td><td>0</td><td>0</td><td>0</td><td>0</td></tr>\n",
              "\t<tr><th scope=row>801</th><td> 9.104424</td><td>67</td><td> 73936</td><td> 86</td><td>0</td><td>5</td><td> 69</td><td>0</td><td> 3</td><td>0</td><td>0</td><td>0</td><td>1</td><td>1</td><td>0</td><td>0</td><td>0</td></tr>\n",
              "\t<tr><th scope=row>852</th><td> 9.132379</td><td>60</td><td> 65259</td><td>110</td><td>0</td><td>3</td><td> 69</td><td>1</td><td> 3</td><td>0</td><td>0</td><td>1</td><td>0</td><td>1</td><td>1</td><td>0</td><td>0</td></tr>\n",
              "\t<tr><th scope=row>931</th><td> 9.076809</td><td>61</td><td> 55747</td><td> 86</td><td>0</td><td>3</td><td> 69</td><td>0</td><td> 3</td><td>1</td><td>0</td><td>0</td><td>1</td><td>0</td><td>0</td><td>0</td><td>0</td></tr>\n",
              "\t<tr><th scope=row>326</th><td> 9.388487</td><td>41</td><td> 34000</td><td>110</td><td>0</td><td>5</td><td> 85</td><td>0</td><td> 3</td><td>1</td><td>0</td><td>1</td><td>0</td><td>0</td><td>1</td><td>0</td><td>0</td></tr>\n",
              "\t<tr><th scope=row>1425</th><td> 8.955448</td><td>73</td><td> 34717</td><td> 86</td><td>0</td><td>3</td><td> 69</td><td>0</td><td> 6</td><td>0</td><td>0</td><td>0</td><td>0</td><td>0</td><td>0</td><td>0</td><td>0</td></tr>\n",
              "\t<tr><th scope=row>554</th><td> 9.305196</td><td>50</td><td> 41273</td><td> 97</td><td>0</td><td>5</td><td> 85</td><td>1</td><td> 3</td><td>0</td><td>0</td><td>0</td><td>1</td><td>0</td><td>1</td><td>0</td><td>0</td></tr>\n",
              "\t<tr><th scope=row>111</th><td>10.341742</td><td> 4</td><td>  4000</td><td>116</td><td>0</td><td>5</td><td>283</td><td>0</td><td> 3</td><td>1</td><td>1</td><td>1</td><td>1</td><td>1</td><td>0</td><td>0</td><td>1</td></tr>\n",
              "\t<tr><th scope=row>532</th><td> 9.235033</td><td>54</td><td> 47852</td><td>110</td><td>0</td><td>4</td><td> 69</td><td>0</td><td> 3</td><td>0</td><td>0</td><td>0</td><td>0</td><td>0</td><td>0</td><td>0</td><td>0</td></tr>\n",
              "\t<tr><th scope=row>556</th><td> 9.328123</td><td>50</td><td> 40400</td><td> 97</td><td>0</td><td>5</td><td> 85</td><td>1</td><td> 3</td><td>0</td><td>0</td><td>0</td><td>1</td><td>0</td><td>1</td><td>0</td><td>0</td></tr>\n",
              "\t<tr><th scope=row>889</th><td> 9.328123</td><td>61</td><td> 61144</td><td>110</td><td>0</td><td>5</td><td> 85</td><td>1</td><td> 3</td><td>1</td><td>0</td><td>0</td><td>1</td><td>0</td><td>0</td><td>0</td><td>0</td></tr>\n",
              "\t<tr><th scope=row>⋮</th><td>⋮</td><td>⋮</td><td>⋮</td><td>⋮</td><td>⋮</td><td>⋮</td><td>⋮</td><td>⋮</td><td>⋮</td><td>⋮</td><td>⋮</td><td>⋮</td><td>⋮</td><td>⋮</td><td>⋮</td><td>⋮</td><td>⋮</td></tr>\n",
              "\t<tr><th scope=row>863</th><td> 9.185023</td><td>67</td><td> 64613</td><td>110</td><td>0</td><td>5</td><td> 85</td><td>1</td><td>3</td><td>1</td><td>0</td><td>0</td><td>0</td><td>1</td><td>1</td><td>0</td><td>0</td></tr>\n",
              "\t<tr><th scope=row>389</th><td> 8.955448</td><td>48</td><td>140700</td><td> 69</td><td>0</td><td>5</td><td> 64</td><td>0</td><td>3</td><td>1</td><td>0</td><td>1</td><td>1</td><td>0</td><td>0</td><td>0</td><td>1</td></tr>\n",
              "\t<tr><th scope=row>861</th><td> 9.185023</td><td>63</td><td> 64690</td><td> 86</td><td>0</td><td>3</td><td> 69</td><td>1</td><td>3</td><td>1</td><td>0</td><td>1</td><td>1</td><td>0</td><td>0</td><td>0</td><td>0</td></tr>\n",
              "\t<tr><th scope=row>877</th><td> 9.076809</td><td>66</td><td> 62135</td><td> 86</td><td>0</td><td>5</td><td> 69</td><td>1</td><td>3</td><td>0</td><td>0</td><td>0</td><td>0</td><td>0</td><td>1</td><td>0</td><td>0</td></tr>\n",
              "\t<tr><th scope=row>677</th><td> 9.159047</td><td>63</td><td>103400</td><td>110</td><td>0</td><td>5</td><td> 85</td><td>0</td><td>3</td><td>1</td><td>0</td><td>0</td><td>1</td><td>0</td><td>1</td><td>0</td><td>0</td></tr>\n",
              "\t<tr><th scope=row>1087</th><td> 8.846497</td><td>77</td><td>131307</td><td>110</td><td>0</td><td>3</td><td> 69</td><td>0</td><td>3</td><td>0</td><td>0</td><td>0</td><td>0</td><td>1</td><td>0</td><td>0</td><td>0</td></tr>\n",
              "\t<tr><th scope=row>347</th><td> 9.506734</td><td>40</td><td> 28362</td><td>110</td><td>0</td><td>3</td><td> 69</td><td>0</td><td>3</td><td>1</td><td>0</td><td>1</td><td>1</td><td>0</td><td>1</td><td>0</td><td>0</td></tr>\n",
              "\t<tr><th scope=row>632</th><td> 9.099409</td><td>67</td><td>127000</td><td> 72</td><td>0</td><td>5</td><td>185</td><td>1</td><td>3</td><td>0</td><td>0</td><td>0</td><td>0</td><td>1</td><td>1</td><td>0</td><td>1</td></tr>\n",
              "\t<tr><th scope=row>1262</th><td> 9.159047</td><td>77</td><td> 75799</td><td>110</td><td>0</td><td>3</td><td> 19</td><td>0</td><td>3</td><td>0</td><td>0</td><td>0</td><td>0</td><td>0</td><td>0</td><td>0</td><td>0</td></tr>\n",
              "\t<tr><th scope=row>780</th><td> 9.093807</td><td>66</td><td> 76791</td><td>110</td><td>0</td><td>5</td><td> 85</td><td>0</td><td>3</td><td>0</td><td>0</td><td>0</td><td>1</td><td>1</td><td>0</td><td>0</td><td>0</td></tr>\n",
              "\t<tr><th scope=row>1180</th><td> 9.099409</td><td>79</td><td> 93039</td><td>110</td><td>0</td><td>3</td><td> 69</td><td>0</td><td>3</td><td>0</td><td>0</td><td>0</td><td>1</td><td>0</td><td>0</td><td>0</td><td>0</td></tr>\n",
              "\t<tr><th scope=row>439</th><td> 9.235033</td><td>55</td><td> 77780</td><td>110</td><td>0</td><td>3</td><td> 69</td><td>0</td><td>3</td><td>0</td><td>0</td><td>0</td><td>0</td><td>0</td><td>1</td><td>0</td><td>0</td></tr>\n",
              "\t<tr><th scope=row>113</th><td>10.124629</td><td> 8</td><td> 13253</td><td>116</td><td>0</td><td>5</td><td>234</td><td>0</td><td>3</td><td>1</td><td>1</td><td>1</td><td>1</td><td>0</td><td>0</td><td>0</td><td>1</td></tr>\n",
              "\t<tr><th scope=row>953</th><td> 9.035987</td><td>60</td><td> 52487</td><td>110</td><td>0</td><td>4</td><td> 69</td><td>0</td><td>3</td><td>0</td><td>0</td><td>0</td><td>0</td><td>0</td><td>1</td><td>0</td><td>0</td></tr>\n",
              "\t<tr><th scope=row>114</th><td>10.124629</td><td> 8</td><td> 13253</td><td>116</td><td>0</td><td>5</td><td>234</td><td>0</td><td>3</td><td>1</td><td>1</td><td>1</td><td>1</td><td>0</td><td>0</td><td>0</td><td>1</td></tr>\n",
              "\t<tr><th scope=row>602</th><td> 8.922658</td><td>50</td><td>     1</td><td> 90</td><td>0</td><td>3</td><td> 64</td><td>0</td><td>3</td><td>1</td><td>0</td><td>0</td><td>1</td><td>0</td><td>1</td><td>0</td><td>1</td></tr>\n",
              "\t<tr><th scope=row>192</th><td> 8.377931</td><td>44</td><td>158320</td><td> 69</td><td>0</td><td>5</td><td> 64</td><td>0</td><td>3</td><td>0</td><td>0</td><td>0</td><td>1</td><td>0</td><td>0</td><td>0</td><td>1</td></tr>\n",
              "\t<tr><th scope=row>599</th><td> 9.254357</td><td>48</td><td> 15000</td><td> 97</td><td>0</td><td>3</td><td> 69</td><td>1</td><td>3</td><td>0</td><td>0</td><td>0</td><td>0</td><td>0</td><td>0</td><td>0</td><td>0</td></tr>\n",
              "\t<tr><th scope=row>231</th><td> 9.386392</td><td>44</td><td> 63451</td><td> 97</td><td>0</td><td>3</td><td> 69</td><td>1</td><td>3</td><td>0</td><td>0</td><td>0</td><td>0</td><td>0</td><td>0</td><td>0</td><td>0</td></tr>\n",
              "\t<tr><th scope=row>1338</th><td> 9.076809</td><td>75</td><td> 63634</td><td>110</td><td>0</td><td>4</td><td> 69</td><td>0</td><td>3</td><td>1</td><td>0</td><td>0</td><td>1</td><td>0</td><td>0</td><td>0</td><td>0</td></tr>\n",
              "\t<tr><th scope=row>1170</th><td> 9.132379</td><td>74</td><td> 96000</td><td>110</td><td>0</td><td>5</td><td> 85</td><td>1</td><td>3</td><td>0</td><td>0</td><td>0</td><td>0</td><td>1</td><td>1</td><td>0</td><td>0</td></tr>\n",
              "\t<tr><th scope=row>1054</th><td> 8.656955</td><td>76</td><td>183277</td><td> 72</td><td>0</td><td>3</td><td>185</td><td>0</td><td>3</td><td>0</td><td>0</td><td>0</td><td>0</td><td>0</td><td>0</td><td>0</td><td>1</td></tr>\n",
              "\t<tr><th scope=row>862</th><td> 9.301095</td><td>65</td><td> 64630</td><td>110</td><td>0</td><td>5</td><td> 85</td><td>0</td><td>6</td><td>1</td><td>0</td><td>0</td><td>0</td><td>0</td><td>0</td><td>0</td><td>0</td></tr>\n",
              "\t<tr><th scope=row>1236</th><td> 8.980927</td><td>71</td><td> 82700</td><td>110</td><td>0</td><td>3</td><td> 69</td><td>0</td><td>3</td><td>0</td><td>0</td><td>0</td><td>1</td><td>0</td><td>0</td><td>0</td><td>0</td></tr>\n",
              "\t<tr><th scope=row>1174</th><td> 8.846497</td><td>79</td><td> 95000</td><td> 86</td><td>0</td><td>5</td><td> 69</td><td>1</td><td>3</td><td>0</td><td>0</td><td>0</td><td>0</td><td>1</td><td>0</td><td>0</td><td>0</td></tr>\n",
              "\t<tr><th scope=row>684</th><td> 9.099409</td><td>63</td><td>101469</td><td>110</td><td>0</td><td>3</td><td> 85</td><td>0</td><td>3</td><td>1</td><td>0</td><td>0</td><td>1</td><td>1</td><td>0</td><td>0</td><td>0</td></tr>\n",
              "\t<tr><th scope=row>228</th><td> 9.366489</td><td>34</td><td> 65345</td><td> 97</td><td>0</td><td>5</td><td> 85</td><td>1</td><td>3</td><td>1</td><td>0</td><td>1</td><td>1</td><td>0</td><td>1</td><td>0</td><td>0</td></tr>\n",
              "\t<tr><th scope=row>1003</th><td> 9.017968</td><td>66</td><td> 39144</td><td>110</td><td>0</td><td>3</td><td> 69</td><td>1</td><td>3</td><td>0</td><td>0</td><td>0</td><td>1</td><td>0</td><td>0</td><td>0</td><td>0</td></tr>\n",
              "\t<tr><th scope=row>829</th><td> 9.205328</td><td>68</td><td> 68865</td><td>110</td><td>0</td><td>3</td><td> 85</td><td>0</td><td>3</td><td>1</td><td>0</td><td>0</td><td>1</td><td>1</td><td>0</td><td>0</td><td>0</td></tr>\n",
              "\t<tr><th scope=row>25</th><td> 9.695848</td><td>29</td><td> 25813</td><td>110</td><td>0</td><td>3</td><td> 85</td><td>1</td><td>3</td><td>1</td><td>1</td><td>1</td><td>1</td><td>1</td><td>0</td><td>0</td><td>0</td></tr>\n",
              "</tbody>\n",
              "</table>\n"
            ],
            "text/markdown": [
              "\n",
              "A data.frame: 861 × 17\n",
              "\n",
              "| <!--/--> | Price &lt;dbl&gt; | Age_08_04 &lt;int&gt; | KM &lt;int&gt; | HP &lt;int&gt; | Automatic &lt;int&gt; | Doors &lt;int&gt; | Quarterly_Tax &lt;int&gt; | Mfr_Guarantee &lt;int&gt; | Guarantee_Period &lt;int&gt; | Airco &lt;int&gt; | Automatic_airco &lt;int&gt; | CD_Player &lt;int&gt; | Powered_Windows &lt;int&gt; | Sport_Model &lt;int&gt; | Tow_Bar &lt;int&gt; | Fuel_Type_CNG &lt;dbl&gt; | Fuel_Type_Diesel &lt;dbl&gt; |\n",
              "|---|---|---|---|---|---|---|---|---|---|---|---|---|---|---|---|---|---|\n",
              "| 1017 |  9.132379 | 65 |  35283 |  86 | 0 | 3 |  69 | 0 |  3 | 0 | 0 | 0 | 1 | 0 | 0 | 0 | 0 |\n",
              "| 679 |  9.199785 | 68 | 102494 | 110 | 0 | 5 |  85 | 1 |  3 | 1 | 0 | 0 | 1 | 0 | 1 | 0 | 0 |\n",
              "| 129 |  9.795345 | 17 |  33740 |  97 | 0 | 5 |  85 | 0 |  3 | 1 | 1 | 0 | 1 | 1 | 0 | 0 | 0 |\n",
              "| 930 |  9.209840 | 57 |  55844 |  86 | 0 | 5 |  69 | 0 |  3 | 1 | 0 | 0 | 1 | 0 | 1 | 0 | 0 |\n",
              "| 471 |  9.296518 | 50 |  65471 |  97 | 0 | 5 |  85 | 0 |  3 | 1 | 0 | 1 | 0 | 0 | 0 | 0 | 0 |\n",
              "| 299 |  9.546455 | 35 |  41000 | 110 | 0 | 5 |  85 | 1 |  3 | 1 | 0 | 1 | 1 | 0 | 0 | 0 | 0 |\n",
              "| 270 |  9.301095 | 39 |  48945 | 110 | 0 | 3 |  69 | 0 |  3 | 1 | 0 | 1 | 1 | 0 | 1 | 0 | 0 |\n",
              "| 1211 |  8.980927 | 73 |  87000 |  86 | 0 | 3 |  69 | 0 | 12 | 0 | 0 | 0 | 0 | 0 | 0 | 0 | 0 |\n",
              "| 1331 |  9.099409 | 71 |  65021 |  72 | 0 | 3 | 185 | 0 |  3 | 0 | 0 | 0 | 0 | 0 | 1 | 0 | 1 |\n",
              "| 597 |  9.254357 | 50 |  17619 | 110 | 0 | 4 |  69 | 0 |  3 | 0 | 0 | 0 | 0 | 0 | 0 | 0 | 0 |\n",
              "| 1301 |  8.980927 | 76 |  71000 | 110 | 0 | 3 |  69 | 1 | 12 | 0 | 0 | 0 | 0 | 0 | 0 | 0 | 0 |\n",
              "| 330 |  9.366917 | 43 |  33113 | 110 | 0 | 5 |  85 | 1 |  3 | 0 | 0 | 1 | 0 | 0 | 0 | 0 | 0 |\n",
              "| 37 |  9.677214 | 25 |  25000 |  97 | 0 | 3 |  85 | 0 |  3 | 1 | 0 | 1 | 1 | 1 | 0 | 0 | 0 |\n",
              "| 1129 |  8.922658 | 78 | 109263 | 110 | 0 | 5 |  85 | 0 |  3 | 0 | 0 | 0 | 0 | 0 | 1 | 0 | 0 |\n",
              "| 729 |  9.159047 | 59 |  86871 |  86 | 0 | 5 |  69 | 0 |  3 | 1 | 0 | 0 | 1 | 0 | 0 | 0 | 0 |\n",
              "| 878 |  9.205328 | 58 |  62024 | 110 | 0 | 5 |  85 | 0 |  3 | 1 | 0 | 0 | 1 | 0 | 0 | 0 | 0 |\n",
              "| 485 |  9.159047 | 54 |  62519 |  97 | 0 | 3 |  69 | 0 |  3 | 0 | 0 | 1 | 0 | 0 | 0 | 0 | 0 |\n",
              "| 874 |  9.185023 | 68 |  62292 | 110 | 0 | 3 |  85 | 0 |  3 | 0 | 0 | 0 | 1 | 0 | 0 | 0 | 0 |\n",
              "| 382 |  8.955448 | 54 | 174139 |  72 | 0 | 4 | 185 | 0 |  3 | 0 | 0 | 0 | 0 | 0 | 1 | 0 | 1 |\n",
              "| 975 |  9.254357 | 60 |  47060 | 110 | 0 | 4 |  69 | 1 |  3 | 1 | 0 | 0 | 0 | 0 | 0 | 0 | 0 |\n",
              "| 801 |  9.104424 | 67 |  73936 |  86 | 0 | 5 |  69 | 0 |  3 | 0 | 0 | 0 | 1 | 1 | 0 | 0 | 0 |\n",
              "| 852 |  9.132379 | 60 |  65259 | 110 | 0 | 3 |  69 | 1 |  3 | 0 | 0 | 1 | 0 | 1 | 1 | 0 | 0 |\n",
              "| 931 |  9.076809 | 61 |  55747 |  86 | 0 | 3 |  69 | 0 |  3 | 1 | 0 | 0 | 1 | 0 | 0 | 0 | 0 |\n",
              "| 326 |  9.388487 | 41 |  34000 | 110 | 0 | 5 |  85 | 0 |  3 | 1 | 0 | 1 | 0 | 0 | 1 | 0 | 0 |\n",
              "| 1425 |  8.955448 | 73 |  34717 |  86 | 0 | 3 |  69 | 0 |  6 | 0 | 0 | 0 | 0 | 0 | 0 | 0 | 0 |\n",
              "| 554 |  9.305196 | 50 |  41273 |  97 | 0 | 5 |  85 | 1 |  3 | 0 | 0 | 0 | 1 | 0 | 1 | 0 | 0 |\n",
              "| 111 | 10.341742 |  4 |   4000 | 116 | 0 | 5 | 283 | 0 |  3 | 1 | 1 | 1 | 1 | 1 | 0 | 0 | 1 |\n",
              "| 532 |  9.235033 | 54 |  47852 | 110 | 0 | 4 |  69 | 0 |  3 | 0 | 0 | 0 | 0 | 0 | 0 | 0 | 0 |\n",
              "| 556 |  9.328123 | 50 |  40400 |  97 | 0 | 5 |  85 | 1 |  3 | 0 | 0 | 0 | 1 | 0 | 1 | 0 | 0 |\n",
              "| 889 |  9.328123 | 61 |  61144 | 110 | 0 | 5 |  85 | 1 |  3 | 1 | 0 | 0 | 1 | 0 | 0 | 0 | 0 |\n",
              "| ⋮ | ⋮ | ⋮ | ⋮ | ⋮ | ⋮ | ⋮ | ⋮ | ⋮ | ⋮ | ⋮ | ⋮ | ⋮ | ⋮ | ⋮ | ⋮ | ⋮ | ⋮ |\n",
              "| 863 |  9.185023 | 67 |  64613 | 110 | 0 | 5 |  85 | 1 | 3 | 1 | 0 | 0 | 0 | 1 | 1 | 0 | 0 |\n",
              "| 389 |  8.955448 | 48 | 140700 |  69 | 0 | 5 |  64 | 0 | 3 | 1 | 0 | 1 | 1 | 0 | 0 | 0 | 1 |\n",
              "| 861 |  9.185023 | 63 |  64690 |  86 | 0 | 3 |  69 | 1 | 3 | 1 | 0 | 1 | 1 | 0 | 0 | 0 | 0 |\n",
              "| 877 |  9.076809 | 66 |  62135 |  86 | 0 | 5 |  69 | 1 | 3 | 0 | 0 | 0 | 0 | 0 | 1 | 0 | 0 |\n",
              "| 677 |  9.159047 | 63 | 103400 | 110 | 0 | 5 |  85 | 0 | 3 | 1 | 0 | 0 | 1 | 0 | 1 | 0 | 0 |\n",
              "| 1087 |  8.846497 | 77 | 131307 | 110 | 0 | 3 |  69 | 0 | 3 | 0 | 0 | 0 | 0 | 1 | 0 | 0 | 0 |\n",
              "| 347 |  9.506734 | 40 |  28362 | 110 | 0 | 3 |  69 | 0 | 3 | 1 | 0 | 1 | 1 | 0 | 1 | 0 | 0 |\n",
              "| 632 |  9.099409 | 67 | 127000 |  72 | 0 | 5 | 185 | 1 | 3 | 0 | 0 | 0 | 0 | 1 | 1 | 0 | 1 |\n",
              "| 1262 |  9.159047 | 77 |  75799 | 110 | 0 | 3 |  19 | 0 | 3 | 0 | 0 | 0 | 0 | 0 | 0 | 0 | 0 |\n",
              "| 780 |  9.093807 | 66 |  76791 | 110 | 0 | 5 |  85 | 0 | 3 | 0 | 0 | 0 | 1 | 1 | 0 | 0 | 0 |\n",
              "| 1180 |  9.099409 | 79 |  93039 | 110 | 0 | 3 |  69 | 0 | 3 | 0 | 0 | 0 | 1 | 0 | 0 | 0 | 0 |\n",
              "| 439 |  9.235033 | 55 |  77780 | 110 | 0 | 3 |  69 | 0 | 3 | 0 | 0 | 0 | 0 | 0 | 1 | 0 | 0 |\n",
              "| 113 | 10.124629 |  8 |  13253 | 116 | 0 | 5 | 234 | 0 | 3 | 1 | 1 | 1 | 1 | 0 | 0 | 0 | 1 |\n",
              "| 953 |  9.035987 | 60 |  52487 | 110 | 0 | 4 |  69 | 0 | 3 | 0 | 0 | 0 | 0 | 0 | 1 | 0 | 0 |\n",
              "| 114 | 10.124629 |  8 |  13253 | 116 | 0 | 5 | 234 | 0 | 3 | 1 | 1 | 1 | 1 | 0 | 0 | 0 | 1 |\n",
              "| 602 |  8.922658 | 50 |      1 |  90 | 0 | 3 |  64 | 0 | 3 | 1 | 0 | 0 | 1 | 0 | 1 | 0 | 1 |\n",
              "| 192 |  8.377931 | 44 | 158320 |  69 | 0 | 5 |  64 | 0 | 3 | 0 | 0 | 0 | 1 | 0 | 0 | 0 | 1 |\n",
              "| 599 |  9.254357 | 48 |  15000 |  97 | 0 | 3 |  69 | 1 | 3 | 0 | 0 | 0 | 0 | 0 | 0 | 0 | 0 |\n",
              "| 231 |  9.386392 | 44 |  63451 |  97 | 0 | 3 |  69 | 1 | 3 | 0 | 0 | 0 | 0 | 0 | 0 | 0 | 0 |\n",
              "| 1338 |  9.076809 | 75 |  63634 | 110 | 0 | 4 |  69 | 0 | 3 | 1 | 0 | 0 | 1 | 0 | 0 | 0 | 0 |\n",
              "| 1170 |  9.132379 | 74 |  96000 | 110 | 0 | 5 |  85 | 1 | 3 | 0 | 0 | 0 | 0 | 1 | 1 | 0 | 0 |\n",
              "| 1054 |  8.656955 | 76 | 183277 |  72 | 0 | 3 | 185 | 0 | 3 | 0 | 0 | 0 | 0 | 0 | 0 | 0 | 1 |\n",
              "| 862 |  9.301095 | 65 |  64630 | 110 | 0 | 5 |  85 | 0 | 6 | 1 | 0 | 0 | 0 | 0 | 0 | 0 | 0 |\n",
              "| 1236 |  8.980927 | 71 |  82700 | 110 | 0 | 3 |  69 | 0 | 3 | 0 | 0 | 0 | 1 | 0 | 0 | 0 | 0 |\n",
              "| 1174 |  8.846497 | 79 |  95000 |  86 | 0 | 5 |  69 | 1 | 3 | 0 | 0 | 0 | 0 | 1 | 0 | 0 | 0 |\n",
              "| 684 |  9.099409 | 63 | 101469 | 110 | 0 | 3 |  85 | 0 | 3 | 1 | 0 | 0 | 1 | 1 | 0 | 0 | 0 |\n",
              "| 228 |  9.366489 | 34 |  65345 |  97 | 0 | 5 |  85 | 1 | 3 | 1 | 0 | 1 | 1 | 0 | 1 | 0 | 0 |\n",
              "| 1003 |  9.017968 | 66 |  39144 | 110 | 0 | 3 |  69 | 1 | 3 | 0 | 0 | 0 | 1 | 0 | 0 | 0 | 0 |\n",
              "| 829 |  9.205328 | 68 |  68865 | 110 | 0 | 3 |  85 | 0 | 3 | 1 | 0 | 0 | 1 | 1 | 0 | 0 | 0 |\n",
              "| 25 |  9.695848 | 29 |  25813 | 110 | 0 | 3 |  85 | 1 | 3 | 1 | 1 | 1 | 1 | 1 | 0 | 0 | 0 |\n",
              "\n"
            ],
            "text/latex": [
              "A data.frame: 861 × 17\n",
              "\\begin{tabular}{r|lllllllllllllllll}\n",
              "  & Price & Age\\_08\\_04 & KM & HP & Automatic & Doors & Quarterly\\_Tax & Mfr\\_Guarantee & Guarantee\\_Period & Airco & Automatic\\_airco & CD\\_Player & Powered\\_Windows & Sport\\_Model & Tow\\_Bar & Fuel\\_Type\\_CNG & Fuel\\_Type\\_Diesel\\\\\n",
              "  & <dbl> & <int> & <int> & <int> & <int> & <int> & <int> & <int> & <int> & <int> & <int> & <int> & <int> & <int> & <int> & <dbl> & <dbl>\\\\\n",
              "\\hline\n",
              "\t1017 &  9.132379 & 65 &  35283 &  86 & 0 & 3 &  69 & 0 &  3 & 0 & 0 & 0 & 1 & 0 & 0 & 0 & 0\\\\\n",
              "\t679 &  9.199785 & 68 & 102494 & 110 & 0 & 5 &  85 & 1 &  3 & 1 & 0 & 0 & 1 & 0 & 1 & 0 & 0\\\\\n",
              "\t129 &  9.795345 & 17 &  33740 &  97 & 0 & 5 &  85 & 0 &  3 & 1 & 1 & 0 & 1 & 1 & 0 & 0 & 0\\\\\n",
              "\t930 &  9.209840 & 57 &  55844 &  86 & 0 & 5 &  69 & 0 &  3 & 1 & 0 & 0 & 1 & 0 & 1 & 0 & 0\\\\\n",
              "\t471 &  9.296518 & 50 &  65471 &  97 & 0 & 5 &  85 & 0 &  3 & 1 & 0 & 1 & 0 & 0 & 0 & 0 & 0\\\\\n",
              "\t299 &  9.546455 & 35 &  41000 & 110 & 0 & 5 &  85 & 1 &  3 & 1 & 0 & 1 & 1 & 0 & 0 & 0 & 0\\\\\n",
              "\t270 &  9.301095 & 39 &  48945 & 110 & 0 & 3 &  69 & 0 &  3 & 1 & 0 & 1 & 1 & 0 & 1 & 0 & 0\\\\\n",
              "\t1211 &  8.980927 & 73 &  87000 &  86 & 0 & 3 &  69 & 0 & 12 & 0 & 0 & 0 & 0 & 0 & 0 & 0 & 0\\\\\n",
              "\t1331 &  9.099409 & 71 &  65021 &  72 & 0 & 3 & 185 & 0 &  3 & 0 & 0 & 0 & 0 & 0 & 1 & 0 & 1\\\\\n",
              "\t597 &  9.254357 & 50 &  17619 & 110 & 0 & 4 &  69 & 0 &  3 & 0 & 0 & 0 & 0 & 0 & 0 & 0 & 0\\\\\n",
              "\t1301 &  8.980927 & 76 &  71000 & 110 & 0 & 3 &  69 & 1 & 12 & 0 & 0 & 0 & 0 & 0 & 0 & 0 & 0\\\\\n",
              "\t330 &  9.366917 & 43 &  33113 & 110 & 0 & 5 &  85 & 1 &  3 & 0 & 0 & 1 & 0 & 0 & 0 & 0 & 0\\\\\n",
              "\t37 &  9.677214 & 25 &  25000 &  97 & 0 & 3 &  85 & 0 &  3 & 1 & 0 & 1 & 1 & 1 & 0 & 0 & 0\\\\\n",
              "\t1129 &  8.922658 & 78 & 109263 & 110 & 0 & 5 &  85 & 0 &  3 & 0 & 0 & 0 & 0 & 0 & 1 & 0 & 0\\\\\n",
              "\t729 &  9.159047 & 59 &  86871 &  86 & 0 & 5 &  69 & 0 &  3 & 1 & 0 & 0 & 1 & 0 & 0 & 0 & 0\\\\\n",
              "\t878 &  9.205328 & 58 &  62024 & 110 & 0 & 5 &  85 & 0 &  3 & 1 & 0 & 0 & 1 & 0 & 0 & 0 & 0\\\\\n",
              "\t485 &  9.159047 & 54 &  62519 &  97 & 0 & 3 &  69 & 0 &  3 & 0 & 0 & 1 & 0 & 0 & 0 & 0 & 0\\\\\n",
              "\t874 &  9.185023 & 68 &  62292 & 110 & 0 & 3 &  85 & 0 &  3 & 0 & 0 & 0 & 1 & 0 & 0 & 0 & 0\\\\\n",
              "\t382 &  8.955448 & 54 & 174139 &  72 & 0 & 4 & 185 & 0 &  3 & 0 & 0 & 0 & 0 & 0 & 1 & 0 & 1\\\\\n",
              "\t975 &  9.254357 & 60 &  47060 & 110 & 0 & 4 &  69 & 1 &  3 & 1 & 0 & 0 & 0 & 0 & 0 & 0 & 0\\\\\n",
              "\t801 &  9.104424 & 67 &  73936 &  86 & 0 & 5 &  69 & 0 &  3 & 0 & 0 & 0 & 1 & 1 & 0 & 0 & 0\\\\\n",
              "\t852 &  9.132379 & 60 &  65259 & 110 & 0 & 3 &  69 & 1 &  3 & 0 & 0 & 1 & 0 & 1 & 1 & 0 & 0\\\\\n",
              "\t931 &  9.076809 & 61 &  55747 &  86 & 0 & 3 &  69 & 0 &  3 & 1 & 0 & 0 & 1 & 0 & 0 & 0 & 0\\\\\n",
              "\t326 &  9.388487 & 41 &  34000 & 110 & 0 & 5 &  85 & 0 &  3 & 1 & 0 & 1 & 0 & 0 & 1 & 0 & 0\\\\\n",
              "\t1425 &  8.955448 & 73 &  34717 &  86 & 0 & 3 &  69 & 0 &  6 & 0 & 0 & 0 & 0 & 0 & 0 & 0 & 0\\\\\n",
              "\t554 &  9.305196 & 50 &  41273 &  97 & 0 & 5 &  85 & 1 &  3 & 0 & 0 & 0 & 1 & 0 & 1 & 0 & 0\\\\\n",
              "\t111 & 10.341742 &  4 &   4000 & 116 & 0 & 5 & 283 & 0 &  3 & 1 & 1 & 1 & 1 & 1 & 0 & 0 & 1\\\\\n",
              "\t532 &  9.235033 & 54 &  47852 & 110 & 0 & 4 &  69 & 0 &  3 & 0 & 0 & 0 & 0 & 0 & 0 & 0 & 0\\\\\n",
              "\t556 &  9.328123 & 50 &  40400 &  97 & 0 & 5 &  85 & 1 &  3 & 0 & 0 & 0 & 1 & 0 & 1 & 0 & 0\\\\\n",
              "\t889 &  9.328123 & 61 &  61144 & 110 & 0 & 5 &  85 & 1 &  3 & 1 & 0 & 0 & 1 & 0 & 0 & 0 & 0\\\\\n",
              "\t⋮ & ⋮ & ⋮ & ⋮ & ⋮ & ⋮ & ⋮ & ⋮ & ⋮ & ⋮ & ⋮ & ⋮ & ⋮ & ⋮ & ⋮ & ⋮ & ⋮ & ⋮\\\\\n",
              "\t863 &  9.185023 & 67 &  64613 & 110 & 0 & 5 &  85 & 1 & 3 & 1 & 0 & 0 & 0 & 1 & 1 & 0 & 0\\\\\n",
              "\t389 &  8.955448 & 48 & 140700 &  69 & 0 & 5 &  64 & 0 & 3 & 1 & 0 & 1 & 1 & 0 & 0 & 0 & 1\\\\\n",
              "\t861 &  9.185023 & 63 &  64690 &  86 & 0 & 3 &  69 & 1 & 3 & 1 & 0 & 1 & 1 & 0 & 0 & 0 & 0\\\\\n",
              "\t877 &  9.076809 & 66 &  62135 &  86 & 0 & 5 &  69 & 1 & 3 & 0 & 0 & 0 & 0 & 0 & 1 & 0 & 0\\\\\n",
              "\t677 &  9.159047 & 63 & 103400 & 110 & 0 & 5 &  85 & 0 & 3 & 1 & 0 & 0 & 1 & 0 & 1 & 0 & 0\\\\\n",
              "\t1087 &  8.846497 & 77 & 131307 & 110 & 0 & 3 &  69 & 0 & 3 & 0 & 0 & 0 & 0 & 1 & 0 & 0 & 0\\\\\n",
              "\t347 &  9.506734 & 40 &  28362 & 110 & 0 & 3 &  69 & 0 & 3 & 1 & 0 & 1 & 1 & 0 & 1 & 0 & 0\\\\\n",
              "\t632 &  9.099409 & 67 & 127000 &  72 & 0 & 5 & 185 & 1 & 3 & 0 & 0 & 0 & 0 & 1 & 1 & 0 & 1\\\\\n",
              "\t1262 &  9.159047 & 77 &  75799 & 110 & 0 & 3 &  19 & 0 & 3 & 0 & 0 & 0 & 0 & 0 & 0 & 0 & 0\\\\\n",
              "\t780 &  9.093807 & 66 &  76791 & 110 & 0 & 5 &  85 & 0 & 3 & 0 & 0 & 0 & 1 & 1 & 0 & 0 & 0\\\\\n",
              "\t1180 &  9.099409 & 79 &  93039 & 110 & 0 & 3 &  69 & 0 & 3 & 0 & 0 & 0 & 1 & 0 & 0 & 0 & 0\\\\\n",
              "\t439 &  9.235033 & 55 &  77780 & 110 & 0 & 3 &  69 & 0 & 3 & 0 & 0 & 0 & 0 & 0 & 1 & 0 & 0\\\\\n",
              "\t113 & 10.124629 &  8 &  13253 & 116 & 0 & 5 & 234 & 0 & 3 & 1 & 1 & 1 & 1 & 0 & 0 & 0 & 1\\\\\n",
              "\t953 &  9.035987 & 60 &  52487 & 110 & 0 & 4 &  69 & 0 & 3 & 0 & 0 & 0 & 0 & 0 & 1 & 0 & 0\\\\\n",
              "\t114 & 10.124629 &  8 &  13253 & 116 & 0 & 5 & 234 & 0 & 3 & 1 & 1 & 1 & 1 & 0 & 0 & 0 & 1\\\\\n",
              "\t602 &  8.922658 & 50 &      1 &  90 & 0 & 3 &  64 & 0 & 3 & 1 & 0 & 0 & 1 & 0 & 1 & 0 & 1\\\\\n",
              "\t192 &  8.377931 & 44 & 158320 &  69 & 0 & 5 &  64 & 0 & 3 & 0 & 0 & 0 & 1 & 0 & 0 & 0 & 1\\\\\n",
              "\t599 &  9.254357 & 48 &  15000 &  97 & 0 & 3 &  69 & 1 & 3 & 0 & 0 & 0 & 0 & 0 & 0 & 0 & 0\\\\\n",
              "\t231 &  9.386392 & 44 &  63451 &  97 & 0 & 3 &  69 & 1 & 3 & 0 & 0 & 0 & 0 & 0 & 0 & 0 & 0\\\\\n",
              "\t1338 &  9.076809 & 75 &  63634 & 110 & 0 & 4 &  69 & 0 & 3 & 1 & 0 & 0 & 1 & 0 & 0 & 0 & 0\\\\\n",
              "\t1170 &  9.132379 & 74 &  96000 & 110 & 0 & 5 &  85 & 1 & 3 & 0 & 0 & 0 & 0 & 1 & 1 & 0 & 0\\\\\n",
              "\t1054 &  8.656955 & 76 & 183277 &  72 & 0 & 3 & 185 & 0 & 3 & 0 & 0 & 0 & 0 & 0 & 0 & 0 & 1\\\\\n",
              "\t862 &  9.301095 & 65 &  64630 & 110 & 0 & 5 &  85 & 0 & 6 & 1 & 0 & 0 & 0 & 0 & 0 & 0 & 0\\\\\n",
              "\t1236 &  8.980927 & 71 &  82700 & 110 & 0 & 3 &  69 & 0 & 3 & 0 & 0 & 0 & 1 & 0 & 0 & 0 & 0\\\\\n",
              "\t1174 &  8.846497 & 79 &  95000 &  86 & 0 & 5 &  69 & 1 & 3 & 0 & 0 & 0 & 0 & 1 & 0 & 0 & 0\\\\\n",
              "\t684 &  9.099409 & 63 & 101469 & 110 & 0 & 3 &  85 & 0 & 3 & 1 & 0 & 0 & 1 & 1 & 0 & 0 & 0\\\\\n",
              "\t228 &  9.366489 & 34 &  65345 &  97 & 0 & 5 &  85 & 1 & 3 & 1 & 0 & 1 & 1 & 0 & 1 & 0 & 0\\\\\n",
              "\t1003 &  9.017968 & 66 &  39144 & 110 & 0 & 3 &  69 & 1 & 3 & 0 & 0 & 0 & 1 & 0 & 0 & 0 & 0\\\\\n",
              "\t829 &  9.205328 & 68 &  68865 & 110 & 0 & 3 &  85 & 0 & 3 & 1 & 0 & 0 & 1 & 1 & 0 & 0 & 0\\\\\n",
              "\t25 &  9.695848 & 29 &  25813 & 110 & 0 & 3 &  85 & 1 & 3 & 1 & 1 & 1 & 1 & 1 & 0 & 0 & 0\\\\\n",
              "\\end{tabular}\n"
            ],
            "text/plain": [
              "     Price     Age_08_04 KM     HP  Automatic Doors Quarterly_Tax Mfr_Guarantee\n",
              "1017  9.132379 65         35283  86 0         3      69           0            \n",
              "679   9.199785 68        102494 110 0         5      85           1            \n",
              "129   9.795345 17         33740  97 0         5      85           0            \n",
              "930   9.209840 57         55844  86 0         5      69           0            \n",
              "471   9.296518 50         65471  97 0         5      85           0            \n",
              "299   9.546455 35         41000 110 0         5      85           1            \n",
              "270   9.301095 39         48945 110 0         3      69           0            \n",
              "1211  8.980927 73         87000  86 0         3      69           0            \n",
              "1331  9.099409 71         65021  72 0         3     185           0            \n",
              "597   9.254357 50         17619 110 0         4      69           0            \n",
              "1301  8.980927 76         71000 110 0         3      69           1            \n",
              "330   9.366917 43         33113 110 0         5      85           1            \n",
              "37    9.677214 25         25000  97 0         3      85           0            \n",
              "1129  8.922658 78        109263 110 0         5      85           0            \n",
              "729   9.159047 59         86871  86 0         5      69           0            \n",
              "878   9.205328 58         62024 110 0         5      85           0            \n",
              "485   9.159047 54         62519  97 0         3      69           0            \n",
              "874   9.185023 68         62292 110 0         3      85           0            \n",
              "382   8.955448 54        174139  72 0         4     185           0            \n",
              "975   9.254357 60         47060 110 0         4      69           1            \n",
              "801   9.104424 67         73936  86 0         5      69           0            \n",
              "852   9.132379 60         65259 110 0         3      69           1            \n",
              "931   9.076809 61         55747  86 0         3      69           0            \n",
              "326   9.388487 41         34000 110 0         5      85           0            \n",
              "1425  8.955448 73         34717  86 0         3      69           0            \n",
              "554   9.305196 50         41273  97 0         5      85           1            \n",
              "111  10.341742  4          4000 116 0         5     283           0            \n",
              "532   9.235033 54         47852 110 0         4      69           0            \n",
              "556   9.328123 50         40400  97 0         5      85           1            \n",
              "889   9.328123 61         61144 110 0         5      85           1            \n",
              "⋮    ⋮         ⋮         ⋮      ⋮   ⋮         ⋮     ⋮             ⋮            \n",
              "863   9.185023 67         64613 110 0         5      85           1            \n",
              "389   8.955448 48        140700  69 0         5      64           0            \n",
              "861   9.185023 63         64690  86 0         3      69           1            \n",
              "877   9.076809 66         62135  86 0         5      69           1            \n",
              "677   9.159047 63        103400 110 0         5      85           0            \n",
              "1087  8.846497 77        131307 110 0         3      69           0            \n",
              "347   9.506734 40         28362 110 0         3      69           0            \n",
              "632   9.099409 67        127000  72 0         5     185           1            \n",
              "1262  9.159047 77         75799 110 0         3      19           0            \n",
              "780   9.093807 66         76791 110 0         5      85           0            \n",
              "1180  9.099409 79         93039 110 0         3      69           0            \n",
              "439   9.235033 55         77780 110 0         3      69           0            \n",
              "113  10.124629  8         13253 116 0         5     234           0            \n",
              "953   9.035987 60         52487 110 0         4      69           0            \n",
              "114  10.124629  8         13253 116 0         5     234           0            \n",
              "602   8.922658 50             1  90 0         3      64           0            \n",
              "192   8.377931 44        158320  69 0         5      64           0            \n",
              "599   9.254357 48         15000  97 0         3      69           1            \n",
              "231   9.386392 44         63451  97 0         3      69           1            \n",
              "1338  9.076809 75         63634 110 0         4      69           0            \n",
              "1170  9.132379 74         96000 110 0         5      85           1            \n",
              "1054  8.656955 76        183277  72 0         3     185           0            \n",
              "862   9.301095 65         64630 110 0         5      85           0            \n",
              "1236  8.980927 71         82700 110 0         3      69           0            \n",
              "1174  8.846497 79         95000  86 0         5      69           1            \n",
              "684   9.099409 63        101469 110 0         3      85           0            \n",
              "228   9.366489 34         65345  97 0         5      85           1            \n",
              "1003  9.017968 66         39144 110 0         3      69           1            \n",
              "829   9.205328 68         68865 110 0         3      85           0            \n",
              "25    9.695848 29         25813 110 0         3      85           1            \n",
              "     Guarantee_Period Airco Automatic_airco CD_Player Powered_Windows\n",
              "1017  3               0     0               0         1              \n",
              "679   3               1     0               0         1              \n",
              "129   3               1     1               0         1              \n",
              "930   3               1     0               0         1              \n",
              "471   3               1     0               1         0              \n",
              "299   3               1     0               1         1              \n",
              "270   3               1     0               1         1              \n",
              "1211 12               0     0               0         0              \n",
              "1331  3               0     0               0         0              \n",
              "597   3               0     0               0         0              \n",
              "1301 12               0     0               0         0              \n",
              "330   3               0     0               1         0              \n",
              "37    3               1     0               1         1              \n",
              "1129  3               0     0               0         0              \n",
              "729   3               1     0               0         1              \n",
              "878   3               1     0               0         1              \n",
              "485   3               0     0               1         0              \n",
              "874   3               0     0               0         1              \n",
              "382   3               0     0               0         0              \n",
              "975   3               1     0               0         0              \n",
              "801   3               0     0               0         1              \n",
              "852   3               0     0               1         0              \n",
              "931   3               1     0               0         1              \n",
              "326   3               1     0               1         0              \n",
              "1425  6               0     0               0         0              \n",
              "554   3               0     0               0         1              \n",
              "111   3               1     1               1         1              \n",
              "532   3               0     0               0         0              \n",
              "556   3               0     0               0         1              \n",
              "889   3               1     0               0         1              \n",
              "⋮    ⋮                ⋮     ⋮               ⋮         ⋮              \n",
              "863  3                1     0               0         0              \n",
              "389  3                1     0               1         1              \n",
              "861  3                1     0               1         1              \n",
              "877  3                0     0               0         0              \n",
              "677  3                1     0               0         1              \n",
              "1087 3                0     0               0         0              \n",
              "347  3                1     0               1         1              \n",
              "632  3                0     0               0         0              \n",
              "1262 3                0     0               0         0              \n",
              "780  3                0     0               0         1              \n",
              "1180 3                0     0               0         1              \n",
              "439  3                0     0               0         0              \n",
              "113  3                1     1               1         1              \n",
              "953  3                0     0               0         0              \n",
              "114  3                1     1               1         1              \n",
              "602  3                1     0               0         1              \n",
              "192  3                0     0               0         1              \n",
              "599  3                0     0               0         0              \n",
              "231  3                0     0               0         0              \n",
              "1338 3                1     0               0         1              \n",
              "1170 3                0     0               0         0              \n",
              "1054 3                0     0               0         0              \n",
              "862  6                1     0               0         0              \n",
              "1236 3                0     0               0         1              \n",
              "1174 3                0     0               0         0              \n",
              "684  3                1     0               0         1              \n",
              "228  3                1     0               1         1              \n",
              "1003 3                0     0               0         1              \n",
              "829  3                1     0               0         1              \n",
              "25   3                1     1               1         1              \n",
              "     Sport_Model Tow_Bar Fuel_Type_CNG Fuel_Type_Diesel\n",
              "1017 0           0       0             0               \n",
              "679  0           1       0             0               \n",
              "129  1           0       0             0               \n",
              "930  0           1       0             0               \n",
              "471  0           0       0             0               \n",
              "299  0           0       0             0               \n",
              "270  0           1       0             0               \n",
              "1211 0           0       0             0               \n",
              "1331 0           1       0             1               \n",
              "597  0           0       0             0               \n",
              "1301 0           0       0             0               \n",
              "330  0           0       0             0               \n",
              "37   1           0       0             0               \n",
              "1129 0           1       0             0               \n",
              "729  0           0       0             0               \n",
              "878  0           0       0             0               \n",
              "485  0           0       0             0               \n",
              "874  0           0       0             0               \n",
              "382  0           1       0             1               \n",
              "975  0           0       0             0               \n",
              "801  1           0       0             0               \n",
              "852  1           1       0             0               \n",
              "931  0           0       0             0               \n",
              "326  0           1       0             0               \n",
              "1425 0           0       0             0               \n",
              "554  0           1       0             0               \n",
              "111  1           0       0             1               \n",
              "532  0           0       0             0               \n",
              "556  0           1       0             0               \n",
              "889  0           0       0             0               \n",
              "⋮    ⋮           ⋮       ⋮             ⋮               \n",
              "863  1           1       0             0               \n",
              "389  0           0       0             1               \n",
              "861  0           0       0             0               \n",
              "877  0           1       0             0               \n",
              "677  0           1       0             0               \n",
              "1087 1           0       0             0               \n",
              "347  0           1       0             0               \n",
              "632  1           1       0             1               \n",
              "1262 0           0       0             0               \n",
              "780  1           0       0             0               \n",
              "1180 0           0       0             0               \n",
              "439  0           1       0             0               \n",
              "113  0           0       0             1               \n",
              "953  0           1       0             0               \n",
              "114  0           0       0             1               \n",
              "602  0           1       0             1               \n",
              "192  0           0       0             1               \n",
              "599  0           0       0             0               \n",
              "231  0           0       0             0               \n",
              "1338 0           0       0             0               \n",
              "1170 1           1       0             0               \n",
              "1054 0           0       0             1               \n",
              "862  0           0       0             0               \n",
              "1236 0           0       0             0               \n",
              "1174 1           0       0             0               \n",
              "684  1           0       0             0               \n",
              "228  0           1       0             0               \n",
              "1003 0           0       0             0               \n",
              "829  1           0       0             0               \n",
              "25   1           0       0             0               "
            ]
          },
          "metadata": {}
        }
      ],
      "execution_count": 53,
      "metadata": {
        "collapsed": true,
        "jupyter": {
          "source_hidden": false,
          "outputs_hidden": false
        },
        "nteract": {
          "transient": {
            "deleting": false
          }
        },
        "execution": {
          "iopub.status.busy": "2020-06-17T13:39:40.504Z",
          "iopub.execute_input": "2020-06-17T13:39:40.523Z",
          "iopub.status.idle": "2020-06-17T13:39:40.701Z",
          "shell.execute_reply": "2020-06-17T13:39:40.848Z"
        }
      }
    },
    {
      "cell_type": "markdown",
      "source": [],
      "metadata": {
        "nteract": {
          "transient": {
            "deleting": false
          }
        }
      }
    }
  ],
  "metadata": {
    "kernel_info": {
      "name": "ir40"
    },
    "language_info": {
      "name": "R",
      "codemirror_mode": "r",
      "pygments_lexer": "r",
      "mimetype": "text/x-r-source",
      "file_extension": ".r",
      "version": "4.0.1"
    },
    "kernelspec": {
      "argv": [
        "/usr/lib/R/bin/R",
        "--slave",
        "-e",
        "IRkernel::main()",
        "--args",
        "{connection_file}"
      ],
      "display_name": "R 4.0",
      "language": "R",
      "name": "ir40"
    },
    "nteract": {
      "version": "0.23.3"
    },
    "gist_id": "1e84863f821612fdf56c351b0f4c7492"
  },
  "nbformat": 4,
  "nbformat_minor": 0
}