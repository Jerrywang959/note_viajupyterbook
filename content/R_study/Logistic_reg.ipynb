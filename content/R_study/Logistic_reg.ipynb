{
  "cells": [
    {
      "cell_type": "markdown",
      "source": [
        "# 加载和浏览数据集"
      ],
      "metadata": {
        "nteract": {
          "transient": {
            "deleting": false
          }
        }
      }
    },
    {
      "cell_type": "code",
      "source": [
        "quality = read.csv(\"/home/jerrywang/GitHub/note_viajupyterbook/mynote/datas/Diabetes.csv\")\n",
        "str(quality)"
      ],
      "outputs": [],
      "execution_count": null,
      "metadata": {
        "collapsed": true,
        "outputExpanded": false,
        "jupyter": {
          "source_hidden": false,
          "outputs_hidden": false
        },
        "nteract": {
          "transient": {
            "deleting": false
          }
        },
        "execution": {
          "iopub.status.busy": "2020-05-08T23:47:03.115Z",
          "iopub.execute_input": "2020-05-08T23:47:03.144Z",
          "iopub.status.idle": "2020-05-08T23:47:03.201Z",
          "shell.execute_reply": "2020-05-08T23:47:03.246Z"
        }
      }
    },
    {
      "cell_type": "markdown",
      "source": [
        "MemberID是从1到131 对患者进行编号的唯一标识符。   \n",
        "InpatientDays是住院次数或患者在医院度过的天数。   \n",
        "ERVisits是患者访问急诊室的次数。   \n",
        "OfficeVisits是患者拜访任何医生办公室的次数。   \n",
        "Narcotics是患者对麻醉剂开出的处方数量。   \n",
        "DaysSinceLastERVisit是患者上次急诊室（ER）到研究期结束之间的天数，如果患者从未去过ER，则将其设置为研究期的长度。   \n",
        "Pain是患者抱怨疼痛的就诊次数。     \n",
        "TotalVisits是患者拜访任何医疗保健提供者的总次数。      \n",
        "ProviderCount是为患者提供服务的提供者的数量。    \n",
        "MedicalClaims是患者提出医疗要求的天数。   \n",
        "ClaimLines是医疗索赔的总数。   \n",
        "StartedOnCombination是患者是否开始使用药物组合治疗糖尿病。   \n",
        "AcuteDrugGapSmall是处方用完后迅速补充的急性药物的一部分。   \n",
        "PoorCare是因变量，如果患者护理不佳，则等于1，如果患者护理得好，则等于0。   "
      ],
      "metadata": {
        "nteract": {
          "transient": {
            "deleting": false
          }
        }
      }
    },
    {
      "cell_type": "markdown",
      "source": [
        "通过使用`table()`，我们可以看到有多少患者接受了较差的护理，有多少患者获得了良好的护理。"
      ],
      "metadata": {
        "nteract": {
          "transient": {
            "deleting": false
          }
        }
      }
    },
    {
      "cell_type": "code",
      "source": [
        "table(quality$PoorCare)"
      ],
      "outputs": [],
      "execution_count": null,
      "metadata": {
        "collapsed": true,
        "outputExpanded": false,
        "jupyter": {
          "source_hidden": false,
          "outputs_hidden": false
        },
        "nteract": {
          "transient": {
            "deleting": false
          }
        },
        "execution": {
          "iopub.status.busy": "2020-05-04T15:04:50.493Z",
          "iopub.execute_input": "2020-05-04T15:04:50.510Z",
          "iopub.status.idle": "2020-05-04T15:04:50.541Z",
          "shell.execute_reply": "2020-05-04T15:04:50.056Z"
        }
      }
    },
    {
      "cell_type": "markdown",
      "source": [
        "护理不佳的患者百分比可以如下计算。"
      ],
      "metadata": {
        "nteract": {
          "transient": {
            "deleting": false
          }
        }
      }
    },
    {
      "cell_type": "code",
      "source": [
        "percPC = sum(quality$PoorCare)/nrow(quality)\n",
        "percPC"
      ],
      "outputs": [],
      "execution_count": null,
      "metadata": {
        "collapsed": true,
        "outputExpanded": false,
        "jupyter": {
          "source_hidden": false,
          "outputs_hidden": false
        },
        "nteract": {
          "transient": {
            "deleting": false
          }
        },
        "execution": {
          "iopub.status.busy": "2020-05-04T15:04:50.567Z",
          "iopub.execute_input": "2020-05-04T15:04:50.582Z",
          "iopub.status.idle": "2020-05-04T15:04:50.610Z",
          "shell.execute_reply": "2020-05-04T15:04:50.078Z"
        }
      }
    },
    {
      "cell_type": "code",
      "source": [
        "summary(quality$PoorCare)"
      ],
      "outputs": [],
      "execution_count": null,
      "metadata": {
        "collapsed": true,
        "outputExpanded": false,
        "jupyter": {
          "source_hidden": false,
          "outputs_hidden": false
        },
        "nteract": {
          "transient": {
            "deleting": false
          }
        },
        "execution": {
          "iopub.status.busy": "2020-05-04T15:04:50.636Z",
          "iopub.execute_input": "2020-05-04T15:04:50.652Z",
          "iopub.status.idle": "2020-05-04T15:04:50.684Z",
          "shell.execute_reply": "2020-05-04T15:04:50.097Z"
        }
      }
    },
    {
      "cell_type": "markdown",
      "source": [
        "数据中`PoorCare`是数值变量，但是从实际问题出发，我们应该将其转化为类别变量"
      ],
      "metadata": {
        "nteract": {
          "transient": {
            "deleting": false
          }
        }
      }
    },
    {
      "cell_type": "code",
      "source": [
        "quality$PoorCare = as.factor(quality$PoorCare)\n",
        "str(quality)"
      ],
      "outputs": [],
      "execution_count": null,
      "metadata": {
        "collapsed": true,
        "outputExpanded": false,
        "jupyter": {
          "source_hidden": false,
          "outputs_hidden": false
        },
        "nteract": {
          "transient": {
            "deleting": false
          }
        },
        "execution": {
          "iopub.status.busy": "2020-05-04T15:04:50.716Z",
          "iopub.execute_input": "2020-05-04T15:04:50.732Z",
          "iopub.status.idle": "2020-05-04T15:04:50.764Z",
          "shell.execute_reply": "2020-05-04T15:04:50.113Z"
        }
      }
    },
    {
      "cell_type": "markdown",
      "source": [
        "# 分割数据集以进行训练和测试\n",
        "通常，我们有训练集和测试集，然而在现实情况下，我们只有一个数据集。因此我们将用到`caTools`这一库，以完成随机的训练集和测试集的分配"
      ],
      "metadata": {
        "nteract": {
          "transient": {
            "deleting": false
          }
        }
      }
    },
    {
      "cell_type": "code",
      "source": [
        "library(caTools)"
      ],
      "outputs": [],
      "execution_count": null,
      "metadata": {
        "collapsed": true,
        "outputExpanded": false,
        "jupyter": {
          "source_hidden": false,
          "outputs_hidden": false
        },
        "nteract": {
          "transient": {
            "deleting": false
          }
        },
        "execution": {
          "iopub.status.busy": "2020-05-04T15:04:50.786Z",
          "iopub.execute_input": "2020-05-04T15:04:50.801Z",
          "iopub.status.idle": "2020-05-04T15:04:50.818Z",
          "shell.execute_reply": "2020-05-04T15:04:50.131Z"
        }
      }
    },
    {
      "cell_type": "markdown",
      "source": [
        "设置`seed`以便于每次每次生成的是相同的随机数，这样有助于检验结果"
      ],
      "metadata": {
        "nteract": {
          "transient": {
            "deleting": false
          }
        }
      }
    },
    {
      "cell_type": "code",
      "source": [
        "set.seed(123)\n",
        "split = sample.split(quality$PoorCare, SplitRatio = 0.70)\n",
        "split"
      ],
      "outputs": [],
      "execution_count": null,
      "metadata": {
        "collapsed": true,
        "outputExpanded": false,
        "jupyter": {
          "source_hidden": false,
          "outputs_hidden": false
        },
        "nteract": {
          "transient": {
            "deleting": false
          }
        },
        "execution": {
          "iopub.status.busy": "2020-05-04T15:04:50.843Z",
          "iopub.execute_input": "2020-05-04T15:04:50.858Z",
          "iopub.status.idle": "2020-05-04T15:04:50.889Z",
          "shell.execute_reply": "2020-05-04T15:04:50.149Z"
        }
      }
    },
    {
      "cell_type": "markdown",
      "source": [
        "`sample.split()`函数中的第一个参数确保训练集和测试集合`PoorCare`的比例是相同的。\n",
        "\n",
        "让我们使用`subset()`创建训练和测试集。`TRUE`表示我们应该将该观察结果放入训练集中，而`FALSE`意味着我们应该将该观察结果放入测试集中。"
      ],
      "metadata": {
        "nteract": {
          "transient": {
            "deleting": false
          }
        }
      }
    },
    {
      "cell_type": "code",
      "source": [
        "qualityTrain = subset(quality, split == TRUE)\n",
        "qualityTest = subset(quality, split == FALSE)"
      ],
      "outputs": [],
      "execution_count": null,
      "metadata": {
        "collapsed": true,
        "outputExpanded": false,
        "jupyter": {
          "source_hidden": false,
          "outputs_hidden": false
        },
        "nteract": {
          "transient": {
            "deleting": false
          }
        },
        "execution": {
          "iopub.status.busy": "2020-05-04T15:04:50.914Z",
          "iopub.execute_input": "2020-05-04T15:04:50.929Z",
          "iopub.status.idle": "2020-05-04T15:04:50.945Z",
          "shell.execute_reply": "2020-05-04T15:04:50.166Z"
        }
      }
    },
    {
      "cell_type": "markdown",
      "source": [
        "我们可以检查训练集和测试集中的数据点数量，并确认接受不良护理的患者比例确实与整个数据集相似。"
      ],
      "metadata": {
        "nteract": {
          "transient": {
            "deleting": false
          }
        }
      }
    },
    {
      "cell_type": "code",
      "source": [
        "table(qualityTrain$PoorCare)"
      ],
      "outputs": [],
      "execution_count": null,
      "metadata": {
        "collapsed": true,
        "outputExpanded": false,
        "jupyter": {
          "source_hidden": false,
          "outputs_hidden": false
        },
        "nteract": {
          "transient": {
            "deleting": false
          }
        },
        "execution": {
          "iopub.status.busy": "2020-05-04T15:04:50.971Z",
          "iopub.execute_input": "2020-05-04T15:04:50.994Z",
          "iopub.status.idle": "2020-05-04T15:04:51.030Z",
          "shell.execute_reply": "2020-05-04T15:04:50.182Z"
        }
      }
    },
    {
      "cell_type": "code",
      "source": [
        "table(qualityTest$PoorCare)"
      ],
      "outputs": [],
      "execution_count": null,
      "metadata": {
        "collapsed": true,
        "outputExpanded": false,
        "jupyter": {
          "source_hidden": false,
          "outputs_hidden": false
        },
        "nteract": {
          "transient": {
            "deleting": false
          }
        },
        "execution": {
          "iopub.status.busy": "2020-05-04T15:04:51.068Z",
          "iopub.execute_input": "2020-05-04T15:04:51.085Z",
          "iopub.status.idle": "2020-05-04T15:04:51.124Z",
          "shell.execute_reply": "2020-05-04T15:04:50.199Z"
        }
      }
    },
    {
      "cell_type": "markdown",
      "source": [
        "# 建立Logistic回归模型\n",
        "使用函数`glm()`表示广义线性模型，参数`family = binomial`表示我们正在尝试预测两种可能的结果，以便从广义线性模型的类别中调用逻辑回归模型。"
      ],
      "metadata": {
        "nteract": {
          "transient": {
            "deleting": false
          }
        }
      }
    },
    {
      "cell_type": "code",
      "source": [
        "QualityLog = glm(PoorCare ~ OfficeVisits + Narcotics, data = qualityTrain, family = binomial)\n",
        "summary(QualityLog)"
      ],
      "outputs": [],
      "execution_count": null,
      "metadata": {
        "collapsed": true,
        "outputExpanded": false,
        "jupyter": {
          "source_hidden": false,
          "outputs_hidden": false
        },
        "nteract": {
          "transient": {
            "deleting": false
          }
        },
        "execution": {
          "iopub.status.busy": "2020-05-04T15:04:51.149Z",
          "iopub.execute_input": "2020-05-04T15:04:51.165Z",
          "iopub.status.idle": "2020-05-04T15:04:51.199Z",
          "shell.execute_reply": "2020-05-04T15:04:50.215Z"
        }
      }
    },
    {
      "cell_type": "markdown",
      "source": [
        "`AIC`是模型质量的量度，类似于调整$R^2$。因为它说明了所使用的变量数与观测值数之比。它提供了一种模型选择的方法，但是只能使用它来比较基于相同数据集构建的模型。\n",
        "\n",
        "首选模型是具有最小AIC的模型。最后一行与用于计算系数（通过解决优化问题）的算法（默认情况下为Newton-Raphson算法或Newton方法）有关。"
      ],
      "metadata": {
        "nteract": {
          "transient": {
            "deleting": false
          }
        }
      }
    },
    {
      "cell_type": "markdown",
      "source": [
        "# 样品中模型验证\n",
        "## 敏感性和特异性（ReCall）\n",
        "`type = \"response\"`确保算法使用逻辑响应函数来计算预测"
      ],
      "metadata": {
        "nteract": {
          "transient": {
            "deleting": false
          }
        }
      }
    },
    {
      "cell_type": "code",
      "source": [
        "predictTrain = predict(QualityLog, type = \"response\")\n",
        "summary(predictTrain)"
      ],
      "outputs": [],
      "execution_count": null,
      "metadata": {
        "collapsed": true,
        "outputExpanded": false,
        "jupyter": {
          "source_hidden": false,
          "outputs_hidden": false
        },
        "nteract": {
          "transient": {
            "deleting": false
          }
        },
        "execution": {
          "iopub.status.busy": "2020-05-04T15:04:51.246Z",
          "iopub.execute_input": "2020-05-04T15:04:51.260Z",
          "iopub.status.idle": "2020-05-04T15:04:51.289Z",
          "shell.execute_reply": "2020-05-04T15:04:50.234Z"
        }
      }
    },
    {
      "cell_type": "markdown",
      "source": [
        "让我们看一下训练集中前十名患者接受不良护理的预期概率，并将其与实际观察结果进行比较。"
      ],
      "metadata": {
        "nteract": {
          "transient": {
            "deleting": false
          }
        }
      }
    },
    {
      "cell_type": "code",
      "source": [
        "predictTrain[1:10]"
      ],
      "outputs": [],
      "execution_count": null,
      "metadata": {
        "collapsed": true,
        "outputExpanded": false,
        "jupyter": {
          "source_hidden": false,
          "outputs_hidden": false
        },
        "nteract": {
          "transient": {
            "deleting": false
          }
        },
        "execution": {
          "iopub.status.busy": "2020-05-04T15:04:51.311Z",
          "iopub.execute_input": "2020-05-04T15:04:51.326Z",
          "iopub.status.idle": "2020-05-04T15:04:51.358Z",
          "shell.execute_reply": "2020-05-04T15:04:50.250Z"
        }
      }
    },
    {
      "cell_type": "code",
      "source": [
        "qualityTrain$PoorCare[1:10]"
      ],
      "outputs": [],
      "execution_count": null,
      "metadata": {
        "collapsed": true,
        "outputExpanded": false,
        "jupyter": {
          "source_hidden": false,
          "outputs_hidden": false
        },
        "nteract": {
          "transient": {
            "deleting": false
          }
        },
        "execution": {
          "iopub.status.busy": "2020-05-04T15:04:51.385Z",
          "iopub.execute_input": "2020-05-04T15:04:51.401Z",
          "iopub.status.idle": "2020-05-04T15:04:51.429Z",
          "shell.execute_reply": "2020-05-04T15:04:50.266Z"
        }
      }
    },
    {
      "cell_type": "markdown",
      "source": [
        "通过输出均值查看模型是否如我们预期的那样为实际的`PoorCare`案例预测了更高的概率。"
      ],
      "metadata": {
        "nteract": {
          "transient": {
            "deleting": false
          }
        }
      }
    },
    {
      "cell_type": "code",
      "source": [
        "tapply(predictTrain, qualityTrain$PoorCare, mean)"
      ],
      "outputs": [],
      "execution_count": null,
      "metadata": {
        "collapsed": true,
        "outputExpanded": false,
        "jupyter": {
          "source_hidden": false,
          "outputs_hidden": false
        },
        "nteract": {
          "transient": {
            "deleting": false
          }
        },
        "execution": {
          "iopub.status.busy": "2020-05-04T15:04:51.452Z",
          "iopub.execute_input": "2020-05-04T15:04:51.468Z",
          "iopub.status.idle": "2020-05-04T15:04:51.491Z",
          "shell.execute_reply": "2020-05-04T15:04:50.280Z"
        }
      }
    },
    {
      "cell_type": "markdown",
      "source": [
        "如果使用0.5作为阈值，则会得到以下混淆矩阵。"
      ],
      "metadata": {
        "nteract": {
          "transient": {
            "deleting": false
          }
        }
      }
    },
    {
      "cell_type": "code",
      "source": [
        "conf05 = table(qualityTrain$PoorCare, predictTrain > 0.5)\n",
        "conf05"
      ],
      "outputs": [],
      "execution_count": null,
      "metadata": {
        "collapsed": true,
        "outputExpanded": false,
        "jupyter": {
          "source_hidden": false,
          "outputs_hidden": false
        },
        "nteract": {
          "transient": {
            "deleting": false
          }
        },
        "execution": {
          "iopub.status.busy": "2020-05-04T15:04:51.517Z",
          "iopub.execute_input": "2020-05-04T15:04:51.534Z",
          "iopub.status.idle": "2020-05-04T15:04:51.558Z",
          "shell.execute_reply": "2020-05-04T15:04:50.298Z"
        }
      }
    },
    {
      "cell_type": "markdown",
      "source": [
        "我们在预测`PoorCare`的情况下犯了3个错误，但`Caregood`；在预测`Caregood`的好的情况下犯了13个错误，但是`PoorCare`。     \n",
        "\n",
        "预测准确性为$76/92 = 82.61\\%$\n",
        "\n",
        "灵敏度或真实阳性率（$=10/23 = 0.43$）\n",
        "\n",
        "特异性或真实阴性率（$=66/69 = 0.96$）。"
      ],
      "metadata": {
        "nteract": {
          "transient": {
            "deleting": false
          }
        }
      }
    },
    {
      "cell_type": "markdown",
      "source": [
        "尝试提高阈值或者降低阈值"
      ],
      "metadata": {
        "nteract": {
          "transient": {
            "deleting": false
          }
        }
      }
    },
    {
      "cell_type": "code",
      "source": [
        "conf07 = table(qualityTrain$PoorCare, predictTrain > 0.7)\n",
        "conf07"
      ],
      "outputs": [],
      "execution_count": null,
      "metadata": {
        "collapsed": true,
        "outputExpanded": false,
        "jupyter": {
          "source_hidden": false,
          "outputs_hidden": false
        },
        "nteract": {
          "transient": {
            "deleting": false
          }
        },
        "execution": {
          "iopub.status.busy": "2020-05-04T15:04:51.584Z",
          "iopub.execute_input": "2020-05-04T15:04:51.599Z",
          "iopub.status.idle": "2020-05-04T15:04:51.626Z",
          "shell.execute_reply": "2020-05-04T15:04:50.316Z"
        }
      }
    },
    {
      "cell_type": "code",
      "source": [
        "conf02 = table(qualityTrain$PoorCare, predictTrain > 0.2)\n",
        "conf02"
      ],
      "outputs": [],
      "execution_count": null,
      "metadata": {
        "collapsed": true,
        "outputExpanded": false,
        "jupyter": {
          "source_hidden": false,
          "outputs_hidden": false
        },
        "nteract": {
          "transient": {
            "deleting": false
          }
        },
        "execution": {
          "iopub.status.busy": "2020-05-04T15:04:51.651Z",
          "iopub.execute_input": "2020-05-04T15:04:51.667Z",
          "iopub.status.idle": "2020-05-04T15:04:51.693Z",
          "shell.execute_reply": "2020-05-04T15:04:50.335Z"
        }
      }
    },
    {
      "cell_type": "markdown",
      "source": [
        "通过增加阈值，敏感性下降，特异性上升；通过降低阈值，敏感性提高，特异性降低"
      ],
      "metadata": {
        "nteract": {
          "transient": {
            "deleting": false
          }
        }
      }
    },
    {
      "cell_type": "markdown",
      "source": [
        "# ROC曲线\n",
        "又叫接收者操作特征曲线\n",
        "\n",
        "package `ROCR`负责画出ROC曲线"
      ],
      "metadata": {
        "nteract": {
          "transient": {
            "deleting": false
          }
        }
      }
    },
    {
      "cell_type": "code",
      "source": [
        "library(ROCR)"
      ],
      "outputs": [],
      "execution_count": null,
      "metadata": {
        "collapsed": true,
        "outputExpanded": false,
        "jupyter": {
          "source_hidden": false,
          "outputs_hidden": false
        },
        "nteract": {
          "transient": {
            "deleting": false
          }
        },
        "execution": {
          "iopub.status.busy": "2020-05-04T15:04:51.722Z",
          "iopub.execute_input": "2020-05-04T15:04:51.744Z",
          "iopub.status.idle": "2020-05-04T15:04:51.763Z",
          "shell.execute_reply": "2020-05-04T15:04:50.351Z"
        }
      }
    },
    {
      "cell_type": "markdown",
      "source": [
        "用训练集的预测创建ROC曲线"
      ],
      "metadata": {
        "nteract": {
          "transient": {
            "deleting": false
          }
        }
      }
    },
    {
      "cell_type": "code",
      "source": [
        "ROCRpred = prediction(predictTrain, qualityTrain$PoorCare)\n",
        "ROCRperf = performance(ROCRpred, \"tpr\", \"fpr\")\n",
        "plot(ROCRperf)"
      ],
      "outputs": [],
      "execution_count": null,
      "metadata": {
        "collapsed": true,
        "outputExpanded": false,
        "jupyter": {
          "source_hidden": false,
          "outputs_hidden": false
        },
        "nteract": {
          "transient": {
            "deleting": false
          }
        },
        "execution": {
          "iopub.status.busy": "2020-05-04T15:04:51.786Z",
          "iopub.execute_input": "2020-05-04T15:04:51.800Z",
          "iopub.status.idle": "2020-05-04T15:04:51.826Z",
          "shell.execute_reply": "2020-05-04T15:04:50.370Z"
        }
      }
    },
    {
      "cell_type": "markdown",
      "source": [
        "为ROC图添加更多视觉效果。"
      ],
      "metadata": {
        "nteract": {
          "transient": {
            "deleting": false
          }
        }
      }
    },
    {
      "cell_type": "code",
      "source": [
        "plot(ROCRperf, colorize = TRUE, print.cutoffs.at = seq(0,1,0.1), text.adj = c(-0.2,1.7))"
      ],
      "outputs": [],
      "execution_count": null,
      "metadata": {
        "collapsed": true,
        "outputExpanded": false,
        "jupyter": {
          "source_hidden": false,
          "outputs_hidden": false
        },
        "nteract": {
          "transient": {
            "deleting": false
          }
        },
        "execution": {
          "iopub.status.busy": "2020-05-04T15:04:51.851Z",
          "iopub.execute_input": "2020-05-04T15:04:51.865Z",
          "iopub.status.idle": "2020-05-04T15:04:51.904Z",
          "shell.execute_reply": "2020-05-04T15:04:52.461Z"
        }
      }
    },
    {
      "cell_type": "markdown",
      "source": [
        "现在我们计算ROC曲线下面的面积，即AUC"
      ],
      "metadata": {
        "nteract": {
          "transient": {
            "deleting": false
          }
        }
      }
    },
    {
      "cell_type": "code",
      "source": [
        "ROCRauc = performance(ROCRpred, \"auc\")\n",
        "ROCRauc@y.values"
      ],
      "outputs": [],
      "execution_count": null,
      "metadata": {
        "collapsed": true,
        "outputExpanded": false,
        "jupyter": {
          "source_hidden": false,
          "outputs_hidden": false
        },
        "nteract": {
          "transient": {
            "deleting": false
          }
        },
        "execution": {
          "iopub.status.busy": "2020-05-04T15:04:51.928Z",
          "iopub.execute_input": "2020-05-04T15:04:51.942Z",
          "iopub.status.idle": "2020-05-04T15:04:51.976Z",
          "shell.execute_reply": "2020-05-04T15:04:52.522Z"
        }
      }
    },
    {
      "cell_type": "markdown",
      "source": [
        "为ROC曲线下的区域着色，使用`pROC`包中的`plot.roc`功能"
      ],
      "metadata": {
        "nteract": {
          "transient": {
            "deleting": false
          }
        }
      }
    },
    {
      "cell_type": "code",
      "source": [
        "library(pROC)"
      ],
      "outputs": [],
      "execution_count": null,
      "metadata": {
        "collapsed": true,
        "outputExpanded": false,
        "jupyter": {
          "source_hidden": false,
          "outputs_hidden": false
        },
        "nteract": {
          "transient": {
            "deleting": false
          }
        },
        "execution": {
          "iopub.status.busy": "2020-05-04T15:04:51.999Z",
          "iopub.execute_input": "2020-05-04T15:04:52.013Z",
          "iopub.status.idle": "2020-05-04T15:04:52.065Z",
          "shell.execute_reply": "2020-05-04T15:04:52.534Z"
        }
      }
    },
    {
      "cell_type": "code",
      "source": [
        "plot.roc(qualityTrain$PoorCare, predictTrain, \n",
        "    auc.polygon = TRUE, \n",
        "    auc.polygon.col=rgb(.35,0.31,0.61, alpha = 0.4), \n",
        "    auc.polygon.border=rgb(.35,0.31,0.61, 0.4))"
      ],
      "outputs": [],
      "execution_count": null,
      "metadata": {
        "collapsed": true,
        "outputExpanded": false,
        "jupyter": {
          "source_hidden": false,
          "outputs_hidden": false
        },
        "nteract": {
          "transient": {
            "deleting": false
          }
        },
        "execution": {
          "iopub.status.busy": "2020-05-04T15:04:52.088Z",
          "iopub.execute_input": "2020-05-04T15:04:52.105Z",
          "iopub.status.idle": "2020-05-04T15:04:52.166Z",
          "shell.execute_reply": "2020-05-04T15:04:52.543Z"
        }
      }
    },
    {
      "cell_type": "markdown",
      "source": [
        "默认情况下,`plot.roc`,x轴是特异性，等于（1-假阳性率），数字从1到0从左到右\n",
        "\n",
        "# 样本外模型验证"
      ],
      "metadata": {
        "nteract": {
          "transient": {
            "deleting": false
          }
        }
      }
    },
    {
      "cell_type": "code",
      "source": [
        "predictTest = predict(QualityLog, type = \"response\", newdata = qualityTest)\n",
        "conf03out = table(qualityTest$PoorCare, predictTest > 0.3)\n",
        "conf03out"
      ],
      "outputs": [],
      "execution_count": null,
      "metadata": {
        "collapsed": true,
        "outputExpanded": false,
        "jupyter": {
          "source_hidden": false,
          "outputs_hidden": false
        },
        "nteract": {
          "transient": {
            "deleting": false
          }
        },
        "execution": {
          "iopub.status.busy": "2020-05-04T15:04:52.189Z",
          "iopub.execute_input": "2020-05-04T15:04:52.204Z",
          "iopub.status.idle": "2020-05-04T15:04:52.243Z",
          "shell.execute_reply": "2020-05-04T15:04:52.550Z"
        }
      }
    },
    {
      "cell_type": "markdown",
      "source": [
        "阈值为0.3的模型的样本外准确性$为31/39 = 79.49\\%$。我们还可以绘制模型的样本外ROC并计算其样本外AUC。"
      ],
      "metadata": {
        "nteract": {
          "transient": {
            "deleting": false
          }
        }
      }
    },
    {
      "cell_type": "code",
      "source": [
        "ROCRpredTest = prediction(predictTest, qualityTest$PoorCare)\n",
        "ROCRperfTest = performance(ROCRpredTest, \"tpr\", \"fpr\")\n",
        "plot(ROCRperfTest, colorize = TRUE, print.cutoffs.at = seq(0,1,0.2), text.adj = c(-0.2,1.7))"
      ],
      "outputs": [],
      "execution_count": null,
      "metadata": {
        "collapsed": true,
        "outputExpanded": false,
        "jupyter": {
          "source_hidden": false,
          "outputs_hidden": false
        },
        "nteract": {
          "transient": {
            "deleting": false
          }
        },
        "execution": {
          "iopub.status.busy": "2020-05-04T15:04:52.280Z",
          "iopub.execute_input": "2020-05-04T15:04:52.299Z",
          "iopub.status.idle": "2020-05-04T15:04:52.340Z",
          "shell.execute_reply": "2020-05-04T15:04:52.558Z"
        }
      }
    }
  ],
  "metadata": {
    "kernel_info": {
      "name": "ir"
    },
    "language_info": {
      "name": "R",
      "codemirror_mode": "r",
      "pygments_lexer": "r",
      "mimetype": "text/x-r-source",
      "file_extension": ".r",
      "version": "3.6.3"
    },
    "kernelspec": {
      "argv": [
        "/usr/lib/R/bin/R",
        "--slave",
        "-e",
        "IRkernel::main()",
        "--args",
        "{connection_file}"
      ],
      "display_name": "R",
      "language": "R",
      "name": "ir"
    },
    "nteract": {
      "version": "0.23.1"
    }
  },
  "nbformat": 4,
  "nbformat_minor": 0
}