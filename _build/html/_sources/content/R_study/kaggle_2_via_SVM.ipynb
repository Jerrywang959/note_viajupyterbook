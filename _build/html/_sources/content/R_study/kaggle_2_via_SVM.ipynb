{
  "cells": [
    {
      "cell_type": "markdown",
      "source": [
        "# kaggle competition 2 \n",
        "## 加载和浏览数据集\n",
        "加载包"
      ],
      "metadata": {
        "nteract": {
          "transient": {
            "deleting": false
          }
        }
      }
    },
    {
      "cell_type": "code",
      "source": [
        "library(e1071)\n",
        "library(caTools)"
      ],
      "outputs": [],
      "execution_count": 1,
      "metadata": {
        "collapsed": true,
        "jupyter": {
          "source_hidden": false,
          "outputs_hidden": false
        },
        "nteract": {
          "transient": {
            "deleting": false
          }
        },
        "execution": {
          "iopub.status.busy": "2020-06-19T02:32:51.620Z",
          "iopub.execute_input": "2020-06-19T02:32:51.633Z",
          "shell.execute_reply": "2020-06-19T02:32:51.898Z",
          "iopub.status.idle": "2020-06-19T02:32:51.908Z"
        }
      }
    },
    {
      "cell_type": "markdown",
      "source": [
        "加载数据"
      ],
      "metadata": {
        "nteract": {
          "transient": {
            "deleting": false
          }
        }
      }
    },
    {
      "cell_type": "code",
      "source": [
        "Trainraw=read.csv(\"../../datas/kaggle_2_Train.csv\")\n",
        "Testraw=read.csv(\"../../datas/kaggle_2_Test.csv\")\n",
        "str(Trainraw)"
      ],
      "outputs": [
        {
          "output_type": "stream",
          "name": "stdout",
          "text": [
            "'data.frame':\t932 obs. of  16 variables:\n",
            " $ Id          : int  301 302 303 304 305 306 307 308 309 310 ...\n",
            " $ Team        : chr  \"ANA\" \"ARI\" \"ATL\" \"BAL\" ...\n",
            " $ League      : chr  \"AL\" \"NL\" \"NL\" \"AL\" ...\n",
            " $ Year        : int  2002 2002 2002 2002 2002 2002 2002 2002 2002 2002 ...\n",
            " $ RS          : int  851 819 708 667 859 706 856 709 739 778 ...\n",
            " $ RA          : int  644 674 565 773 665 759 798 774 837 898 ...\n",
            " $ W           : int  99 98 101 67 93 67 81 78 74 73 ...\n",
            " $ OBP         : num  0.341 0.346 0.331 0.309 0.345 0.321 0.338 0.33 0.321 0.337 ...\n",
            " $ SLG         : num  0.433 0.423 0.409 0.403 0.444 0.413 0.449 0.408 0.412 0.423 ...\n",
            " $ BA          : num  0.282 0.267 0.26 0.246 0.277 0.246 0.268 0.253 0.249 0.274 ...\n",
            " $ Playoffs    : int  1 1 1 0 0 0 0 0 0 0 ...\n",
            " $ RankSeason  : int  3 4 2 NA NA NA NA NA NA NA ...\n",
            " $ RankPlayoffs: int  1 4 4 NA NA NA NA NA NA NA ...\n",
            " $ G           : int  162 162 161 162 162 162 162 162 162 162 ...\n",
            " $ OOBP        : num  0.314 0.305 0.313 0.336 0.308 0.331 0.33 0.338 0.348 0.349 ...\n",
            " $ OSLG        : num  0.392 0.397 0.364 0.435 0.385 0.407 0.423 0.426 0.423 0.466 ...\n"
          ]
        }
      ],
      "execution_count": 2,
      "metadata": {
        "collapsed": true,
        "jupyter": {
          "source_hidden": false,
          "outputs_hidden": false
        },
        "nteract": {
          "transient": {
            "deleting": false
          }
        },
        "execution": {
          "iopub.status.busy": "2020-06-19T02:32:52.503Z",
          "iopub.execute_input": "2020-06-19T02:32:52.558Z",
          "iopub.status.idle": "2020-06-19T02:32:52.659Z",
          "shell.execute_reply": "2020-06-19T02:32:52.676Z"
        }
      }
    },
    {
      "cell_type": "markdown",
      "source": [
        "分割数据集"
      ],
      "metadata": {
        "nteract": {
          "transient": {
            "deleting": false
          }
        }
      }
    },
    {
      "cell_type": "code",
      "source": [
        "set.seed(123)\n",
        "split = sample.split(Trainraw$Playoffs, SplitRatio = 0.70)"
      ],
      "outputs": [],
      "execution_count": 3,
      "metadata": {
        "collapsed": true,
        "jupyter": {
          "source_hidden": false,
          "outputs_hidden": false
        },
        "nteract": {
          "transient": {
            "deleting": false
          }
        },
        "execution": {
          "iopub.status.busy": "2020-06-19T02:32:58.698Z",
          "iopub.execute_input": "2020-06-19T02:32:58.710Z",
          "iopub.status.idle": "2020-06-19T02:32:58.727Z",
          "shell.execute_reply": "2020-06-19T02:32:58.742Z"
        }
      }
    },
    {
      "cell_type": "code",
      "source": [
        "MyTrain = subset(Trainraw, split == TRUE)\n",
        "MyTest = subset(Trainraw, split == FALSE)"
      ],
      "outputs": [],
      "execution_count": 4,
      "metadata": {
        "collapsed": true,
        "jupyter": {
          "source_hidden": false,
          "outputs_hidden": false
        },
        "nteract": {
          "transient": {
            "deleting": false
          }
        },
        "execution": {
          "iopub.status.busy": "2020-06-19T02:32:59.089Z",
          "iopub.execute_input": "2020-06-19T02:32:59.104Z",
          "iopub.status.idle": "2020-06-19T02:32:59.124Z",
          "shell.execute_reply": "2020-06-19T02:32:59.144Z"
        }
      }
    },
    {
      "cell_type": "markdown",
      "source": [
        "## 逻辑回归\n",
        "### 仅使用 OBP+SLG 双变量"
      ],
      "metadata": {
        "nteract": {
          "transient": {
            "deleting": false
          }
        }
      }
    },
    {
      "cell_type": "code",
      "source": [
        "QualityLog = glm(Playoffs ~ OBP+SLG, data = MyTrain, family = binomial)\n",
        "summary(QualityLog)"
      ],
      "outputs": [
        {
          "output_type": "display_data",
          "data": {
            "text/plain": [
              "\n",
              "Call:\n",
              "glm(formula = Playoffs ~ OBP + SLG, family = binomial, data = MyTrain)\n",
              "\n",
              "Deviance Residuals: \n",
              "    Min       1Q   Median       3Q      Max  \n",
              "-1.5375  -0.6251  -0.4555  -0.2974   2.4924  \n",
              "\n",
              "Coefficients:\n",
              "            Estimate Std. Error z value Pr(>|z|)    \n",
              "(Intercept)  -20.842      2.815  -7.404 1.32e-13 ***\n",
              "OBP           52.314     12.411   4.215 2.49e-05 ***\n",
              "SLG            5.188      5.360   0.968    0.333    \n",
              "---\n",
              "Signif. codes:  0 ‘***’ 0.001 ‘**’ 0.01 ‘*’ 0.05 ‘.’ 0.1 ‘ ’ 1\n",
              "\n",
              "(Dispersion parameter for binomial family taken to be 1)\n",
              "\n",
              "    Null deviance: 601.28  on 651  degrees of freedom\n",
              "Residual deviance: 528.21  on 649  degrees of freedom\n",
              "AIC: 534.21\n",
              "\n",
              "Number of Fisher Scoring iterations: 5\n"
            ]
          },
          "metadata": {}
        }
      ],
      "execution_count": 5,
      "metadata": {
        "collapsed": true,
        "jupyter": {
          "source_hidden": false,
          "outputs_hidden": false
        },
        "nteract": {
          "transient": {
            "deleting": false
          }
        },
        "execution": {
          "iopub.status.busy": "2020-06-19T02:34:52.151Z",
          "iopub.execute_input": "2020-06-19T02:34:52.160Z",
          "iopub.status.idle": "2020-06-19T02:34:52.268Z",
          "shell.execute_reply": "2020-06-19T02:34:52.284Z"
        }
      }
    },
    {
      "cell_type": "markdown",
      "source": [
        "训练集验证及阈值筛选"
      ],
      "metadata": {
        "nteract": {
          "transient": {
            "deleting": false
          }
        }
      }
    },
    {
      "cell_type": "code",
      "source": [
        "PatoffTrain_1 = predict(QualityLog, type = \"response\")\n",
        "summary(PatoffTrain_1)"
      ],
      "outputs": [
        {
          "output_type": "display_data",
          "data": {
            "text/plain": [
              "    Min.  1st Qu.   Median     Mean  3rd Qu.     Max. \n",
              "0.009426 0.077302 0.135166 0.173313 0.231542 0.749071 "
            ]
          },
          "metadata": {}
        }
      ],
      "execution_count": 16,
      "metadata": {
        "collapsed": true,
        "jupyter": {
          "source_hidden": false,
          "outputs_hidden": false
        },
        "nteract": {
          "transient": {
            "deleting": false
          }
        },
        "execution": {
          "iopub.status.busy": "2020-06-19T02:43:14.215Z",
          "iopub.execute_input": "2020-06-19T02:43:14.228Z",
          "iopub.status.idle": "2020-06-19T02:43:14.259Z",
          "shell.execute_reply": "2020-06-19T02:43:14.269Z"
        }
      }
    },
    {
      "cell_type": "code",
      "source": [
        "tapply(PatoffTrain_1, MyTrain$Playoffs, mean)"
      ],
      "outputs": [
        {
          "output_type": "display_data",
          "data": {
            "text/html": [
              "<style>\n",
              ".dl-inline {width: auto; margin:0; padding: 0}\n",
              ".dl-inline>dt, .dl-inline>dd {float: none; width: auto; display: inline-block}\n",
              ".dl-inline>dt::after {content: \":\\0020\"; padding-right: .5ex}\n",
              ".dl-inline>dt:not(:first-of-type) {padding-left: .5ex}\n",
              "</style><dl class=dl-inline><dt>0</dt><dd>0.152633373897801</dd><dt>1</dt><dd>0.27195231388603</dd></dl>\n"
            ],
            "text/markdown": [
              "0\n",
              ":   0.1526333738978011\n",
              ":   0.27195231388603\n",
              "\n"
            ],
            "text/latex": [
              "\\begin{description*}\n",
              "\\item[0] 0.152633373897801\n",
              "\\item[1] 0.27195231388603\n",
              "\\end{description*}\n"
            ],
            "text/plain": [
              "        0         1 \n",
              "0.1526334 0.2719523 "
            ]
          },
          "metadata": {}
        }
      ],
      "execution_count": 20,
      "metadata": {
        "collapsed": true,
        "jupyter": {
          "source_hidden": false,
          "outputs_hidden": false
        },
        "nteract": {
          "transient": {
            "deleting": false
          }
        },
        "execution": {
          "iopub.status.busy": "2020-06-19T02:56:24.992Z",
          "iopub.execute_input": "2020-06-19T02:56:24.999Z",
          "iopub.status.idle": "2020-06-19T02:56:25.014Z",
          "shell.execute_reply": "2020-06-19T02:56:25.025Z"
        }
      }
    },
    {
      "cell_type": "code",
      "source": [
        "conf05=table(MyTrain$Playoffs,predictTrain > 0.4)\n",
        "conf05"
      ],
      "outputs": [
        {
          "output_type": "display_data",
          "data": {
            "text/plain": [
              "   \n",
              "    FALSE TRUE\n",
              "  0   514   25\n",
              "  1    91   22"
            ]
          },
          "metadata": {}
        }
      ],
      "execution_count": 28,
      "metadata": {
        "collapsed": true,
        "jupyter": {
          "source_hidden": false,
          "outputs_hidden": false
        },
        "nteract": {
          "transient": {
            "deleting": false
          }
        },
        "execution": {
          "iopub.status.busy": "2020-06-19T02:57:38.271Z",
          "iopub.execute_input": "2020-06-19T02:57:38.279Z",
          "iopub.status.idle": "2020-06-19T02:57:38.292Z",
          "shell.execute_reply": "2020-06-19T02:57:38.304Z"
        }
      }
    },
    {
      "cell_type": "markdown",
      "source": [
        "画ROC曲线"
      ],
      "metadata": {
        "nteract": {
          "transient": {
            "deleting": false
          }
        }
      }
    },
    {
      "cell_type": "code",
      "source": [],
      "outputs": [],
      "execution_count": null,
      "metadata": {
        "collapsed": true,
        "jupyter": {
          "source_hidden": false,
          "outputs_hidden": false
        },
        "nteract": {
          "transient": {
            "deleting": false
          }
        }
      }
    }
  ],
  "metadata": {
    "kernel_info": {
      "name": "ir40"
    },
    "language_info": {
      "name": "R",
      "codemirror_mode": "r",
      "pygments_lexer": "r",
      "mimetype": "text/x-r-source",
      "file_extension": ".r",
      "version": "4.0.1"
    },
    "kernelspec": {
      "argv": [
        "/usr/lib/R/bin/R",
        "--slave",
        "-e",
        "IRkernel::main()",
        "--args",
        "{connection_file}"
      ],
      "display_name": "R 4.0",
      "language": "R",
      "name": "ir40"
    },
    "nteract": {
      "version": "0.23.3"
    }
  },
  "nbformat": 4,
  "nbformat_minor": 0
}