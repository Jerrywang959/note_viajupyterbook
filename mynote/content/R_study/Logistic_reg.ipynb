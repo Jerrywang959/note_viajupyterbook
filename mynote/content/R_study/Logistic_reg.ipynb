{
  "cells": [
    {
      "cell_type": "markdown",
      "source": [
        "# 加载和浏览数据集"
      ],
      "metadata": {
        "nteract": {
          "transient": {
            "deleting": false
          }
        }
      }
    },
    {
      "cell_type": "code",
      "source": [
        "quality = read.csv(\"/home/jerrywang/GitHub/note_viajupyterbook/jerrynote/datas/Diabetes.csv\")\n",
        "str(quality)"
      ],
      "outputs": [
        {
          "output_type": "stream",
          "name": "stdout",
          "text": [
            "'data.frame':\t131 obs. of  14 variables:\n",
            " $ MemberID            : int  1 2 3 4 5 6 7 8 9 10 ...\n",
            " $ InpatientDays       : int  0 1 0 0 8 2 16 2 2 4 ...\n",
            " $ ERVisits            : int  0 1 0 1 2 0 1 0 1 2 ...\n",
            " $ OfficeVisits        : int  18 6 5 19 19 9 8 8 4 0 ...\n",
            " $ Narcotics           : int  1 1 3 0 3 2 1 0 3 2 ...\n",
            " $ DaysSinceLastERVisit: num  731 411 731 158 449 ...\n",
            " $ Pain                : int  10 0 10 34 10 6 4 5 5 2 ...\n",
            " $ TotalVisits         : int  18 8 5 20 29 11 25 10 7 6 ...\n",
            " $ ProviderCount       : int  21 27 16 14 24 40 19 11 28 21 ...\n",
            " $ MedicalClaims       : int  93 19 27 59 51 53 40 28 20 17 ...\n",
            " $ ClaimLines          : int  222 115 148 242 204 156 261 87 98 66 ...\n",
            " $ StartedOnCombination: logi  FALSE FALSE FALSE FALSE FALSE FALSE ...\n",
            " $ AcuteDrugGapSmall   : int  0 1 5 0 0 4 0 0 0 0 ...\n",
            " $ PoorCare            : int  0 0 0 0 0 1 0 0 1 0 ...\n"
          ]
        }
      ],
      "execution_count": 1,
      "metadata": {
        "collapsed": true,
        "outputExpanded": false,
        "jupyter": {
          "source_hidden": false,
          "outputs_hidden": false
        },
        "nteract": {
          "transient": {
            "deleting": false
          }
        },
        "execution": {
          "iopub.status.busy": "2020-05-08T13:23:04.081Z",
          "iopub.execute_input": "2020-05-08T13:23:04.115Z",
          "iopub.status.idle": "2020-05-08T13:23:04.164Z",
          "shell.execute_reply": "2020-05-08T13:23:04.020Z"
        }
      }
    },
    {
      "cell_type": "markdown",
      "source": [
        "MemberID是从1到131 对患者进行编号的唯一标识符。   \n",
        "InpatientDays是住院次数或患者在医院度过的天数。   \n",
        "ERVisits是患者访问急诊室的次数。   \n",
        "OfficeVisits是患者拜访任何医生办公室的次数。   \n",
        "Narcotics是患者对麻醉剂开出的处方数量。   \n",
        "DaysSinceLastERVisit是患者上次急诊室（ER）到研究期结束之间的天数，如果患者从未去过ER，则将其设置为研究期的长度。   \n",
        "Pain是患者抱怨疼痛的就诊次数。     \n",
        "TotalVisits是患者拜访任何医疗保健提供者的总次数。      \n",
        "ProviderCount是为患者提供服务的提供者的数量。    \n",
        "MedicalClaims是患者提出医疗要求的天数。   \n",
        "ClaimLines是医疗索赔的总数。   \n",
        "StartedOnCombination是患者是否开始使用药物组合治疗糖尿病。   \n",
        "AcuteDrugGapSmall是处方用完后迅速补充的急性药物的一部分。   \n",
        "PoorCare是因变量，如果患者护理不佳，则等于1，如果患者护理得好，则等于0。   "
      ],
      "metadata": {
        "nteract": {
          "transient": {
            "deleting": false
          }
        }
      }
    },
    {
      "cell_type": "markdown",
      "source": [
        "通过使用`table()`，我们可以看到有多少患者接受了较差的护理，有多少患者获得了良好的护理。"
      ],
      "metadata": {
        "nteract": {
          "transient": {
            "deleting": false
          }
        }
      }
    },
    {
      "cell_type": "code",
      "source": [
        "table(quality$PoorCare)"
      ],
      "outputs": [
        {
          "output_type": "display_data",
          "data": {
            "text/plain": [
              "\n",
              " 0  1 \n",
              "98 33 "
            ]
          },
          "metadata": {}
        }
      ],
      "execution_count": 2,
      "metadata": {
        "collapsed": true,
        "outputExpanded": false,
        "jupyter": {
          "source_hidden": false,
          "outputs_hidden": false
        },
        "nteract": {
          "transient": {
            "deleting": false
          }
        },
        "execution": {
          "iopub.status.busy": "2020-05-04T15:04:50.493Z",
          "iopub.execute_input": "2020-05-04T15:04:50.510Z",
          "iopub.status.idle": "2020-05-04T15:04:50.541Z",
          "shell.execute_reply": "2020-05-04T15:04:50.056Z"
        }
      }
    },
    {
      "cell_type": "markdown",
      "source": [
        "护理不佳的患者百分比可以如下计算。"
      ],
      "metadata": {
        "nteract": {
          "transient": {
            "deleting": false
          }
        }
      }
    },
    {
      "cell_type": "code",
      "source": [
        "percPC = sum(quality$PoorCare)/nrow(quality)\n",
        "percPC"
      ],
      "outputs": [
        {
          "output_type": "display_data",
          "data": {
            "text/html": [
              "0.251908396946565"
            ],
            "text/markdown": [
              "0.251908396946565"
            ],
            "text/latex": [
              "0.251908396946565"
            ],
            "text/plain": [
              "[1] 0.2519084"
            ]
          },
          "metadata": {}
        }
      ],
      "execution_count": 3,
      "metadata": {
        "collapsed": true,
        "outputExpanded": false,
        "jupyter": {
          "source_hidden": false,
          "outputs_hidden": false
        },
        "nteract": {
          "transient": {
            "deleting": false
          }
        },
        "execution": {
          "iopub.status.busy": "2020-05-04T15:04:50.567Z",
          "iopub.execute_input": "2020-05-04T15:04:50.582Z",
          "iopub.status.idle": "2020-05-04T15:04:50.610Z",
          "shell.execute_reply": "2020-05-04T15:04:50.078Z"
        }
      }
    },
    {
      "cell_type": "code",
      "source": [
        "summary(quality$PoorCare)"
      ],
      "outputs": [
        {
          "output_type": "display_data",
          "data": {
            "text/plain": [
              "   Min. 1st Qu.  Median    Mean 3rd Qu.    Max. \n",
              " 0.0000  0.0000  0.0000  0.2519  0.5000  1.0000 "
            ]
          },
          "metadata": {}
        }
      ],
      "execution_count": 4,
      "metadata": {
        "collapsed": true,
        "outputExpanded": false,
        "jupyter": {
          "source_hidden": false,
          "outputs_hidden": false
        },
        "nteract": {
          "transient": {
            "deleting": false
          }
        },
        "execution": {
          "iopub.status.busy": "2020-05-04T15:04:50.636Z",
          "iopub.execute_input": "2020-05-04T15:04:50.652Z",
          "iopub.status.idle": "2020-05-04T15:04:50.684Z",
          "shell.execute_reply": "2020-05-04T15:04:50.097Z"
        }
      }
    },
    {
      "cell_type": "markdown",
      "source": [
        "数据中`PoorCare`是数值变量，但是从实际问题出发，我们应该将其转化为类别变量"
      ],
      "metadata": {
        "nteract": {
          "transient": {
            "deleting": false
          }
        }
      }
    },
    {
      "cell_type": "code",
      "source": [
        "quality$PoorCare = as.factor(quality$PoorCare)\n",
        "str(quality)"
      ],
      "outputs": [
        {
          "output_type": "stream",
          "name": "stdout",
          "text": [
            "'data.frame':\t131 obs. of  14 variables:\n",
            " $ MemberID            : int  1 2 3 4 5 6 7 8 9 10 ...\n",
            " $ InpatientDays       : int  0 1 0 0 8 2 16 2 2 4 ...\n",
            " $ ERVisits            : int  0 1 0 1 2 0 1 0 1 2 ...\n",
            " $ OfficeVisits        : int  18 6 5 19 19 9 8 8 4 0 ...\n",
            " $ Narcotics           : int  1 1 3 0 3 2 1 0 3 2 ...\n",
            " $ DaysSinceLastERVisit: num  731 411 731 158 449 ...\n",
            " $ Pain                : int  10 0 10 34 10 6 4 5 5 2 ...\n",
            " $ TotalVisits         : int  18 8 5 20 29 11 25 10 7 6 ...\n",
            " $ ProviderCount       : int  21 27 16 14 24 40 19 11 28 21 ...\n",
            " $ MedicalClaims       : int  93 19 27 59 51 53 40 28 20 17 ...\n",
            " $ ClaimLines          : int  222 115 148 242 204 156 261 87 98 66 ...\n",
            " $ StartedOnCombination: logi  FALSE FALSE FALSE FALSE FALSE FALSE ...\n",
            " $ AcuteDrugGapSmall   : int  0 1 5 0 0 4 0 0 0 0 ...\n",
            " $ PoorCare            : Factor w/ 2 levels \"0\",\"1\": 1 1 1 1 1 2 1 1 2 1 ...\n"
          ]
        }
      ],
      "execution_count": 5,
      "metadata": {
        "collapsed": true,
        "outputExpanded": false,
        "jupyter": {
          "source_hidden": false,
          "outputs_hidden": false
        },
        "nteract": {
          "transient": {
            "deleting": false
          }
        },
        "execution": {
          "iopub.status.busy": "2020-05-04T15:04:50.716Z",
          "iopub.execute_input": "2020-05-04T15:04:50.732Z",
          "iopub.status.idle": "2020-05-04T15:04:50.764Z",
          "shell.execute_reply": "2020-05-04T15:04:50.113Z"
        }
      }
    },
    {
      "cell_type": "markdown",
      "source": [
        "# 分割数据集以进行训练和测试\n",
        "通常，我们有训练集和测试集，然而在现实情况下，我们只有一个数据集。因此我们将用到`caTools`这一库，以完成随机的训练集和测试集的分配"
      ],
      "metadata": {
        "nteract": {
          "transient": {
            "deleting": false
          }
        }
      }
    },
    {
      "cell_type": "code",
      "source": [
        "library(caTools)"
      ],
      "outputs": [],
      "execution_count": 6,
      "metadata": {
        "collapsed": true,
        "outputExpanded": false,
        "jupyter": {
          "source_hidden": false,
          "outputs_hidden": false
        },
        "nteract": {
          "transient": {
            "deleting": false
          }
        },
        "execution": {
          "iopub.status.busy": "2020-05-04T15:04:50.786Z",
          "iopub.execute_input": "2020-05-04T15:04:50.801Z",
          "iopub.status.idle": "2020-05-04T15:04:50.818Z",
          "shell.execute_reply": "2020-05-04T15:04:50.131Z"
        }
      }
    },
    {
      "cell_type": "markdown",
      "source": [
        "设置`seed`以便于每次每次生成的是相同的随机数，这样有助于检验结果"
      ],
      "metadata": {
        "nteract": {
          "transient": {
            "deleting": false
          }
        }
      }
    },
    {
      "cell_type": "code",
      "source": [
        "set.seed(123)\n",
        "split = sample.split(quality$PoorCare, SplitRatio = 0.70)\n",
        "split"
      ],
      "outputs": [
        {
          "output_type": "display_data",
          "data": {
            "text/html": [
              "<style>\n",
              ".list-inline {list-style: none; margin:0; padding: 0}\n",
              ".list-inline>li {display: inline-block}\n",
              ".list-inline>li:not(:last-child)::after {content: \"\\00b7\"; padding: 0 .5ex}\n",
              "</style>\n",
              "<ol class=list-inline><li>TRUE</li><li>FALSE</li><li>TRUE</li><li>FALSE</li><li>FALSE</li><li>TRUE</li><li>TRUE</li><li>TRUE</li><li>TRUE</li><li>FALSE</li><li>TRUE</li><li>TRUE</li><li>FALSE</li><li>TRUE</li><li>TRUE</li><li>TRUE</li><li>TRUE</li><li>TRUE</li><li>FALSE</li><li>TRUE</li><li>TRUE</li><li>TRUE</li><li>TRUE</li><li>TRUE</li><li>FALSE</li><li>FALSE</li><li>TRUE</li><li>FALSE</li><li>TRUE</li><li>FALSE</li><li>TRUE</li><li>FALSE</li><li>TRUE</li><li>FALSE</li><li>FALSE</li><li>TRUE</li><li>TRUE</li><li>TRUE</li><li>TRUE</li><li>FALSE</li><li>TRUE</li><li>FALSE</li><li>TRUE</li><li>FALSE</li><li>TRUE</li><li>TRUE</li><li>TRUE</li><li>FALSE</li><li>TRUE</li><li>FALSE</li><li>TRUE</li><li>TRUE</li><li>TRUE</li><li>TRUE</li><li>TRUE</li><li>TRUE</li><li>TRUE</li><li>TRUE</li><li>TRUE</li><li>TRUE</li><li>TRUE</li><li>FALSE</li><li>TRUE</li><li>FALSE</li><li>TRUE</li><li>TRUE</li><li>FALSE</li><li>TRUE</li><li>TRUE</li><li>FALSE</li><li>TRUE</li><li>TRUE</li><li>TRUE</li><li>TRUE</li><li>FALSE</li><li>FALSE</li><li>TRUE</li><li>TRUE</li><li>TRUE</li><li>TRUE</li><li>TRUE</li><li>FALSE</li><li>TRUE</li><li>TRUE</li><li>FALSE</li><li>TRUE</li><li>FALSE</li><li>FALSE</li><li>FALSE</li><li>TRUE</li><li>FALSE</li><li>TRUE</li><li>FALSE</li><li>TRUE</li><li>TRUE</li><li>TRUE</li><li>TRUE</li><li>TRUE</li><li>TRUE</li><li>TRUE</li><li>TRUE</li><li>TRUE</li><li>FALSE</li><li>TRUE</li><li>TRUE</li><li>TRUE</li><li>TRUE</li><li>TRUE</li><li>TRUE</li><li>FALSE</li><li>TRUE</li><li>TRUE</li><li>FALSE</li><li>TRUE</li><li>TRUE</li><li>TRUE</li><li>TRUE</li><li>FALSE</li><li>FALSE</li><li>FALSE</li><li>TRUE</li><li>TRUE</li><li>TRUE</li><li>TRUE</li><li>FALSE</li><li>TRUE</li><li>TRUE</li><li>TRUE</li><li>FALSE</li><li>TRUE</li><li>TRUE</li></ol>\n"
            ],
            "text/markdown": [
              "1. TRUE\n",
              "2. FALSE\n",
              "3. TRUE\n",
              "4. FALSE\n",
              "5. FALSE\n",
              "6. TRUE\n",
              "7. TRUE\n",
              "8. TRUE\n",
              "9. TRUE\n",
              "10. FALSE\n",
              "11. TRUE\n",
              "12. TRUE\n",
              "13. FALSE\n",
              "14. TRUE\n",
              "15. TRUE\n",
              "16. TRUE\n",
              "17. TRUE\n",
              "18. TRUE\n",
              "19. FALSE\n",
              "20. TRUE\n",
              "21. TRUE\n",
              "22. TRUE\n",
              "23. TRUE\n",
              "24. TRUE\n",
              "25. FALSE\n",
              "26. FALSE\n",
              "27. TRUE\n",
              "28. FALSE\n",
              "29. TRUE\n",
              "30. FALSE\n",
              "31. TRUE\n",
              "32. FALSE\n",
              "33. TRUE\n",
              "34. FALSE\n",
              "35. FALSE\n",
              "36. TRUE\n",
              "37. TRUE\n",
              "38. TRUE\n",
              "39. TRUE\n",
              "40. FALSE\n",
              "41. TRUE\n",
              "42. FALSE\n",
              "43. TRUE\n",
              "44. FALSE\n",
              "45. TRUE\n",
              "46. TRUE\n",
              "47. TRUE\n",
              "48. FALSE\n",
              "49. TRUE\n",
              "50. FALSE\n",
              "51. TRUE\n",
              "52. TRUE\n",
              "53. TRUE\n",
              "54. TRUE\n",
              "55. TRUE\n",
              "56. TRUE\n",
              "57. TRUE\n",
              "58. TRUE\n",
              "59. TRUE\n",
              "60. TRUE\n",
              "61. TRUE\n",
              "62. FALSE\n",
              "63. TRUE\n",
              "64. FALSE\n",
              "65. TRUE\n",
              "66. TRUE\n",
              "67. FALSE\n",
              "68. TRUE\n",
              "69. TRUE\n",
              "70. FALSE\n",
              "71. TRUE\n",
              "72. TRUE\n",
              "73. TRUE\n",
              "74. TRUE\n",
              "75. FALSE\n",
              "76. FALSE\n",
              "77. TRUE\n",
              "78. TRUE\n",
              "79. TRUE\n",
              "80. TRUE\n",
              "81. TRUE\n",
              "82. FALSE\n",
              "83. TRUE\n",
              "84. TRUE\n",
              "85. FALSE\n",
              "86. TRUE\n",
              "87. FALSE\n",
              "88. FALSE\n",
              "89. FALSE\n",
              "90. TRUE\n",
              "91. FALSE\n",
              "92. TRUE\n",
              "93. FALSE\n",
              "94. TRUE\n",
              "95. TRUE\n",
              "96. TRUE\n",
              "97. TRUE\n",
              "98. TRUE\n",
              "99. TRUE\n",
              "100. TRUE\n",
              "101. TRUE\n",
              "102. TRUE\n",
              "103. FALSE\n",
              "104. TRUE\n",
              "105. TRUE\n",
              "106. TRUE\n",
              "107. TRUE\n",
              "108. TRUE\n",
              "109. TRUE\n",
              "110. FALSE\n",
              "111. TRUE\n",
              "112. TRUE\n",
              "113. FALSE\n",
              "114. TRUE\n",
              "115. TRUE\n",
              "116. TRUE\n",
              "117. TRUE\n",
              "118. FALSE\n",
              "119. FALSE\n",
              "120. FALSE\n",
              "121. TRUE\n",
              "122. TRUE\n",
              "123. TRUE\n",
              "124. TRUE\n",
              "125. FALSE\n",
              "126. TRUE\n",
              "127. TRUE\n",
              "128. TRUE\n",
              "129. FALSE\n",
              "130. TRUE\n",
              "131. TRUE\n",
              "\n",
              "\n"
            ],
            "text/latex": [
              "\\begin{enumerate*}\n",
              "\\item TRUE\n",
              "\\item FALSE\n",
              "\\item TRUE\n",
              "\\item FALSE\n",
              "\\item FALSE\n",
              "\\item TRUE\n",
              "\\item TRUE\n",
              "\\item TRUE\n",
              "\\item TRUE\n",
              "\\item FALSE\n",
              "\\item TRUE\n",
              "\\item TRUE\n",
              "\\item FALSE\n",
              "\\item TRUE\n",
              "\\item TRUE\n",
              "\\item TRUE\n",
              "\\item TRUE\n",
              "\\item TRUE\n",
              "\\item FALSE\n",
              "\\item TRUE\n",
              "\\item TRUE\n",
              "\\item TRUE\n",
              "\\item TRUE\n",
              "\\item TRUE\n",
              "\\item FALSE\n",
              "\\item FALSE\n",
              "\\item TRUE\n",
              "\\item FALSE\n",
              "\\item TRUE\n",
              "\\item FALSE\n",
              "\\item TRUE\n",
              "\\item FALSE\n",
              "\\item TRUE\n",
              "\\item FALSE\n",
              "\\item FALSE\n",
              "\\item TRUE\n",
              "\\item TRUE\n",
              "\\item TRUE\n",
              "\\item TRUE\n",
              "\\item FALSE\n",
              "\\item TRUE\n",
              "\\item FALSE\n",
              "\\item TRUE\n",
              "\\item FALSE\n",
              "\\item TRUE\n",
              "\\item TRUE\n",
              "\\item TRUE\n",
              "\\item FALSE\n",
              "\\item TRUE\n",
              "\\item FALSE\n",
              "\\item TRUE\n",
              "\\item TRUE\n",
              "\\item TRUE\n",
              "\\item TRUE\n",
              "\\item TRUE\n",
              "\\item TRUE\n",
              "\\item TRUE\n",
              "\\item TRUE\n",
              "\\item TRUE\n",
              "\\item TRUE\n",
              "\\item TRUE\n",
              "\\item FALSE\n",
              "\\item TRUE\n",
              "\\item FALSE\n",
              "\\item TRUE\n",
              "\\item TRUE\n",
              "\\item FALSE\n",
              "\\item TRUE\n",
              "\\item TRUE\n",
              "\\item FALSE\n",
              "\\item TRUE\n",
              "\\item TRUE\n",
              "\\item TRUE\n",
              "\\item TRUE\n",
              "\\item FALSE\n",
              "\\item FALSE\n",
              "\\item TRUE\n",
              "\\item TRUE\n",
              "\\item TRUE\n",
              "\\item TRUE\n",
              "\\item TRUE\n",
              "\\item FALSE\n",
              "\\item TRUE\n",
              "\\item TRUE\n",
              "\\item FALSE\n",
              "\\item TRUE\n",
              "\\item FALSE\n",
              "\\item FALSE\n",
              "\\item FALSE\n",
              "\\item TRUE\n",
              "\\item FALSE\n",
              "\\item TRUE\n",
              "\\item FALSE\n",
              "\\item TRUE\n",
              "\\item TRUE\n",
              "\\item TRUE\n",
              "\\item TRUE\n",
              "\\item TRUE\n",
              "\\item TRUE\n",
              "\\item TRUE\n",
              "\\item TRUE\n",
              "\\item TRUE\n",
              "\\item FALSE\n",
              "\\item TRUE\n",
              "\\item TRUE\n",
              "\\item TRUE\n",
              "\\item TRUE\n",
              "\\item TRUE\n",
              "\\item TRUE\n",
              "\\item FALSE\n",
              "\\item TRUE\n",
              "\\item TRUE\n",
              "\\item FALSE\n",
              "\\item TRUE\n",
              "\\item TRUE\n",
              "\\item TRUE\n",
              "\\item TRUE\n",
              "\\item FALSE\n",
              "\\item FALSE\n",
              "\\item FALSE\n",
              "\\item TRUE\n",
              "\\item TRUE\n",
              "\\item TRUE\n",
              "\\item TRUE\n",
              "\\item FALSE\n",
              "\\item TRUE\n",
              "\\item TRUE\n",
              "\\item TRUE\n",
              "\\item FALSE\n",
              "\\item TRUE\n",
              "\\item TRUE\n",
              "\\end{enumerate*}\n"
            ],
            "text/plain": [
              "  [1]  TRUE FALSE  TRUE FALSE FALSE  TRUE  TRUE  TRUE  TRUE FALSE  TRUE  TRUE\n",
              " [13] FALSE  TRUE  TRUE  TRUE  TRUE  TRUE FALSE  TRUE  TRUE  TRUE  TRUE  TRUE\n",
              " [25] FALSE FALSE  TRUE FALSE  TRUE FALSE  TRUE FALSE  TRUE FALSE FALSE  TRUE\n",
              " [37]  TRUE  TRUE  TRUE FALSE  TRUE FALSE  TRUE FALSE  TRUE  TRUE  TRUE FALSE\n",
              " [49]  TRUE FALSE  TRUE  TRUE  TRUE  TRUE  TRUE  TRUE  TRUE  TRUE  TRUE  TRUE\n",
              " [61]  TRUE FALSE  TRUE FALSE  TRUE  TRUE FALSE  TRUE  TRUE FALSE  TRUE  TRUE\n",
              " [73]  TRUE  TRUE FALSE FALSE  TRUE  TRUE  TRUE  TRUE  TRUE FALSE  TRUE  TRUE\n",
              " [85] FALSE  TRUE FALSE FALSE FALSE  TRUE FALSE  TRUE FALSE  TRUE  TRUE  TRUE\n",
              " [97]  TRUE  TRUE  TRUE  TRUE  TRUE  TRUE FALSE  TRUE  TRUE  TRUE  TRUE  TRUE\n",
              "[109]  TRUE FALSE  TRUE  TRUE FALSE  TRUE  TRUE  TRUE  TRUE FALSE FALSE FALSE\n",
              "[121]  TRUE  TRUE  TRUE  TRUE FALSE  TRUE  TRUE  TRUE FALSE  TRUE  TRUE"
            ]
          },
          "metadata": {}
        }
      ],
      "execution_count": 7,
      "metadata": {
        "collapsed": true,
        "outputExpanded": false,
        "jupyter": {
          "source_hidden": false,
          "outputs_hidden": false
        },
        "nteract": {
          "transient": {
            "deleting": false
          }
        },
        "execution": {
          "iopub.status.busy": "2020-05-04T15:04:50.843Z",
          "iopub.execute_input": "2020-05-04T15:04:50.858Z",
          "iopub.status.idle": "2020-05-04T15:04:50.889Z",
          "shell.execute_reply": "2020-05-04T15:04:50.149Z"
        }
      }
    },
    {
      "cell_type": "markdown",
      "source": [
        "`sample.split()`函数中的第一个参数确保训练集和测试集合`PoorCare`的比例是相同的。\n",
        "\n",
        "让我们使用`subset()`创建训练和测试集。`TRUE`表示我们应该将该观察结果放入训练集中，而`FALSE`意味着我们应该将该观察结果放入测试集中。"
      ],
      "metadata": {
        "nteract": {
          "transient": {
            "deleting": false
          }
        }
      }
    },
    {
      "cell_type": "code",
      "source": [
        "qualityTrain = subset(quality, split == TRUE)\n",
        "qualityTest = subset(quality, split == FALSE)"
      ],
      "outputs": [],
      "execution_count": 8,
      "metadata": {
        "collapsed": true,
        "outputExpanded": false,
        "jupyter": {
          "source_hidden": false,
          "outputs_hidden": false
        },
        "nteract": {
          "transient": {
            "deleting": false
          }
        },
        "execution": {
          "iopub.status.busy": "2020-05-04T15:04:50.914Z",
          "iopub.execute_input": "2020-05-04T15:04:50.929Z",
          "iopub.status.idle": "2020-05-04T15:04:50.945Z",
          "shell.execute_reply": "2020-05-04T15:04:50.166Z"
        }
      }
    },
    {
      "cell_type": "markdown",
      "source": [
        "我们可以检查训练集和测试集中的数据点数量，并确认接受不良护理的患者比例确实与整个数据集相似。"
      ],
      "metadata": {
        "nteract": {
          "transient": {
            "deleting": false
          }
        }
      }
    },
    {
      "cell_type": "code",
      "source": [
        "table(qualityTrain$PoorCare)"
      ],
      "outputs": [
        {
          "output_type": "display_data",
          "data": {
            "text/plain": [
              "\n",
              " 0  1 \n",
              "69 23 "
            ]
          },
          "metadata": {}
        }
      ],
      "execution_count": 9,
      "metadata": {
        "collapsed": true,
        "outputExpanded": false,
        "jupyter": {
          "source_hidden": false,
          "outputs_hidden": false
        },
        "nteract": {
          "transient": {
            "deleting": false
          }
        },
        "execution": {
          "iopub.status.busy": "2020-05-04T15:04:50.971Z",
          "iopub.execute_input": "2020-05-04T15:04:50.994Z",
          "iopub.status.idle": "2020-05-04T15:04:51.030Z",
          "shell.execute_reply": "2020-05-04T15:04:50.182Z"
        }
      }
    },
    {
      "cell_type": "code",
      "source": [
        "table(qualityTest$PoorCare)"
      ],
      "outputs": [
        {
          "output_type": "display_data",
          "data": {
            "text/plain": [
              "\n",
              " 0  1 \n",
              "29 10 "
            ]
          },
          "metadata": {}
        }
      ],
      "execution_count": 10,
      "metadata": {
        "collapsed": true,
        "outputExpanded": false,
        "jupyter": {
          "source_hidden": false,
          "outputs_hidden": false
        },
        "nteract": {
          "transient": {
            "deleting": false
          }
        },
        "execution": {
          "iopub.status.busy": "2020-05-04T15:04:51.068Z",
          "iopub.execute_input": "2020-05-04T15:04:51.085Z",
          "iopub.status.idle": "2020-05-04T15:04:51.124Z",
          "shell.execute_reply": "2020-05-04T15:04:50.199Z"
        }
      }
    },
    {
      "cell_type": "markdown",
      "source": [
        "# 建立Logistic回归模型\n",
        "使用函数`glm()`表示广义线性模型，参数`family = binomial`表示我们正在尝试预测两种可能的结果，以便从广义线性模型的类别中调用逻辑回归模型。"
      ],
      "metadata": {
        "nteract": {
          "transient": {
            "deleting": false
          }
        }
      }
    },
    {
      "cell_type": "code",
      "source": [
        "QualityLog = glm(PoorCare ~ OfficeVisits + Narcotics, data = qualityTrain, family = binomial)\n",
        "summary(QualityLog)"
      ],
      "outputs": [
        {
          "output_type": "display_data",
          "data": {
            "text/plain": [
              "\n",
              "Call:\n",
              "glm(formula = PoorCare ~ OfficeVisits + Narcotics, family = binomial, \n",
              "    data = qualityTrain)\n",
              "\n",
              "Deviance Residuals: \n",
              "    Min       1Q   Median       3Q      Max  \n",
              "-2.3483  -0.5824  -0.4584  -0.2302   2.1552  \n",
              "\n",
              "Coefficients:\n",
              "             Estimate Std. Error z value Pr(>|z|)    \n",
              "(Intercept)  -2.84649    0.60526  -4.703 2.56e-06 ***\n",
              "OfficeVisits  0.07720    0.03283   2.352  0.01870 *  \n",
              "Narcotics     0.10613    0.03699   2.869  0.00411 ** \n",
              "---\n",
              "Signif. codes:  0 ‘***’ 0.001 ‘**’ 0.01 ‘*’ 0.05 ‘.’ 0.1 ‘ ’ 1\n",
              "\n",
              "(Dispersion parameter for binomial family taken to be 1)\n",
              "\n",
              "    Null deviance: 103.470  on 91  degrees of freedom\n",
              "Residual deviance:  75.674  on 89  degrees of freedom\n",
              "AIC: 81.674\n",
              "\n",
              "Number of Fisher Scoring iterations: 5\n"
            ]
          },
          "metadata": {}
        }
      ],
      "execution_count": 11,
      "metadata": {
        "collapsed": true,
        "outputExpanded": false,
        "jupyter": {
          "source_hidden": false,
          "outputs_hidden": false
        },
        "nteract": {
          "transient": {
            "deleting": false
          }
        },
        "execution": {
          "iopub.status.busy": "2020-05-04T15:04:51.149Z",
          "iopub.execute_input": "2020-05-04T15:04:51.165Z",
          "iopub.status.idle": "2020-05-04T15:04:51.199Z",
          "shell.execute_reply": "2020-05-04T15:04:50.215Z"
        }
      }
    },
    {
      "cell_type": "markdown",
      "source": [
        "`AIC`是模型质量的量度，类似于调整$R^2$。因为它说明了所使用的变量数与观测值数之比。它提供了一种模型选择的方法，但是只能使用它来比较基于相同数据集构建的模型。\n",
        "\n",
        "首选模型是具有最小AIC的模型。最后一行与用于计算系数（通过解决优化问题）的算法（默认情况下为Newton-Raphson算法或Newton方法）有关。"
      ],
      "metadata": {
        "nteract": {
          "transient": {
            "deleting": false
          }
        }
      }
    },
    {
      "cell_type": "markdown",
      "source": [
        "# 样品中模型验证\n",
        "## 敏感性和特异性（ReCall）\n",
        "`type = \"response\"`确保算法使用逻辑响应函数来计算预测"
      ],
      "metadata": {
        "nteract": {
          "transient": {
            "deleting": false
          }
        }
      }
    },
    {
      "cell_type": "code",
      "source": [
        "predictTrain = predict(QualityLog, type = \"response\")\n",
        "summary(predictTrain)"
      ],
      "outputs": [
        {
          "output_type": "display_data",
          "data": {
            "text/plain": [
              "   Min. 1st Qu.  Median    Mean 3rd Qu.    Max. \n",
              "0.05486 0.09932 0.13446 0.25000 0.26498 0.99623 "
            ]
          },
          "metadata": {}
        }
      ],
      "execution_count": 12,
      "metadata": {
        "collapsed": true,
        "outputExpanded": false,
        "jupyter": {
          "source_hidden": false,
          "outputs_hidden": false
        },
        "nteract": {
          "transient": {
            "deleting": false
          }
        },
        "execution": {
          "iopub.status.busy": "2020-05-04T15:04:51.246Z",
          "iopub.execute_input": "2020-05-04T15:04:51.260Z",
          "iopub.status.idle": "2020-05-04T15:04:51.289Z",
          "shell.execute_reply": "2020-05-04T15:04:50.234Z"
        }
      }
    },
    {
      "cell_type": "markdown",
      "source": [
        "让我们看一下训练集中前十名患者接受不良护理的预期概率，并将其与实际观察结果进行比较。"
      ],
      "metadata": {
        "nteract": {
          "transient": {
            "deleting": false
          }
        }
      }
    },
    {
      "cell_type": "code",
      "source": [
        "predictTrain[1:10]"
      ],
      "outputs": [
        {
          "output_type": "display_data",
          "data": {
            "text/html": [
              "<style>\n",
              ".dl-inline {width: auto; margin:0; padding: 0}\n",
              ".dl-inline>dt, .dl-inline>dd {float: none; width: auto; display: inline-block}\n",
              ".dl-inline>dt::after {content: \":\\0020\"; padding-right: .5ex}\n",
              ".dl-inline>dt:not(:first-of-type) {padding-left: .5ex}\n",
              "</style><dl class=dl-inline><dt>1</dt><dd>0.205741388717585</dd><dt>3</dt><dd>0.105069869091757</dd><dt>6</dt><dd>0.125708120796305</dd><dt>7</dt><dd>0.10690265704798</dd><dt>8</dt><dd>0.097184807143474</dd><dt>9</dt><dd>0.0980290121314846</dd><dt>11</dt><dd>0.251568379890003</dd><dt>12</dt><dd>0.13220566422967</dd><dt>14</dt><dd>0.272071400489919</dd><dt>15</dt><dd>0.46631314108447</dd></dl>\n"
            ],
            "text/markdown": [
              "1\n",
              ":   0.2057413887175853\n",
              ":   0.1050698690917576\n",
              ":   0.1257081207963057\n",
              ":   0.106902657047988\n",
              ":   0.0971848071434749\n",
              ":   0.098029012131484611\n",
              ":   0.25156837989000312\n",
              ":   0.1322056642296714\n",
              ":   0.27207140048991915\n",
              ":   0.46631314108447\n",
              "\n"
            ],
            "text/latex": [
              "\\begin{description*}\n",
              "\\item[1] 0.205741388717585\n",
              "\\item[3] 0.105069869091757\n",
              "\\item[6] 0.125708120796305\n",
              "\\item[7] 0.10690265704798\n",
              "\\item[8] 0.097184807143474\n",
              "\\item[9] 0.0980290121314846\n",
              "\\item[11] 0.251568379890003\n",
              "\\item[12] 0.13220566422967\n",
              "\\item[14] 0.272071400489919\n",
              "\\item[15] 0.46631314108447\n",
              "\\end{description*}\n"
            ],
            "text/plain": [
              "         1          3          6          7          8          9         11 \n",
              "0.20574139 0.10506987 0.12570812 0.10690266 0.09718481 0.09802901 0.25156838 \n",
              "        12         14         15 \n",
              "0.13220566 0.27207140 0.46631314 "
            ]
          },
          "metadata": {}
        }
      ],
      "execution_count": 13,
      "metadata": {
        "collapsed": true,
        "outputExpanded": false,
        "jupyter": {
          "source_hidden": false,
          "outputs_hidden": false
        },
        "nteract": {
          "transient": {
            "deleting": false
          }
        },
        "execution": {
          "iopub.status.busy": "2020-05-04T15:04:51.311Z",
          "iopub.execute_input": "2020-05-04T15:04:51.326Z",
          "iopub.status.idle": "2020-05-04T15:04:51.358Z",
          "shell.execute_reply": "2020-05-04T15:04:50.250Z"
        }
      }
    },
    {
      "cell_type": "code",
      "source": [
        "qualityTrain$PoorCare[1:10]"
      ],
      "outputs": [
        {
          "output_type": "display_data",
          "data": {
            "text/html": [
              "<style>\n",
              ".list-inline {list-style: none; margin:0; padding: 0}\n",
              ".list-inline>li {display: inline-block}\n",
              ".list-inline>li:not(:last-child)::after {content: \"\\00b7\"; padding: 0 .5ex}\n",
              "</style>\n",
              "<ol class=list-inline><li>0</li><li>0</li><li>1</li><li>0</li><li>0</li><li>1</li><li>0</li><li>0</li><li>0</li><li>0</li></ol>\n",
              "\n",
              "<details>\n",
              "\t<summary style=display:list-item;cursor:pointer>\n",
              "\t\t<strong>Levels</strong>:\n",
              "\t</summary>\n",
              "\t<style>\n",
              "\t.list-inline {list-style: none; margin:0; padding: 0}\n",
              "\t.list-inline>li {display: inline-block}\n",
              "\t.list-inline>li:not(:last-child)::after {content: \"\\00b7\"; padding: 0 .5ex}\n",
              "\t</style>\n",
              "\t<ol class=list-inline><li>'0'</li><li>'1'</li></ol>\n",
              "</details>"
            ],
            "text/markdown": [
              "1. 0\n",
              "2. 0\n",
              "3. 1\n",
              "4. 0\n",
              "5. 0\n",
              "6. 1\n",
              "7. 0\n",
              "8. 0\n",
              "9. 0\n",
              "10. 0\n",
              "\n",
              "\n",
              "\n",
              "**Levels**: 1. '0'\n",
              "2. '1'\n",
              "\n",
              "\n"
            ],
            "text/latex": [
              "\\begin{enumerate*}\n",
              "\\item 0\n",
              "\\item 0\n",
              "\\item 1\n",
              "\\item 0\n",
              "\\item 0\n",
              "\\item 1\n",
              "\\item 0\n",
              "\\item 0\n",
              "\\item 0\n",
              "\\item 0\n",
              "\\end{enumerate*}\n",
              "\n",
              "\\emph{Levels}: \\begin{enumerate*}\n",
              "\\item '0'\n",
              "\\item '1'\n",
              "\\end{enumerate*}\n"
            ],
            "text/plain": [
              " [1] 0 0 1 0 0 1 0 0 0 0\n",
              "Levels: 0 1"
            ]
          },
          "metadata": {}
        }
      ],
      "execution_count": 14,
      "metadata": {
        "collapsed": true,
        "outputExpanded": false,
        "jupyter": {
          "source_hidden": false,
          "outputs_hidden": false
        },
        "nteract": {
          "transient": {
            "deleting": false
          }
        },
        "execution": {
          "iopub.status.busy": "2020-05-04T15:04:51.385Z",
          "iopub.execute_input": "2020-05-04T15:04:51.401Z",
          "iopub.status.idle": "2020-05-04T15:04:51.429Z",
          "shell.execute_reply": "2020-05-04T15:04:50.266Z"
        }
      }
    },
    {
      "cell_type": "markdown",
      "source": [
        "通过输出均值查看模型是否如我们预期的那样为实际的`PoorCare`案例预测了更高的概率。"
      ],
      "metadata": {
        "nteract": {
          "transient": {
            "deleting": false
          }
        }
      }
    },
    {
      "cell_type": "code",
      "source": [
        "tapply(predictTrain, qualityTrain$PoorCare, mean)"
      ],
      "outputs": [
        {
          "output_type": "display_data",
          "data": {
            "text/html": [
              "<style>\n",
              ".dl-inline {width: auto; margin:0; padding: 0}\n",
              ".dl-inline>dt, .dl-inline>dd {float: none; width: auto; display: inline-block}\n",
              ".dl-inline>dt::after {content: \":\\0020\"; padding-right: .5ex}\n",
              ".dl-inline>dt:not(:first-of-type) {padding-left: .5ex}\n",
              "</style><dl class=dl-inline><dt>0</dt><dd>0.169158891947031</dd><dt>1</dt><dd>0.492523324157534</dd></dl>\n"
            ],
            "text/markdown": [
              "0\n",
              ":   0.1691588919470311\n",
              ":   0.492523324157534\n",
              "\n"
            ],
            "text/latex": [
              "\\begin{description*}\n",
              "\\item[0] 0.169158891947031\n",
              "\\item[1] 0.492523324157534\n",
              "\\end{description*}\n"
            ],
            "text/plain": [
              "        0         1 \n",
              "0.1691589 0.4925233 "
            ]
          },
          "metadata": {}
        }
      ],
      "execution_count": 15,
      "metadata": {
        "collapsed": true,
        "outputExpanded": false,
        "jupyter": {
          "source_hidden": false,
          "outputs_hidden": false
        },
        "nteract": {
          "transient": {
            "deleting": false
          }
        },
        "execution": {
          "iopub.status.busy": "2020-05-04T15:04:51.452Z",
          "iopub.execute_input": "2020-05-04T15:04:51.468Z",
          "iopub.status.idle": "2020-05-04T15:04:51.491Z",
          "shell.execute_reply": "2020-05-04T15:04:50.280Z"
        }
      }
    },
    {
      "cell_type": "markdown",
      "source": [
        "如果使用0.5作为阈值，则会得到以下混淆矩阵。"
      ],
      "metadata": {
        "nteract": {
          "transient": {
            "deleting": false
          }
        }
      }
    },
    {
      "cell_type": "code",
      "source": [
        "conf05 = table(qualityTrain$PoorCare, predictTrain > 0.5)\n",
        "conf05"
      ],
      "outputs": [
        {
          "output_type": "display_data",
          "data": {
            "text/plain": [
              "   \n",
              "    FALSE TRUE\n",
              "  0    66    3\n",
              "  1    13   10"
            ]
          },
          "metadata": {}
        }
      ],
      "execution_count": 16,
      "metadata": {
        "collapsed": true,
        "outputExpanded": false,
        "jupyter": {
          "source_hidden": false,
          "outputs_hidden": false
        },
        "nteract": {
          "transient": {
            "deleting": false
          }
        },
        "execution": {
          "iopub.status.busy": "2020-05-04T15:04:51.517Z",
          "iopub.execute_input": "2020-05-04T15:04:51.534Z",
          "iopub.status.idle": "2020-05-04T15:04:51.558Z",
          "shell.execute_reply": "2020-05-04T15:04:50.298Z"
        }
      }
    },
    {
      "cell_type": "markdown",
      "source": [
        "我们在预测`PoorCare`的情况下犯了3个错误，但`Caregood`；在预测`Caregood`的好的情况下犯了13个错误，但是`PoorCare`。     \n",
        "\n",
        "预测准确性为$76/92 = 82.61\\%$\n",
        "\n",
        "灵敏度或真实阳性率（$=10/23 = 0.43$）\n",
        "\n",
        "特异性或真实阴性率（$=66/69 = 0.96$）。"
      ],
      "metadata": {
        "nteract": {
          "transient": {
            "deleting": false
          }
        }
      }
    },
    {
      "cell_type": "markdown",
      "source": [
        "尝试提高阈值或者降低阈值"
      ],
      "metadata": {
        "nteract": {
          "transient": {
            "deleting": false
          }
        }
      }
    },
    {
      "cell_type": "code",
      "source": [
        "conf07 = table(qualityTrain$PoorCare, predictTrain > 0.7)\n",
        "conf07"
      ],
      "outputs": [
        {
          "output_type": "display_data",
          "data": {
            "text/plain": [
              "   \n",
              "    FALSE TRUE\n",
              "  0    68    1\n",
              "  1    14    9"
            ]
          },
          "metadata": {}
        }
      ],
      "execution_count": 17,
      "metadata": {
        "collapsed": true,
        "outputExpanded": false,
        "jupyter": {
          "source_hidden": false,
          "outputs_hidden": false
        },
        "nteract": {
          "transient": {
            "deleting": false
          }
        },
        "execution": {
          "iopub.status.busy": "2020-05-04T15:04:51.584Z",
          "iopub.execute_input": "2020-05-04T15:04:51.599Z",
          "iopub.status.idle": "2020-05-04T15:04:51.626Z",
          "shell.execute_reply": "2020-05-04T15:04:50.316Z"
        }
      }
    },
    {
      "cell_type": "code",
      "source": [
        "conf02 = table(qualityTrain$PoorCare, predictTrain > 0.2)\n",
        "conf02"
      ],
      "outputs": [
        {
          "output_type": "display_data",
          "data": {
            "text/plain": [
              "   \n",
              "    FALSE TRUE\n",
              "  0    51   18\n",
              "  1     7   16"
            ]
          },
          "metadata": {}
        }
      ],
      "execution_count": 18,
      "metadata": {
        "collapsed": true,
        "outputExpanded": false,
        "jupyter": {
          "source_hidden": false,
          "outputs_hidden": false
        },
        "nteract": {
          "transient": {
            "deleting": false
          }
        },
        "execution": {
          "iopub.status.busy": "2020-05-04T15:04:51.651Z",
          "iopub.execute_input": "2020-05-04T15:04:51.667Z",
          "iopub.status.idle": "2020-05-04T15:04:51.693Z",
          "shell.execute_reply": "2020-05-04T15:04:50.335Z"
        }
      }
    },
    {
      "cell_type": "markdown",
      "source": [
        "通过增加阈值，敏感性下降，特异性上升；通过降低阈值，敏感性提高，特异性降低"
      ],
      "metadata": {
        "nteract": {
          "transient": {
            "deleting": false
          }
        }
      }
    },
    {
      "cell_type": "markdown",
      "source": [
        "# ROC曲线\n",
        "又叫接收者操作特征曲线\n",
        "\n",
        "package `ROCR`负责画出ROC曲线"
      ],
      "metadata": {
        "nteract": {
          "transient": {
            "deleting": false
          }
        }
      }
    },
    {
      "cell_type": "code",
      "source": [
        "library(ROCR)"
      ],
      "outputs": [],
      "execution_count": 19,
      "metadata": {
        "collapsed": true,
        "outputExpanded": false,
        "jupyter": {
          "source_hidden": false,
          "outputs_hidden": false
        },
        "nteract": {
          "transient": {
            "deleting": false
          }
        },
        "execution": {
          "iopub.status.busy": "2020-05-04T15:04:51.722Z",
          "iopub.execute_input": "2020-05-04T15:04:51.744Z",
          "iopub.status.idle": "2020-05-04T15:04:51.763Z",
          "shell.execute_reply": "2020-05-04T15:04:50.351Z"
        }
      }
    },
    {
      "cell_type": "markdown",
      "source": [
        "用训练集的预测创建ROC曲线"
      ],
      "metadata": {
        "nteract": {
          "transient": {
            "deleting": false
          }
        }
      }
    },
    {
      "cell_type": "code",
      "source": [
        "ROCRpred = prediction(predictTrain, qualityTrain$PoorCare)\n",
        "ROCRperf = performance(ROCRpred, \"tpr\", \"fpr\")\n",
        "plot(ROCRperf)"
      ],
      "outputs": [
        {
          "output_type": "display_data",
          "data": {
            "text/plain": [
              "plot without title"
            ],
            "image/png": "[encoded data removed]"
          },
          "metadata": {
            "image/png": {
              "width": 420,
              "height": 420
            }
          }
        }
      ],
      "execution_count": 20,
      "metadata": {
        "collapsed": true,
        "outputExpanded": false,
        "jupyter": {
          "source_hidden": false,
          "outputs_hidden": false
        },
        "nteract": {
          "transient": {
            "deleting": false
          }
        },
        "execution": {
          "iopub.status.busy": "2020-05-04T15:04:51.786Z",
          "iopub.execute_input": "2020-05-04T15:04:51.800Z",
          "iopub.status.idle": "2020-05-04T15:04:51.826Z",
          "shell.execute_reply": "2020-05-04T15:04:50.370Z"
        }
      }
    },
    {
      "cell_type": "markdown",
      "source": [
        "为ROC图添加更多视觉效果。"
      ],
      "metadata": {
        "nteract": {
          "transient": {
            "deleting": false
          }
        }
      }
    },
    {
      "cell_type": "code",
      "source": [
        "plot(ROCRperf, colorize = TRUE, print.cutoffs.at = seq(0,1,0.1), text.adj = c(-0.2,1.7))"
      ],
      "outputs": [
        {
          "output_type": "display_data",
          "data": {
            "text/plain": [
              "plot without title"
            ],
            "image/png": "[encoded data removed]"
          },
          "metadata": {
            "image/png": {
              "width": 420,
              "height": 420
            }
          }
        }
      ],
      "execution_count": 21,
      "metadata": {
        "collapsed": true,
        "outputExpanded": false,
        "jupyter": {
          "source_hidden": false,
          "outputs_hidden": false
        },
        "nteract": {
          "transient": {
            "deleting": false
          }
        },
        "execution": {
          "iopub.status.busy": "2020-05-04T15:04:51.851Z",
          "iopub.execute_input": "2020-05-04T15:04:51.865Z",
          "iopub.status.idle": "2020-05-04T15:04:51.904Z",
          "shell.execute_reply": "2020-05-04T15:04:52.461Z"
        }
      }
    },
    {
      "cell_type": "markdown",
      "source": [
        "现在我们计算ROC曲线下面的面积，即AUC"
      ],
      "metadata": {
        "nteract": {
          "transient": {
            "deleting": false
          }
        }
      }
    },
    {
      "cell_type": "code",
      "source": [
        "ROCRauc = performance(ROCRpred, \"auc\")\n",
        "ROCRauc@y.values"
      ],
      "outputs": [
        {
          "output_type": "display_data",
          "data": {
            "text/html": [
              "<ol>\n",
              "\t<li>0.834908632640202</li>\n",
              "</ol>\n"
            ],
            "text/markdown": [
              "1. 0.834908632640202\n",
              "\n",
              "\n"
            ],
            "text/latex": [
              "\\begin{enumerate}\n",
              "\\item 0.834908632640202\n",
              "\\end{enumerate}\n"
            ],
            "text/plain": [
              "[[1]]\n",
              "[1] 0.8349086\n"
            ]
          },
          "metadata": {}
        }
      ],
      "execution_count": 22,
      "metadata": {
        "collapsed": true,
        "outputExpanded": false,
        "jupyter": {
          "source_hidden": false,
          "outputs_hidden": false
        },
        "nteract": {
          "transient": {
            "deleting": false
          }
        },
        "execution": {
          "iopub.status.busy": "2020-05-04T15:04:51.928Z",
          "iopub.execute_input": "2020-05-04T15:04:51.942Z",
          "iopub.status.idle": "2020-05-04T15:04:51.976Z",
          "shell.execute_reply": "2020-05-04T15:04:52.522Z"
        }
      }
    },
    {
      "cell_type": "markdown",
      "source": [
        "为ROC曲线下的区域着色，使用`pROC`包中的`plot.roc`功能"
      ],
      "metadata": {
        "nteract": {
          "transient": {
            "deleting": false
          }
        }
      }
    },
    {
      "cell_type": "code",
      "source": [
        "library(pROC)"
      ],
      "outputs": [
        {
          "output_type": "stream",
          "name": "stderr",
          "text": [
            "Type 'citation(\"pROC\")' for a citation.\n",
            "\n",
            "\n",
            "Attaching package: ‘pROC’\n",
            "\n",
            "\n",
            "The following objects are masked from ‘package:stats’:\n",
            "\n",
            "    cov, smooth, var\n",
            "\n",
            "\n"
          ]
        }
      ],
      "execution_count": 23,
      "metadata": {
        "collapsed": true,
        "outputExpanded": false,
        "jupyter": {
          "source_hidden": false,
          "outputs_hidden": false
        },
        "nteract": {
          "transient": {
            "deleting": false
          }
        },
        "execution": {
          "iopub.status.busy": "2020-05-04T15:04:51.999Z",
          "iopub.execute_input": "2020-05-04T15:04:52.013Z",
          "iopub.status.idle": "2020-05-04T15:04:52.065Z",
          "shell.execute_reply": "2020-05-04T15:04:52.534Z"
        }
      }
    },
    {
      "cell_type": "code",
      "source": [
        "plot.roc(qualityTrain$PoorCare, predictTrain, \n",
        "    auc.polygon = TRUE, \n",
        "    auc.polygon.col=rgb(.35,0.31,0.61, alpha = 0.4), \n",
        "    auc.polygon.border=rgb(.35,0.31,0.61, 0.4))"
      ],
      "outputs": [
        {
          "output_type": "stream",
          "name": "stderr",
          "text": [
            "Setting levels: control = 0, case = 1\n",
            "\n",
            "Setting direction: controls < cases\n",
            "\n"
          ]
        },
        {
          "output_type": "display_data",
          "data": {
            "text/plain": [
              "plot without title"
            ],
            "image/png": "[encoded data removed]"
          },
          "metadata": {
            "image/png": {
              "width": 420,
              "height": 420
            }
          }
        }
      ],
      "execution_count": 24,
      "metadata": {
        "collapsed": true,
        "outputExpanded": false,
        "jupyter": {
          "source_hidden": false,
          "outputs_hidden": false
        },
        "nteract": {
          "transient": {
            "deleting": false
          }
        },
        "execution": {
          "iopub.status.busy": "2020-05-04T15:04:52.088Z",
          "iopub.execute_input": "2020-05-04T15:04:52.105Z",
          "iopub.status.idle": "2020-05-04T15:04:52.166Z",
          "shell.execute_reply": "2020-05-04T15:04:52.543Z"
        }
      }
    },
    {
      "cell_type": "markdown",
      "source": [
        "默认情况下,`plot.roc`,x轴是特异性，等于（1-假阳性率），数字从1到0从左到右\n",
        "\n",
        "# 样本外模型验证"
      ],
      "metadata": {
        "nteract": {
          "transient": {
            "deleting": false
          }
        }
      }
    },
    {
      "cell_type": "code",
      "source": [
        "predictTest = predict(QualityLog, type = \"response\", newdata = qualityTest)\n",
        "conf03out = table(qualityTest$PoorCare, predictTest > 0.3)\n",
        "conf03out"
      ],
      "outputs": [
        {
          "output_type": "display_data",
          "data": {
            "text/plain": [
              "   \n",
              "    FALSE TRUE\n",
              "  0    27    2\n",
              "  1     6    4"
            ]
          },
          "metadata": {}
        }
      ],
      "execution_count": 25,
      "metadata": {
        "collapsed": true,
        "outputExpanded": false,
        "jupyter": {
          "source_hidden": false,
          "outputs_hidden": false
        },
        "nteract": {
          "transient": {
            "deleting": false
          }
        },
        "execution": {
          "iopub.status.busy": "2020-05-04T15:04:52.189Z",
          "iopub.execute_input": "2020-05-04T15:04:52.204Z",
          "iopub.status.idle": "2020-05-04T15:04:52.243Z",
          "shell.execute_reply": "2020-05-04T15:04:52.550Z"
        }
      }
    },
    {
      "cell_type": "markdown",
      "source": [
        "阈值为0.3的模型的样本外准确性$为31/39 = 79.49\\%$。我们还可以绘制模型的样本外ROC并计算其样本外AUC。"
      ],
      "metadata": {
        "nteract": {
          "transient": {
            "deleting": false
          }
        }
      }
    },
    {
      "cell_type": "code",
      "source": [
        "ROCRpredTest = prediction(predictTest, qualityTest$PoorCare)\n",
        "ROCRperfTest = performance(ROCRpredTest, \"tpr\", \"fpr\")\n",
        "plot(ROCRperfTest, colorize = TRUE, print.cutoffs.at = seq(0,1,0.2), text.adj = c(-0.2,1.7))"
      ],
      "outputs": [
        {
          "output_type": "display_data",
          "data": {
            "text/plain": [
              "plot without title"
            ],
            "image/png": "[encoded data removed]"
          },
          "metadata": {
            "image/png": {
              "width": 420,
              "height": 420
            }
          }
        }
      ],
      "execution_count": 26,
      "metadata": {
        "collapsed": true,
        "outputExpanded": false,
        "jupyter": {
          "source_hidden": false,
          "outputs_hidden": false
        },
        "nteract": {
          "transient": {
            "deleting": false
          }
        },
        "execution": {
          "iopub.status.busy": "2020-05-04T15:04:52.280Z",
          "iopub.execute_input": "2020-05-04T15:04:52.299Z",
          "iopub.status.idle": "2020-05-04T15:04:52.340Z",
          "shell.execute_reply": "2020-05-04T15:04:52.558Z"
        }
      }
    }
  ],
  "metadata": {
    "kernel_info": {
      "name": "ir"
    },
    "language_info": {
      "name": "R",
      "codemirror_mode": "r",
      "pygments_lexer": "r",
      "mimetype": "text/x-r-source",
      "file_extension": ".r",
      "version": "3.6.3"
    },
    "kernelspec": {
      "argv": [
        "/usr/lib/R/bin/R",
        "--slave",
        "-e",
        "IRkernel::main()",
        "--args",
        "{connection_file}"
      ],
      "display_name": "R",
      "language": "R",
      "name": "ir"
    },
    "nteract": {
      "version": "0.23.1"
    }
  },
  "nbformat": 4,
  "nbformat_minor": 0
}