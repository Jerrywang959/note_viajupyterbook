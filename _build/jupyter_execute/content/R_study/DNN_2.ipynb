{
 "cells": [
  {
   "cell_type": "markdown",
   "metadata": {
    "nteract": {
     "transient": {
      "deleting": false
     }
    }
   },
   "source": [
    "# 包含RNN的DNN练习\n",
    "实现手写数字分类\n",
    "## 加载和预处理数据集\n",
    "加载所需的软件包。"
   ]
  },
  {
   "cell_type": "code",
   "execution_count": 1,
   "metadata": {
    "collapsed": true,
    "execution": {
     "iopub.execute_input": "2020-06-18T07:31:36.844Z",
     "iopub.status.busy": "2020-06-18T07:31:36.839Z",
     "iopub.status.idle": "2020-06-18T07:31:53.032Z",
     "shell.execute_reply": "2020-06-18T07:31:53.025Z"
    },
    "jupyter": {
     "outputs_hidden": false,
     "source_hidden": false
    },
    "nteract": {
     "transient": {
      "deleting": false
     }
    }
   },
   "outputs": [
    {
     "name": "stderr",
     "output_type": "stream",
     "text": [
      "Loading required package: lattice\n",
      "\n",
      "Loading required package: ggplot2\n",
      "\n",
      "Registered S3 method overwritten by 'quantmod':\n",
      "  method            from\n",
      "  as.zoo.data.frame zoo \n",
      "\n"
     ]
    }
   ],
   "source": [
    "library(mxnet)\n",
    "library(caret)\n",
    "library(forecast)"
   ]
  },
  {
   "cell_type": "markdown",
   "metadata": {
    "nteract": {
     "transient": {
      "deleting": false
     }
    }
   },
   "source": [
    "让我们读取数据集："
   ]
  },
  {
   "cell_type": "code",
   "execution_count": 13,
   "metadata": {
    "collapsed": true,
    "execution": {
     "iopub.execute_input": "2020-06-18T07:37:48.448Z",
     "iopub.status.busy": "2020-06-18T07:37:48.443Z",
     "iopub.status.idle": "2020-06-18T07:37:58.389Z",
     "shell.execute_reply": "2020-06-18T07:37:58.384Z"
    },
    "jupyter": {
     "outputs_hidden": false,
     "source_hidden": false
    },
    "nteract": {
     "transient": {
      "deleting": false
     }
    }
   },
   "outputs": [],
   "source": [
    "digit <- read.csv('../../datas/digit.csv', header=TRUE)"
   ]
  },
  {
   "cell_type": "markdown",
   "metadata": {
    "nteract": {
     "transient": {
      "deleting": false
     }
    }
   },
   "source": [
    "区分训练集和测试集"
   ]
  },
  {
   "cell_type": "code",
   "execution_count": 14,
   "metadata": {
    "collapsed": true,
    "execution": {
     "iopub.execute_input": "2020-06-18T07:50:49.787Z",
     "iopub.status.busy": "2020-06-18T07:50:49.779Z",
     "iopub.status.idle": "2020-06-18T07:50:50.051Z",
     "shell.execute_reply": "2020-06-18T07:50:50.045Z"
    },
    "jupyter": {
     "outputs_hidden": false,
     "source_hidden": false
    },
    "nteract": {
     "transient": {
      "deleting": false
     }
    }
   },
   "outputs": [],
   "source": [
    "set.seed(1)\n",
    "train.index <- sample(row.names(digit), 0.6*dim(digit)[1])  \n",
    "valid.index <- setdiff(row.names(digit), train.index) \n",
    "train <- digit[train.index, ]\n",
    "valid <- digit[valid.index, ]"
   ]
  },
  {
   "cell_type": "code",
   "execution_count": 15,
   "metadata": {
    "collapsed": true,
    "execution": {
     "iopub.execute_input": "2020-06-18T07:50:55.498Z",
     "iopub.status.busy": "2020-06-18T07:50:55.489Z",
     "iopub.status.idle": "2020-06-18T07:50:55.918Z",
     "shell.execute_reply": "2020-06-18T07:50:55.911Z"
    },
    "jupyter": {
     "outputs_hidden": false,
     "source_hidden": false
    },
    "nteract": {
     "transient": {
      "deleting": false
     }
    }
   },
   "outputs": [],
   "source": [
    "    train <- data.matrix(train)\n",
    "    valid<- data.matrix(valid)\n",
    "    train.x <- train[,-1]\n",
    "    train.y <- train[,1]\n",
    "    valid.x <- valid[,-1]\n",
    "    valid.y <- valid[,1]"
   ]
  },
  {
   "cell_type": "markdown",
   "metadata": {
    "nteract": {
     "transient": {
      "deleting": false
     }
    }
   },
   "source": [
    "在训练/测试中，每个图像都表示为一行。每个图像的灰度范围在`[0，255]`范围内。使用以下命令将其线性转换为`[0,1]`："
   ]
  },
  {
   "cell_type": "code",
   "execution_count": 16,
   "metadata": {
    "collapsed": true,
    "execution": {
     "iopub.execute_input": "2020-06-18T07:51:17.314Z",
     "iopub.status.busy": "2020-06-18T07:51:17.300Z",
     "iopub.status.idle": "2020-06-18T07:51:17.447Z",
     "shell.execute_reply": "2020-06-18T07:51:17.439Z"
    },
    "jupyter": {
     "outputs_hidden": false,
     "source_hidden": false
    },
    "nteract": {
     "transient": {
      "deleting": false
     }
    }
   },
   "outputs": [],
   "source": [
    "    train.x <- train.x/255\n",
    "    valid.x <- valid.x/255"
   ]
  },
  {
   "cell_type": "markdown",
   "metadata": {
    "nteract": {
     "transient": {
      "deleting": false
     }
    }
   },
   "source": [
    "然后让我们将输入更改为专业列，并将矩阵重塑为数组："
   ]
  },
  {
   "cell_type": "code",
   "execution_count": 17,
   "metadata": {
    "collapsed": true,
    "execution": {
     "iopub.execute_input": "2020-06-18T07:53:53.693Z",
     "iopub.status.busy": "2020-06-18T07:53:53.676Z",
     "iopub.status.idle": "2020-06-18T07:53:54.067Z",
     "shell.execute_reply": "2020-06-18T07:53:54.058Z"
    },
    "jupyter": {
     "outputs_hidden": false,
     "source_hidden": false
    },
    "nteract": {
     "transient": {
      "deleting": false
     }
    }
   },
   "outputs": [],
   "source": [
    "train.array <- t(train.x)\n",
    "dim(train.array)<-c(28, 28, 1, nrow(train.x))\n",
    "valid.array <- t(valid.x)\n",
    "dim(valid.array)<-c(28, 28, 1, nrow(valid.x))"
   ]
  },
  {
   "cell_type": "markdown",
   "metadata": {
    "nteract": {
     "transient": {
      "deleting": false
     }
    }
   },
   "source": [
    "在标签部分，每个数字的位数分布相当均匀："
   ]
  },
  {
   "cell_type": "code",
   "execution_count": 18,
   "metadata": {
    "collapsed": true,
    "execution": {
     "iopub.execute_input": "2020-06-18T07:54:02.061Z",
     "iopub.status.busy": "2020-06-18T07:54:02.053Z",
     "iopub.status.idle": "2020-06-18T07:54:02.075Z",
     "shell.execute_reply": "2020-06-18T07:54:02.086Z"
    },
    "jupyter": {
     "outputs_hidden": false,
     "source_hidden": false
    },
    "nteract": {
     "transient": {
      "deleting": false
     }
    }
   },
   "outputs": [
    {
     "data": {
      "text/plain": [
       "train.y\n",
       "   0    1    2    3    4    5    6    7    8    9 \n",
       "2500 2791 2536 2541 2448 2310 2471 2658 2410 2535 "
      ]
     },
     "metadata": {},
     "output_type": "display_data"
    }
   ],
   "source": [
    "table(train.y)"
   ]
  },
  {
   "cell_type": "code",
   "execution_count": 19,
   "metadata": {
    "collapsed": true,
    "execution": {
     "iopub.execute_input": "2020-06-18T07:54:14.216Z",
     "iopub.status.busy": "2020-06-18T07:54:14.207Z",
     "iopub.status.idle": "2020-06-18T07:54:14.239Z",
     "shell.execute_reply": "2020-06-18T07:54:14.246Z"
    },
    "jupyter": {
     "outputs_hidden": false,
     "source_hidden": false
    },
    "nteract": {
     "transient": {
      "deleting": false
     }
    }
   },
   "outputs": [
    {
     "data": {
      "text/plain": [
       "valid.y\n",
       "   0    1    2    3    4    5    6    7    8    9 \n",
       "1632 1893 1641 1810 1624 1485 1666 1743 1653 1653 "
      ]
     },
     "metadata": {},
     "output_type": "display_data"
    }
   ],
   "source": [
    "table(valid.y)"
   ]
  },
  {
   "cell_type": "markdown",
   "metadata": {
    "nteract": {
     "transient": {
      "deleting": false
     }
    }
   },
   "source": [
    "## 训练卷积神经网络\n",
    "现在让我们使用著名的CNN：LeNet。Yann LeCun提出了这种方法来识别手写数字。我们将演示如何在mxnet中构建和训练LeNet。\n",
    "\n",
    "LeNet：Conv-> Tanh-> Pool-> Conv-> Tanh-> Pool-> FC-> FC-> Softmax\n",
    "\n",
    "<http://yann.lecun.com/exdb/lenet/>"
   ]
  },
  {
   "cell_type": "markdown",
   "metadata": {
    "nteract": {
     "transient": {
      "deleting": false
     }
    }
   },
   "source": [
    "首先，我们构建网络：  \n",
    "输入层："
   ]
  },
  {
   "cell_type": "code",
   "execution_count": 22,
   "metadata": {
    "collapsed": true,
    "execution": {
     "iopub.execute_input": "2020-06-18T07:57:02.613Z",
     "iopub.status.busy": "2020-06-18T07:57:02.606Z",
     "iopub.status.idle": "2020-06-18T07:57:02.624Z",
     "shell.execute_reply": "2020-06-18T07:57:02.631Z"
    },
    "jupyter": {
     "outputs_hidden": false,
     "source_hidden": false
    },
    "nteract": {
     "transient": {
      "deleting": false
     }
    }
   },
   "outputs": [],
   "source": [
    "data <- mx.symbol.Variable('data')"
   ]
  },
  {
   "cell_type": "markdown",
   "metadata": {
    "nteract": {
     "transient": {
      "deleting": false
     }
    }
   },
   "source": [
    "第一卷积+激活+池化层。`num_filter`定义内核数。"
   ]
  },
  {
   "cell_type": "code",
   "execution_count": 24,
   "metadata": {
    "collapsed": true,
    "execution": {
     "iopub.execute_input": "2020-06-18T07:58:00.111Z",
     "iopub.status.busy": "2020-06-18T07:58:00.102Z",
     "iopub.status.idle": "2020-06-18T07:58:00.122Z",
     "shell.execute_reply": "2020-06-18T07:58:00.131Z"
    },
    "jupyter": {
     "outputs_hidden": false,
     "source_hidden": false
    },
    "nteract": {
     "transient": {
      "deleting": false
     }
    }
   },
   "outputs": [],
   "source": [
    "conv1 <- mx.symbol.Convolution(data=data, kernel=c(5,5), num_filter=20)\n",
    "tanh1 <- mx.symbol.Activation(data=conv1, act_type=\"tanh\")\n",
    "pool1 <- mx.symbol.Pooling(data=tanh1, pool_type=\"max\",\n",
    "                          kernel=c(2,2), stride=c(2,2))"
   ]
  },
  {
   "cell_type": "markdown",
   "metadata": {
    "nteract": {
     "transient": {
      "deleting": false
     }
    }
   },
   "source": [
    "第二个卷积+激活+池化层"
   ]
  },
  {
   "cell_type": "code",
   "execution_count": 25,
   "metadata": {
    "collapsed": true,
    "execution": {
     "iopub.execute_input": "2020-06-18T07:58:12.957Z",
     "iopub.status.busy": "2020-06-18T07:58:12.947Z",
     "iopub.status.idle": "2020-06-18T07:58:12.970Z",
     "shell.execute_reply": "2020-06-18T07:58:12.979Z"
    },
    "jupyter": {
     "outputs_hidden": false,
     "source_hidden": false
    },
    "nteract": {
     "transient": {
      "deleting": false
     }
    }
   },
   "outputs": [],
   "source": [
    "conv2 <- mx.symbol.Convolution(data=pool1, kernel=c(5,5), num_filter=50)\n",
    "tanh2 <- mx.symbol.Activation(data=conv2, act_type=\"tanh\")\n",
    "pool2 <- mx.symbol.Pooling(data=tanh2, pool_type=\"max\",\n",
    "                          kernel=c(2,2), stride=c(2,2))"
   ]
  },
  {
   "cell_type": "markdown",
   "metadata": {
    "nteract": {
     "transient": {
      "deleting": false
     }
    }
   },
   "source": [
    "第一个完全连接的层。"
   ]
  },
  {
   "cell_type": "code",
   "execution_count": 26,
   "metadata": {
    "collapsed": true,
    "execution": {
     "iopub.execute_input": "2020-06-18T07:58:22.999Z",
     "iopub.status.busy": "2020-06-18T07:58:22.984Z",
     "iopub.status.idle": "2020-06-18T07:58:23.014Z",
     "shell.execute_reply": "2020-06-18T07:58:23.025Z"
    },
    "jupyter": {
     "outputs_hidden": false,
     "source_hidden": false
    },
    "nteract": {
     "transient": {
      "deleting": false
     }
    }
   },
   "outputs": [],
   "source": [
    "flatten <- mx.symbol.Flatten(data=pool2)\n",
    "fc1 <- mx.symbol.FullyConnected(data=flatten, num_hidden=500)\n",
    "tanh3 <- mx.symbol.Activation(data=fc1, act_type=\"tanh\")"
   ]
  },
  {
   "cell_type": "markdown",
   "metadata": {
    "nteract": {
     "transient": {
      "deleting": false
     }
    }
   },
   "source": [
    "输出完全连接的层。"
   ]
  },
  {
   "cell_type": "code",
   "execution_count": 27,
   "metadata": {
    "collapsed": true,
    "execution": {
     "iopub.execute_input": "2020-06-18T07:58:49.917Z",
     "iopub.status.busy": "2020-06-18T07:58:49.905Z",
     "iopub.status.idle": "2020-06-18T07:58:49.935Z",
     "shell.execute_reply": "2020-06-18T07:58:49.949Z"
    },
    "jupyter": {
     "outputs_hidden": false,
     "source_hidden": false
    },
    "nteract": {
     "transient": {
      "deleting": false
     }
    }
   },
   "outputs": [],
   "source": [
    "fc2 <- mx.symbol.FullyConnected(data=tanh3, num_hidden=10)"
   ]
  },
  {
   "cell_type": "markdown",
   "metadata": {
    "nteract": {
     "transient": {
      "deleting": false
     }
    }
   },
   "source": [
    "以及线性回归输出。"
   ]
  },
  {
   "cell_type": "code",
   "execution_count": 28,
   "metadata": {
    "collapsed": true,
    "execution": {
     "iopub.execute_input": "2020-06-18T07:58:59.619Z",
     "iopub.status.busy": "2020-06-18T07:58:59.603Z",
     "iopub.status.idle": "2020-06-18T07:58:59.639Z",
     "shell.execute_reply": "2020-06-18T07:58:59.649Z"
    },
    "jupyter": {
     "outputs_hidden": false,
     "source_hidden": false
    },
    "nteract": {
     "transient": {
      "deleting": false
     }
    }
   },
   "outputs": [],
   "source": [
    "lenet <- mx.symbol.SoftmaxOutput(data=fc2)"
   ]
  },
  {
   "cell_type": "markdown",
   "metadata": {
    "nteract": {
     "transient": {
      "deleting": false
     }
    }
   },
   "source": [
    "训练lenet"
   ]
  },
  {
   "cell_type": "code",
   "execution_count": 29,
   "metadata": {
    "collapsed": true,
    "execution": {
     "iopub.execute_input": "2020-06-18T07:59:10.266Z",
     "iopub.status.busy": "2020-06-18T07:59:10.249Z",
     "iopub.status.idle": "2020-06-18T08:01:29.310Z",
     "shell.execute_reply": "2020-06-18T08:01:29.462Z"
    },
    "jupyter": {
     "outputs_hidden": false,
     "source_hidden": false
    },
    "nteract": {
     "transient": {
      "deleting": false
     }
    }
   },
   "outputs": [
    {
     "name": "stderr",
     "output_type": "stream",
     "text": [
      "Start training with 1 devices\n",
      "\n",
      "[1] Train-accuracy=0.301785713490394\n",
      "\n",
      "[2] Train-accuracy=0.945277779821366\n",
      "\n",
      "[3] Train-accuracy=0.974722230245197\n",
      "\n",
      "[4] Train-accuracy=0.985634929604001\n",
      "\n",
      "[5] Train-accuracy=0.990158738124938\n",
      "\n"
     ]
    }
   ],
   "source": [
    "mx.set.seed(0)\n",
    "model <- mx.model.FeedForward.create(lenet, X=train.array, y=train.y, num.round=5, array.batch.size=100,\n",
    "                                     learning.rate=0.05, momentum=0.9, wd=0.00001,\n",
    "                                     eval.metric=mx.metric.accuracy,\n",
    "                                       epoch.end.callback=mx.callback.log.train.metric(100))\n"
   ]
  },
  {
   "cell_type": "markdown",
   "metadata": {
    "nteract": {
     "transient": {
      "deleting": false
     }
    }
   },
   "source": [
    "## 预测验证集\n",
    "使用训练好的的模型预测验证集。"
   ]
  },
  {
   "cell_type": "code",
   "execution_count": 30,
   "metadata": {
    "collapsed": true,
    "execution": {
     "iopub.execute_input": "2020-06-18T08:01:29.397Z",
     "iopub.status.busy": "2020-06-18T08:01:29.362Z",
     "iopub.status.idle": "2020-06-18T08:01:41.736Z",
     "shell.execute_reply": "2020-06-18T08:01:41.710Z"
    },
    "jupyter": {
     "outputs_hidden": false,
     "source_hidden": false
    },
    "nteract": {
     "transient": {
      "deleting": false
     }
    }
   },
   "outputs": [],
   "source": [
    "preds <- predict(model, valid.array)\n",
    "pred.label <- max.col(t(preds)) - 1"
   ]
  },
  {
   "cell_type": "markdown",
   "metadata": {
    "nteract": {
     "transient": {
      "deleting": false
     }
    }
   },
   "source": [
    "可以通过包装`forecast`中的 函数 `precision()`计算预测精度。"
   ]
  },
  {
   "cell_type": "code",
   "execution_count": 31,
   "metadata": {
    "collapsed": true,
    "execution": {
     "iopub.execute_input": "2020-06-18T08:01:54.140Z",
     "iopub.status.busy": "2020-06-18T08:01:54.124Z",
     "iopub.status.idle": "2020-06-18T08:01:54.174Z",
     "shell.execute_reply": "2020-06-18T08:01:54.188Z"
    },
    "jupyter": {
     "outputs_hidden": false,
     "source_hidden": false
    },
    "nteract": {
     "transient": {
      "deleting": false
     }
    }
   },
   "outputs": [
    {
     "data": {
      "text/html": [
       "0.980297619047619"
      ],
      "text/latex": [
       "0.980297619047619"
      ],
      "text/markdown": [
       "0.980297619047619"
      ],
      "text/plain": [
       "[1] 0.9802976"
      ]
     },
     "metadata": {},
     "output_type": "display_data"
    }
   ],
   "source": [
    "accu=length(which(pred.label == valid.y))/length(valid.y)\n",
    "accu"
   ]
  },
  {
   "cell_type": "code",
   "execution_count": null,
   "metadata": {
    "collapsed": true,
    "jupyter": {
     "outputs_hidden": false,
     "source_hidden": false
    },
    "nteract": {
     "transient": {
      "deleting": false
     }
    }
   },
   "outputs": [],
   "source": []
  }
 ],
 "metadata": {
  "kernel_info": {
   "name": "ir40"
  },
  "kernelspec": {
   "argv": [
    "/usr/lib/R/bin/R",
    "--slave",
    "-e",
    "IRkernel::main()",
    "--args",
    "{connection_file}"
   ],
   "display_name": "R 4.0",
   "language": "R",
   "name": "ir40"
  },
  "language_info": {
   "codemirror_mode": "r",
   "file_extension": ".r",
   "mimetype": "text/x-r-source",
   "name": "R",
   "pygments_lexer": "r",
   "version": "4.0.1"
  },
  "nteract": {
   "version": "0.23.3"
  }
 },
 "nbformat": 4,
 "nbformat_minor": 0
}