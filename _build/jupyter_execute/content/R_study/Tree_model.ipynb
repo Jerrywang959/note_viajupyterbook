{
 "cells": [
  {
   "cell_type": "markdown",
   "metadata": {
    "nteract": {
     "transient": {
      "deleting": false
     }
    }
   },
   "source": [
    "# 决策树模型\n",
    "最高法院大法官史蒂文斯的判决\n",
    "## 加载和浏览数据集\n",
    "加载包"
   ]
  },
  {
   "cell_type": "code",
   "execution_count": 76,
   "metadata": {
    "collapsed": true,
    "execution": {
     "iopub.execute_input": "2020-06-20T15:37:08.075Z",
     "iopub.status.busy": "2020-06-20T15:37:08.067Z",
     "iopub.status.idle": "2020-06-20T15:37:08.085Z",
     "shell.execute_reply": "2020-06-20T15:37:08.024Z"
    },
    "jupyter": {
     "outputs_hidden": false,
     "source_hidden": false
    },
    "nteract": {
     "transient": {
      "deleting": false
     }
    }
   },
   "outputs": [],
   "source": [
    "library(caTools)\n",
    "library(rpart)\n",
    "library(rpart.plot)\n",
    "library(ROCR)\n",
    "library(caret)\n",
    "library(e1071)\n",
    "library(tree)\n",
    "library(randomForest)\n",
    "library(class)"
   ]
  },
  {
   "cell_type": "code",
   "execution_count": 77,
   "metadata": {
    "collapsed": true,
    "execution": {
     "iopub.execute_input": "2020-06-20T15:37:08.108Z",
     "iopub.status.busy": "2020-06-20T15:37:08.099Z",
     "iopub.status.idle": "2020-06-20T15:37:08.122Z",
     "shell.execute_reply": "2020-06-20T15:37:08.033Z"
    },
    "jupyter": {
     "outputs_hidden": false,
     "source_hidden": false
    },
    "nteract": {
     "transient": {
      "deleting": false
     }
    }
   },
   "outputs": [
    {
     "name": "stdout",
     "output_type": "stream",
     "text": [
      "'data.frame':\t566 obs. of  9 variables:\n",
      " $ Docket    : chr  \"93-1408\" \"93-1577\" \"93-1612\" \"94-623\" ...\n",
      " $ Term      : int  1994 1994 1994 1994 1995 1995 1996 1997 1997 1999 ...\n",
      " $ Circuit   : chr  \"2nd\" \"9th\" \"5th\" \"1st\" ...\n",
      " $ Issue     : chr  \"EconomicActivity\" \"EconomicActivity\" \"EconomicActivity\" \"EconomicActivity\" ...\n",
      " $ Petitioner: chr  \"BUSINESS\" \"BUSINESS\" \"BUSINESS\" \"BUSINESS\" ...\n",
      " $ Respondent: chr  \"BUSINESS\" \"BUSINESS\" \"BUSINESS\" \"BUSINESS\" ...\n",
      " $ LowerCourt: chr  \"liberal\" \"liberal\" \"liberal\" \"conser\" ...\n",
      " $ Unconst   : int  0 0 0 0 0 1 0 1 0 0 ...\n",
      " $ Reverse   : int  1 1 1 1 1 0 1 1 1 1 ...\n"
     ]
    }
   ],
   "source": [
    "stevens = read.csv(\"../../datas/Stevens.csv\")\n",
    "str(stevens)"
   ]
  },
  {
   "cell_type": "markdown",
   "metadata": {
    "nteract": {
     "transient": {
      "deleting": false
     }
    }
   },
   "source": [
    "我们将以下变量转换为R中的“因子”类型。我们应将变量Term转换为变量，因为我们不希望这些年来决策概率的变化采用任何递增或递减的方式。"
   ]
  },
  {
   "cell_type": "code",
   "execution_count": 78,
   "metadata": {
    "collapsed": true,
    "execution": {
     "iopub.execute_input": "2020-06-20T15:37:08.146Z",
     "iopub.status.busy": "2020-06-20T15:37:08.136Z",
     "iopub.status.idle": "2020-06-20T15:37:08.161Z",
     "shell.execute_reply": "2020-06-20T15:37:08.044Z"
    },
    "jupyter": {
     "outputs_hidden": false,
     "source_hidden": false
    },
    "nteract": {
     "transient": {
      "deleting": false
     }
    }
   },
   "outputs": [
    {
     "name": "stdout",
     "output_type": "stream",
     "text": [
      "'data.frame':\t566 obs. of  9 variables:\n",
      " $ Docket    : Factor w/ 566 levels \"00-1011\",\"00-1045\",..: 63 69 70 145 97 181 242 289 334 436 ...\n",
      " $ Term      : Factor w/ 8 levels \"1994\",\"1995\",..: 1 1 1 1 2 2 3 4 4 6 ...\n",
      " $ Circuit   : Factor w/ 13 levels \"10th\",\"11th\",..: 4 11 7 3 9 11 13 11 12 2 ...\n",
      " $ Issue     : Factor w/ 11 levels \"Attorneys\",\"CivilRights\",..: 5 5 5 5 9 5 5 5 5 3 ...\n",
      " $ Petitioner: Factor w/ 12 levels \"AMERICAN.INDIAN\",..: 2 2 2 2 2 2 2 2 2 2 ...\n",
      " $ Respondent: Factor w/ 12 levels \"AMERICAN.INDIAN\",..: 2 2 2 2 2 2 2 2 2 2 ...\n",
      " $ LowerCourt: Factor w/ 2 levels \"conser\",\"liberal\": 2 2 2 1 1 1 1 1 1 1 ...\n",
      " $ Unconst   : Factor w/ 2 levels \"0\",\"1\": 1 1 1 1 1 2 1 2 1 1 ...\n",
      " $ Reverse   : Factor w/ 2 levels \"0\",\"1\": 2 2 2 2 2 1 2 2 2 2 ...\n"
     ]
    }
   ],
   "source": [
    "stevens$Term = as.factor(stevens$Term)\n",
    "stevens$Unconst = as.factor(stevens$Unconst)\n",
    "stevens$Reverse = as.factor(stevens$Reverse)\n",
    "stevens$Docket = as.factor(stevens$Docket)\n",
    "stevens$Circuit = as.factor(stevens$Circuit)\n",
    "stevens$Issue = as.factor(stevens$Issue)\n",
    "stevens$Petitioner = as.factor(stevens$Petitioner)\n",
    "stevens$Respondent = as.factor(stevens$Respondent)\n",
    "stevens$LowerCourt = as.factor(stevens$LowerCourt)\n",
    "str(stevens)"
   ]
  },
  {
   "cell_type": "markdown",
   "metadata": {
    "nteract": {
     "transient": {
      "deleting": false
     }
    }
   },
   "source": [
    "## 拆分数据集以进行培训和测试"
   ]
  },
  {
   "cell_type": "markdown",
   "metadata": {
    "nteract": {
     "transient": {
      "deleting": false
     }
    }
   },
   "source": [
    "我们将使用“ caTools”包中的“ sample.split”功能将数据集随机分为训练集和测试集。"
   ]
  },
  {
   "cell_type": "code",
   "execution_count": 79,
   "metadata": {
    "collapsed": true,
    "execution": {
     "iopub.execute_input": "2020-06-20T15:37:08.184Z",
     "iopub.status.busy": "2020-06-20T15:37:08.175Z",
     "iopub.status.idle": "2020-06-20T15:37:08.195Z",
     "shell.execute_reply": "2020-06-20T15:37:08.054Z"
    },
    "jupyter": {
     "outputs_hidden": false,
     "source_hidden": false
    },
    "nteract": {
     "transient": {
      "deleting": false
     }
    }
   },
   "outputs": [],
   "source": [
    "set.seed(3000)\n",
    "split = sample.split(stevens$Reverse, SplitRatio = 0.7)\n",
    "train = subset(stevens, split == TRUE)\n",
    "test = subset(stevens, split == FALSE)"
   ]
  },
  {
   "cell_type": "markdown",
   "metadata": {
    "nteract": {
     "transient": {
      "deleting": false
     }
    }
   },
   "source": [
    "## 建立分类和回归树（CART）模型\n",
    "### 使用给定的“ minbucket”值构建CART模型\n",
    "在构建我们的CART模型之前，我们需要安装和加载两个新的软件包“ rpart”和“ rpart.plot”。\n",
    "\n",
    "现在我们准备建立模型并绘制树。现在我们仅将25用作“ minbucket”，稍后我们将使用交叉验证来优化参数的选择。\n",
    "\n",
    "minbucket为每个子集中的点数设置一个下限（一种正则化），它越小，生成的分割就越多。\n",
    "\n",
    "如果太小，则会发生过拟合；反之，\n",
    "\n",
    "如果太大，模型将太简单，准确性会很差。"
   ]
  },
  {
   "cell_type": "code",
   "execution_count": 80,
   "metadata": {
    "collapsed": true,
    "execution": {
     "iopub.execute_input": "2020-06-20T15:37:08.216Z",
     "iopub.status.busy": "2020-06-20T15:37:08.207Z",
     "iopub.status.idle": "2020-06-20T15:37:08.240Z",
     "shell.execute_reply": "2020-06-20T15:37:08.763Z"
    },
    "jupyter": {
     "outputs_hidden": false,
     "source_hidden": false
    },
    "nteract": {
     "transient": {
      "deleting": false
     }
    }
   },
   "outputs": [
    {
     "data": {
      "image/png": "[encoded data removed]",
      "text/plain": [
       "plot without title"
      ]
     },
     "metadata": {
      "filenames": {
       "image/png": "/home/jerrywang/Documents/GitHub/note_viajupyterbook/_build/jupyter_execute/content/R_study/Tree_model_9_0.png"
      },
      "image/png": {
       "height": 420,
       "width": 420
      },
      "text/plain": {
       "height": 420,
       "width": 420
      }
     },
     "output_type": "display_data"
    }
   ],
   "source": [
    "stevensTree = rpart(Reverse ~ Term + Circuit + Issue + Petitioner + Respondent + LowerCourt + Unconst, data = train, control = rpart.control(minbucket = 25))\n",
    "prp(stevensTree)"
   ]
  },
  {
   "cell_type": "markdown",
   "metadata": {
    "nteract": {
     "transient": {
      "deleting": false
     }
    }
   },
   "source": [
    "参数`method =\"class\"`可确保模型是分类树而不是回归树。`rpart`函数中的最后一个参数定义`minbucket`的大小以限制树，以使其不会过度拟合\n",
    "\n",
    "`prp`函数将尽可能地缩写变量，以便仍可以唯一标识它们。为了理解`prp`函数使用的缩写，我们可以列出变量以查看每个变量的全名，以便我们可以将缩写与全名匹配。"
   ]
  },
  {
   "cell_type": "code",
   "execution_count": 81,
   "metadata": {
    "collapsed": true,
    "execution": {
     "iopub.execute_input": "2020-06-20T15:37:08.262Z",
     "iopub.status.busy": "2020-06-20T15:37:08.253Z",
     "iopub.status.idle": "2020-06-20T15:37:08.281Z",
     "shell.execute_reply": "2020-06-20T15:37:08.770Z"
    },
    "jupyter": {
     "outputs_hidden": false,
     "source_hidden": false
    },
    "nteract": {
     "transient": {
      "deleting": false
     }
    }
   },
   "outputs": [
    {
     "data": {
      "text/plain": [
       "\n",
       "    AMERICAN.INDIAN            BUSINESS                CITY  CRIMINAL.DEFENDENT \n",
       "                 13                  80                   9                  58 \n",
       "           EMPLOYEE            EMPLOYER GOVERNMENT.OFFICIAL      INJURED.PERSON \n",
       "                 28                  21                  24                  14 \n",
       "              OTHER          POLITICIAN               STATE                  US \n",
       "                177                  17                  56                  69 "
      ]
     },
     "metadata": {},
     "output_type": "display_data"
    }
   ],
   "source": [
    "table(stevens$Respondent)"
   ]
  },
  {
   "cell_type": "code",
   "execution_count": 82,
   "metadata": {
    "collapsed": true,
    "execution": {
     "iopub.execute_input": "2020-06-20T15:37:08.308Z",
     "iopub.status.busy": "2020-06-20T15:37:08.295Z",
     "iopub.status.idle": "2020-06-20T15:37:08.330Z",
     "shell.execute_reply": "2020-06-20T15:37:08.776Z"
    },
    "jupyter": {
     "outputs_hidden": false,
     "source_hidden": false
    },
    "nteract": {
     "transient": {
      "deleting": false
     }
    }
   },
   "outputs": [
    {
     "data": {
      "text/plain": [
       "\n",
       "    AMERICAN.INDIAN            BUSINESS                CITY  CRIMINAL.DEFENDENT \n",
       "                  4                  79                  13                  89 \n",
       "           EMPLOYEE            EMPLOYER GOVERNMENT.OFFICIAL      INJURED.PERSON \n",
       "                 30                  17                  38                   9 \n",
       "              OTHER          POLITICIAN               STATE                  US \n",
       "                175                  16                  48                  48 "
      ]
     },
     "metadata": {},
     "output_type": "display_data"
    }
   ],
   "source": [
    "table(stevens$Petitioner)"
   ]
  },
  {
   "cell_type": "markdown",
   "metadata": {
    "nteract": {
     "transient": {
      "deleting": false
     }
    }
   },
   "source": [
    "让我们评估CART模型的预测准确性。"
   ]
  },
  {
   "cell_type": "code",
   "execution_count": 83,
   "metadata": {
    "collapsed": true,
    "execution": {
     "iopub.execute_input": "2020-06-20T15:37:08.354Z",
     "iopub.status.busy": "2020-06-20T15:37:08.344Z",
     "iopub.status.idle": "2020-06-20T15:37:08.375Z",
     "shell.execute_reply": "2020-06-20T15:37:08.781Z"
    },
    "jupyter": {
     "outputs_hidden": false,
     "source_hidden": false
    },
    "nteract": {
     "transient": {
      "deleting": false
     }
    }
   },
   "outputs": [
    {
     "data": {
      "text/plain": [
       "   predictCART\n",
       "     0  1\n",
       "  0 46 31\n",
       "  1 31 62"
      ]
     },
     "metadata": {},
     "output_type": "display_data"
    }
   ],
   "source": [
    "predictCART = predict(stevensTree, newdata = test, type = \"class\")\n",
    "conf = table(test$Reverse, predictCART)\n",
    "conf"
   ]
  },
  {
   "cell_type": "markdown",
   "metadata": {
    "nteract": {
     "transient": {
      "deleting": false
     }
    }
   },
   "source": [
    "上面的参数`type =\"class\"`，使用阈值`0.5`来创建混淆矩阵。默认情况下，我们通常使用`0.5`作为CART模型的阈值，因为分类主要在树结构中进行编码，并且每个叶节点都应包含相似的观察值。\n",
    "\n",
    "我们的CART模型的准确性为63.53％，与始终预测为“反向”的基线模型的准确性55％相比要高得多。\n",
    "\n",
    "如果您喜欢使用其他阈值，则可以要求“`预测`函数预测概率而不是类别，然后手动设置阈值以创建混淆矩阵。在以下代码中，您甚至可以删除参数`type =\"prob\"`，因为默认类型是概率。"
   ]
  },
  {
   "cell_type": "code",
   "execution_count": 84,
   "metadata": {
    "collapsed": true,
    "execution": {
     "iopub.execute_input": "2020-06-20T15:37:08.400Z",
     "iopub.status.busy": "2020-06-20T15:37:08.392Z",
     "iopub.status.idle": "2020-06-20T15:37:08.416Z",
     "shell.execute_reply": "2020-06-20T15:37:08.786Z"
    },
    "jupyter": {
     "outputs_hidden": false,
     "source_hidden": false
    },
    "nteract": {
     "transient": {
      "deleting": false
     }
    }
   },
   "outputs": [],
   "source": [
    "predictCART2 = predict(stevensTree, newdata = test, type = \"prob\")"
   ]
  },
  {
   "cell_type": "markdown",
   "metadata": {
    "nteract": {
     "transient": {
      "deleting": false
     }
    }
   },
   "source": [
    "预测结果变量predictCART2是一个170 x 2的矩阵，如下所示。"
   ]
  },
  {
   "cell_type": "code",
   "execution_count": 85,
   "metadata": {
    "collapsed": true,
    "execution": {
     "iopub.execute_input": "2020-06-20T15:37:08.439Z",
     "iopub.status.busy": "2020-06-20T15:37:08.431Z",
     "iopub.status.idle": "2020-06-20T15:37:08.457Z",
     "shell.execute_reply": "2020-06-20T15:37:08.791Z"
    },
    "jupyter": {
     "outputs_hidden": false,
     "source_hidden": false
    },
    "nteract": {
     "transient": {
      "deleting": false
     }
    }
   },
   "outputs": [
    {
     "data": {
      "text/html": [
       "<style>\n",
       ".list-inline {list-style: none; margin:0; padding: 0}\n",
       ".list-inline>li {display: inline-block}\n",
       ".list-inline>li:not(:last-child)::after {content: \"\\00b7\"; padding: 0 .5ex}\n",
       "</style>\n",
       "<ol class=list-inline><li>170</li><li>2</li></ol>\n"
      ],
      "text/latex": [
       "\\begin{enumerate*}\n",
       "\\item 170\n",
       "\\item 2\n",
       "\\end{enumerate*}\n"
      ],
      "text/markdown": [
       "1. 170\n",
       "2. 2\n",
       "\n",
       "\n"
      ],
      "text/plain": [
       "[1] 170   2"
      ]
     },
     "metadata": {},
     "output_type": "display_data"
    }
   ],
   "source": [
    "dim(predictCART2)"
   ]
  },
  {
   "cell_type": "markdown",
   "metadata": {
    "nteract": {
     "transient": {
      "deleting": false
     }
    }
   },
   "source": [
    "让我们看一下predictCART2的前20行。"
   ]
  },
  {
   "cell_type": "code",
   "execution_count": 86,
   "metadata": {
    "collapsed": true,
    "execution": {
     "iopub.execute_input": "2020-06-20T15:37:08.479Z",
     "iopub.status.busy": "2020-06-20T15:37:08.470Z",
     "iopub.status.idle": "2020-06-20T15:37:08.497Z",
     "shell.execute_reply": "2020-06-20T15:37:08.796Z"
    },
    "jupyter": {
     "outputs_hidden": false,
     "source_hidden": false
    },
    "nteract": {
     "transient": {
      "deleting": false
     }
    }
   },
   "outputs": [
    {
     "data": {
      "text/html": [
       "<table>\n",
       "<caption>A matrix: 20 × 2 of type dbl</caption>\n",
       "<thead>\n",
       "\t<tr><th></th><th scope=col>0</th><th scope=col>1</th></tr>\n",
       "</thead>\n",
       "<tbody>\n",
       "\t<tr><th scope=row>1</th><td>0.3035714</td><td>0.6964286</td></tr>\n",
       "\t<tr><th scope=row>3</th><td>0.3035714</td><td>0.6964286</td></tr>\n",
       "\t<tr><th scope=row>4</th><td>0.3114754</td><td>0.6885246</td></tr>\n",
       "\t<tr><th scope=row>6</th><td>0.5588235</td><td>0.4411765</td></tr>\n",
       "\t<tr><th scope=row>8</th><td>0.5588235</td><td>0.4411765</td></tr>\n",
       "\t<tr><th scope=row>21</th><td>0.3035714</td><td>0.6964286</td></tr>\n",
       "\t<tr><th scope=row>32</th><td>0.5517241</td><td>0.4482759</td></tr>\n",
       "\t<tr><th scope=row>36</th><td>0.5517241</td><td>0.4482759</td></tr>\n",
       "\t<tr><th scope=row>40</th><td>0.3035714</td><td>0.6964286</td></tr>\n",
       "\t<tr><th scope=row>42</th><td>0.5517241</td><td>0.4482759</td></tr>\n",
       "\t<tr><th scope=row>46</th><td>0.5517241</td><td>0.4482759</td></tr>\n",
       "\t<tr><th scope=row>47</th><td>0.5588235</td><td>0.4411765</td></tr>\n",
       "\t<tr><th scope=row>53</th><td>0.5517241</td><td>0.4482759</td></tr>\n",
       "\t<tr><th scope=row>55</th><td>0.3035714</td><td>0.6964286</td></tr>\n",
       "\t<tr><th scope=row>59</th><td>0.1842105</td><td>0.8157895</td></tr>\n",
       "\t<tr><th scope=row>60</th><td>0.3114754</td><td>0.6885246</td></tr>\n",
       "\t<tr><th scope=row>66</th><td>0.3114754</td><td>0.6885246</td></tr>\n",
       "\t<tr><th scope=row>67</th><td>0.3114754</td><td>0.6885246</td></tr>\n",
       "\t<tr><th scope=row>68</th><td>0.1842105</td><td>0.8157895</td></tr>\n",
       "\t<tr><th scope=row>72</th><td>0.3035714</td><td>0.6964286</td></tr>\n",
       "</tbody>\n",
       "</table>\n"
      ],
      "text/latex": [
       "A matrix: 20 × 2 of type dbl\n",
       "\\begin{tabular}{r|ll}\n",
       "  & 0 & 1\\\\\n",
       "\\hline\n",
       "\t1 & 0.3035714 & 0.6964286\\\\\n",
       "\t3 & 0.3035714 & 0.6964286\\\\\n",
       "\t4 & 0.3114754 & 0.6885246\\\\\n",
       "\t6 & 0.5588235 & 0.4411765\\\\\n",
       "\t8 & 0.5588235 & 0.4411765\\\\\n",
       "\t21 & 0.3035714 & 0.6964286\\\\\n",
       "\t32 & 0.5517241 & 0.4482759\\\\\n",
       "\t36 & 0.5517241 & 0.4482759\\\\\n",
       "\t40 & 0.3035714 & 0.6964286\\\\\n",
       "\t42 & 0.5517241 & 0.4482759\\\\\n",
       "\t46 & 0.5517241 & 0.4482759\\\\\n",
       "\t47 & 0.5588235 & 0.4411765\\\\\n",
       "\t53 & 0.5517241 & 0.4482759\\\\\n",
       "\t55 & 0.3035714 & 0.6964286\\\\\n",
       "\t59 & 0.1842105 & 0.8157895\\\\\n",
       "\t60 & 0.3114754 & 0.6885246\\\\\n",
       "\t66 & 0.3114754 & 0.6885246\\\\\n",
       "\t67 & 0.3114754 & 0.6885246\\\\\n",
       "\t68 & 0.1842105 & 0.8157895\\\\\n",
       "\t72 & 0.3035714 & 0.6964286\\\\\n",
       "\\end{tabular}\n"
      ],
      "text/markdown": [
       "\n",
       "A matrix: 20 × 2 of type dbl\n",
       "\n",
       "| <!--/--> | 0 | 1 |\n",
       "|---|---|---|\n",
       "| 1 | 0.3035714 | 0.6964286 |\n",
       "| 3 | 0.3035714 | 0.6964286 |\n",
       "| 4 | 0.3114754 | 0.6885246 |\n",
       "| 6 | 0.5588235 | 0.4411765 |\n",
       "| 8 | 0.5588235 | 0.4411765 |\n",
       "| 21 | 0.3035714 | 0.6964286 |\n",
       "| 32 | 0.5517241 | 0.4482759 |\n",
       "| 36 | 0.5517241 | 0.4482759 |\n",
       "| 40 | 0.3035714 | 0.6964286 |\n",
       "| 42 | 0.5517241 | 0.4482759 |\n",
       "| 46 | 0.5517241 | 0.4482759 |\n",
       "| 47 | 0.5588235 | 0.4411765 |\n",
       "| 53 | 0.5517241 | 0.4482759 |\n",
       "| 55 | 0.3035714 | 0.6964286 |\n",
       "| 59 | 0.1842105 | 0.8157895 |\n",
       "| 60 | 0.3114754 | 0.6885246 |\n",
       "| 66 | 0.3114754 | 0.6885246 |\n",
       "| 67 | 0.3114754 | 0.6885246 |\n",
       "| 68 | 0.1842105 | 0.8157895 |\n",
       "| 72 | 0.3035714 | 0.6964286 |\n",
       "\n"
      ],
      "text/plain": [
       "   0         1        \n",
       "1  0.3035714 0.6964286\n",
       "3  0.3035714 0.6964286\n",
       "4  0.3114754 0.6885246\n",
       "6  0.5588235 0.4411765\n",
       "8  0.5588235 0.4411765\n",
       "21 0.3035714 0.6964286\n",
       "32 0.5517241 0.4482759\n",
       "36 0.5517241 0.4482759\n",
       "40 0.3035714 0.6964286\n",
       "42 0.5517241 0.4482759\n",
       "46 0.5517241 0.4482759\n",
       "47 0.5588235 0.4411765\n",
       "53 0.5517241 0.4482759\n",
       "55 0.3035714 0.6964286\n",
       "59 0.1842105 0.8157895\n",
       "60 0.3114754 0.6885246\n",
       "66 0.3114754 0.6885246\n",
       "67 0.3114754 0.6885246\n",
       "68 0.1842105 0.8157895\n",
       "72 0.3035714 0.6964286"
      ]
     },
     "metadata": {},
     "output_type": "display_data"
    }
   ],
   "source": [
    "predictCART2[1:20,]"
   ]
  },
  {
   "cell_type": "markdown",
   "metadata": {
    "nteract": {
     "transient": {
      "deleting": false
     }
    }
   },
   "source": [
    "第一列标记为0。这是与测试集观察结果相同的子集（叶节点）中结果为0的训练集数据的百分比。第二列是在与测试集观察结果相同的子集（叶节点）中具有结果1的训练集数据的百分比。我们可以将第二列解释为测试集观察结果为1的概率。请注意，每一行的索引从1到20都是不连续的。相反，它是原始数据集中随机采样之前每个数据点的索引。分为训练和测试集。换句话说，原始数据集的第一种情况，第三种情况，第四种情况等被随机选择以包括在测试集中。\n",
    "\n",
    "现在，我们可以通过提供所需的任何阈值来生成混淆矩阵。使用0.5作为阈值将恢复参数`type =\"class\"`之前得到的混淆矩阵。"
   ]
  },
  {
   "cell_type": "code",
   "execution_count": 87,
   "metadata": {
    "collapsed": true,
    "execution": {
     "iopub.execute_input": "2020-06-20T15:37:08.536Z",
     "iopub.status.busy": "2020-06-20T15:37:08.529Z",
     "iopub.status.idle": "2020-06-20T15:37:08.558Z",
     "shell.execute_reply": "2020-06-20T15:37:08.801Z"
    },
    "jupyter": {
     "outputs_hidden": false,
     "source_hidden": false
    },
    "nteract": {
     "transient": {
      "deleting": false
     }
    }
   },
   "outputs": [
    {
     "data": {
      "text/plain": [
       "   \n",
       "    FALSE TRUE\n",
       "  0    46   31\n",
       "  1    31   62"
      ]
     },
     "metadata": {},
     "output_type": "display_data"
    }
   ],
   "source": [
    "table(test$Reverse, predictCART2[,2] > 0.5)"
   ]
  },
  {
   "cell_type": "markdown",
   "metadata": {
    "nteract": {
     "transient": {
      "deleting": false
     }
    }
   },
   "source": [
    "我们还可以为CART模型生成ROC曲线，并计算其AUC。"
   ]
  },
  {
   "cell_type": "code",
   "execution_count": 88,
   "metadata": {
    "collapsed": true,
    "execution": {
     "iopub.execute_input": "2020-06-20T15:37:08.579Z",
     "iopub.status.busy": "2020-06-20T15:37:08.569Z",
     "iopub.status.idle": "2020-06-20T15:37:08.596Z",
     "shell.execute_reply": "2020-06-20T15:37:08.807Z"
    },
    "jupyter": {
     "outputs_hidden": false,
     "source_hidden": false
    },
    "nteract": {
     "transient": {
      "deleting": false
     }
    }
   },
   "outputs": [
    {
     "data": {
      "image/png": "[encoded data removed]",
      "text/plain": [
       "plot without title"
      ]
     },
     "metadata": {
      "filenames": {
       "image/png": "/home/jerrywang/Documents/GitHub/note_viajupyterbook/_build/jupyter_execute/content/R_study/Tree_model_24_0.png"
      },
      "image/png": {
       "height": 420,
       "width": 420
      },
      "text/plain": {
       "height": 420,
       "width": 420
      }
     },
     "output_type": "display_data"
    }
   ],
   "source": [
    "pred = prediction(predictCART2[,2], test$Reverse)\n",
    "perf = performance(pred, \"tpr\", \"fpr\")\n",
    "plot(perf)"
   ]
  },
  {
   "cell_type": "code",
   "execution_count": 89,
   "metadata": {
    "collapsed": true,
    "execution": {
     "iopub.execute_input": "2020-06-20T15:37:08.617Z",
     "iopub.status.busy": "2020-06-20T15:37:08.609Z",
     "iopub.status.idle": "2020-06-20T15:37:08.635Z",
     "shell.execute_reply": "2020-06-20T15:37:08.813Z"
    },
    "jupyter": {
     "outputs_hidden": false,
     "source_hidden": false
    },
    "nteract": {
     "transient": {
      "deleting": false
     }
    }
   },
   "outputs": [
    {
     "data": {
      "text/html": [
       "0.683284457478006"
      ],
      "text/latex": [
       "0.683284457478006"
      ],
      "text/markdown": [
       "0.683284457478006"
      ],
      "text/plain": [
       "[1] 0.6832845"
      ]
     },
     "metadata": {},
     "output_type": "display_data"
    }
   ],
   "source": [
    "auc = performance(pred, \"auc\")\n",
    "auc@y.values[[1]]"
   ]
  },
  {
   "cell_type": "markdown",
   "metadata": {
    "nteract": {
     "transient": {
      "deleting": false
     }
    }
   },
   "source": [
    "## 使用交叉验证选择复杂度参数\n",
    "让我们尝试对我们的CART模型进行交叉验证。为此，我们需要安装和加载两个新的软件包`caret`和`e1071`。\n",
    "\n",
    "现在，我们将定义我们的交叉验证实验。首先，我们定义所需的折数。"
   ]
  },
  {
   "cell_type": "code",
   "execution_count": 90,
   "metadata": {
    "collapsed": true,
    "execution": {
     "iopub.execute_input": "2020-06-20T15:37:08.655Z",
     "iopub.status.busy": "2020-06-20T15:37:08.647Z",
     "iopub.status.idle": "2020-06-20T15:37:08.667Z",
     "shell.execute_reply": "2020-06-20T15:37:08.819Z"
    },
    "jupyter": {
     "outputs_hidden": false,
     "source_hidden": false
    },
    "nteract": {
     "transient": {
      "deleting": false
     }
    }
   },
   "outputs": [],
   "source": [
    "fitControl = trainControl(method = \"cv\", number = 10)"
   ]
  },
  {
   "cell_type": "markdown",
   "metadata": {
    "nteract": {
     "transient": {
      "deleting": false
     }
    }
   },
   "source": [
    "第一个参数`method =\"cv\"`，告诉函数使用交叉验证方法。\n",
    "\n",
    "接下来，我们需要为参数cp选择可能的值。cp通过惩罚每个拆分来控制树的增长。\n",
    "\n",
    "cp越大（每次拆分的惩罚越高），导致树越小：`cp = 1`将导致没有拆分的树，即最小的树；相当于设置`minbucket =数据大小` ;\n",
    "\n",
    "较小的`cp`（每次拆分的罚款较低）会导致树的增大：`cp = 0`将导致以每个数据点为叶节点的树，即最大的树；等效于设置`minbucket = 1`。\n",
    "\n",
    "通常，我们不需要探究cp值从0到1 的整个范围。在大多数情况下，我们只需要一个小的cp值即可，例如从0.01到0.5，步长为0.01。"
   ]
  },
  {
   "cell_type": "code",
   "execution_count": 91,
   "metadata": {
    "collapsed": true,
    "execution": {
     "iopub.execute_input": "2020-06-20T15:37:08.696Z",
     "iopub.status.busy": "2020-06-20T15:37:08.681Z",
     "iopub.status.idle": "2020-06-20T15:37:08.711Z",
     "shell.execute_reply": "2020-06-20T15:37:08.824Z"
    },
    "jupyter": {
     "outputs_hidden": false,
     "source_hidden": false
    },
    "nteract": {
     "transient": {
      "deleting": false
     }
    }
   },
   "outputs": [],
   "source": [
    "cpGrid = expand.grid(.cp = (1:50)*0.01)"
   ]
  },
  {
   "cell_type": "markdown",
   "metadata": {
    "nteract": {
     "transient": {
      "deleting": false
     }
    }
   },
   "source": [
    "现在，我们准备执行交叉验证。由于其中有一些随机成分ķ折交叉验证-随机划分为 ķ 折叠-让我们通过先设置一个公共随机种子来同步结果。"
   ]
  },
  {
   "cell_type": "code",
   "execution_count": 92,
   "metadata": {
    "collapsed": true,
    "execution": {
     "iopub.execute_input": "2020-06-20T15:37:08.734Z",
     "iopub.status.busy": "2020-06-20T15:37:08.726Z",
     "iopub.status.idle": "2020-06-20T15:37:11.734Z",
     "shell.execute_reply": "2020-06-20T15:37:11.828Z"
    },
    "jupyter": {
     "outputs_hidden": false,
     "source_hidden": false
    },
    "nteract": {
     "transient": {
      "deleting": false
     }
    }
   },
   "outputs": [
    {
     "data": {
      "text/plain": [
       "CART \n",
       "\n",
       "396 samples\n",
       "  7 predictor\n",
       "  2 classes: '0', '1' \n",
       "\n",
       "No pre-processing\n",
       "Resampling: Cross-Validated (10 fold) \n",
       "Summary of sample sizes: 356, 357, 357, 356, 356, 356, ... \n",
       "Resampling results across tuning parameters:\n",
       "\n",
       "  cp    Accuracy   Kappa     \n",
       "  0.01  0.6267308  0.23433745\n",
       "  0.02  0.6139744  0.20969640\n",
       "  0.03  0.6191026  0.22426640\n",
       "  0.04  0.6291667  0.25184688\n",
       "  0.05  0.6443590  0.28571708\n",
       "  0.06  0.6443590  0.28571708\n",
       "  0.07  0.6443590  0.28571708\n",
       "  0.08  0.6443590  0.28571708\n",
       "  0.09  0.6443590  0.28571708\n",
       "  0.10  0.6443590  0.28571708\n",
       "  0.11  0.6443590  0.28571708\n",
       "  0.12  0.6443590  0.28571708\n",
       "  0.13  0.6443590  0.28571708\n",
       "  0.14  0.6443590  0.28571708\n",
       "  0.15  0.6443590  0.28571708\n",
       "  0.16  0.6443590  0.28571708\n",
       "  0.17  0.6443590  0.28571708\n",
       "  0.18  0.6187179  0.22698692\n",
       "  0.19  0.6187179  0.22698692\n",
       "  0.20  0.6187179  0.22698692\n",
       "  0.21  0.5733333  0.11309826\n",
       "  0.22  0.5530769  0.05337925\n",
       "  0.23  0.5403846  0.01187658\n",
       "  0.24  0.5403846  0.01187658\n",
       "  0.25  0.5453846  0.00000000\n",
       "  0.26  0.5453846  0.00000000\n",
       "  0.27  0.5453846  0.00000000\n",
       "  0.28  0.5453846  0.00000000\n",
       "  0.29  0.5453846  0.00000000\n",
       "  0.30  0.5453846  0.00000000\n",
       "  0.31  0.5453846  0.00000000\n",
       "  0.32  0.5453846  0.00000000\n",
       "  0.33  0.5453846  0.00000000\n",
       "  0.34  0.5453846  0.00000000\n",
       "  0.35  0.5453846  0.00000000\n",
       "  0.36  0.5453846  0.00000000\n",
       "  0.37  0.5453846  0.00000000\n",
       "  0.38  0.5453846  0.00000000\n",
       "  0.39  0.5453846  0.00000000\n",
       "  0.40  0.5453846  0.00000000\n",
       "  0.41  0.5453846  0.00000000\n",
       "  0.42  0.5453846  0.00000000\n",
       "  0.43  0.5453846  0.00000000\n",
       "  0.44  0.5453846  0.00000000\n",
       "  0.45  0.5453846  0.00000000\n",
       "  0.46  0.5453846  0.00000000\n",
       "  0.47  0.5453846  0.00000000\n",
       "  0.48  0.5453846  0.00000000\n",
       "  0.49  0.5453846  0.00000000\n",
       "  0.50  0.5453846  0.00000000\n",
       "\n",
       "Accuracy was used to select the optimal model using the largest value.\n",
       "The final value used for the model was cp = 0.17."
      ]
     },
     "metadata": {},
     "output_type": "display_data"
    }
   ],
   "source": [
    "set.seed(33)\n",
    "cvResults = train(Reverse ~ Term + Circuit + Issue + Petitioner + Respondent + LowerCourt + Unconst, data = train, method = \"rpart\", trControl = fitControl, tuneGrid = cpGrid)\n",
    "cvResults"
   ]
  },
  {
   "cell_type": "markdown",
   "metadata": {
    "nteract": {
     "transient": {
      "deleting": false
     }
    }
   },
   "source": [
    "上面输出的最下面告诉我们我们要用来构建`CART`模型的最佳cp值，接下来将要构建新的CART模型。请注意，由于我们已经将结果变量Reverse转换为因子变量，因此现在可以删除参数`method =\"class\"`。在以下代码中，命令`cvResults[\"bestTune\"]`从上述交叉验证结果中获取最佳cp值。我们也可以只输入0.17。"
   ]
  },
  {
   "cell_type": "code",
   "execution_count": 93,
   "metadata": {
    "collapsed": true,
    "execution": {
     "iopub.execute_input": "2020-06-20T15:37:11.785Z",
     "iopub.status.busy": "2020-06-20T15:37:11.762Z",
     "iopub.status.idle": "2020-06-20T15:37:12.036Z",
     "shell.execute_reply": "2020-06-20T15:37:12.144Z"
    },
    "jupyter": {
     "outputs_hidden": false,
     "source_hidden": false
    },
    "nteract": {
     "transient": {
      "deleting": false
     }
    }
   },
   "outputs": [
    {
     "data": {
      "image/png": "[encoded data removed]",
      "text/plain": [
       "plot without title"
      ]
     },
     "metadata": {
      "filenames": {
       "image/png": "/home/jerrywang/Documents/GitHub/note_viajupyterbook/_build/jupyter_execute/content/R_study/Tree_model_33_0.png"
      },
      "image/png": {
       "height": 420,
       "width": 420
      },
      "text/plain": {
       "height": 420,
       "width": 420
      }
     },
     "output_type": "display_data"
    }
   ],
   "source": [
    "stevensTreeCV = rpart(Reverse ~ Term + Circuit + Issue + Petitioner + Respondent + LowerCourt + Unconst, data = train, control = rpart.control(cp = cvResults[\"bestTune\"]))\n",
    "prp(stevensTreeCV)"
   ]
  },
  {
   "cell_type": "markdown",
   "metadata": {
    "nteract": {
     "transient": {
      "deleting": false
     }
    }
   },
   "source": [
    "有趣的是，使用cp参数从交叉验证过程中选择的最佳树仅在下级法院判决的意识形态方向上有一个分支。当下级法院的裁决被认为是自由的时，史蒂文斯法官就更有可能确认该裁决。但是，当下级法院的裁决被认为是保守的时，史蒂文斯大法官更有可能推翻该裁决。如下所示，此简单树的准确性超过70％。这提供了有力的证据，证明史蒂文斯大法官比保守派更自由，而不是他自己声称的。"
   ]
  },
  {
   "cell_type": "code",
   "execution_count": 94,
   "metadata": {
    "collapsed": true,
    "execution": {
     "iopub.execute_input": "2020-06-20T15:37:12.061Z",
     "iopub.status.busy": "2020-06-20T15:37:12.050Z",
     "iopub.status.idle": "2020-06-20T15:37:12.080Z",
     "shell.execute_reply": "2020-06-20T15:37:12.153Z"
    },
    "jupyter": {
     "outputs_hidden": false,
     "source_hidden": false
    },
    "nteract": {
     "transient": {
      "deleting": false
     }
    }
   },
   "outputs": [
    {
     "data": {
      "text/plain": [
       "   predictCV\n",
       "     0  1\n",
       "  0 59 18\n",
       "  1 29 64"
      ]
     },
     "metadata": {},
     "output_type": "display_data"
    }
   ],
   "source": [
    "predictCV = predict(stevensTreeCV, newdata = test, type = \"class\")\n",
    "confCV = table(test$Reverse, predictCV)\n",
    "confCV"
   ]
  },
  {
   "cell_type": "markdown",
   "metadata": {
    "nteract": {
     "transient": {
      "deleting": false
     }
    }
   },
   "source": [
    "新`CART`模型的准确性为72.35％，比我们之前的CART模型的准确性为63.53％高。我们将看到，与接下来将要做的随机森林模型相比，它甚至更高。\n",
    "### 与R中另一个程序包的交叉验证"
   ]
  },
  {
   "cell_type": "code",
   "execution_count": 96,
   "metadata": {
    "collapsed": true,
    "execution": {
     "iopub.execute_input": "2020-06-20T15:37:19.892Z",
     "iopub.status.busy": "2020-06-20T15:37:19.885Z",
     "iopub.status.idle": "2020-06-20T15:37:19.970Z",
     "shell.execute_reply": "2020-06-20T15:37:19.987Z"
    },
    "jupyter": {
     "outputs_hidden": false,
     "source_hidden": false
    },
    "nteract": {
     "transient": {
      "deleting": false
     }
    }
   },
   "outputs": [
    {
     "data": {
      "image/png": "[encoded data removed]",
      "text/plain": [
       "plot without title"
      ]
     },
     "metadata": {
      "filenames": {
       "image/png": "/home/jerrywang/Documents/GitHub/note_viajupyterbook/_build/jupyter_execute/content/R_study/Tree_model_37_0.png"
      },
      "image/png": {
       "height": 420,
       "width": 420
      },
      "text/plain": {
       "height": 420,
       "width": 420
      }
     },
     "output_type": "display_data"
    }
   ],
   "source": [
    "set.seed(30)\n",
    "treeRev = tree(Reverse ~ Term + Circuit + Issue + Petitioner + Respondent + LowerCourt + Unconst, data = train)\n",
    "cvResult = cv.tree(treeRev,,prune.tree, K = 10)\n",
    "plot(cvResult)"
   ]
  },
  {
   "cell_type": "code",
   "execution_count": 99,
   "metadata": {
    "collapsed": true,
    "execution": {
     "iopub.execute_input": "2020-06-20T15:38:04.251Z",
     "iopub.status.busy": "2020-06-20T15:38:04.237Z",
     "iopub.status.idle": "2020-06-20T15:38:04.274Z",
     "shell.execute_reply": "2020-06-20T15:38:04.286Z"
    },
    "jupyter": {
     "outputs_hidden": false,
     "source_hidden": false
    },
    "nteract": {
     "transient": {
      "deleting": false
     }
    }
   },
   "outputs": [
    {
     "data": {
      "text/plain": [
       "$size\n",
       " [1] 23 22 21 20 19 18 16 14 13 12 11 10  9  8  7  6  5  3  2  1\n",
       "\n",
       "$dev\n",
       " [1] 953.6358 888.2305 887.6445 874.6479 840.5691 831.2859 803.5763 803.5763\n",
       " [9] 712.1258 713.4176 694.4959 688.7589 667.8413 667.4122 626.9538 631.5714\n",
       "[17] 570.8960 570.8960 536.0984 547.4825\n",
       "\n",
       "$k\n",
       " [1]      -Inf  5.487169  5.939778  5.999377  6.645951  7.063352  7.927246\n",
       " [8]  7.934142  8.659141  8.788767  9.097557  9.252559  9.513109  9.573004\n",
       "[15] 10.628985 10.941779 15.925130 15.976991 23.591745 32.256967\n",
       "\n",
       "$method\n",
       "[1] \"deviance\"\n",
       "\n",
       "attr(,\"class\")\n",
       "[1] \"prune\"         \"tree.sequence\""
      ]
     },
     "metadata": {},
     "output_type": "display_data"
    }
   ],
   "source": [
    "cvResult"
   ]
  },
  {
   "cell_type": "code",
   "execution_count": 100,
   "metadata": {
    "collapsed": true,
    "execution": {
     "iopub.execute_input": "2020-06-20T15:38:12.824Z",
     "iopub.status.busy": "2020-06-20T15:38:12.813Z",
     "iopub.status.idle": "2020-06-20T15:38:12.847Z",
     "shell.execute_reply": "2020-06-20T15:38:12.858Z"
    },
    "jupyter": {
     "outputs_hidden": false,
     "source_hidden": false
    },
    "nteract": {
     "transient": {
      "deleting": false
     }
    }
   },
   "outputs": [
    {
     "data": {
      "text/plain": [
       "\n",
       "Classification tree:\n",
       "snip.tree(tree = treeRev, nodes = 3:2)\n",
       "Variables actually used in tree construction:\n",
       "[1] \"LowerCourt\"\n",
       "Number of terminal nodes:  2 \n",
       "Residual mean deviance:  1.303 = 513.4 / 394 \n",
       "Misclassification error rate: 0.3561 = 141 / 396 "
      ]
     },
     "metadata": {},
     "output_type": "display_data"
    }
   ],
   "source": [
    "treeRevCV = prune.tree(treeRev, k = cvResult$k[which.min(cvResult$dev)])\n",
    "summary(treeRevCV)"
   ]
  },
  {
   "cell_type": "code",
   "execution_count": 101,
   "metadata": {
    "collapsed": true,
    "execution": {
     "iopub.execute_input": "2020-06-20T15:38:23.513Z",
     "iopub.status.busy": "2020-06-20T15:38:23.497Z",
     "iopub.status.idle": "2020-06-20T15:38:23.546Z",
     "shell.execute_reply": "2020-06-20T15:38:23.568Z"
    },
    "jupyter": {
     "outputs_hidden": false,
     "source_hidden": false
    },
    "nteract": {
     "transient": {
      "deleting": false
     }
    }
   },
   "outputs": [
    {
     "data": {
      "image/png": "[encoded data removed]",
      "text/plain": [
       "plot without title"
      ]
     },
     "metadata": {
      "filenames": {
       "image/png": "/home/jerrywang/Documents/GitHub/note_viajupyterbook/_build/jupyter_execute/content/R_study/Tree_model_40_0.png"
      },
      "image/png": {
       "height": 420,
       "width": 420
      },
      "text/plain": {
       "height": 420,
       "width": 420
      }
     },
     "output_type": "display_data"
    }
   ],
   "source": [
    "plot(treeRevCV)\n",
    "text(treeRevCV, pretty = 3)"
   ]
  },
  {
   "cell_type": "markdown",
   "metadata": {
    "nteract": {
     "transient": {
      "deleting": false
     }
    }
   },
   "source": [
    "## 建立随机森林模型"
   ]
  },
  {
   "cell_type": "code",
   "execution_count": 97,
   "metadata": {
    "collapsed": true,
    "execution": {
     "iopub.execute_input": "2020-06-20T15:37:24.723Z",
     "iopub.status.busy": "2020-06-20T15:37:24.714Z",
     "iopub.status.idle": "2020-06-20T15:37:24.785Z",
     "shell.execute_reply": "2020-06-20T15:37:24.769Z"
    },
    "jupyter": {
     "outputs_hidden": false,
     "source_hidden": false
    },
    "nteract": {
     "transient": {
      "deleting": false
     }
    }
   },
   "outputs": [],
   "source": [
    "set.seed(333)\n",
    "stevensForest = randomForest(Reverse ~ Term + Circuit + Issue + Petitioner + Respondent + LowerCourt + Unconst, data = train, ntree = 500, nodesize = 25, mtry = 3)"
   ]
  },
  {
   "cell_type": "code",
   "execution_count": 98,
   "metadata": {
    "collapsed": true,
    "execution": {
     "iopub.execute_input": "2020-06-20T15:37:25.041Z",
     "iopub.status.busy": "2020-06-20T15:37:25.033Z",
     "iopub.status.idle": "2020-06-20T15:37:25.057Z",
     "shell.execute_reply": "2020-06-20T15:37:25.070Z"
    },
    "jupyter": {
     "outputs_hidden": false,
     "source_hidden": false
    },
    "nteract": {
     "transient": {
      "deleting": false
     }
    }
   },
   "outputs": [
    {
     "data": {
      "text/plain": [
       "   predictForest\n",
       "     0  1\n",
       "  0 45 32\n",
       "  1 20 73"
      ]
     },
     "metadata": {},
     "output_type": "display_data"
    }
   ],
   "source": [
    "predictForest = predict(stevensForest, newdata = test)\n",
    "confRF = table(test$Reverse, predictForest)\n",
    "confRF"
   ]
  },
  {
   "cell_type": "markdown",
   "metadata": {
    "nteract": {
     "transient": {
      "deleting": false
     }
    }
   },
   "source": [
    "我们的随机森林模型的准确性为69.41％，与通过交叉验证得出的CART模型的准确性相近。可以使用交叉验证进一步微调模型，以选择最佳参数值。"
   ]
  }
 ],
 "metadata": {
  "kernel_info": {
   "name": "ir40"
  },
  "kernelspec": {
   "argv": [
    "/usr/lib/R/bin/R",
    "--slave",
    "-e",
    "IRkernel::main()",
    "--args",
    "{connection_file}"
   ],
   "display_name": "R 4.0",
   "language": "R",
   "name": "ir40"
  },
  "language_info": {
   "codemirror_mode": "r",
   "file_extension": ".r",
   "mimetype": "text/x-r-source",
   "name": "R",
   "pygments_lexer": "r",
   "version": "4.0.1"
  },
  "nteract": {
   "version": "0.23.3"
  }
 },
 "nbformat": 4,
 "nbformat_minor": 0
}