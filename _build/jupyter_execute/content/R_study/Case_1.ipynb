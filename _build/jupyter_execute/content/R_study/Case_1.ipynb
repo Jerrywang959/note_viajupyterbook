{
 "cells": [
  {
   "cell_type": "markdown",
   "metadata": {
    "nteract": {
     "transient": {
      "deleting": false
     }
    }
   },
   "source": [
    "# Case 1: 点球成金\n",
    "## 加载和浏览数据集"
   ]
  },
  {
   "cell_type": "code",
   "execution_count": 1,
   "metadata": {
    "collapsed": true,
    "execution": {
     "iopub.execute_input": "2020-06-18T08:07:19.799Z",
     "iopub.status.busy": "2020-06-18T08:07:19.792Z",
     "iopub.status.idle": "2020-06-18T08:07:20.309Z",
     "shell.execute_reply": "2020-06-18T08:07:20.325Z"
    },
    "jupyter": {
     "outputs_hidden": false,
     "source_hidden": false
    },
    "nteract": {
     "transient": {
      "deleting": false
     }
    }
   },
   "outputs": [
    {
     "name": "stdout",
     "output_type": "stream",
     "text": [
      "'data.frame':\t932 obs. of  15 variables:\n",
      " $ Team        : chr  \"ANA\" \"ARI\" \"ATL\" \"BAL\" ...\n",
      " $ League      : chr  \"AL\" \"NL\" \"NL\" \"AL\" ...\n",
      " $ Year        : int  2002 2002 2002 2002 2002 2002 2002 2002 2002 2002 ...\n",
      " $ RS          : int  851 819 708 667 859 706 856 709 739 778 ...\n",
      " $ RA          : int  644 674 565 773 665 759 798 774 837 898 ...\n",
      " $ W           : int  99 98 101 67 93 67 81 78 74 73 ...\n",
      " $ OBP         : num  0.341 0.346 0.331 0.309 0.345 0.321 0.338 0.33 0.321 0.337 ...\n",
      " $ SLG         : num  0.433 0.423 0.409 0.403 0.444 0.413 0.449 0.408 0.412 0.423 ...\n",
      " $ BA          : num  0.282 0.267 0.26 0.246 0.277 0.246 0.268 0.253 0.249 0.274 ...\n",
      " $ Playoffs    : int  1 1 1 0 0 0 0 0 0 0 ...\n",
      " $ RankSeason  : int  3 4 2 NA NA NA NA NA NA NA ...\n",
      " $ RankPlayoffs: int  1 4 4 NA NA NA NA NA NA NA ...\n",
      " $ G           : int  162 162 161 162 162 162 162 162 162 162 ...\n",
      " $ OOBP        : num  0.314 0.305 0.313 0.336 0.308 0.331 0.33 0.338 0.348 0.349 ...\n",
      " $ OSLG        : num  0.392 0.397 0.364 0.435 0.385 0.407 0.423 0.426 0.423 0.466 ...\n"
     ]
    }
   ],
   "source": [
    "baseball = read.csv(\"../../datas/Moneyball.csv\")\n",
    "str(baseball)"
   ]
  },
  {
   "cell_type": "markdown",
   "metadata": {
    "nteract": {
     "transient": {
      "deleting": false
     }
    }
   },
   "source": [
    "由于我们确认了Moneyball的索赔，因此我们希望使用Paul DePodesta在2002年获得的数据来构建模型。"
   ]
  },
  {
   "cell_type": "code",
   "execution_count": 2,
   "metadata": {
    "collapsed": true,
    "execution": {
     "iopub.execute_input": "2020-06-18T08:14:25.520Z",
     "iopub.status.busy": "2020-06-18T08:14:25.513Z",
     "iopub.status.idle": "2020-06-18T08:14:25.552Z",
     "shell.execute_reply": "2020-06-18T08:14:25.544Z"
    },
    "jupyter": {
     "outputs_hidden": false,
     "source_hidden": false
    },
    "nteract": {
     "transient": {
      "deleting": false
     }
    }
   },
   "outputs": [
    {
     "name": "stdout",
     "output_type": "stream",
     "text": [
      "'data.frame':\t902 obs. of  15 variables:\n",
      " $ Team        : chr  \"ANA\" \"ARI\" \"ATL\" \"BAL\" ...\n",
      " $ League      : chr  \"AL\" \"NL\" \"NL\" \"AL\" ...\n",
      " $ Year        : int  2001 2001 2001 2001 2001 2001 2001 2001 2001 2001 ...\n",
      " $ RS          : int  691 818 729 687 772 777 798 735 897 923 ...\n",
      " $ RA          : int  730 677 643 829 745 701 795 850 821 906 ...\n",
      " $ W           : int  75 92 88 63 82 88 83 66 91 73 ...\n",
      " $ OBP         : num  0.327 0.341 0.324 0.319 0.334 0.336 0.334 0.324 0.35 0.354 ...\n",
      " $ SLG         : num  0.405 0.442 0.412 0.38 0.439 0.43 0.451 0.419 0.458 0.483 ...\n",
      " $ BA          : num  0.261 0.267 0.26 0.248 0.266 0.261 0.268 0.262 0.278 0.292 ...\n",
      " $ Playoffs    : int  0 1 1 0 0 0 0 0 1 0 ...\n",
      " $ RankSeason  : int  NA 5 7 NA NA NA NA NA 6 NA ...\n",
      " $ RankPlayoffs: int  NA 1 3 NA NA NA NA NA 4 NA ...\n",
      " $ G           : int  162 162 162 162 161 162 162 162 162 162 ...\n",
      " $ OOBP        : num  0.331 0.311 0.314 0.337 0.329 0.321 0.334 0.341 0.341 0.35 ...\n",
      " $ OSLG        : num  0.412 0.404 0.384 0.439 0.393 0.398 0.427 0.455 0.417 0.48 ...\n"
     ]
    }
   ],
   "source": [
    "moneyball = subset(baseball, Year < 2002)\n",
    "str(moneyball)"
   ]
  },
  {
   "cell_type": "markdown",
   "metadata": {
    "nteract": {
     "transient": {
      "deleting": false
     }
    }
   },
   "source": [
    "## 预测胜利\n",
    "我们首先建立一个线性回归模型，以使用得分数和失分数之间的差异来预测获胜。为了使操作更容易一些，让我们从创建一个名为RD的新变量RD开始，并将其设置为的分数减去失分数"
   ]
  },
  {
   "cell_type": "code",
   "execution_count": 3,
   "metadata": {
    "collapsed": true,
    "execution": {
     "iopub.execute_input": "2020-06-18T08:39:56.223Z",
     "iopub.status.busy": "2020-06-18T08:39:56.215Z",
     "iopub.status.idle": "2020-06-18T08:39:56.234Z",
     "shell.execute_reply": "2020-06-18T08:39:56.242Z"
    },
    "jupyter": {
     "outputs_hidden": false,
     "source_hidden": false
    },
    "nteract": {
     "transient": {
      "deleting": false
     }
    }
   },
   "outputs": [
    {
     "name": "stdout",
     "output_type": "stream",
     "text": [
      "'data.frame':\t902 obs. of  16 variables:\n",
      " $ Team        : chr  \"ANA\" \"ARI\" \"ATL\" \"BAL\" ...\n",
      " $ League      : chr  \"AL\" \"NL\" \"NL\" \"AL\" ...\n",
      " $ Year        : int  2001 2001 2001 2001 2001 2001 2001 2001 2001 2001 ...\n",
      " $ RS          : int  691 818 729 687 772 777 798 735 897 923 ...\n",
      " $ RA          : int  730 677 643 829 745 701 795 850 821 906 ...\n",
      " $ W           : int  75 92 88 63 82 88 83 66 91 73 ...\n",
      " $ OBP         : num  0.327 0.341 0.324 0.319 0.334 0.336 0.334 0.324 0.35 0.354 ...\n",
      " $ SLG         : num  0.405 0.442 0.412 0.38 0.439 0.43 0.451 0.419 0.458 0.483 ...\n",
      " $ BA          : num  0.261 0.267 0.26 0.248 0.266 0.261 0.268 0.262 0.278 0.292 ...\n",
      " $ Playoffs    : int  0 1 1 0 0 0 0 0 1 0 ...\n",
      " $ RankSeason  : int  NA 5 7 NA NA NA NA NA 6 NA ...\n",
      " $ RankPlayoffs: int  NA 1 3 NA NA NA NA NA 4 NA ...\n",
      " $ G           : int  162 162 162 162 161 162 162 162 162 162 ...\n",
      " $ OOBP        : num  0.331 0.311 0.314 0.337 0.329 0.321 0.334 0.341 0.341 0.35 ...\n",
      " $ OSLG        : num  0.412 0.404 0.384 0.439 0.393 0.398 0.427 0.455 0.417 0.48 ...\n",
      " $ RD          : int  -39 141 86 -142 27 76 3 -115 76 17 ...\n"
     ]
    }
   ],
   "source": [
    "moneyball$RD = moneyball$RS - moneyball$RA\n",
    "str(moneyball)"
   ]
  },
  {
   "cell_type": "code",
   "execution_count": 4,
   "metadata": {
    "collapsed": true,
    "execution": {
     "iopub.execute_input": "2020-06-18T08:40:01.171Z",
     "iopub.status.busy": "2020-06-18T08:40:01.165Z",
     "iopub.status.idle": "2020-06-18T08:40:01.638Z",
     "shell.execute_reply": "2020-06-18T08:40:01.649Z"
    },
    "jupyter": {
     "outputs_hidden": false,
     "source_hidden": false
    },
    "nteract": {
     "transient": {
      "deleting": false
     }
    }
   },
   "outputs": [
    {
     "data": {
      "text/plain": [
       "\n",
       "Call:\n",
       "lm(formula = W ~ RD, data = moneyball)\n",
       "\n",
       "Residuals:\n",
       "     Min       1Q   Median       3Q      Max \n",
       "-14.2662  -2.6509   0.1234   2.9364  11.6570 \n",
       "\n",
       "Coefficients:\n",
       "             Estimate Std. Error t value Pr(>|t|)    \n",
       "(Intercept) 80.881375   0.131157  616.67   <2e-16 ***\n",
       "RD           0.105766   0.001297   81.55   <2e-16 ***\n",
       "---\n",
       "Signif. codes:  0 ‘***’ 0.001 ‘**’ 0.01 ‘*’ 0.05 ‘.’ 0.1 ‘ ’ 1\n",
       "\n",
       "Residual standard error: 3.939 on 900 degrees of freedom\n",
       "Multiple R-squared:  0.8808,\tAdjusted R-squared:  0.8807 \n",
       "F-statistic:  6651 on 1 and 900 DF,  p-value: < 2.2e-16\n"
      ]
     },
     "metadata": {},
     "output_type": "display_data"
    }
   ],
   "source": [
    "PredictWins = lm(W ~ RD, data = moneyball)\n",
    "summary(PredictWins)"
   ]
  },
  {
   "cell_type": "markdown",
   "metadata": {
    "nteract": {
     "transient": {
      "deleting": false
     }
    }
   },
   "source": [
    "## 预测得分 \n",
    "我们想看看是否可以使用线性回归来使用三个统计数据(上垒率（OBP），长打率（SLG）和打击率（BA）)来预测得分（RS）。"
   ]
  },
  {
   "cell_type": "code",
   "execution_count": 5,
   "metadata": {
    "collapsed": true,
    "execution": {
     "iopub.execute_input": "2020-06-18T09:11:09.799Z",
     "iopub.status.busy": "2020-06-18T09:11:09.791Z",
     "iopub.status.idle": "2020-06-18T09:11:09.814Z",
     "shell.execute_reply": "2020-06-18T09:11:09.822Z"
    },
    "jupyter": {
     "outputs_hidden": false,
     "source_hidden": false
    },
    "nteract": {
     "transient": {
      "deleting": false
     }
    }
   },
   "outputs": [
    {
     "data": {
      "text/plain": [
       "\n",
       "Call:\n",
       "lm(formula = RS ~ OBP + SLG + BA, data = moneyball)\n",
       "\n",
       "Residuals:\n",
       "    Min      1Q  Median      3Q     Max \n",
       "-70.941 -17.247  -0.621  16.754  90.998 \n",
       "\n",
       "Coefficients:\n",
       "            Estimate Std. Error t value Pr(>|t|)    \n",
       "(Intercept)  -788.46      19.70 -40.029  < 2e-16 ***\n",
       "OBP          2917.42     110.47  26.410  < 2e-16 ***\n",
       "SLG          1637.93      45.99  35.612  < 2e-16 ***\n",
       "BA           -368.97     130.58  -2.826  0.00482 ** \n",
       "---\n",
       "Signif. codes:  0 ‘***’ 0.001 ‘**’ 0.01 ‘*’ 0.05 ‘.’ 0.1 ‘ ’ 1\n",
       "\n",
       "Residual standard error: 24.69 on 898 degrees of freedom\n",
       "Multiple R-squared:  0.9302,\tAdjusted R-squared:   0.93 \n",
       "F-statistic:  3989 on 3 and 898 DF,  p-value: < 2.2e-16\n"
      ]
     },
     "metadata": {},
     "output_type": "display_data"
    }
   ],
   "source": [
    "PredictRS = lm(RS ~ OBP + SLG + BA, data = moneyball)\n",
    "summary(PredictRS)"
   ]
  },
  {
   "cell_type": "markdown",
   "metadata": {
    "nteract": {
     "transient": {
      "deleting": false
     }
    }
   },
   "source": [
    "根据定义（您可以在网上找到这些定义），这三个统计数据彼此非常相似，它们可以衡量玩家的击球表现。这些统计数据越大，球员的击球表现就越好。因此，我们希望所有这些变量的系数都为正，因为更好的参与者应该导致更多的得分。BA的违反直觉的负系数表明该模型可能存在问题。如果我们只关心模型预测的准确性，那么模型就很好。但是，在这种情况下，团队依赖模型聘用潜在的参与者，因此错误的系数将导致严重的错误决策。   \n",
    "\n",
    "考虑到这些统计数据相互之间密切相关，因为它们都以定义稍有不同的方式来衡量击球表现，因此我们怀疑模型中可能存在一些多重共线性问题。我们可以检查这三个变量之间的相关性以确认这一点。"
   ]
  },
  {
   "cell_type": "code",
   "execution_count": 6,
   "metadata": {
    "collapsed": true,
    "execution": {
     "iopub.execute_input": "2020-06-18T09:16:37.930Z",
     "iopub.status.busy": "2020-06-18T09:16:37.920Z",
     "iopub.status.idle": "2020-06-18T09:16:38.157Z",
     "shell.execute_reply": "2020-06-18T09:16:38.233Z"
    },
    "jupyter": {
     "outputs_hidden": false,
     "source_hidden": false
    },
    "nteract": {
     "transient": {
      "deleting": false
     }
    }
   },
   "outputs": [
    {
     "data": {
      "text/html": [
       "<table>\n",
       "<caption>A matrix: 3 × 3 of type dbl</caption>\n",
       "<thead>\n",
       "\t<tr><th></th><th scope=col>moneyball.OBP</th><th scope=col>moneyball.SLG</th><th scope=col>moneyball.BA</th></tr>\n",
       "</thead>\n",
       "<tbody>\n",
       "\t<tr><th scope=row>moneyball.OBP</th><td>1.0000000</td><td>0.8061539</td><td>0.8540549</td></tr>\n",
       "\t<tr><th scope=row>moneyball.SLG</th><td>0.8061539</td><td>1.0000000</td><td>0.8140681</td></tr>\n",
       "\t<tr><th scope=row>moneyball.BA</th><td>0.8540549</td><td>0.8140681</td><td>1.0000000</td></tr>\n",
       "</tbody>\n",
       "</table>\n"
      ],
      "text/latex": [
       "A matrix: 3 × 3 of type dbl\n",
       "\\begin{tabular}{r|lll}\n",
       "  & moneyball.OBP & moneyball.SLG & moneyball.BA\\\\\n",
       "\\hline\n",
       "\tmoneyball.OBP & 1.0000000 & 0.8061539 & 0.8540549\\\\\n",
       "\tmoneyball.SLG & 0.8061539 & 1.0000000 & 0.8140681\\\\\n",
       "\tmoneyball.BA & 0.8540549 & 0.8140681 & 1.0000000\\\\\n",
       "\\end{tabular}\n"
      ],
      "text/markdown": [
       "\n",
       "A matrix: 3 × 3 of type dbl\n",
       "\n",
       "| <!--/--> | moneyball.OBP | moneyball.SLG | moneyball.BA |\n",
       "|---|---|---|---|\n",
       "| moneyball.OBP | 1.0000000 | 0.8061539 | 0.8540549 |\n",
       "| moneyball.SLG | 0.8061539 | 1.0000000 | 0.8140681 |\n",
       "| moneyball.BA | 0.8540549 | 0.8140681 | 1.0000000 |\n",
       "\n"
      ],
      "text/plain": [
       "              moneyball.OBP moneyball.SLG moneyball.BA\n",
       "moneyball.OBP 1.0000000     0.8061539     0.8540549   \n",
       "moneyball.SLG 0.8061539     1.0000000     0.8140681   \n",
       "moneyball.BA  0.8540549     0.8140681     1.0000000   "
      ]
     },
     "metadata": {},
     "output_type": "display_data"
    }
   ],
   "source": [
    "cor(data.frame(moneyball$OBP, moneyball$SLG, moneyball$BA))"
   ]
  },
  {
   "cell_type": "markdown",
   "metadata": {
    "nteract": {
     "transient": {
      "deleting": false
     }
    }
   },
   "source": [
    "我们可以看到这三个变量确实彼此高度相关，因为所有相关系数都大于0.8。要决定保留哪个变量，我们需要执行更多分析。\n",
    "\n",
    "首先，让我们分别对这三个变量进行单变量分析，以检查其预测能力。通过单变量分析，即运行单变量线性回归。"
   ]
  },
  {
   "cell_type": "code",
   "execution_count": 7,
   "metadata": {
    "collapsed": true,
    "execution": {
     "iopub.execute_input": "2020-06-18T09:16:58.814Z",
     "iopub.status.busy": "2020-06-18T09:16:58.804Z",
     "iopub.status.idle": "2020-06-18T09:16:58.836Z",
     "shell.execute_reply": "2020-06-18T09:16:58.845Z"
    },
    "jupyter": {
     "outputs_hidden": false,
     "source_hidden": false
    },
    "nteract": {
     "transient": {
      "deleting": false
     }
    }
   },
   "outputs": [
    {
     "data": {
      "text/plain": [
       "\n",
       "Call:\n",
       "lm(formula = RS ~ OBP, data = moneyball)\n",
       "\n",
       "Residuals:\n",
       "     Min       1Q   Median       3Q      Max \n",
       "-118.317  -26.729    1.211   26.849  132.115 \n",
       "\n",
       "Coefficients:\n",
       "            Estimate Std. Error t value Pr(>|t|)    \n",
       "(Intercept) -1079.02      27.98  -38.56   <2e-16 ***\n",
       "OBP          5486.30      86.01   63.78   <2e-16 ***\n",
       "---\n",
       "Signif. codes:  0 ‘***’ 0.001 ‘**’ 0.01 ‘*’ 0.05 ‘.’ 0.1 ‘ ’ 1\n",
       "\n",
       "Residual standard error: 39.74 on 900 degrees of freedom\n",
       "Multiple R-squared:  0.8189,\tAdjusted R-squared:  0.8187 \n",
       "F-statistic:  4069 on 1 and 900 DF,  p-value: < 2.2e-16\n"
      ]
     },
     "metadata": {},
     "output_type": "display_data"
    }
   ],
   "source": [
    "PredictRS1 = lm(RS ~ OBP, data = moneyball)\n",
    "summary(PredictRS1)"
   ]
  },
  {
   "cell_type": "code",
   "execution_count": 8,
   "metadata": {
    "collapsed": true,
    "execution": {
     "iopub.execute_input": "2020-06-18T09:18:11.835Z",
     "iopub.status.busy": "2020-06-18T09:18:11.824Z",
     "iopub.status.idle": "2020-06-18T09:18:11.853Z",
     "shell.execute_reply": "2020-06-18T09:18:11.859Z"
    },
    "jupyter": {
     "outputs_hidden": false,
     "source_hidden": false
    },
    "nteract": {
     "transient": {
      "deleting": false
     }
    }
   },
   "outputs": [
    {
     "data": {
      "text/plain": [
       "\n",
       "Call:\n",
       "lm(formula = RS ~ OBP, data = moneyball)\n",
       "\n",
       "Residuals:\n",
       "     Min       1Q   Median       3Q      Max \n",
       "-118.317  -26.729    1.211   26.849  132.115 \n",
       "\n",
       "Coefficients:\n",
       "            Estimate Std. Error t value Pr(>|t|)    \n",
       "(Intercept) -1079.02      27.98  -38.56   <2e-16 ***\n",
       "OBP          5486.30      86.01   63.78   <2e-16 ***\n",
       "---\n",
       "Signif. codes:  0 ‘***’ 0.001 ‘**’ 0.01 ‘*’ 0.05 ‘.’ 0.1 ‘ ’ 1\n",
       "\n",
       "Residual standard error: 39.74 on 900 degrees of freedom\n",
       "Multiple R-squared:  0.8189,\tAdjusted R-squared:  0.8187 \n",
       "F-statistic:  4069 on 1 and 900 DF,  p-value: < 2.2e-16\n"
      ]
     },
     "metadata": {},
     "output_type": "display_data"
    }
   ],
   "source": [
    "PredictRS1 = lm(RS ~ OBP, data = moneyball)\n",
    "summary(PredictRS1)"
   ]
  },
  {
   "cell_type": "code",
   "execution_count": 9,
   "metadata": {
    "collapsed": true,
    "execution": {
     "iopub.execute_input": "2020-06-18T09:18:20.526Z",
     "iopub.status.busy": "2020-06-18T09:18:20.516Z",
     "iopub.status.idle": "2020-06-18T09:18:20.548Z",
     "shell.execute_reply": "2020-06-18T09:18:20.557Z"
    },
    "jupyter": {
     "outputs_hidden": false,
     "source_hidden": false
    },
    "nteract": {
     "transient": {
      "deleting": false
     }
    }
   },
   "outputs": [
    {
     "data": {
      "text/plain": [
       "\n",
       "Call:\n",
       "lm(formula = RS ~ SLG, data = moneyball)\n",
       "\n",
       "Residuals:\n",
       "     Min       1Q   Median       3Q      Max \n",
       "-103.113  -24.343   -1.906   22.544  126.598 \n",
       "\n",
       "Coefficients:\n",
       "            Estimate Std. Error t value Pr(>|t|)    \n",
       "(Intercept)  -315.51      13.86  -22.76   <2e-16 ***\n",
       "SLG          2610.88      35.38   73.80   <2e-16 ***\n",
       "---\n",
       "Signif. codes:  0 ‘***’ 0.001 ‘**’ 0.01 ‘*’ 0.05 ‘.’ 0.1 ‘ ’ 1\n",
       "\n",
       "Residual standard error: 35.16 on 900 degrees of freedom\n",
       "Multiple R-squared:  0.8582,\tAdjusted R-squared:  0.858 \n",
       "F-statistic:  5446 on 1 and 900 DF,  p-value: < 2.2e-16\n"
      ]
     },
     "metadata": {},
     "output_type": "display_data"
    }
   ],
   "source": [
    "PredictRS2 = lm(RS ~ SLG, data = moneyball)\n",
    "summary(PredictRS2)"
   ]
  },
  {
   "cell_type": "code",
   "execution_count": 10,
   "metadata": {
    "collapsed": true,
    "execution": {
     "iopub.execute_input": "2020-06-18T09:18:26.383Z",
     "iopub.status.busy": "2020-06-18T09:18:26.370Z",
     "iopub.status.idle": "2020-06-18T09:18:26.401Z",
     "shell.execute_reply": "2020-06-18T09:18:26.409Z"
    },
    "jupyter": {
     "outputs_hidden": false,
     "source_hidden": false
    },
    "nteract": {
     "transient": {
      "deleting": false
     }
    }
   },
   "outputs": [
    {
     "data": {
      "text/plain": [
       "\n",
       "Call:\n",
       "lm(formula = RS ~ BA, data = moneyball)\n",
       "\n",
       "Residuals:\n",
       "     Min       1Q   Median       3Q      Max \n",
       "-153.815  -37.476   -2.814   34.911  184.236 \n",
       "\n",
       "Coefficients:\n",
       "            Estimate Std. Error t value Pr(>|t|)    \n",
       "(Intercept)  -806.35      33.66  -23.96   <2e-16 ***\n",
       "BA           5849.88     130.21   44.92   <2e-16 ***\n",
       "---\n",
       "Signif. codes:  0 ‘***’ 0.001 ‘**’ 0.01 ‘*’ 0.05 ‘.’ 0.1 ‘ ’ 1\n",
       "\n",
       "Residual standard error: 51.85 on 900 degrees of freedom\n",
       "Multiple R-squared:  0.6916,\tAdjusted R-squared:  0.6913 \n",
       "F-statistic:  2018 on 1 and 900 DF,  p-value: < 2.2e-16\n"
      ]
     },
     "metadata": {},
     "output_type": "display_data"
    }
   ],
   "source": [
    "PredictRS3 = lm(RS ~ BA, data = moneyball)\n",
    "summary(PredictRS3)"
   ]
  },
  {
   "cell_type": "markdown",
   "metadata": {
    "nteract": {
     "transient": {
      "deleting": false
     }
    }
   },
   "source": [
    "上面的单变量分析表明，单独使用OBP和SLG可以得到更高的$R^2$. OBP的系数远大于SLG。让我们用OBP和SLG进行多元线性回归来确认发现。"
   ]
  },
  {
   "cell_type": "code",
   "execution_count": 11,
   "metadata": {
    "collapsed": true,
    "execution": {
     "iopub.execute_input": "2020-06-18T09:23:43.021Z",
     "iopub.status.busy": "2020-06-18T09:23:43.009Z",
     "iopub.status.idle": "2020-06-18T09:23:43.040Z",
     "shell.execute_reply": "2020-06-18T09:23:43.051Z"
    },
    "jupyter": {
     "outputs_hidden": false,
     "source_hidden": false
    },
    "nteract": {
     "transient": {
      "deleting": false
     }
    }
   },
   "outputs": [
    {
     "data": {
      "text/plain": [
       "\n",
       "Call:\n",
       "lm(formula = RS ~ SLG + OBP, data = moneyball)\n",
       "\n",
       "Residuals:\n",
       "    Min      1Q  Median      3Q     Max \n",
       "-70.838 -17.174  -1.108  16.770  90.036 \n",
       "\n",
       "Coefficients:\n",
       "            Estimate Std. Error t value Pr(>|t|)    \n",
       "(Intercept)  -804.63      18.92  -42.53   <2e-16 ***\n",
       "SLG          1584.91      42.16   37.60   <2e-16 ***\n",
       "OBP          2737.77      90.68   30.19   <2e-16 ***\n",
       "---\n",
       "Signif. codes:  0 ‘***’ 0.001 ‘**’ 0.01 ‘*’ 0.05 ‘.’ 0.1 ‘ ’ 1\n",
       "\n",
       "Residual standard error: 24.79 on 899 degrees of freedom\n",
       "Multiple R-squared:  0.9296,\tAdjusted R-squared:  0.9294 \n",
       "F-statistic:  5934 on 2 and 899 DF,  p-value: < 2.2e-16\n"
      ]
     },
     "metadata": {},
     "output_type": "display_data"
    }
   ],
   "source": [
    "PredictRS4 = lm(RS ~ SLG + OBP, data = moneyball)\n",
    "summary(PredictRS4)"
   ]
  },
  {
   "cell_type": "markdown",
   "metadata": {
    "nteract": {
     "transient": {
      "deleting": false
     }
    }
   },
   "source": [
    "我们可以观察到, 这一模型的$R^2$近似于有三个因子变量的$R^2$ :$0.9302$.  换句话说，BA的效果几乎可以被OBP和SLG捕获。如Moneyball所述，OBP和SLG的系数确定了变量的相对重要性。如果进一步的分析,会发现其他组合的$R^2$将大大小于0.9302\n",
    "\n",
    "我们决定保留`OBP`和`SLG`，即使它们彼此高度相关，这有两个主要原因. 一, 使用两个因子的模型的$R^2$高于使用单个因子的模型的$R^2$,这表明每个变量中都有大量信息无法被另一个变量捕获。其次，两个变量的系数均显着为正，并且其大小与单变量分析一致。"
   ]
  },
  {
   "cell_type": "markdown",
   "metadata": {
    "nteract": {
     "transient": {
      "deleting": false
     }
    }
   },
   "source": [
    "## 预测失分\n",
    "我们可以进行类似的线性回归分析，以构建模型来预测失分."
   ]
  },
  {
   "cell_type": "code",
   "execution_count": 12,
   "metadata": {
    "collapsed": true,
    "execution": {
     "iopub.execute_input": "2020-06-18T09:27:29.587Z",
     "iopub.status.busy": "2020-06-18T09:27:29.577Z",
     "iopub.status.idle": "2020-06-18T09:27:29.608Z",
     "shell.execute_reply": "2020-06-18T09:27:29.617Z"
    },
    "jupyter": {
     "outputs_hidden": false,
     "source_hidden": false
    },
    "nteract": {
     "transient": {
      "deleting": false
     }
    }
   },
   "outputs": [
    {
     "data": {
      "text/plain": [
       "\n",
       "Call:\n",
       "lm(formula = RA ~ OOBP + OSLG, data = moneyball)\n",
       "\n",
       "Residuals:\n",
       "    Min      1Q  Median      3Q     Max \n",
       "-82.397 -15.178  -0.129  17.679  60.955 \n",
       "\n",
       "Coefficients:\n",
       "            Estimate Std. Error t value Pr(>|t|)    \n",
       "(Intercept)  -837.38      60.26 -13.897  < 2e-16 ***\n",
       "OOBP         2913.60     291.97   9.979 4.46e-16 ***\n",
       "OSLG         1514.29     175.43   8.632 2.55e-13 ***\n",
       "---\n",
       "Signif. codes:  0 ‘***’ 0.001 ‘**’ 0.01 ‘*’ 0.05 ‘.’ 0.1 ‘ ’ 1\n",
       "\n",
       "Residual standard error: 25.67 on 87 degrees of freedom\n",
       "  (812 observations deleted due to missingness)\n",
       "Multiple R-squared:  0.9073,\tAdjusted R-squared:  0.9052 \n",
       "F-statistic: 425.8 on 2 and 87 DF,  p-value: < 2.2e-16\n"
      ]
     },
     "metadata": {},
     "output_type": "display_data"
    }
   ],
   "source": [
    "PredictRA = lm(RA ~ OOBP + OSLG, data = moneyball)\n",
    "summary(PredictRA)"
   ]
  }
 ],
 "metadata": {
  "kernel_info": {
   "name": "ir40"
  },
  "kernelspec": {
   "argv": [
    "/usr/lib/R/bin/R",
    "--slave",
    "-e",
    "IRkernel::main()",
    "--args",
    "{connection_file}"
   ],
   "display_name": "R 4.0",
   "language": "R",
   "name": "ir40"
  },
  "language_info": {
   "codemirror_mode": "r",
   "file_extension": ".r",
   "mimetype": "text/x-r-source",
   "name": "R",
   "pygments_lexer": "r",
   "version": "4.0.1"
  },
  "nteract": {
   "version": "0.23.3"
  }
 },
 "nbformat": 4,
 "nbformat_minor": 0
}