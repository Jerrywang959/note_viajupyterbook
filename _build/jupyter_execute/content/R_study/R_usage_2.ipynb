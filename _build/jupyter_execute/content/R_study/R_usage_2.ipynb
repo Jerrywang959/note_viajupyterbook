{
 "cells": [
  {
   "cell_type": "markdown",
   "metadata": {
    "nteract": {
     "transient": {
      "deleting": false
     }
    }
   },
   "source": [
    "# DataFrame\n",
    "\n",
    "创建一个DataFrame"
   ]
  },
  {
   "cell_type": "code",
   "execution_count": 1,
   "metadata": {
    "collapsed": true,
    "execution": {
     "iopub.execute_input": "2020-05-09T00:02:25.004535Z",
     "iopub.status.busy": "2020-05-09T00:02:25.001804Z",
     "iopub.status.idle": "2020-05-09T00:02:25.080696Z",
     "shell.execute_reply": "2020-05-09T00:02:25.079096Z"
    },
    "jupyter": {
     "outputs_hidden": false,
     "source_hidden": false
    },
    "nteract": {
     "transient": {
      "deleting": false
     }
    },
    "outputExpanded": false
   },
   "outputs": [
    {
     "data": {
      "text/html": [
       "<table>\n",
       "<caption>A data.frame: 5 × 2</caption>\n",
       "<thead>\n",
       "\t<tr><th scope=col>Country</th><th scope=col>LifeExpectancy</th></tr>\n",
       "\t<tr><th scope=col>&lt;fct&gt;</th><th scope=col>&lt;dbl&gt;</th></tr>\n",
       "</thead>\n",
       "<tbody>\n",
       "\t<tr><td>Brazil     </td><td>74</td></tr>\n",
       "\t<tr><td>China      </td><td>76</td></tr>\n",
       "\t<tr><td>India      </td><td>65</td></tr>\n",
       "\t<tr><td>Switzerland</td><td>83</td></tr>\n",
       "\t<tr><td>USA        </td><td>79</td></tr>\n",
       "</tbody>\n",
       "</table>\n"
      ],
      "text/latex": [
       "A data.frame: 5 × 2\n",
       "\\begin{tabular}{ll}\n",
       " Country & LifeExpectancy\\\\\n",
       " <fct> & <dbl>\\\\\n",
       "\\hline\n",
       "\t Brazil      & 74\\\\\n",
       "\t China       & 76\\\\\n",
       "\t India       & 65\\\\\n",
       "\t Switzerland & 83\\\\\n",
       "\t USA         & 79\\\\\n",
       "\\end{tabular}\n"
      ],
      "text/markdown": [
       "\n",
       "A data.frame: 5 × 2\n",
       "\n",
       "| Country &lt;fct&gt; | LifeExpectancy &lt;dbl&gt; |\n",
       "|---|---|\n",
       "| Brazil      | 74 |\n",
       "| China       | 76 |\n",
       "| India       | 65 |\n",
       "| Switzerland | 83 |\n",
       "| USA         | 79 |\n",
       "\n"
      ],
      "text/plain": [
       "  Country     LifeExpectancy\n",
       "1 Brazil      74            \n",
       "2 China       76            \n",
       "3 India       65            \n",
       "4 Switzerland 83            \n",
       "5 USA         79            "
      ]
     },
     "metadata": {},
     "output_type": "display_data"
    }
   ],
   "source": [
    "Country = c(\"Brazil\", \"China\", \"India\", \"Switzerland\", \"USA\")\n",
    "LifeExpectancy = c(74, 76, 65, 83, 79)\n",
    "Data = data.frame(Country, LifeExpectancy)\n",
    "Data"
   ]
  },
  {
   "cell_type": "markdown",
   "metadata": {
    "nteract": {
     "transient": {
      "deleting": false
     }
    }
   },
   "source": [
    "给DataFrame增加列"
   ]
  },
  {
   "cell_type": "code",
   "execution_count": 2,
   "metadata": {
    "collapsed": true,
    "execution": {
     "iopub.execute_input": "2020-05-09T00:02:25.120618Z",
     "iopub.status.busy": "2020-05-09T00:02:25.084844Z",
     "iopub.status.idle": "2020-05-09T00:02:25.149227Z",
     "shell.execute_reply": "2020-05-09T00:02:25.147404Z"
    },
    "jupyter": {
     "outputs_hidden": false,
     "source_hidden": false
    },
    "nteract": {
     "transient": {
      "deleting": false
     }
    },
    "outputExpanded": false
   },
   "outputs": [
    {
     "data": {
      "text/html": [
       "<table>\n",
       "<caption>A data.frame: 5 × 3</caption>\n",
       "<thead>\n",
       "\t<tr><th scope=col>Country</th><th scope=col>LifeExpectancy</th><th scope=col>Population</th></tr>\n",
       "\t<tr><th scope=col>&lt;fct&gt;</th><th scope=col>&lt;dbl&gt;</th><th scope=col>&lt;dbl&gt;</th></tr>\n",
       "</thead>\n",
       "<tbody>\n",
       "\t<tr><td>Brazil     </td><td>74</td><td> 199000</td></tr>\n",
       "\t<tr><td>China      </td><td>76</td><td>1390000</td></tr>\n",
       "\t<tr><td>India      </td><td>65</td><td>1240000</td></tr>\n",
       "\t<tr><td>Switzerland</td><td>83</td><td>   7997</td></tr>\n",
       "\t<tr><td>USA        </td><td>79</td><td> 318000</td></tr>\n",
       "</tbody>\n",
       "</table>\n"
      ],
      "text/latex": [
       "A data.frame: 5 × 3\n",
       "\\begin{tabular}{lll}\n",
       " Country & LifeExpectancy & Population\\\\\n",
       " <fct> & <dbl> & <dbl>\\\\\n",
       "\\hline\n",
       "\t Brazil      & 74 &  199000\\\\\n",
       "\t China       & 76 & 1390000\\\\\n",
       "\t India       & 65 & 1240000\\\\\n",
       "\t Switzerland & 83 &    7997\\\\\n",
       "\t USA         & 79 &  318000\\\\\n",
       "\\end{tabular}\n"
      ],
      "text/markdown": [
       "\n",
       "A data.frame: 5 × 3\n",
       "\n",
       "| Country &lt;fct&gt; | LifeExpectancy &lt;dbl&gt; | Population &lt;dbl&gt; |\n",
       "|---|---|---|\n",
       "| Brazil      | 74 |  199000 |\n",
       "| China       | 76 | 1390000 |\n",
       "| India       | 65 | 1240000 |\n",
       "| Switzerland | 83 |    7997 |\n",
       "| USA         | 79 |  318000 |\n",
       "\n"
      ],
      "text/plain": [
       "  Country     LifeExpectancy Population\n",
       "1 Brazil      74              199000   \n",
       "2 China       76             1390000   \n",
       "3 India       65             1240000   \n",
       "4 Switzerland 83                7997   \n",
       "5 USA         79              318000   "
      ]
     },
     "metadata": {},
     "output_type": "display_data"
    }
   ],
   "source": [
    "Population = c(199000, 1390000, 1240000, 7997, 318000)\n",
    "Data2 = cbind(Data, Population)\n",
    "Data2"
   ]
  },
  {
   "cell_type": "markdown",
   "metadata": {
    "nteract": {
     "transient": {
      "deleting": false
     }
    }
   },
   "source": [
    "给DataFrame增加行"
   ]
  },
  {
   "cell_type": "code",
   "execution_count": 3,
   "metadata": {
    "collapsed": true,
    "execution": {
     "iopub.execute_input": "2020-05-09T00:02:25.153943Z",
     "iopub.status.busy": "2020-05-09T00:02:25.152658Z",
     "iopub.status.idle": "2020-05-09T00:02:25.186743Z",
     "shell.execute_reply": "2020-05-09T00:02:25.183850Z"
    },
    "jupyter": {
     "outputs_hidden": false,
     "source_hidden": false
    },
    "nteract": {
     "transient": {
      "deleting": false
     }
    },
    "outputExpanded": false
   },
   "outputs": [
    {
     "data": {
      "text/html": [
       "<table>\n",
       "<caption>A data.frame: 2 × 3</caption>\n",
       "<thead>\n",
       "\t<tr><th scope=col>Country</th><th scope=col>LifeExpectancy</th><th scope=col>Population</th></tr>\n",
       "\t<tr><th scope=col>&lt;fct&gt;</th><th scope=col>&lt;dbl&gt;</th><th scope=col>&lt;dbl&gt;</th></tr>\n",
       "</thead>\n",
       "<tbody>\n",
       "\t<tr><td>Australia</td><td>82</td><td>23050</td></tr>\n",
       "\t<tr><td>Greece   </td><td>81</td><td>11125</td></tr>\n",
       "</tbody>\n",
       "</table>\n"
      ],
      "text/latex": [
       "A data.frame: 2 × 3\n",
       "\\begin{tabular}{lll}\n",
       " Country & LifeExpectancy & Population\\\\\n",
       " <fct> & <dbl> & <dbl>\\\\\n",
       "\\hline\n",
       "\t Australia & 82 & 23050\\\\\n",
       "\t Greece    & 81 & 11125\\\\\n",
       "\\end{tabular}\n"
      ],
      "text/markdown": [
       "\n",
       "A data.frame: 2 × 3\n",
       "\n",
       "| Country &lt;fct&gt; | LifeExpectancy &lt;dbl&gt; | Population &lt;dbl&gt; |\n",
       "|---|---|---|\n",
       "| Australia | 82 | 23050 |\n",
       "| Greece    | 81 | 11125 |\n",
       "\n"
      ],
      "text/plain": [
       "  Country   LifeExpectancy Population\n",
       "1 Australia 82             23050     \n",
       "2 Greece    81             11125     "
      ]
     },
     "metadata": {},
     "output_type": "display_data"
    }
   ],
   "source": [
    "Country = c(\"Australia\", \"Greece\")\n",
    "LifeExpectancy = c(82, 81)\n",
    "Population = c(23050, 11125)\n",
    "NewData = data.frame(Country, LifeExpectancy, Population)\n",
    "NewData"
   ]
  },
  {
   "cell_type": "code",
   "execution_count": 4,
   "metadata": {
    "collapsed": true,
    "execution": {
     "iopub.execute_input": "2020-05-09T00:02:25.193605Z",
     "iopub.status.busy": "2020-05-09T00:02:25.191479Z",
     "iopub.status.idle": "2020-05-09T00:02:25.219738Z",
     "shell.execute_reply": "2020-05-09T00:02:25.217989Z"
    },
    "jupyter": {
     "outputs_hidden": false,
     "source_hidden": false
    },
    "nteract": {
     "transient": {
      "deleting": false
     }
    },
    "outputExpanded": false
   },
   "outputs": [
    {
     "data": {
      "text/html": [
       "<table>\n",
       "<caption>A data.frame: 7 × 3</caption>\n",
       "<thead>\n",
       "\t<tr><th scope=col>Country</th><th scope=col>LifeExpectancy</th><th scope=col>Population</th></tr>\n",
       "\t<tr><th scope=col>&lt;fct&gt;</th><th scope=col>&lt;dbl&gt;</th><th scope=col>&lt;dbl&gt;</th></tr>\n",
       "</thead>\n",
       "<tbody>\n",
       "\t<tr><td>Brazil     </td><td>74</td><td> 199000</td></tr>\n",
       "\t<tr><td>China      </td><td>76</td><td>1390000</td></tr>\n",
       "\t<tr><td>India      </td><td>65</td><td>1240000</td></tr>\n",
       "\t<tr><td>Switzerland</td><td>83</td><td>   7997</td></tr>\n",
       "\t<tr><td>USA        </td><td>79</td><td> 318000</td></tr>\n",
       "\t<tr><td>Australia  </td><td>82</td><td>  23050</td></tr>\n",
       "\t<tr><td>Greece     </td><td>81</td><td>  11125</td></tr>\n",
       "</tbody>\n",
       "</table>\n"
      ],
      "text/latex": [
       "A data.frame: 7 × 3\n",
       "\\begin{tabular}{lll}\n",
       " Country & LifeExpectancy & Population\\\\\n",
       " <fct> & <dbl> & <dbl>\\\\\n",
       "\\hline\n",
       "\t Brazil      & 74 &  199000\\\\\n",
       "\t China       & 76 & 1390000\\\\\n",
       "\t India       & 65 & 1240000\\\\\n",
       "\t Switzerland & 83 &    7997\\\\\n",
       "\t USA         & 79 &  318000\\\\\n",
       "\t Australia   & 82 &   23050\\\\\n",
       "\t Greece      & 81 &   11125\\\\\n",
       "\\end{tabular}\n"
      ],
      "text/markdown": [
       "\n",
       "A data.frame: 7 × 3\n",
       "\n",
       "| Country &lt;fct&gt; | LifeExpectancy &lt;dbl&gt; | Population &lt;dbl&gt; |\n",
       "|---|---|---|\n",
       "| Brazil      | 74 |  199000 |\n",
       "| China       | 76 | 1390000 |\n",
       "| India       | 65 | 1240000 |\n",
       "| Switzerland | 83 |    7997 |\n",
       "| USA         | 79 |  318000 |\n",
       "| Australia   | 82 |   23050 |\n",
       "| Greece      | 81 |   11125 |\n",
       "\n"
      ],
      "text/plain": [
       "  Country     LifeExpectancy Population\n",
       "1 Brazil      74              199000   \n",
       "2 China       76             1390000   \n",
       "3 India       65             1240000   \n",
       "4 Switzerland 83                7997   \n",
       "5 USA         79              318000   \n",
       "6 Australia   82               23050   \n",
       "7 Greece      81               11125   "
      ]
     },
     "metadata": {},
     "output_type": "display_data"
    }
   ],
   "source": [
    "Data3 = rbind(Data2, NewData)\n",
    "Data3"
   ]
  },
  {
   "cell_type": "markdown",
   "metadata": {
    "nteract": {
     "transient": {
      "deleting": false
     }
    }
   },
   "source": [
    "# DataFrame获得数据概要"
   ]
  },
  {
   "cell_type": "markdown",
   "metadata": {
    "nteract": {
     "transient": {
      "deleting": false
     }
    }
   },
   "source": [
    "获取当前路径"
   ]
  },
  {
   "cell_type": "code",
   "execution_count": 5,
   "metadata": {
    "collapsed": true,
    "execution": {
     "iopub.execute_input": "2020-05-09T00:02:25.225395Z",
     "iopub.status.busy": "2020-05-09T00:02:25.223612Z",
     "iopub.status.idle": "2020-05-09T00:02:25.241452Z",
     "shell.execute_reply": "2020-05-09T00:02:25.240105Z"
    },
    "jupyter": {
     "outputs_hidden": false,
     "source_hidden": false
    },
    "nteract": {
     "transient": {
      "deleting": false
     }
    },
    "outputExpanded": false
   },
   "outputs": [
    {
     "data": {
      "text/html": [
       "'/home/jerrywang/GitHub/note_viajupyterbook/mynote'"
      ],
      "text/latex": [
       "'/home/jerrywang/GitHub/note\\_viajupyterbook/mynote'"
      ],
      "text/markdown": [
       "'/home/jerrywang/GitHub/note_viajupyterbook/mynote'"
      ],
      "text/plain": [
       "[1] \"/home/jerrywang/GitHub/note_viajupyterbook/mynote\""
      ]
     },
     "metadata": {},
     "output_type": "display_data"
    }
   ],
   "source": [
    "getwd()"
   ]
  },
  {
   "cell_type": "markdown",
   "metadata": {
    "nteract": {
     "transient": {
      "deleting": false
     }
    }
   },
   "source": [
    "读取数据文件，这包含了世界卫生组织（WHO）在所有国家/地区的最新统计数据"
   ]
  },
  {
   "cell_type": "code",
   "execution_count": 6,
   "metadata": {
    "collapsed": true,
    "execution": {
     "iopub.execute_input": "2020-05-09T00:02:25.247327Z",
     "iopub.status.busy": "2020-05-09T00:02:25.245249Z",
     "iopub.status.idle": "2020-05-09T00:02:25.404005Z",
     "shell.execute_reply": "2020-05-09T00:02:25.404657Z"
    },
    "jupyter": {
     "outputs_hidden": false,
     "source_hidden": false
    },
    "nteract": {
     "transient": {
      "deleting": false
     }
    },
    "outputExpanded": false
   },
   "outputs": [
    {
     "data": {
      "text/html": [
       "<table>\n",
       "<caption>A data.frame: 194 × 13</caption>\n",
       "<thead>\n",
       "\t<tr><th scope=col>Country</th><th scope=col>Region</th><th scope=col>Population</th><th scope=col>Under15</th><th scope=col>Over60</th><th scope=col>FertilityRate</th><th scope=col>LifeExpectancy</th><th scope=col>ChildMortality</th><th scope=col>CellularSubscribers</th><th scope=col>LiteracyRate</th><th scope=col>GNI</th><th scope=col>PrimarySchoolEnrollmentMale</th><th scope=col>PrimarySchoolEnrollmentFemale</th></tr>\n",
       "\t<tr><th scope=col>&lt;fct&gt;</th><th scope=col>&lt;fct&gt;</th><th scope=col>&lt;int&gt;</th><th scope=col>&lt;dbl&gt;</th><th scope=col>&lt;dbl&gt;</th><th scope=col>&lt;dbl&gt;</th><th scope=col>&lt;int&gt;</th><th scope=col>&lt;dbl&gt;</th><th scope=col>&lt;dbl&gt;</th><th scope=col>&lt;dbl&gt;</th><th scope=col>&lt;dbl&gt;</th><th scope=col>&lt;dbl&gt;</th><th scope=col>&lt;dbl&gt;</th></tr>\n",
       "</thead>\n",
       "<tbody>\n",
       "\t<tr><td>Afghanistan                     </td><td>Eastern Mediterranean</td><td> 29825</td><td>47.42</td><td> 3.82</td><td>5.40</td><td>60</td><td> 98.5</td><td> 54.26</td><td>  NA</td><td> 1140</td><td>  NA</td><td>  NA</td></tr>\n",
       "\t<tr><td>Albania                         </td><td>Europe               </td><td>  3162</td><td>21.33</td><td>14.93</td><td>1.75</td><td>74</td><td> 16.7</td><td> 96.39</td><td>  NA</td><td> 8820</td><td>  NA</td><td>  NA</td></tr>\n",
       "\t<tr><td>Algeria                         </td><td>Africa               </td><td> 38482</td><td>27.42</td><td> 7.17</td><td>2.83</td><td>73</td><td> 20.0</td><td> 98.99</td><td>  NA</td><td> 8310</td><td>98.2</td><td>96.4</td></tr>\n",
       "\t<tr><td>Andorra                         </td><td>Europe               </td><td>    78</td><td>15.20</td><td>22.86</td><td>  NA</td><td>82</td><td>  3.2</td><td> 75.49</td><td>  NA</td><td>   NA</td><td>78.4</td><td>79.4</td></tr>\n",
       "\t<tr><td>Angola                          </td><td>Africa               </td><td> 20821</td><td>47.58</td><td> 3.84</td><td>6.10</td><td>51</td><td>163.5</td><td> 48.38</td><td>70.1</td><td> 5230</td><td>93.1</td><td>78.2</td></tr>\n",
       "\t<tr><td>Antigua and Barbuda             </td><td>Americas             </td><td>    89</td><td>25.96</td><td>12.35</td><td>2.12</td><td>75</td><td>  9.9</td><td>196.41</td><td>99.0</td><td>17900</td><td>91.1</td><td>84.5</td></tr>\n",
       "\t<tr><td>Argentina                       </td><td>Americas             </td><td> 41087</td><td>24.42</td><td>14.97</td><td>2.20</td><td>76</td><td> 14.2</td><td>134.92</td><td>97.8</td><td>17130</td><td>  NA</td><td>  NA</td></tr>\n",
       "\t<tr><td>Armenia                         </td><td>Europe               </td><td>  2969</td><td>20.34</td><td>14.06</td><td>1.74</td><td>71</td><td> 16.4</td><td>103.57</td><td>99.6</td><td> 6100</td><td>  NA</td><td>  NA</td></tr>\n",
       "\t<tr><td>Australia                       </td><td>Western Pacific      </td><td> 23050</td><td>18.95</td><td>19.46</td><td>1.89</td><td>82</td><td>  4.9</td><td>108.34</td><td>  NA</td><td>38110</td><td>96.9</td><td>97.5</td></tr>\n",
       "\t<tr><td>Austria                         </td><td>Europe               </td><td>  8464</td><td>14.51</td><td>23.52</td><td>1.44</td><td>81</td><td>  4.0</td><td>154.78</td><td>  NA</td><td>42050</td><td>  NA</td><td>  NA</td></tr>\n",
       "\t<tr><td>Azerbaijan                      </td><td>Europe               </td><td>  9309</td><td>22.25</td><td> 8.24</td><td>1.96</td><td>71</td><td> 35.2</td><td>108.75</td><td>  NA</td><td> 8960</td><td>85.3</td><td>84.1</td></tr>\n",
       "\t<tr><td>Bahamas                         </td><td>Americas             </td><td>   372</td><td>21.62</td><td>11.24</td><td>1.90</td><td>75</td><td> 16.9</td><td> 86.06</td><td>  NA</td><td>   NA</td><td>  NA</td><td>  NA</td></tr>\n",
       "\t<tr><td>Bahrain                         </td><td>Eastern Mediterranean</td><td>  1318</td><td>20.16</td><td> 3.38</td><td>2.12</td><td>79</td><td>  9.6</td><td>127.96</td><td>91.9</td><td>   NA</td><td>  NA</td><td>  NA</td></tr>\n",
       "\t<tr><td>Bangladesh                      </td><td>South-East Asia      </td><td>155000</td><td>30.57</td><td> 6.89</td><td>2.24</td><td>70</td><td> 40.9</td><td> 56.06</td><td>56.8</td><td> 1940</td><td>  NA</td><td>  NA</td></tr>\n",
       "\t<tr><td>Barbados                        </td><td>Americas             </td><td>   283</td><td>18.99</td><td>15.78</td><td>1.84</td><td>78</td><td> 18.4</td><td>127.01</td><td>  NA</td><td>   NA</td><td>  NA</td><td>  NA</td></tr>\n",
       "\t<tr><td>Belarus                         </td><td>Europe               </td><td>  9405</td><td>15.10</td><td>19.31</td><td>1.47</td><td>71</td><td>  5.2</td><td>111.88</td><td>  NA</td><td>14460</td><td>  NA</td><td>  NA</td></tr>\n",
       "\t<tr><td>Belgium                         </td><td>Europe               </td><td> 11060</td><td>16.88</td><td>23.81</td><td>1.85</td><td>80</td><td>  4.2</td><td>116.61</td><td>  NA</td><td>39190</td><td>98.9</td><td>99.2</td></tr>\n",
       "\t<tr><td>Belize                          </td><td>Americas             </td><td>   324</td><td>34.40</td><td> 5.74</td><td>2.76</td><td>74</td><td> 18.3</td><td> 69.96</td><td>  NA</td><td> 6090</td><td>  NA</td><td>  NA</td></tr>\n",
       "\t<tr><td>Benin                           </td><td>Africa               </td><td> 10051</td><td>42.95</td><td> 4.54</td><td>5.01</td><td>57</td><td> 89.5</td><td> 85.33</td><td>42.4</td><td> 1620</td><td>  NA</td><td>  NA</td></tr>\n",
       "\t<tr><td>Bhutan                          </td><td>South-East Asia      </td><td>   742</td><td>28.53</td><td> 6.90</td><td>2.32</td><td>67</td><td> 44.6</td><td> 65.58</td><td>  NA</td><td> 5570</td><td>88.3</td><td>91.5</td></tr>\n",
       "\t<tr><td>Bolivia (Plurinational State of)</td><td>Americas             </td><td> 10496</td><td>35.23</td><td> 7.28</td><td>3.31</td><td>67</td><td> 41.4</td><td> 82.82</td><td>  NA</td><td> 4890</td><td>91.2</td><td>91.5</td></tr>\n",
       "\t<tr><td>Bosnia and Herzegovina          </td><td>Europe               </td><td>  3834</td><td>16.35</td><td>20.52</td><td>1.26</td><td>76</td><td>  6.7</td><td> 84.52</td><td>97.9</td><td> 9190</td><td>86.5</td><td>88.4</td></tr>\n",
       "\t<tr><td>Botswana                        </td><td>Africa               </td><td>  2004</td><td>33.75</td><td> 5.63</td><td>2.71</td><td>66</td><td> 53.3</td><td>142.82</td><td>84.5</td><td>14550</td><td>  NA</td><td>  NA</td></tr>\n",
       "\t<tr><td>Brazil                          </td><td>Americas             </td><td>199000</td><td>24.56</td><td>10.81</td><td>1.82</td><td>74</td><td> 14.4</td><td>124.26</td><td>  NA</td><td>11420</td><td>  NA</td><td>  NA</td></tr>\n",
       "\t<tr><td>Brunei Darussalam               </td><td>Western Pacific      </td><td>   412</td><td>25.75</td><td> 7.03</td><td>2.03</td><td>77</td><td>  8.0</td><td>109.17</td><td>95.2</td><td>   NA</td><td>  NA</td><td>  NA</td></tr>\n",
       "\t<tr><td>Bulgaria                        </td><td>Europe               </td><td>  7278</td><td>13.53</td><td>26.11</td><td>1.51</td><td>74</td><td> 12.1</td><td>140.68</td><td>  NA</td><td>14160</td><td>99.3</td><td>99.7</td></tr>\n",
       "\t<tr><td>Burkina Faso                    </td><td>Africa               </td><td> 16460</td><td>45.66</td><td> 3.88</td><td>5.78</td><td>56</td><td>102.4</td><td> 45.27</td><td>  NA</td><td> 1300</td><td>60.7</td><td>55.9</td></tr>\n",
       "\t<tr><td>Burundi                         </td><td>Africa               </td><td>  9850</td><td>44.20</td><td> 3.87</td><td>6.21</td><td>53</td><td>104.3</td><td> 22.33</td><td>67.2</td><td>  610</td><td>  NA</td><td>  NA</td></tr>\n",
       "\t<tr><td>Cambodia                        </td><td>Western Pacific      </td><td> 14865</td><td>31.23</td><td> 7.67</td><td>2.93</td><td>65</td><td> 39.7</td><td> 96.17</td><td>  NA</td><td> 2230</td><td>96.4</td><td>95.4</td></tr>\n",
       "\t<tr><td>Cameroon                        </td><td>Africa               </td><td> 21700</td><td>43.08</td><td> 4.89</td><td>4.94</td><td>53</td><td> 94.9</td><td> 52.35</td><td>  NA</td><td> 2330</td><td>99.6</td><td>87.4</td></tr>\n",
       "\t<tr><td>⋮</td><td>⋮</td><td>⋮</td><td>⋮</td><td>⋮</td><td>⋮</td><td>⋮</td><td>⋮</td><td>⋮</td><td>⋮</td><td>⋮</td><td>⋮</td><td>⋮</td></tr>\n",
       "\t<tr><td>Suriname                                 </td><td>Americas             </td><td>   535</td><td>27.83</td><td> 9.55</td><td>2.32</td><td>72</td><td>20.8</td><td>178.88</td><td>94.7</td><td>   NA</td><td>  NA</td><td>  NA</td></tr>\n",
       "\t<tr><td>Swaziland                                </td><td>Africa               </td><td>  1231</td><td>38.05</td><td> 5.34</td><td>3.48</td><td>50</td><td>79.7</td><td> 63.70</td><td>87.4</td><td> 5930</td><td>  NA</td><td>  NA</td></tr>\n",
       "\t<tr><td>Sweden                                   </td><td>Europe               </td><td>  9511</td><td>16.71</td><td>25.32</td><td>1.93</td><td>82</td><td> 2.9</td><td>118.57</td><td>  NA</td><td>42200</td><td>99.7</td><td>99.0</td></tr>\n",
       "\t<tr><td>Switzerland                              </td><td>Europe               </td><td>  7997</td><td>14.79</td><td>23.25</td><td>1.51</td><td>83</td><td> 4.3</td><td>131.43</td><td>  NA</td><td>52570</td><td>98.9</td><td>99.5</td></tr>\n",
       "\t<tr><td>Syrian Arab Republic                     </td><td>Eastern Mediterranean</td><td> 21890</td><td>35.35</td><td> 6.09</td><td>3.04</td><td>75</td><td>15.1</td><td> 63.17</td><td>83.4</td><td>   NA</td><td>  NA</td><td>  NA</td></tr>\n",
       "\t<tr><td>Tajikistan                               </td><td>Europe               </td><td>  8009</td><td>35.75</td><td> 4.80</td><td>3.81</td><td>68</td><td>58.3</td><td> 90.64</td><td>99.7</td><td> 2300</td><td>99.5</td><td>96.0</td></tr>\n",
       "\t<tr><td>Thailand                                 </td><td>South-East Asia      </td><td> 66785</td><td>18.47</td><td>13.96</td><td>1.43</td><td>74</td><td>13.2</td><td>111.63</td><td>  NA</td><td> 8360</td><td>  NA</td><td>  NA</td></tr>\n",
       "\t<tr><td>The former Yugoslav Republic of Macedonia</td><td>Europe               </td><td>  2106</td><td>16.89</td><td>17.56</td><td>1.44</td><td>75</td><td> 7.4</td><td>107.24</td><td>97.3</td><td>11090</td><td>97.3</td><td>99.2</td></tr>\n",
       "\t<tr><td>Timor-Leste                              </td><td>South-East Asia      </td><td>  1114</td><td>46.33</td><td> 5.16</td><td>6.11</td><td>64</td><td>56.7</td><td> 53.23</td><td>58.3</td><td>   NA</td><td>86.2</td><td>85.6</td></tr>\n",
       "\t<tr><td>Togo                                     </td><td>Africa               </td><td>  6643</td><td>41.89</td><td> 4.44</td><td>4.75</td><td>56</td><td>95.5</td><td> 50.45</td><td>  NA</td><td> 1040</td><td>  NA</td><td>  NA</td></tr>\n",
       "\t<tr><td>Tonga                                    </td><td>Western Pacific      </td><td>   105</td><td>37.33</td><td> 7.96</td><td>3.86</td><td>72</td><td>12.8</td><td> 52.63</td><td>  NA</td><td> 5000</td><td>  NA</td><td>  NA</td></tr>\n",
       "\t<tr><td>Trinidad and Tobago                      </td><td>Americas             </td><td>  1337</td><td>20.73</td><td>13.18</td><td>1.80</td><td>71</td><td>20.7</td><td>135.64</td><td>98.8</td><td>   NA</td><td>97.7</td><td>97.0</td></tr>\n",
       "\t<tr><td>Tunisia                                  </td><td>Eastern Mediterranean</td><td> 10875</td><td>23.22</td><td>10.49</td><td>2.04</td><td>76</td><td>16.1</td><td>116.93</td><td>  NA</td><td> 9030</td><td>  NA</td><td>  NA</td></tr>\n",
       "\t<tr><td>Turkey                                   </td><td>Europe               </td><td> 73997</td><td>26.00</td><td>10.56</td><td>2.08</td><td>76</td><td>14.2</td><td> 88.70</td><td>  NA</td><td>16940</td><td>99.5</td><td>98.3</td></tr>\n",
       "\t<tr><td>Turkmenistan                             </td><td>Europe               </td><td>  5173</td><td>28.65</td><td> 6.30</td><td>2.38</td><td>63</td><td>52.8</td><td> 68.77</td><td>99.6</td><td> 8690</td><td>  NA</td><td>  NA</td></tr>\n",
       "\t<tr><td>Tuvalu                                   </td><td>Western Pacific      </td><td>    10</td><td>30.61</td><td> 9.07</td><td>  NA</td><td>64</td><td>29.7</td><td> 21.63</td><td>  NA</td><td>   NA</td><td>  NA</td><td>  NA</td></tr>\n",
       "\t<tr><td>Uganda                                   </td><td>Africa               </td><td> 36346</td><td>48.54</td><td> 3.72</td><td>6.06</td><td>56</td><td>68.9</td><td> 48.38</td><td>73.2</td><td> 1310</td><td>89.7</td><td>92.3</td></tr>\n",
       "\t<tr><td>Ukraine                                  </td><td>Europe               </td><td> 45530</td><td>14.18</td><td>20.76</td><td>1.45</td><td>71</td><td>10.7</td><td>122.98</td><td>99.7</td><td> 7040</td><td>90.8</td><td>91.5</td></tr>\n",
       "\t<tr><td>United Arab Emirates                     </td><td>Eastern Mediterranean</td><td>  9206</td><td>14.41</td><td> 0.81</td><td>1.84</td><td>76</td><td> 8.4</td><td>148.62</td><td>  NA</td><td>47890</td><td>  NA</td><td>  NA</td></tr>\n",
       "\t<tr><td>United Kingdom                           </td><td>Europe               </td><td> 62783</td><td>17.54</td><td>23.06</td><td>1.90</td><td>80</td><td> 4.8</td><td>130.75</td><td>  NA</td><td>36010</td><td>99.8</td><td>99.6</td></tr>\n",
       "\t<tr><td>United Republic of Tanzania              </td><td>Africa               </td><td> 47783</td><td>44.85</td><td> 4.89</td><td>5.36</td><td>59</td><td>54.0</td><td> 55.53</td><td>73.2</td><td> 1500</td><td>  NA</td><td>  NA</td></tr>\n",
       "\t<tr><td>United States of America                 </td><td>Americas             </td><td>318000</td><td>19.63</td><td>19.31</td><td>2.00</td><td>79</td><td> 7.1</td><td> 92.72</td><td>  NA</td><td>48820</td><td>95.4</td><td>96.1</td></tr>\n",
       "\t<tr><td>Uruguay                                  </td><td>Americas             </td><td>  3395</td><td>22.05</td><td>18.59</td><td>2.07</td><td>77</td><td> 7.2</td><td>140.75</td><td>98.1</td><td>14640</td><td>  NA</td><td>  NA</td></tr>\n",
       "\t<tr><td>Uzbekistan                               </td><td>Europe               </td><td> 28541</td><td>28.90</td><td> 6.38</td><td>2.38</td><td>68</td><td>39.6</td><td> 91.65</td><td>99.4</td><td> 3420</td><td>93.3</td><td>91.0</td></tr>\n",
       "\t<tr><td>Vanuatu                                  </td><td>Western Pacific      </td><td>   247</td><td>37.37</td><td> 6.02</td><td>3.46</td><td>72</td><td>17.9</td><td> 55.76</td><td>82.6</td><td> 4330</td><td>  NA</td><td>  NA</td></tr>\n",
       "\t<tr><td>Venezuela (Bolivarian Republic of)       </td><td>Americas             </td><td> 29955</td><td>28.84</td><td> 9.17</td><td>2.44</td><td>75</td><td>15.3</td><td> 97.78</td><td>  NA</td><td>12430</td><td>94.7</td><td>95.1</td></tr>\n",
       "\t<tr><td>Viet Nam                                 </td><td>Western Pacific      </td><td> 90796</td><td>22.87</td><td> 9.32</td><td>1.79</td><td>75</td><td>23.0</td><td>143.39</td><td>93.2</td><td> 3250</td><td>  NA</td><td>  NA</td></tr>\n",
       "\t<tr><td>Yemen                                    </td><td>Eastern Mediterranean</td><td> 23852</td><td>40.72</td><td> 4.54</td><td>4.35</td><td>64</td><td>60.0</td><td> 47.05</td><td>63.9</td><td> 2170</td><td>85.5</td><td>70.5</td></tr>\n",
       "\t<tr><td>Zambia                                   </td><td>Africa               </td><td> 14075</td><td>46.73</td><td> 3.95</td><td>5.77</td><td>55</td><td>88.5</td><td> 60.59</td><td>71.2</td><td> 1490</td><td>91.4</td><td>93.9</td></tr>\n",
       "\t<tr><td>Zimbabwe                                 </td><td>Africa               </td><td> 13724</td><td>40.24</td><td> 5.68</td><td>3.64</td><td>54</td><td>89.8</td><td> 72.13</td><td>92.2</td><td>   NA</td><td>  NA</td><td>  NA</td></tr>\n",
       "</tbody>\n",
       "</table>\n"
      ],
      "text/latex": [
       "A data.frame: 194 × 13\n",
       "\\begin{tabular}{lllllllllllll}\n",
       " Country & Region & Population & Under15 & Over60 & FertilityRate & LifeExpectancy & ChildMortality & CellularSubscribers & LiteracyRate & GNI & PrimarySchoolEnrollmentMale & PrimarySchoolEnrollmentFemale\\\\\n",
       " <fct> & <fct> & <int> & <dbl> & <dbl> & <dbl> & <int> & <dbl> & <dbl> & <dbl> & <dbl> & <dbl> & <dbl>\\\\\n",
       "\\hline\n",
       "\t Afghanistan                      & Eastern Mediterranean &  29825 & 47.42 &  3.82 & 5.40 & 60 &  98.5 &  54.26 &   NA &  1140 &   NA &   NA\\\\\n",
       "\t Albania                          & Europe                &   3162 & 21.33 & 14.93 & 1.75 & 74 &  16.7 &  96.39 &   NA &  8820 &   NA &   NA\\\\\n",
       "\t Algeria                          & Africa                &  38482 & 27.42 &  7.17 & 2.83 & 73 &  20.0 &  98.99 &   NA &  8310 & 98.2 & 96.4\\\\\n",
       "\t Andorra                          & Europe                &     78 & 15.20 & 22.86 &   NA & 82 &   3.2 &  75.49 &   NA &    NA & 78.4 & 79.4\\\\\n",
       "\t Angola                           & Africa                &  20821 & 47.58 &  3.84 & 6.10 & 51 & 163.5 &  48.38 & 70.1 &  5230 & 93.1 & 78.2\\\\\n",
       "\t Antigua and Barbuda              & Americas              &     89 & 25.96 & 12.35 & 2.12 & 75 &   9.9 & 196.41 & 99.0 & 17900 & 91.1 & 84.5\\\\\n",
       "\t Argentina                        & Americas              &  41087 & 24.42 & 14.97 & 2.20 & 76 &  14.2 & 134.92 & 97.8 & 17130 &   NA &   NA\\\\\n",
       "\t Armenia                          & Europe                &   2969 & 20.34 & 14.06 & 1.74 & 71 &  16.4 & 103.57 & 99.6 &  6100 &   NA &   NA\\\\\n",
       "\t Australia                        & Western Pacific       &  23050 & 18.95 & 19.46 & 1.89 & 82 &   4.9 & 108.34 &   NA & 38110 & 96.9 & 97.5\\\\\n",
       "\t Austria                          & Europe                &   8464 & 14.51 & 23.52 & 1.44 & 81 &   4.0 & 154.78 &   NA & 42050 &   NA &   NA\\\\\n",
       "\t Azerbaijan                       & Europe                &   9309 & 22.25 &  8.24 & 1.96 & 71 &  35.2 & 108.75 &   NA &  8960 & 85.3 & 84.1\\\\\n",
       "\t Bahamas                          & Americas              &    372 & 21.62 & 11.24 & 1.90 & 75 &  16.9 &  86.06 &   NA &    NA &   NA &   NA\\\\\n",
       "\t Bahrain                          & Eastern Mediterranean &   1318 & 20.16 &  3.38 & 2.12 & 79 &   9.6 & 127.96 & 91.9 &    NA &   NA &   NA\\\\\n",
       "\t Bangladesh                       & South-East Asia       & 155000 & 30.57 &  6.89 & 2.24 & 70 &  40.9 &  56.06 & 56.8 &  1940 &   NA &   NA\\\\\n",
       "\t Barbados                         & Americas              &    283 & 18.99 & 15.78 & 1.84 & 78 &  18.4 & 127.01 &   NA &    NA &   NA &   NA\\\\\n",
       "\t Belarus                          & Europe                &   9405 & 15.10 & 19.31 & 1.47 & 71 &   5.2 & 111.88 &   NA & 14460 &   NA &   NA\\\\\n",
       "\t Belgium                          & Europe                &  11060 & 16.88 & 23.81 & 1.85 & 80 &   4.2 & 116.61 &   NA & 39190 & 98.9 & 99.2\\\\\n",
       "\t Belize                           & Americas              &    324 & 34.40 &  5.74 & 2.76 & 74 &  18.3 &  69.96 &   NA &  6090 &   NA &   NA\\\\\n",
       "\t Benin                            & Africa                &  10051 & 42.95 &  4.54 & 5.01 & 57 &  89.5 &  85.33 & 42.4 &  1620 &   NA &   NA\\\\\n",
       "\t Bhutan                           & South-East Asia       &    742 & 28.53 &  6.90 & 2.32 & 67 &  44.6 &  65.58 &   NA &  5570 & 88.3 & 91.5\\\\\n",
       "\t Bolivia (Plurinational State of) & Americas              &  10496 & 35.23 &  7.28 & 3.31 & 67 &  41.4 &  82.82 &   NA &  4890 & 91.2 & 91.5\\\\\n",
       "\t Bosnia and Herzegovina           & Europe                &   3834 & 16.35 & 20.52 & 1.26 & 76 &   6.7 &  84.52 & 97.9 &  9190 & 86.5 & 88.4\\\\\n",
       "\t Botswana                         & Africa                &   2004 & 33.75 &  5.63 & 2.71 & 66 &  53.3 & 142.82 & 84.5 & 14550 &   NA &   NA\\\\\n",
       "\t Brazil                           & Americas              & 199000 & 24.56 & 10.81 & 1.82 & 74 &  14.4 & 124.26 &   NA & 11420 &   NA &   NA\\\\\n",
       "\t Brunei Darussalam                & Western Pacific       &    412 & 25.75 &  7.03 & 2.03 & 77 &   8.0 & 109.17 & 95.2 &    NA &   NA &   NA\\\\\n",
       "\t Bulgaria                         & Europe                &   7278 & 13.53 & 26.11 & 1.51 & 74 &  12.1 & 140.68 &   NA & 14160 & 99.3 & 99.7\\\\\n",
       "\t Burkina Faso                     & Africa                &  16460 & 45.66 &  3.88 & 5.78 & 56 & 102.4 &  45.27 &   NA &  1300 & 60.7 & 55.9\\\\\n",
       "\t Burundi                          & Africa                &   9850 & 44.20 &  3.87 & 6.21 & 53 & 104.3 &  22.33 & 67.2 &   610 &   NA &   NA\\\\\n",
       "\t Cambodia                         & Western Pacific       &  14865 & 31.23 &  7.67 & 2.93 & 65 &  39.7 &  96.17 &   NA &  2230 & 96.4 & 95.4\\\\\n",
       "\t Cameroon                         & Africa                &  21700 & 43.08 &  4.89 & 4.94 & 53 &  94.9 &  52.35 &   NA &  2330 & 99.6 & 87.4\\\\\n",
       "\t ⋮ & ⋮ & ⋮ & ⋮ & ⋮ & ⋮ & ⋮ & ⋮ & ⋮ & ⋮ & ⋮ & ⋮ & ⋮\\\\\n",
       "\t Suriname                                  & Americas              &    535 & 27.83 &  9.55 & 2.32 & 72 & 20.8 & 178.88 & 94.7 &    NA &   NA &   NA\\\\\n",
       "\t Swaziland                                 & Africa                &   1231 & 38.05 &  5.34 & 3.48 & 50 & 79.7 &  63.70 & 87.4 &  5930 &   NA &   NA\\\\\n",
       "\t Sweden                                    & Europe                &   9511 & 16.71 & 25.32 & 1.93 & 82 &  2.9 & 118.57 &   NA & 42200 & 99.7 & 99.0\\\\\n",
       "\t Switzerland                               & Europe                &   7997 & 14.79 & 23.25 & 1.51 & 83 &  4.3 & 131.43 &   NA & 52570 & 98.9 & 99.5\\\\\n",
       "\t Syrian Arab Republic                      & Eastern Mediterranean &  21890 & 35.35 &  6.09 & 3.04 & 75 & 15.1 &  63.17 & 83.4 &    NA &   NA &   NA\\\\\n",
       "\t Tajikistan                                & Europe                &   8009 & 35.75 &  4.80 & 3.81 & 68 & 58.3 &  90.64 & 99.7 &  2300 & 99.5 & 96.0\\\\\n",
       "\t Thailand                                  & South-East Asia       &  66785 & 18.47 & 13.96 & 1.43 & 74 & 13.2 & 111.63 &   NA &  8360 &   NA &   NA\\\\\n",
       "\t The former Yugoslav Republic of Macedonia & Europe                &   2106 & 16.89 & 17.56 & 1.44 & 75 &  7.4 & 107.24 & 97.3 & 11090 & 97.3 & 99.2\\\\\n",
       "\t Timor-Leste                               & South-East Asia       &   1114 & 46.33 &  5.16 & 6.11 & 64 & 56.7 &  53.23 & 58.3 &    NA & 86.2 & 85.6\\\\\n",
       "\t Togo                                      & Africa                &   6643 & 41.89 &  4.44 & 4.75 & 56 & 95.5 &  50.45 &   NA &  1040 &   NA &   NA\\\\\n",
       "\t Tonga                                     & Western Pacific       &    105 & 37.33 &  7.96 & 3.86 & 72 & 12.8 &  52.63 &   NA &  5000 &   NA &   NA\\\\\n",
       "\t Trinidad and Tobago                       & Americas              &   1337 & 20.73 & 13.18 & 1.80 & 71 & 20.7 & 135.64 & 98.8 &    NA & 97.7 & 97.0\\\\\n",
       "\t Tunisia                                   & Eastern Mediterranean &  10875 & 23.22 & 10.49 & 2.04 & 76 & 16.1 & 116.93 &   NA &  9030 &   NA &   NA\\\\\n",
       "\t Turkey                                    & Europe                &  73997 & 26.00 & 10.56 & 2.08 & 76 & 14.2 &  88.70 &   NA & 16940 & 99.5 & 98.3\\\\\n",
       "\t Turkmenistan                              & Europe                &   5173 & 28.65 &  6.30 & 2.38 & 63 & 52.8 &  68.77 & 99.6 &  8690 &   NA &   NA\\\\\n",
       "\t Tuvalu                                    & Western Pacific       &     10 & 30.61 &  9.07 &   NA & 64 & 29.7 &  21.63 &   NA &    NA &   NA &   NA\\\\\n",
       "\t Uganda                                    & Africa                &  36346 & 48.54 &  3.72 & 6.06 & 56 & 68.9 &  48.38 & 73.2 &  1310 & 89.7 & 92.3\\\\\n",
       "\t Ukraine                                   & Europe                &  45530 & 14.18 & 20.76 & 1.45 & 71 & 10.7 & 122.98 & 99.7 &  7040 & 90.8 & 91.5\\\\\n",
       "\t United Arab Emirates                      & Eastern Mediterranean &   9206 & 14.41 &  0.81 & 1.84 & 76 &  8.4 & 148.62 &   NA & 47890 &   NA &   NA\\\\\n",
       "\t United Kingdom                            & Europe                &  62783 & 17.54 & 23.06 & 1.90 & 80 &  4.8 & 130.75 &   NA & 36010 & 99.8 & 99.6\\\\\n",
       "\t United Republic of Tanzania               & Africa                &  47783 & 44.85 &  4.89 & 5.36 & 59 & 54.0 &  55.53 & 73.2 &  1500 &   NA &   NA\\\\\n",
       "\t United States of America                  & Americas              & 318000 & 19.63 & 19.31 & 2.00 & 79 &  7.1 &  92.72 &   NA & 48820 & 95.4 & 96.1\\\\\n",
       "\t Uruguay                                   & Americas              &   3395 & 22.05 & 18.59 & 2.07 & 77 &  7.2 & 140.75 & 98.1 & 14640 &   NA &   NA\\\\\n",
       "\t Uzbekistan                                & Europe                &  28541 & 28.90 &  6.38 & 2.38 & 68 & 39.6 &  91.65 & 99.4 &  3420 & 93.3 & 91.0\\\\\n",
       "\t Vanuatu                                   & Western Pacific       &    247 & 37.37 &  6.02 & 3.46 & 72 & 17.9 &  55.76 & 82.6 &  4330 &   NA &   NA\\\\\n",
       "\t Venezuela (Bolivarian Republic of)        & Americas              &  29955 & 28.84 &  9.17 & 2.44 & 75 & 15.3 &  97.78 &   NA & 12430 & 94.7 & 95.1\\\\\n",
       "\t Viet Nam                                  & Western Pacific       &  90796 & 22.87 &  9.32 & 1.79 & 75 & 23.0 & 143.39 & 93.2 &  3250 &   NA &   NA\\\\\n",
       "\t Yemen                                     & Eastern Mediterranean &  23852 & 40.72 &  4.54 & 4.35 & 64 & 60.0 &  47.05 & 63.9 &  2170 & 85.5 & 70.5\\\\\n",
       "\t Zambia                                    & Africa                &  14075 & 46.73 &  3.95 & 5.77 & 55 & 88.5 &  60.59 & 71.2 &  1490 & 91.4 & 93.9\\\\\n",
       "\t Zimbabwe                                  & Africa                &  13724 & 40.24 &  5.68 & 3.64 & 54 & 89.8 &  72.13 & 92.2 &    NA &   NA &   NA\\\\\n",
       "\\end{tabular}\n"
      ],
      "text/markdown": [
       "\n",
       "A data.frame: 194 × 13\n",
       "\n",
       "| Country &lt;fct&gt; | Region &lt;fct&gt; | Population &lt;int&gt; | Under15 &lt;dbl&gt; | Over60 &lt;dbl&gt; | FertilityRate &lt;dbl&gt; | LifeExpectancy &lt;int&gt; | ChildMortality &lt;dbl&gt; | CellularSubscribers &lt;dbl&gt; | LiteracyRate &lt;dbl&gt; | GNI &lt;dbl&gt; | PrimarySchoolEnrollmentMale &lt;dbl&gt; | PrimarySchoolEnrollmentFemale &lt;dbl&gt; |\n",
       "|---|---|---|---|---|---|---|---|---|---|---|---|---|\n",
       "| Afghanistan                      | Eastern Mediterranean |  29825 | 47.42 |  3.82 | 5.40 | 60 |  98.5 |  54.26 |   NA |  1140 |   NA |   NA |\n",
       "| Albania                          | Europe                |   3162 | 21.33 | 14.93 | 1.75 | 74 |  16.7 |  96.39 |   NA |  8820 |   NA |   NA |\n",
       "| Algeria                          | Africa                |  38482 | 27.42 |  7.17 | 2.83 | 73 |  20.0 |  98.99 |   NA |  8310 | 98.2 | 96.4 |\n",
       "| Andorra                          | Europe                |     78 | 15.20 | 22.86 |   NA | 82 |   3.2 |  75.49 |   NA |    NA | 78.4 | 79.4 |\n",
       "| Angola                           | Africa                |  20821 | 47.58 |  3.84 | 6.10 | 51 | 163.5 |  48.38 | 70.1 |  5230 | 93.1 | 78.2 |\n",
       "| Antigua and Barbuda              | Americas              |     89 | 25.96 | 12.35 | 2.12 | 75 |   9.9 | 196.41 | 99.0 | 17900 | 91.1 | 84.5 |\n",
       "| Argentina                        | Americas              |  41087 | 24.42 | 14.97 | 2.20 | 76 |  14.2 | 134.92 | 97.8 | 17130 |   NA |   NA |\n",
       "| Armenia                          | Europe                |   2969 | 20.34 | 14.06 | 1.74 | 71 |  16.4 | 103.57 | 99.6 |  6100 |   NA |   NA |\n",
       "| Australia                        | Western Pacific       |  23050 | 18.95 | 19.46 | 1.89 | 82 |   4.9 | 108.34 |   NA | 38110 | 96.9 | 97.5 |\n",
       "| Austria                          | Europe                |   8464 | 14.51 | 23.52 | 1.44 | 81 |   4.0 | 154.78 |   NA | 42050 |   NA |   NA |\n",
       "| Azerbaijan                       | Europe                |   9309 | 22.25 |  8.24 | 1.96 | 71 |  35.2 | 108.75 |   NA |  8960 | 85.3 | 84.1 |\n",
       "| Bahamas                          | Americas              |    372 | 21.62 | 11.24 | 1.90 | 75 |  16.9 |  86.06 |   NA |    NA |   NA |   NA |\n",
       "| Bahrain                          | Eastern Mediterranean |   1318 | 20.16 |  3.38 | 2.12 | 79 |   9.6 | 127.96 | 91.9 |    NA |   NA |   NA |\n",
       "| Bangladesh                       | South-East Asia       | 155000 | 30.57 |  6.89 | 2.24 | 70 |  40.9 |  56.06 | 56.8 |  1940 |   NA |   NA |\n",
       "| Barbados                         | Americas              |    283 | 18.99 | 15.78 | 1.84 | 78 |  18.4 | 127.01 |   NA |    NA |   NA |   NA |\n",
       "| Belarus                          | Europe                |   9405 | 15.10 | 19.31 | 1.47 | 71 |   5.2 | 111.88 |   NA | 14460 |   NA |   NA |\n",
       "| Belgium                          | Europe                |  11060 | 16.88 | 23.81 | 1.85 | 80 |   4.2 | 116.61 |   NA | 39190 | 98.9 | 99.2 |\n",
       "| Belize                           | Americas              |    324 | 34.40 |  5.74 | 2.76 | 74 |  18.3 |  69.96 |   NA |  6090 |   NA |   NA |\n",
       "| Benin                            | Africa                |  10051 | 42.95 |  4.54 | 5.01 | 57 |  89.5 |  85.33 | 42.4 |  1620 |   NA |   NA |\n",
       "| Bhutan                           | South-East Asia       |    742 | 28.53 |  6.90 | 2.32 | 67 |  44.6 |  65.58 |   NA |  5570 | 88.3 | 91.5 |\n",
       "| Bolivia (Plurinational State of) | Americas              |  10496 | 35.23 |  7.28 | 3.31 | 67 |  41.4 |  82.82 |   NA |  4890 | 91.2 | 91.5 |\n",
       "| Bosnia and Herzegovina           | Europe                |   3834 | 16.35 | 20.52 | 1.26 | 76 |   6.7 |  84.52 | 97.9 |  9190 | 86.5 | 88.4 |\n",
       "| Botswana                         | Africa                |   2004 | 33.75 |  5.63 | 2.71 | 66 |  53.3 | 142.82 | 84.5 | 14550 |   NA |   NA |\n",
       "| Brazil                           | Americas              | 199000 | 24.56 | 10.81 | 1.82 | 74 |  14.4 | 124.26 |   NA | 11420 |   NA |   NA |\n",
       "| Brunei Darussalam                | Western Pacific       |    412 | 25.75 |  7.03 | 2.03 | 77 |   8.0 | 109.17 | 95.2 |    NA |   NA |   NA |\n",
       "| Bulgaria                         | Europe                |   7278 | 13.53 | 26.11 | 1.51 | 74 |  12.1 | 140.68 |   NA | 14160 | 99.3 | 99.7 |\n",
       "| Burkina Faso                     | Africa                |  16460 | 45.66 |  3.88 | 5.78 | 56 | 102.4 |  45.27 |   NA |  1300 | 60.7 | 55.9 |\n",
       "| Burundi                          | Africa                |   9850 | 44.20 |  3.87 | 6.21 | 53 | 104.3 |  22.33 | 67.2 |   610 |   NA |   NA |\n",
       "| Cambodia                         | Western Pacific       |  14865 | 31.23 |  7.67 | 2.93 | 65 |  39.7 |  96.17 |   NA |  2230 | 96.4 | 95.4 |\n",
       "| Cameroon                         | Africa                |  21700 | 43.08 |  4.89 | 4.94 | 53 |  94.9 |  52.35 |   NA |  2330 | 99.6 | 87.4 |\n",
       "| ⋮ | ⋮ | ⋮ | ⋮ | ⋮ | ⋮ | ⋮ | ⋮ | ⋮ | ⋮ | ⋮ | ⋮ | ⋮ |\n",
       "| Suriname                                  | Americas              |    535 | 27.83 |  9.55 | 2.32 | 72 | 20.8 | 178.88 | 94.7 |    NA |   NA |   NA |\n",
       "| Swaziland                                 | Africa                |   1231 | 38.05 |  5.34 | 3.48 | 50 | 79.7 |  63.70 | 87.4 |  5930 |   NA |   NA |\n",
       "| Sweden                                    | Europe                |   9511 | 16.71 | 25.32 | 1.93 | 82 |  2.9 | 118.57 |   NA | 42200 | 99.7 | 99.0 |\n",
       "| Switzerland                               | Europe                |   7997 | 14.79 | 23.25 | 1.51 | 83 |  4.3 | 131.43 |   NA | 52570 | 98.9 | 99.5 |\n",
       "| Syrian Arab Republic                      | Eastern Mediterranean |  21890 | 35.35 |  6.09 | 3.04 | 75 | 15.1 |  63.17 | 83.4 |    NA |   NA |   NA |\n",
       "| Tajikistan                                | Europe                |   8009 | 35.75 |  4.80 | 3.81 | 68 | 58.3 |  90.64 | 99.7 |  2300 | 99.5 | 96.0 |\n",
       "| Thailand                                  | South-East Asia       |  66785 | 18.47 | 13.96 | 1.43 | 74 | 13.2 | 111.63 |   NA |  8360 |   NA |   NA |\n",
       "| The former Yugoslav Republic of Macedonia | Europe                |   2106 | 16.89 | 17.56 | 1.44 | 75 |  7.4 | 107.24 | 97.3 | 11090 | 97.3 | 99.2 |\n",
       "| Timor-Leste                               | South-East Asia       |   1114 | 46.33 |  5.16 | 6.11 | 64 | 56.7 |  53.23 | 58.3 |    NA | 86.2 | 85.6 |\n",
       "| Togo                                      | Africa                |   6643 | 41.89 |  4.44 | 4.75 | 56 | 95.5 |  50.45 |   NA |  1040 |   NA |   NA |\n",
       "| Tonga                                     | Western Pacific       |    105 | 37.33 |  7.96 | 3.86 | 72 | 12.8 |  52.63 |   NA |  5000 |   NA |   NA |\n",
       "| Trinidad and Tobago                       | Americas              |   1337 | 20.73 | 13.18 | 1.80 | 71 | 20.7 | 135.64 | 98.8 |    NA | 97.7 | 97.0 |\n",
       "| Tunisia                                   | Eastern Mediterranean |  10875 | 23.22 | 10.49 | 2.04 | 76 | 16.1 | 116.93 |   NA |  9030 |   NA |   NA |\n",
       "| Turkey                                    | Europe                |  73997 | 26.00 | 10.56 | 2.08 | 76 | 14.2 |  88.70 |   NA | 16940 | 99.5 | 98.3 |\n",
       "| Turkmenistan                              | Europe                |   5173 | 28.65 |  6.30 | 2.38 | 63 | 52.8 |  68.77 | 99.6 |  8690 |   NA |   NA |\n",
       "| Tuvalu                                    | Western Pacific       |     10 | 30.61 |  9.07 |   NA | 64 | 29.7 |  21.63 |   NA |    NA |   NA |   NA |\n",
       "| Uganda                                    | Africa                |  36346 | 48.54 |  3.72 | 6.06 | 56 | 68.9 |  48.38 | 73.2 |  1310 | 89.7 | 92.3 |\n",
       "| Ukraine                                   | Europe                |  45530 | 14.18 | 20.76 | 1.45 | 71 | 10.7 | 122.98 | 99.7 |  7040 | 90.8 | 91.5 |\n",
       "| United Arab Emirates                      | Eastern Mediterranean |   9206 | 14.41 |  0.81 | 1.84 | 76 |  8.4 | 148.62 |   NA | 47890 |   NA |   NA |\n",
       "| United Kingdom                            | Europe                |  62783 | 17.54 | 23.06 | 1.90 | 80 |  4.8 | 130.75 |   NA | 36010 | 99.8 | 99.6 |\n",
       "| United Republic of Tanzania               | Africa                |  47783 | 44.85 |  4.89 | 5.36 | 59 | 54.0 |  55.53 | 73.2 |  1500 |   NA |   NA |\n",
       "| United States of America                  | Americas              | 318000 | 19.63 | 19.31 | 2.00 | 79 |  7.1 |  92.72 |   NA | 48820 | 95.4 | 96.1 |\n",
       "| Uruguay                                   | Americas              |   3395 | 22.05 | 18.59 | 2.07 | 77 |  7.2 | 140.75 | 98.1 | 14640 |   NA |   NA |\n",
       "| Uzbekistan                                | Europe                |  28541 | 28.90 |  6.38 | 2.38 | 68 | 39.6 |  91.65 | 99.4 |  3420 | 93.3 | 91.0 |\n",
       "| Vanuatu                                   | Western Pacific       |    247 | 37.37 |  6.02 | 3.46 | 72 | 17.9 |  55.76 | 82.6 |  4330 |   NA |   NA |\n",
       "| Venezuela (Bolivarian Republic of)        | Americas              |  29955 | 28.84 |  9.17 | 2.44 | 75 | 15.3 |  97.78 |   NA | 12430 | 94.7 | 95.1 |\n",
       "| Viet Nam                                  | Western Pacific       |  90796 | 22.87 |  9.32 | 1.79 | 75 | 23.0 | 143.39 | 93.2 |  3250 |   NA |   NA |\n",
       "| Yemen                                     | Eastern Mediterranean |  23852 | 40.72 |  4.54 | 4.35 | 64 | 60.0 |  47.05 | 63.9 |  2170 | 85.5 | 70.5 |\n",
       "| Zambia                                    | Africa                |  14075 | 46.73 |  3.95 | 5.77 | 55 | 88.5 |  60.59 | 71.2 |  1490 | 91.4 | 93.9 |\n",
       "| Zimbabwe                                  | Africa                |  13724 | 40.24 |  5.68 | 3.64 | 54 | 89.8 |  72.13 | 92.2 |    NA |   NA |   NA |\n",
       "\n"
      ],
      "text/plain": [
       "    Country                                   Region                Population\n",
       "1   Afghanistan                               Eastern Mediterranean  29825    \n",
       "2   Albania                                   Europe                  3162    \n",
       "3   Algeria                                   Africa                 38482    \n",
       "4   Andorra                                   Europe                    78    \n",
       "5   Angola                                    Africa                 20821    \n",
       "6   Antigua and Barbuda                       Americas                  89    \n",
       "7   Argentina                                 Americas               41087    \n",
       "8   Armenia                                   Europe                  2969    \n",
       "9   Australia                                 Western Pacific        23050    \n",
       "10  Austria                                   Europe                  8464    \n",
       "11  Azerbaijan                                Europe                  9309    \n",
       "12  Bahamas                                   Americas                 372    \n",
       "13  Bahrain                                   Eastern Mediterranean   1318    \n",
       "14  Bangladesh                                South-East Asia       155000    \n",
       "15  Barbados                                  Americas                 283    \n",
       "16  Belarus                                   Europe                  9405    \n",
       "17  Belgium                                   Europe                 11060    \n",
       "18  Belize                                    Americas                 324    \n",
       "19  Benin                                     Africa                 10051    \n",
       "20  Bhutan                                    South-East Asia          742    \n",
       "21  Bolivia (Plurinational State of)          Americas               10496    \n",
       "22  Bosnia and Herzegovina                    Europe                  3834    \n",
       "23  Botswana                                  Africa                  2004    \n",
       "24  Brazil                                    Americas              199000    \n",
       "25  Brunei Darussalam                         Western Pacific          412    \n",
       "26  Bulgaria                                  Europe                  7278    \n",
       "27  Burkina Faso                              Africa                 16460    \n",
       "28  Burundi                                   Africa                  9850    \n",
       "29  Cambodia                                  Western Pacific        14865    \n",
       "30  Cameroon                                  Africa                 21700    \n",
       "⋮   ⋮                                         ⋮                     ⋮         \n",
       "165 Suriname                                  Americas                 535    \n",
       "166 Swaziland                                 Africa                  1231    \n",
       "167 Sweden                                    Europe                  9511    \n",
       "168 Switzerland                               Europe                  7997    \n",
       "169 Syrian Arab Republic                      Eastern Mediterranean  21890    \n",
       "170 Tajikistan                                Europe                  8009    \n",
       "171 Thailand                                  South-East Asia        66785    \n",
       "172 The former Yugoslav Republic of Macedonia Europe                  2106    \n",
       "173 Timor-Leste                               South-East Asia         1114    \n",
       "174 Togo                                      Africa                  6643    \n",
       "175 Tonga                                     Western Pacific          105    \n",
       "176 Trinidad and Tobago                       Americas                1337    \n",
       "177 Tunisia                                   Eastern Mediterranean  10875    \n",
       "178 Turkey                                    Europe                 73997    \n",
       "179 Turkmenistan                              Europe                  5173    \n",
       "180 Tuvalu                                    Western Pacific           10    \n",
       "181 Uganda                                    Africa                 36346    \n",
       "182 Ukraine                                   Europe                 45530    \n",
       "183 United Arab Emirates                      Eastern Mediterranean   9206    \n",
       "184 United Kingdom                            Europe                 62783    \n",
       "185 United Republic of Tanzania               Africa                 47783    \n",
       "186 United States of America                  Americas              318000    \n",
       "187 Uruguay                                   Americas                3395    \n",
       "188 Uzbekistan                                Europe                 28541    \n",
       "189 Vanuatu                                   Western Pacific          247    \n",
       "190 Venezuela (Bolivarian Republic of)        Americas               29955    \n",
       "191 Viet Nam                                  Western Pacific        90796    \n",
       "192 Yemen                                     Eastern Mediterranean  23852    \n",
       "193 Zambia                                    Africa                 14075    \n",
       "194 Zimbabwe                                  Africa                 13724    \n",
       "    Under15 Over60 FertilityRate LifeExpectancy ChildMortality\n",
       "1   47.42    3.82  5.40          60              98.5         \n",
       "2   21.33   14.93  1.75          74              16.7         \n",
       "3   27.42    7.17  2.83          73              20.0         \n",
       "4   15.20   22.86    NA          82               3.2         \n",
       "5   47.58    3.84  6.10          51             163.5         \n",
       "6   25.96   12.35  2.12          75               9.9         \n",
       "7   24.42   14.97  2.20          76              14.2         \n",
       "8   20.34   14.06  1.74          71              16.4         \n",
       "9   18.95   19.46  1.89          82               4.9         \n",
       "10  14.51   23.52  1.44          81               4.0         \n",
       "11  22.25    8.24  1.96          71              35.2         \n",
       "12  21.62   11.24  1.90          75              16.9         \n",
       "13  20.16    3.38  2.12          79               9.6         \n",
       "14  30.57    6.89  2.24          70              40.9         \n",
       "15  18.99   15.78  1.84          78              18.4         \n",
       "16  15.10   19.31  1.47          71               5.2         \n",
       "17  16.88   23.81  1.85          80               4.2         \n",
       "18  34.40    5.74  2.76          74              18.3         \n",
       "19  42.95    4.54  5.01          57              89.5         \n",
       "20  28.53    6.90  2.32          67              44.6         \n",
       "21  35.23    7.28  3.31          67              41.4         \n",
       "22  16.35   20.52  1.26          76               6.7         \n",
       "23  33.75    5.63  2.71          66              53.3         \n",
       "24  24.56   10.81  1.82          74              14.4         \n",
       "25  25.75    7.03  2.03          77               8.0         \n",
       "26  13.53   26.11  1.51          74              12.1         \n",
       "27  45.66    3.88  5.78          56             102.4         \n",
       "28  44.20    3.87  6.21          53             104.3         \n",
       "29  31.23    7.67  2.93          65              39.7         \n",
       "30  43.08    4.89  4.94          53              94.9         \n",
       "⋮   ⋮       ⋮      ⋮             ⋮              ⋮             \n",
       "165 27.83    9.55  2.32          72             20.8          \n",
       "166 38.05    5.34  3.48          50             79.7          \n",
       "167 16.71   25.32  1.93          82              2.9          \n",
       "168 14.79   23.25  1.51          83              4.3          \n",
       "169 35.35    6.09  3.04          75             15.1          \n",
       "170 35.75    4.80  3.81          68             58.3          \n",
       "171 18.47   13.96  1.43          74             13.2          \n",
       "172 16.89   17.56  1.44          75              7.4          \n",
       "173 46.33    5.16  6.11          64             56.7          \n",
       "174 41.89    4.44  4.75          56             95.5          \n",
       "175 37.33    7.96  3.86          72             12.8          \n",
       "176 20.73   13.18  1.80          71             20.7          \n",
       "177 23.22   10.49  2.04          76             16.1          \n",
       "178 26.00   10.56  2.08          76             14.2          \n",
       "179 28.65    6.30  2.38          63             52.8          \n",
       "180 30.61    9.07    NA          64             29.7          \n",
       "181 48.54    3.72  6.06          56             68.9          \n",
       "182 14.18   20.76  1.45          71             10.7          \n",
       "183 14.41    0.81  1.84          76              8.4          \n",
       "184 17.54   23.06  1.90          80              4.8          \n",
       "185 44.85    4.89  5.36          59             54.0          \n",
       "186 19.63   19.31  2.00          79              7.1          \n",
       "187 22.05   18.59  2.07          77              7.2          \n",
       "188 28.90    6.38  2.38          68             39.6          \n",
       "189 37.37    6.02  3.46          72             17.9          \n",
       "190 28.84    9.17  2.44          75             15.3          \n",
       "191 22.87    9.32  1.79          75             23.0          \n",
       "192 40.72    4.54  4.35          64             60.0          \n",
       "193 46.73    3.95  5.77          55             88.5          \n",
       "194 40.24    5.68  3.64          54             89.8          \n",
       "    CellularSubscribers LiteracyRate GNI   PrimarySchoolEnrollmentMale\n",
       "1    54.26                NA          1140   NA                       \n",
       "2    96.39                NA          8820   NA                       \n",
       "3    98.99                NA          8310 98.2                       \n",
       "4    75.49                NA            NA 78.4                       \n",
       "5    48.38              70.1          5230 93.1                       \n",
       "6   196.41              99.0         17900 91.1                       \n",
       "7   134.92              97.8         17130   NA                       \n",
       "8   103.57              99.6          6100   NA                       \n",
       "9   108.34                NA         38110 96.9                       \n",
       "10  154.78                NA         42050   NA                       \n",
       "11  108.75                NA          8960 85.3                       \n",
       "12   86.06                NA            NA   NA                       \n",
       "13  127.96              91.9            NA   NA                       \n",
       "14   56.06              56.8          1940   NA                       \n",
       "15  127.01                NA            NA   NA                       \n",
       "16  111.88                NA         14460   NA                       \n",
       "17  116.61                NA         39190 98.9                       \n",
       "18   69.96                NA          6090   NA                       \n",
       "19   85.33              42.4          1620   NA                       \n",
       "20   65.58                NA          5570 88.3                       \n",
       "21   82.82                NA          4890 91.2                       \n",
       "22   84.52              97.9          9190 86.5                       \n",
       "23  142.82              84.5         14550   NA                       \n",
       "24  124.26                NA         11420   NA                       \n",
       "25  109.17              95.2            NA   NA                       \n",
       "26  140.68                NA         14160 99.3                       \n",
       "27   45.27                NA          1300 60.7                       \n",
       "28   22.33              67.2           610   NA                       \n",
       "29   96.17                NA          2230 96.4                       \n",
       "30   52.35                NA          2330 99.6                       \n",
       "⋮   ⋮                   ⋮            ⋮     ⋮                          \n",
       "165 178.88              94.7            NA   NA                       \n",
       "166  63.70              87.4          5930   NA                       \n",
       "167 118.57                NA         42200 99.7                       \n",
       "168 131.43                NA         52570 98.9                       \n",
       "169  63.17              83.4            NA   NA                       \n",
       "170  90.64              99.7          2300 99.5                       \n",
       "171 111.63                NA          8360   NA                       \n",
       "172 107.24              97.3         11090 97.3                       \n",
       "173  53.23              58.3            NA 86.2                       \n",
       "174  50.45                NA          1040   NA                       \n",
       "175  52.63                NA          5000   NA                       \n",
       "176 135.64              98.8            NA 97.7                       \n",
       "177 116.93                NA          9030   NA                       \n",
       "178  88.70                NA         16940 99.5                       \n",
       "179  68.77              99.6          8690   NA                       \n",
       "180  21.63                NA            NA   NA                       \n",
       "181  48.38              73.2          1310 89.7                       \n",
       "182 122.98              99.7          7040 90.8                       \n",
       "183 148.62                NA         47890   NA                       \n",
       "184 130.75                NA         36010 99.8                       \n",
       "185  55.53              73.2          1500   NA                       \n",
       "186  92.72                NA         48820 95.4                       \n",
       "187 140.75              98.1         14640   NA                       \n",
       "188  91.65              99.4          3420 93.3                       \n",
       "189  55.76              82.6          4330   NA                       \n",
       "190  97.78                NA         12430 94.7                       \n",
       "191 143.39              93.2          3250   NA                       \n",
       "192  47.05              63.9          2170 85.5                       \n",
       "193  60.59              71.2          1490 91.4                       \n",
       "194  72.13              92.2            NA   NA                       \n",
       "    PrimarySchoolEnrollmentFemale\n",
       "1     NA                         \n",
       "2     NA                         \n",
       "3   96.4                         \n",
       "4   79.4                         \n",
       "5   78.2                         \n",
       "6   84.5                         \n",
       "7     NA                         \n",
       "8     NA                         \n",
       "9   97.5                         \n",
       "10    NA                         \n",
       "11  84.1                         \n",
       "12    NA                         \n",
       "13    NA                         \n",
       "14    NA                         \n",
       "15    NA                         \n",
       "16    NA                         \n",
       "17  99.2                         \n",
       "18    NA                         \n",
       "19    NA                         \n",
       "20  91.5                         \n",
       "21  91.5                         \n",
       "22  88.4                         \n",
       "23    NA                         \n",
       "24    NA                         \n",
       "25    NA                         \n",
       "26  99.7                         \n",
       "27  55.9                         \n",
       "28    NA                         \n",
       "29  95.4                         \n",
       "30  87.4                         \n",
       "⋮   ⋮                            \n",
       "165   NA                         \n",
       "166   NA                         \n",
       "167 99.0                         \n",
       "168 99.5                         \n",
       "169   NA                         \n",
       "170 96.0                         \n",
       "171   NA                         \n",
       "172 99.2                         \n",
       "173 85.6                         \n",
       "174   NA                         \n",
       "175   NA                         \n",
       "176 97.0                         \n",
       "177   NA                         \n",
       "178 98.3                         \n",
       "179   NA                         \n",
       "180   NA                         \n",
       "181 92.3                         \n",
       "182 91.5                         \n",
       "183   NA                         \n",
       "184 99.6                         \n",
       "185   NA                         \n",
       "186 96.1                         \n",
       "187   NA                         \n",
       "188 91.0                         \n",
       "189   NA                         \n",
       "190 95.1                         \n",
       "191   NA                         \n",
       "192 70.5                         \n",
       "193 93.9                         \n",
       "194   NA                         "
      ]
     },
     "metadata": {},
     "output_type": "display_data"
    }
   ],
   "source": [
    "WHO = read.csv(\"/home/jerrywang/GitHub/note_viajupyterbook/mynote/datas/WHO.csv\")\n",
    "WHO"
   ]
  },
  {
   "cell_type": "markdown",
   "metadata": {
    "nteract": {
     "transient": {
      "deleting": false
     }
    }
   },
   "source": [
    "## 数据结构\n",
    "`str()`函数向我们展示了数据的结构"
   ]
  },
  {
   "cell_type": "code",
   "execution_count": 7,
   "metadata": {
    "collapsed": true,
    "execution": {
     "iopub.execute_input": "2020-05-09T00:02:25.414249Z",
     "iopub.status.busy": "2020-05-09T00:02:25.410164Z",
     "iopub.status.idle": "2020-05-09T00:02:25.461797Z",
     "shell.execute_reply": "2020-05-09T00:02:25.454874Z"
    },
    "jupyter": {
     "outputs_hidden": false,
     "source_hidden": false
    },
    "nteract": {
     "transient": {
      "deleting": false
     }
    },
    "outputExpanded": false
   },
   "outputs": [
    {
     "name": "stdout",
     "output_type": "stream",
     "text": [
      "'data.frame':\t194 obs. of  13 variables:\n",
      " $ Country                      : Factor w/ 194 levels \"Afghanistan\",..: 1 2 3 4 5 6 7 8 9 10 ...\n",
      " $ Region                       : Factor w/ 6 levels \"Africa\",\"Americas\",..: 3 4 1 4 1 2 2 4 6 4 ...\n",
      " $ Population                   : int  29825 3162 38482 78 20821 89 41087 2969 23050 8464 ...\n",
      " $ Under15                      : num  47.4 21.3 27.4 15.2 47.6 ...\n",
      " $ Over60                       : num  3.82 14.93 7.17 22.86 3.84 ...\n",
      " $ FertilityRate                : num  5.4 1.75 2.83 NA 6.1 2.12 2.2 1.74 1.89 1.44 ...\n",
      " $ LifeExpectancy               : int  60 74 73 82 51 75 76 71 82 81 ...\n",
      " $ ChildMortality               : num  98.5 16.7 20 3.2 163.5 ...\n",
      " $ CellularSubscribers          : num  54.3 96.4 99 75.5 48.4 ...\n",
      " $ LiteracyRate                 : num  NA NA NA NA 70.1 99 97.8 99.6 NA NA ...\n",
      " $ GNI                          : num  1140 8820 8310 NA 5230 ...\n",
      " $ PrimarySchoolEnrollmentMale  : num  NA NA 98.2 78.4 93.1 91.1 NA NA 96.9 NA ...\n",
      " $ PrimarySchoolEnrollmentFemale: num  NA NA 96.4 79.4 78.2 84.5 NA NA 97.5 NA ...\n"
     ]
    }
   ],
   "source": [
    "str(WHO)"
   ]
  },
  {
   "cell_type": "markdown",
   "metadata": {
    "nteract": {
     "transient": {
      "deleting": false
     }
    }
   },
   "source": [
    "可以看出，这是一个包含194个观测值和13个变量的DataFrame，变量名显示在左列，右边显示的是相应变量的类型，包括Factor、num、int。Factor应该是类型变量，显示了包含的类型的个数。num应该为一般的数字，int为整数"
   ]
  },
  {
   "cell_type": "markdown",
   "metadata": {
    "nteract": {
     "transient": {
      "deleting": false
     }
    }
   },
   "source": [
    "`summary()`函数显示DataFrame的摘要。包括最小最大值，均值，第一、第二、第三个四分位数。"
   ]
  },
  {
   "cell_type": "code",
   "execution_count": 8,
   "metadata": {
    "collapsed": true,
    "execution": {
     "iopub.execute_input": "2020-05-09T00:02:25.477724Z",
     "iopub.status.busy": "2020-05-09T00:02:25.476445Z",
     "iopub.status.idle": "2020-05-09T00:02:25.519546Z",
     "shell.execute_reply": "2020-05-09T00:02:25.515490Z"
    },
    "jupyter": {
     "outputs_hidden": false,
     "source_hidden": false
    },
    "nteract": {
     "transient": {
      "deleting": false
     }
    },
    "outputExpanded": false
   },
   "outputs": [
    {
     "data": {
      "text/plain": [
       "                Country                      Region     Population     \n",
       " Afghanistan        :  1   Africa               :46   Min.   :      1  \n",
       " Albania            :  1   Americas             :35   1st Qu.:   1696  \n",
       " Algeria            :  1   Eastern Mediterranean:22   Median :   7790  \n",
       " Andorra            :  1   Europe               :53   Mean   :  36360  \n",
       " Angola             :  1   South-East Asia      :11   3rd Qu.:  24535  \n",
       " Antigua and Barbuda:  1   Western Pacific      :27   Max.   :1390000  \n",
       " (Other)            :188                                               \n",
       "    Under15          Over60      FertilityRate   LifeExpectancy \n",
       " Min.   :13.12   Min.   : 0.81   Min.   :1.260   Min.   :47.00  \n",
       " 1st Qu.:18.72   1st Qu.: 5.20   1st Qu.:1.835   1st Qu.:64.00  \n",
       " Median :28.65   Median : 8.53   Median :2.400   Median :72.50  \n",
       " Mean   :28.73   Mean   :11.16   Mean   :2.941   Mean   :70.01  \n",
       " 3rd Qu.:37.75   3rd Qu.:16.69   3rd Qu.:3.905   3rd Qu.:76.00  \n",
       " Max.   :49.99   Max.   :31.92   Max.   :7.580   Max.   :83.00  \n",
       "                                 NA's   :11                     \n",
       " ChildMortality    CellularSubscribers  LiteracyRate        GNI       \n",
       " Min.   :  2.200   Min.   :  2.57      Min.   :31.10   Min.   :  340  \n",
       " 1st Qu.:  8.425   1st Qu.: 63.57      1st Qu.:71.60   1st Qu.: 2335  \n",
       " Median : 18.600   Median : 97.75      Median :91.80   Median : 7870  \n",
       " Mean   : 36.149   Mean   : 93.64      Mean   :83.71   Mean   :13321  \n",
       " 3rd Qu.: 55.975   3rd Qu.:120.81      3rd Qu.:97.85   3rd Qu.:17558  \n",
       " Max.   :181.600   Max.   :196.41      Max.   :99.80   Max.   :86440  \n",
       "                   NA's   :10          NA's   :91      NA's   :32     \n",
       " PrimarySchoolEnrollmentMale PrimarySchoolEnrollmentFemale\n",
       " Min.   : 37.20              Min.   : 32.50               \n",
       " 1st Qu.: 87.70              1st Qu.: 87.30               \n",
       " Median : 94.70              Median : 95.10               \n",
       " Mean   : 90.85              Mean   : 89.63               \n",
       " 3rd Qu.: 98.10              3rd Qu.: 97.90               \n",
       " Max.   :100.00              Max.   :100.00               \n",
       " NA's   :93                  NA's   :93                   "
      ]
     },
     "metadata": {},
     "output_type": "display_data"
    }
   ],
   "source": [
    "summary(WHO)"
   ]
  },
  {
   "cell_type": "markdown",
   "metadata": {
    "nteract": {
     "transient": {
      "deleting": false
     }
    }
   },
   "source": [
    "选择DataFrame的子数据生成新的DataFrame"
   ]
  },
  {
   "cell_type": "code",
   "execution_count": 9,
   "metadata": {
    "collapsed": true,
    "execution": {
     "iopub.execute_input": "2020-05-09T00:02:25.526237Z",
     "iopub.status.busy": "2020-05-09T00:02:25.524627Z",
     "iopub.status.idle": "2020-05-09T00:02:25.566790Z",
     "shell.execute_reply": "2020-05-09T00:02:25.564486Z"
    },
    "jupyter": {
     "outputs_hidden": false,
     "source_hidden": false
    },
    "nteract": {
     "transient": {
      "deleting": false
     }
    },
    "outputExpanded": false
   },
   "outputs": [
    {
     "name": "stdout",
     "output_type": "stream",
     "text": [
      "'data.frame':\t11 obs. of  13 variables:\n",
      " $ Country                      : Factor w/ 194 levels \"Afghanistan\",..: 14 20 47 78 79 104 117 120 163 171 ...\n",
      " $ Region                       : Factor w/ 6 levels \"Africa\",\"Americas\",..: 5 5 5 5 5 5 5 5 5 5 ...\n",
      " $ Population                   : int  155000 742 24763 1240000 247000 338 52797 27474 21098 66785 ...\n",
      " $ Under15                      : num  30.6 28.5 22 29.4 29.3 ...\n",
      " $ Over60                       : num  6.89 6.9 12.74 8.1 7.86 ...\n",
      " $ FertilityRate                : num  2.24 2.32 2 2.53 2.4 2.31 1.98 2.5 2.35 1.43 ...\n",
      " $ LifeExpectancy               : int  70 67 69 65 69 77 65 68 75 74 ...\n",
      " $ ChildMortality               : num  40.9 44.6 28.8 56.3 31 10.5 52.3 41.6 9.6 13.2 ...\n",
      " $ CellularSubscribers          : num  56.06 65.58 4.09 72 103.09 ...\n",
      " $ LiteracyRate                 : num  56.8 NA NA NA NA NA 92.3 60.3 91.2 NA ...\n",
      " $ GNI                          : num  1940 5570 NA 3590 4500 7430 NA 1260 5520 8360 ...\n",
      " $ PrimarySchoolEnrollmentMale  : num  NA 88.3 NA NA NA 96.5 NA NA 93.9 NA ...\n",
      " $ PrimarySchoolEnrollmentFemale: num  NA 91.5 NA NA NA 96.5 NA NA 94.4 NA ...\n"
     ]
    }
   ],
   "source": [
    "SEA = subset(WHO, Region == \"South-East Asia\")\n",
    "str(SEA)"
   ]
  },
  {
   "cell_type": "markdown",
   "metadata": {
    "nteract": {
     "transient": {
      "deleting": false
     }
    }
   },
   "source": [
    "## 保存csv文件"
   ]
  },
  {
   "cell_type": "code",
   "execution_count": 10,
   "metadata": {
    "collapsed": true,
    "execution": {
     "iopub.execute_input": "2020-05-09T00:02:25.572828Z",
     "iopub.status.busy": "2020-05-09T00:02:25.571083Z",
     "iopub.status.idle": "2020-05-09T00:02:25.597758Z",
     "shell.execute_reply": "2020-05-09T00:02:25.594082Z"
    },
    "jupyter": {
     "outputs_hidden": false,
     "source_hidden": false
    },
    "nteract": {
     "transient": {
      "deleting": false
     }
    },
    "outputExpanded": false
   },
   "outputs": [],
   "source": [
    "write.csv(SEA, \"/home/jerrywang/GitHub/note_viajupyterbook/mynote/datas/WHO_SEA.csv\")"
   ]
  },
  {
   "cell_type": "code",
   "execution_count": 11,
   "metadata": {
    "collapsed": true,
    "execution": {
     "iopub.execute_input": "2020-05-09T00:02:25.605796Z",
     "iopub.status.busy": "2020-05-09T00:02:25.603416Z",
     "iopub.status.idle": "2020-05-09T00:02:25.626459Z",
     "shell.execute_reply": "2020-05-09T00:02:25.624861Z"
    },
    "jupyter": {
     "outputs_hidden": false,
     "source_hidden": false
    },
    "nteract": {
     "transient": {
      "deleting": false
     }
    },
    "outputExpanded": false
   },
   "outputs": [
    {
     "data": {
      "text/html": [
       "<style>\n",
       ".list-inline {list-style: none; margin:0; padding: 0}\n",
       ".list-inline>li {display: inline-block}\n",
       ".list-inline>li:not(:last-child)::after {content: \"\\00b7\"; padding: 0 .5ex}\n",
       "</style>\n",
       "<ol class=list-inline><li>'Country'</li><li>'Data'</li><li>'Data2'</li><li>'Data3'</li><li>'LifeExpectancy'</li><li>'NewData'</li><li>'Population'</li><li>'SEA'</li><li>'WHO'</li></ol>\n"
      ],
      "text/latex": [
       "\\begin{enumerate*}\n",
       "\\item 'Country'\n",
       "\\item 'Data'\n",
       "\\item 'Data2'\n",
       "\\item 'Data3'\n",
       "\\item 'LifeExpectancy'\n",
       "\\item 'NewData'\n",
       "\\item 'Population'\n",
       "\\item 'SEA'\n",
       "\\item 'WHO'\n",
       "\\end{enumerate*}\n"
      ],
      "text/markdown": [
       "1. 'Country'\n",
       "2. 'Data'\n",
       "3. 'Data2'\n",
       "4. 'Data3'\n",
       "5. 'LifeExpectancy'\n",
       "6. 'NewData'\n",
       "7. 'Population'\n",
       "8. 'SEA'\n",
       "9. 'WHO'\n",
       "\n",
       "\n"
      ],
      "text/plain": [
       "[1] \"Country\"        \"Data\"           \"Data2\"          \"Data3\"         \n",
       "[5] \"LifeExpectancy\" \"NewData\"        \"Population\"     \"SEA\"           \n",
       "[9] \"WHO\"           "
      ]
     },
     "metadata": {},
     "output_type": "display_data"
    }
   ],
   "source": [
    "ls()"
   ]
  },
  {
   "cell_type": "markdown",
   "metadata": {
    "nteract": {
     "transient": {
      "deleting": false
     }
    }
   },
   "source": [
    "删除部分变量以释放内存"
   ]
  },
  {
   "cell_type": "code",
   "execution_count": 12,
   "metadata": {
    "collapsed": true,
    "execution": {
     "iopub.execute_input": "2020-05-09T00:02:25.632295Z",
     "iopub.status.busy": "2020-05-09T00:02:25.630261Z",
     "iopub.status.idle": "2020-05-09T00:02:25.649818Z",
     "shell.execute_reply": "2020-05-09T00:02:25.648144Z"
    },
    "jupyter": {
     "outputs_hidden": false,
     "source_hidden": false
    },
    "nteract": {
     "transient": {
      "deleting": false
     }
    },
    "outputExpanded": false
   },
   "outputs": [
    {
     "data": {
      "text/html": [
       "<style>\n",
       ".list-inline {list-style: none; margin:0; padding: 0}\n",
       ".list-inline>li {display: inline-block}\n",
       ".list-inline>li:not(:last-child)::after {content: \"\\00b7\"; padding: 0 .5ex}\n",
       "</style>\n",
       "<ol class=list-inline><li>'Country'</li><li>'Data'</li><li>'Data2'</li><li>'Data3'</li><li>'LifeExpectancy'</li><li>'NewData'</li><li>'Population'</li><li>'WHO'</li></ol>\n"
      ],
      "text/latex": [
       "\\begin{enumerate*}\n",
       "\\item 'Country'\n",
       "\\item 'Data'\n",
       "\\item 'Data2'\n",
       "\\item 'Data3'\n",
       "\\item 'LifeExpectancy'\n",
       "\\item 'NewData'\n",
       "\\item 'Population'\n",
       "\\item 'WHO'\n",
       "\\end{enumerate*}\n"
      ],
      "text/markdown": [
       "1. 'Country'\n",
       "2. 'Data'\n",
       "3. 'Data2'\n",
       "4. 'Data3'\n",
       "5. 'LifeExpectancy'\n",
       "6. 'NewData'\n",
       "7. 'Population'\n",
       "8. 'WHO'\n",
       "\n",
       "\n"
      ],
      "text/plain": [
       "[1] \"Country\"        \"Data\"           \"Data2\"          \"Data3\"         \n",
       "[5] \"LifeExpectancy\" \"NewData\"        \"Population\"     \"WHO\"           "
      ]
     },
     "metadata": {},
     "output_type": "display_data"
    }
   ],
   "source": [
    "rm(SEA)\n",
    "ls()"
   ]
  },
  {
   "cell_type": "markdown",
   "metadata": {
    "nteract": {
     "transient": {
      "deleting": false
     }
    }
   },
   "source": [
    "# 数据分析\n",
    "访问DataFrame中的变量"
   ]
  },
  {
   "cell_type": "code",
   "execution_count": 13,
   "metadata": {
    "collapsed": true,
    "execution": {
     "iopub.execute_input": "2020-05-09T00:02:25.656711Z",
     "iopub.status.busy": "2020-05-09T00:02:25.654471Z",
     "iopub.status.idle": "2020-05-09T00:02:25.677004Z",
     "shell.execute_reply": "2020-05-09T00:02:25.675397Z"
    },
    "jupyter": {
     "outputs_hidden": false,
     "source_hidden": false
    },
    "nteract": {
     "transient": {
      "deleting": false
     }
    },
    "outputExpanded": false
   },
   "outputs": [
    {
     "data": {
      "text/html": [
       "<style>\n",
       ".list-inline {list-style: none; margin:0; padding: 0}\n",
       ".list-inline>li {display: inline-block}\n",
       ".list-inline>li:not(:last-child)::after {content: \"\\00b7\"; padding: 0 .5ex}\n",
       "</style>\n",
       "<ol class=list-inline><li>47.42</li><li>21.33</li><li>27.42</li><li>15.2</li><li>47.58</li><li>25.96</li><li>24.42</li><li>20.34</li><li>18.95</li><li>14.51</li><li>22.25</li><li>21.62</li><li>20.16</li><li>30.57</li><li>18.99</li><li>15.1</li><li>16.88</li><li>34.4</li><li>42.95</li><li>28.53</li><li>35.23</li><li>16.35</li><li>33.75</li><li>24.56</li><li>25.75</li><li>13.53</li><li>45.66</li><li>44.2</li><li>31.23</li><li>43.08</li><li>16.37</li><li>30.17</li><li>40.07</li><li>48.52</li><li>21.38</li><li>17.95</li><li>28.03</li><li>42.17</li><li>42.37</li><li>30.61</li><li>23.94</li><li>41.48</li><li>14.98</li><li>16.58</li><li>17.16</li><li>14.56</li><li>21.98</li><li>45.11</li><li>17.66</li><li>33.72</li><li>25.96</li><li>30.53</li><li>30.29</li><li>31.25</li><li>30.62</li><li>38.95</li><li>43.1</li><li>15.69</li><li>43.29</li><li>28.88</li><li>16.42</li><li>18.26</li><li>38.49</li><li>45.9</li><li>17.62</li><li>13.17</li><li>38.59</li><li>14.6</li><li>26.96</li><li>40.8</li><li>42.46</li><li>41.55</li><li>36.77</li><li>35.35</li><li>35.72</li><li>14.62</li><li>20.71</li><li>29.43</li><li>29.27</li><li>23.68</li><li>40.51</li><li>21.54</li><li>27.53</li><li>14.04</li><li>27.78</li><li>13.12</li><li>34.13</li><li>25.46</li><li>42.37</li><li>30.1</li><li>24.9</li><li>30.21</li><li>35.61</li><li>14.57</li><li>21.64</li><li>36.75</li><li>43.06</li><li>29.45</li><li>15.13</li><li>17.46</li><li>42.72</li><li>45.44</li><li>26.65</li><li>29.03</li><li>47.14</li><li>14.98</li><li>30.1</li><li>40.22</li><li>20.17</li><li>29.02</li><li>35.81</li><li>18.26</li><li>27.05</li><li>19.01</li><li>27.85</li><li>45.38</li><li>25.28</li><li>36.59</li><li>30.1</li><li>35.58</li><li>17.21</li><li>20.26</li><li>33.37</li><li>49.99</li><li>44.23</li><li>30.61</li><li>18.64</li><li>24.19</li><li>34.31</li><li>30.1</li><li>28.65</li><li>38.37</li><li>32.78</li><li>29.18</li><li>34.53</li><li>14.91</li><li>14.92</li><li>13.28</li><li>15.25</li><li>16.52</li><li>15.05</li><li>15.45</li><li>43.56</li><li>25.96</li><li>24.31</li><li>25.7</li><li>37.88</li><li>14.04</li><li>41.6</li><li>29.69</li><li>43.54</li><li>16.45</li><li>21.95</li><li>41.74</li><li>16.48</li><li>15</li><li>14.16</li><li>40.37</li><li>47.35</li><li>29.53</li><li>42.28</li><li>15.2</li><li>25.15</li><li>41.48</li><li>27.83</li><li>38.05</li><li>16.71</li><li>14.79</li><li>35.35</li><li>35.75</li><li>18.47</li><li>16.89</li><li>46.33</li><li>41.89</li><li>37.33</li><li>20.73</li><li>23.22</li><li>26</li><li>28.65</li><li>30.61</li><li>48.54</li><li>14.18</li><li>14.41</li><li>17.54</li><li>44.85</li><li>19.63</li><li>22.05</li><li>28.9</li><li>37.37</li><li>28.84</li><li>22.87</li><li>40.72</li><li>46.73</li><li>40.24</li></ol>\n"
      ],
      "text/latex": [
       "\\begin{enumerate*}\n",
       "\\item 47.42\n",
       "\\item 21.33\n",
       "\\item 27.42\n",
       "\\item 15.2\n",
       "\\item 47.58\n",
       "\\item 25.96\n",
       "\\item 24.42\n",
       "\\item 20.34\n",
       "\\item 18.95\n",
       "\\item 14.51\n",
       "\\item 22.25\n",
       "\\item 21.62\n",
       "\\item 20.16\n",
       "\\item 30.57\n",
       "\\item 18.99\n",
       "\\item 15.1\n",
       "\\item 16.88\n",
       "\\item 34.4\n",
       "\\item 42.95\n",
       "\\item 28.53\n",
       "\\item 35.23\n",
       "\\item 16.35\n",
       "\\item 33.75\n",
       "\\item 24.56\n",
       "\\item 25.75\n",
       "\\item 13.53\n",
       "\\item 45.66\n",
       "\\item 44.2\n",
       "\\item 31.23\n",
       "\\item 43.08\n",
       "\\item 16.37\n",
       "\\item 30.17\n",
       "\\item 40.07\n",
       "\\item 48.52\n",
       "\\item 21.38\n",
       "\\item 17.95\n",
       "\\item 28.03\n",
       "\\item 42.17\n",
       "\\item 42.37\n",
       "\\item 30.61\n",
       "\\item 23.94\n",
       "\\item 41.48\n",
       "\\item 14.98\n",
       "\\item 16.58\n",
       "\\item 17.16\n",
       "\\item 14.56\n",
       "\\item 21.98\n",
       "\\item 45.11\n",
       "\\item 17.66\n",
       "\\item 33.72\n",
       "\\item 25.96\n",
       "\\item 30.53\n",
       "\\item 30.29\n",
       "\\item 31.25\n",
       "\\item 30.62\n",
       "\\item 38.95\n",
       "\\item 43.1\n",
       "\\item 15.69\n",
       "\\item 43.29\n",
       "\\item 28.88\n",
       "\\item 16.42\n",
       "\\item 18.26\n",
       "\\item 38.49\n",
       "\\item 45.9\n",
       "\\item 17.62\n",
       "\\item 13.17\n",
       "\\item 38.59\n",
       "\\item 14.6\n",
       "\\item 26.96\n",
       "\\item 40.8\n",
       "\\item 42.46\n",
       "\\item 41.55\n",
       "\\item 36.77\n",
       "\\item 35.35\n",
       "\\item 35.72\n",
       "\\item 14.62\n",
       "\\item 20.71\n",
       "\\item 29.43\n",
       "\\item 29.27\n",
       "\\item 23.68\n",
       "\\item 40.51\n",
       "\\item 21.54\n",
       "\\item 27.53\n",
       "\\item 14.04\n",
       "\\item 27.78\n",
       "\\item 13.12\n",
       "\\item 34.13\n",
       "\\item 25.46\n",
       "\\item 42.37\n",
       "\\item 30.1\n",
       "\\item 24.9\n",
       "\\item 30.21\n",
       "\\item 35.61\n",
       "\\item 14.57\n",
       "\\item 21.64\n",
       "\\item 36.75\n",
       "\\item 43.06\n",
       "\\item 29.45\n",
       "\\item 15.13\n",
       "\\item 17.46\n",
       "\\item 42.72\n",
       "\\item 45.44\n",
       "\\item 26.65\n",
       "\\item 29.03\n",
       "\\item 47.14\n",
       "\\item 14.98\n",
       "\\item 30.1\n",
       "\\item 40.22\n",
       "\\item 20.17\n",
       "\\item 29.02\n",
       "\\item 35.81\n",
       "\\item 18.26\n",
       "\\item 27.05\n",
       "\\item 19.01\n",
       "\\item 27.85\n",
       "\\item 45.38\n",
       "\\item 25.28\n",
       "\\item 36.59\n",
       "\\item 30.1\n",
       "\\item 35.58\n",
       "\\item 17.21\n",
       "\\item 20.26\n",
       "\\item 33.37\n",
       "\\item 49.99\n",
       "\\item 44.23\n",
       "\\item 30.61\n",
       "\\item 18.64\n",
       "\\item 24.19\n",
       "\\item 34.31\n",
       "\\item 30.1\n",
       "\\item 28.65\n",
       "\\item 38.37\n",
       "\\item 32.78\n",
       "\\item 29.18\n",
       "\\item 34.53\n",
       "\\item 14.91\n",
       "\\item 14.92\n",
       "\\item 13.28\n",
       "\\item 15.25\n",
       "\\item 16.52\n",
       "\\item 15.05\n",
       "\\item 15.45\n",
       "\\item 43.56\n",
       "\\item 25.96\n",
       "\\item 24.31\n",
       "\\item 25.7\n",
       "\\item 37.88\n",
       "\\item 14.04\n",
       "\\item 41.6\n",
       "\\item 29.69\n",
       "\\item 43.54\n",
       "\\item 16.45\n",
       "\\item 21.95\n",
       "\\item 41.74\n",
       "\\item 16.48\n",
       "\\item 15\n",
       "\\item 14.16\n",
       "\\item 40.37\n",
       "\\item 47.35\n",
       "\\item 29.53\n",
       "\\item 42.28\n",
       "\\item 15.2\n",
       "\\item 25.15\n",
       "\\item 41.48\n",
       "\\item 27.83\n",
       "\\item 38.05\n",
       "\\item 16.71\n",
       "\\item 14.79\n",
       "\\item 35.35\n",
       "\\item 35.75\n",
       "\\item 18.47\n",
       "\\item 16.89\n",
       "\\item 46.33\n",
       "\\item 41.89\n",
       "\\item 37.33\n",
       "\\item 20.73\n",
       "\\item 23.22\n",
       "\\item 26\n",
       "\\item 28.65\n",
       "\\item 30.61\n",
       "\\item 48.54\n",
       "\\item 14.18\n",
       "\\item 14.41\n",
       "\\item 17.54\n",
       "\\item 44.85\n",
       "\\item 19.63\n",
       "\\item 22.05\n",
       "\\item 28.9\n",
       "\\item 37.37\n",
       "\\item 28.84\n",
       "\\item 22.87\n",
       "\\item 40.72\n",
       "\\item 46.73\n",
       "\\item 40.24\n",
       "\\end{enumerate*}\n"
      ],
      "text/markdown": [
       "1. 47.42\n",
       "2. 21.33\n",
       "3. 27.42\n",
       "4. 15.2\n",
       "5. 47.58\n",
       "6. 25.96\n",
       "7. 24.42\n",
       "8. 20.34\n",
       "9. 18.95\n",
       "10. 14.51\n",
       "11. 22.25\n",
       "12. 21.62\n",
       "13. 20.16\n",
       "14. 30.57\n",
       "15. 18.99\n",
       "16. 15.1\n",
       "17. 16.88\n",
       "18. 34.4\n",
       "19. 42.95\n",
       "20. 28.53\n",
       "21. 35.23\n",
       "22. 16.35\n",
       "23. 33.75\n",
       "24. 24.56\n",
       "25. 25.75\n",
       "26. 13.53\n",
       "27. 45.66\n",
       "28. 44.2\n",
       "29. 31.23\n",
       "30. 43.08\n",
       "31. 16.37\n",
       "32. 30.17\n",
       "33. 40.07\n",
       "34. 48.52\n",
       "35. 21.38\n",
       "36. 17.95\n",
       "37. 28.03\n",
       "38. 42.17\n",
       "39. 42.37\n",
       "40. 30.61\n",
       "41. 23.94\n",
       "42. 41.48\n",
       "43. 14.98\n",
       "44. 16.58\n",
       "45. 17.16\n",
       "46. 14.56\n",
       "47. 21.98\n",
       "48. 45.11\n",
       "49. 17.66\n",
       "50. 33.72\n",
       "51. 25.96\n",
       "52. 30.53\n",
       "53. 30.29\n",
       "54. 31.25\n",
       "55. 30.62\n",
       "56. 38.95\n",
       "57. 43.1\n",
       "58. 15.69\n",
       "59. 43.29\n",
       "60. 28.88\n",
       "61. 16.42\n",
       "62. 18.26\n",
       "63. 38.49\n",
       "64. 45.9\n",
       "65. 17.62\n",
       "66. 13.17\n",
       "67. 38.59\n",
       "68. 14.6\n",
       "69. 26.96\n",
       "70. 40.8\n",
       "71. 42.46\n",
       "72. 41.55\n",
       "73. 36.77\n",
       "74. 35.35\n",
       "75. 35.72\n",
       "76. 14.62\n",
       "77. 20.71\n",
       "78. 29.43\n",
       "79. 29.27\n",
       "80. 23.68\n",
       "81. 40.51\n",
       "82. 21.54\n",
       "83. 27.53\n",
       "84. 14.04\n",
       "85. 27.78\n",
       "86. 13.12\n",
       "87. 34.13\n",
       "88. 25.46\n",
       "89. 42.37\n",
       "90. 30.1\n",
       "91. 24.9\n",
       "92. 30.21\n",
       "93. 35.61\n",
       "94. 14.57\n",
       "95. 21.64\n",
       "96. 36.75\n",
       "97. 43.06\n",
       "98. 29.45\n",
       "99. 15.13\n",
       "100. 17.46\n",
       "101. 42.72\n",
       "102. 45.44\n",
       "103. 26.65\n",
       "104. 29.03\n",
       "105. 47.14\n",
       "106. 14.98\n",
       "107. 30.1\n",
       "108. 40.22\n",
       "109. 20.17\n",
       "110. 29.02\n",
       "111. 35.81\n",
       "112. 18.26\n",
       "113. 27.05\n",
       "114. 19.01\n",
       "115. 27.85\n",
       "116. 45.38\n",
       "117. 25.28\n",
       "118. 36.59\n",
       "119. 30.1\n",
       "120. 35.58\n",
       "121. 17.21\n",
       "122. 20.26\n",
       "123. 33.37\n",
       "124. 49.99\n",
       "125. 44.23\n",
       "126. 30.61\n",
       "127. 18.64\n",
       "128. 24.19\n",
       "129. 34.31\n",
       "130. 30.1\n",
       "131. 28.65\n",
       "132. 38.37\n",
       "133. 32.78\n",
       "134. 29.18\n",
       "135. 34.53\n",
       "136. 14.91\n",
       "137. 14.92\n",
       "138. 13.28\n",
       "139. 15.25\n",
       "140. 16.52\n",
       "141. 15.05\n",
       "142. 15.45\n",
       "143. 43.56\n",
       "144. 25.96\n",
       "145. 24.31\n",
       "146. 25.7\n",
       "147. 37.88\n",
       "148. 14.04\n",
       "149. 41.6\n",
       "150. 29.69\n",
       "151. 43.54\n",
       "152. 16.45\n",
       "153. 21.95\n",
       "154. 41.74\n",
       "155. 16.48\n",
       "156. 15\n",
       "157. 14.16\n",
       "158. 40.37\n",
       "159. 47.35\n",
       "160. 29.53\n",
       "161. 42.28\n",
       "162. 15.2\n",
       "163. 25.15\n",
       "164. 41.48\n",
       "165. 27.83\n",
       "166. 38.05\n",
       "167. 16.71\n",
       "168. 14.79\n",
       "169. 35.35\n",
       "170. 35.75\n",
       "171. 18.47\n",
       "172. 16.89\n",
       "173. 46.33\n",
       "174. 41.89\n",
       "175. 37.33\n",
       "176. 20.73\n",
       "177. 23.22\n",
       "178. 26\n",
       "179. 28.65\n",
       "180. 30.61\n",
       "181. 48.54\n",
       "182. 14.18\n",
       "183. 14.41\n",
       "184. 17.54\n",
       "185. 44.85\n",
       "186. 19.63\n",
       "187. 22.05\n",
       "188. 28.9\n",
       "189. 37.37\n",
       "190. 28.84\n",
       "191. 22.87\n",
       "192. 40.72\n",
       "193. 46.73\n",
       "194. 40.24\n",
       "\n",
       "\n"
      ],
      "text/plain": [
       "  [1] 47.42 21.33 27.42 15.20 47.58 25.96 24.42 20.34 18.95 14.51 22.25 21.62\n",
       " [13] 20.16 30.57 18.99 15.10 16.88 34.40 42.95 28.53 35.23 16.35 33.75 24.56\n",
       " [25] 25.75 13.53 45.66 44.20 31.23 43.08 16.37 30.17 40.07 48.52 21.38 17.95\n",
       " [37] 28.03 42.17 42.37 30.61 23.94 41.48 14.98 16.58 17.16 14.56 21.98 45.11\n",
       " [49] 17.66 33.72 25.96 30.53 30.29 31.25 30.62 38.95 43.10 15.69 43.29 28.88\n",
       " [61] 16.42 18.26 38.49 45.90 17.62 13.17 38.59 14.60 26.96 40.80 42.46 41.55\n",
       " [73] 36.77 35.35 35.72 14.62 20.71 29.43 29.27 23.68 40.51 21.54 27.53 14.04\n",
       " [85] 27.78 13.12 34.13 25.46 42.37 30.10 24.90 30.21 35.61 14.57 21.64 36.75\n",
       " [97] 43.06 29.45 15.13 17.46 42.72 45.44 26.65 29.03 47.14 14.98 30.10 40.22\n",
       "[109] 20.17 29.02 35.81 18.26 27.05 19.01 27.85 45.38 25.28 36.59 30.10 35.58\n",
       "[121] 17.21 20.26 33.37 49.99 44.23 30.61 18.64 24.19 34.31 30.10 28.65 38.37\n",
       "[133] 32.78 29.18 34.53 14.91 14.92 13.28 15.25 16.52 15.05 15.45 43.56 25.96\n",
       "[145] 24.31 25.70 37.88 14.04 41.60 29.69 43.54 16.45 21.95 41.74 16.48 15.00\n",
       "[157] 14.16 40.37 47.35 29.53 42.28 15.20 25.15 41.48 27.83 38.05 16.71 14.79\n",
       "[169] 35.35 35.75 18.47 16.89 46.33 41.89 37.33 20.73 23.22 26.00 28.65 30.61\n",
       "[181] 48.54 14.18 14.41 17.54 44.85 19.63 22.05 28.90 37.37 28.84 22.87 40.72\n",
       "[193] 46.73 40.24"
      ]
     },
     "metadata": {},
     "output_type": "display_data"
    }
   ],
   "source": [
    "WHO$Under15"
   ]
  },
  {
   "cell_type": "markdown",
   "metadata": {
    "nteract": {
     "transient": {
      "deleting": false
     }
    }
   },
   "source": [
    "均值"
   ]
  },
  {
   "cell_type": "code",
   "execution_count": 14,
   "metadata": {
    "collapsed": true,
    "execution": {
     "iopub.execute_input": "2020-05-09T00:02:25.684479Z",
     "iopub.status.busy": "2020-05-09T00:02:25.681755Z",
     "iopub.status.idle": "2020-05-09T00:02:25.704837Z",
     "shell.execute_reply": "2020-05-09T00:02:25.703400Z"
    },
    "jupyter": {
     "outputs_hidden": false,
     "source_hidden": false
    },
    "nteract": {
     "transient": {
      "deleting": false
     }
    },
    "outputExpanded": false
   },
   "outputs": [
    {
     "data": {
      "text/html": [
       "28.7324226804124"
      ],
      "text/latex": [
       "28.7324226804124"
      ],
      "text/markdown": [
       "28.7324226804124"
      ],
      "text/plain": [
       "[1] 28.73242"
      ]
     },
     "metadata": {},
     "output_type": "display_data"
    }
   ],
   "source": [
    "mean(WHO$Under15)"
   ]
  },
  {
   "cell_type": "markdown",
   "metadata": {
    "nteract": {
     "transient": {
      "deleting": false
     }
    }
   },
   "source": [
    "标准差"
   ]
  },
  {
   "cell_type": "code",
   "execution_count": 15,
   "metadata": {
    "collapsed": true,
    "execution": {
     "iopub.execute_input": "2020-05-09T00:02:25.713871Z",
     "iopub.status.busy": "2020-05-09T00:02:25.712330Z",
     "iopub.status.idle": "2020-05-09T00:02:25.727858Z",
     "shell.execute_reply": "2020-05-09T00:02:25.726346Z"
    },
    "jupyter": {
     "outputs_hidden": false,
     "source_hidden": false
    },
    "nteract": {
     "transient": {
      "deleting": false
     }
    },
    "outputExpanded": false
   },
   "outputs": [
    {
     "data": {
      "text/html": [
       "10.5345733199238"
      ],
      "text/latex": [
       "10.5345733199238"
      ],
      "text/markdown": [
       "10.5345733199238"
      ],
      "text/plain": [
       "[1] 10.53457"
      ]
     },
     "metadata": {},
     "output_type": "display_data"
    }
   ],
   "source": [
    "sd(WHO$Under15)"
   ]
  },
  {
   "cell_type": "markdown",
   "metadata": {
    "nteract": {
     "transient": {
      "deleting": false
     }
    }
   },
   "source": [
    "摘要"
   ]
  },
  {
   "cell_type": "code",
   "execution_count": 16,
   "metadata": {
    "collapsed": true,
    "execution": {
     "iopub.execute_input": "2020-05-09T00:02:25.732971Z",
     "iopub.status.busy": "2020-05-09T00:02:25.731412Z",
     "iopub.status.idle": "2020-05-09T00:02:25.746553Z",
     "shell.execute_reply": "2020-05-09T00:02:25.745365Z"
    },
    "jupyter": {
     "outputs_hidden": false,
     "source_hidden": false
    },
    "nteract": {
     "transient": {
      "deleting": false
     }
    },
    "outputExpanded": false
   },
   "outputs": [
    {
     "data": {
      "text/plain": [
       "   Min. 1st Qu.  Median    Mean 3rd Qu.    Max. \n",
       "  13.12   18.72   28.65   28.73   37.75   49.99 "
      ]
     },
     "metadata": {},
     "output_type": "display_data"
    }
   ],
   "source": [
    "summary(WHO$Under15)"
   ]
  },
  {
   "cell_type": "markdown",
   "metadata": {
    "nteract": {
     "transient": {
      "deleting": false
     }
    }
   },
   "source": [
    "## which.min\n",
    "找出哪个国家在15岁以下的人口最少的"
   ]
  },
  {
   "cell_type": "code",
   "execution_count": 17,
   "metadata": {
    "collapsed": true,
    "execution": {
     "iopub.execute_input": "2020-05-09T00:02:25.751093Z",
     "iopub.status.busy": "2020-05-09T00:02:25.749794Z",
     "iopub.status.idle": "2020-05-09T00:02:25.765015Z",
     "shell.execute_reply": "2020-05-09T00:02:25.763698Z"
    },
    "jupyter": {
     "outputs_hidden": false,
     "source_hidden": false
    },
    "nteract": {
     "transient": {
      "deleting": false
     }
    },
    "outputExpanded": false
   },
   "outputs": [
    {
     "data": {
      "text/html": [
       "86"
      ],
      "text/latex": [
       "86"
      ],
      "text/markdown": [
       "86"
      ],
      "text/plain": [
       "[1] 86"
      ]
     },
     "metadata": {},
     "output_type": "display_data"
    }
   ],
   "source": [
    "which.min(WHO$Under15)"
   ]
  },
  {
   "cell_type": "code",
   "execution_count": 18,
   "metadata": {
    "collapsed": true,
    "execution": {
     "iopub.execute_input": "2020-05-09T00:02:25.771116Z",
     "iopub.status.busy": "2020-05-09T00:02:25.769402Z",
     "iopub.status.idle": "2020-05-09T00:02:25.792545Z",
     "shell.execute_reply": "2020-05-09T00:02:25.790835Z"
    },
    "jupyter": {
     "outputs_hidden": false,
     "source_hidden": false
    },
    "nteract": {
     "transient": {
      "deleting": false
     }
    },
    "outputExpanded": false
   },
   "outputs": [
    {
     "data": {
      "text/html": [
       "Japan\n",
       "<details>\n",
       "\t<summary style=display:list-item;cursor:pointer>\n",
       "\t\t<strong>Levels</strong>:\n",
       "\t</summary>\n",
       "\t<style>\n",
       "\t.list-inline {list-style: none; margin:0; padding: 0}\n",
       "\t.list-inline>li {display: inline-block}\n",
       "\t.list-inline>li:not(:last-child)::after {content: \"\\00b7\"; padding: 0 .5ex}\n",
       "\t</style>\n",
       "\t<ol class=list-inline><li>'Afghanistan'</li><li>'Albania'</li><li>'Algeria'</li><li>'Andorra'</li><li>'Angola'</li><li>'Antigua and Barbuda'</li><li>'Argentina'</li><li>'Armenia'</li><li>'Australia'</li><li>'Austria'</li><li>'Azerbaijan'</li><li>'Bahamas'</li><li>'Bahrain'</li><li>'Bangladesh'</li><li>'Barbados'</li><li>'Belarus'</li><li>'Belgium'</li><li>'Belize'</li><li>'Benin'</li><li>'Bhutan'</li><li>'Bolivia (Plurinational State of)'</li><li>'Bosnia and Herzegovina'</li><li>'Botswana'</li><li>'Brazil'</li><li>'Brunei Darussalam'</li><li>'Bulgaria'</li><li>'Burkina Faso'</li><li>'Burundi'</li><li>'C\\xaate d\\'Ivoire'</li><li>'Cambodia'</li><li>'Cameroon'</li><li>'Canada'</li><li>'Cape Verde'</li><li>'Central African Republic'</li><li>'Chad'</li><li>'Chile'</li><li>'China'</li><li>'Colombia'</li><li>'Comoros'</li><li>'Congo'</li><li>'Cook Islands'</li><li>'Costa Rica'</li><li>'Croatia'</li><li>'Cuba'</li><li>'Cyprus'</li><li>'Czech Republic'</li><li>'Democratic People\\'s Republic of Korea'</li><li>'Democratic Republic of the Congo'</li><li>'Denmark'</li><li>'Djibouti'</li><li>'Dominica'</li><li>'Dominican Republic'</li><li>'Ecuador'</li><li>'Egypt'</li><li>'El Salvador'</li><li>'Equatorial Guinea'</li><li>'Eritrea'</li><li>'Estonia'</li><li>'Ethiopia'</li><li>'Fiji'</li><li>'Finland'</li><li>'France'</li><li>'Gabon'</li><li>'Gambia'</li><li>'Georgia'</li><li>'Germany'</li><li>'Ghana'</li><li>'Greece'</li><li>'Grenada'</li><li>'Guatemala'</li><li>'Guinea'</li><li>'Guinea-Bissau'</li><li>'Guyana'</li><li>'Haiti'</li><li>'Honduras'</li><li>'Hungary'</li><li>'Iceland'</li><li>'India'</li><li>'Indonesia'</li><li>'Iran (Islamic Republic of)'</li><li>'Iraq'</li><li>'Ireland'</li><li>'Israel'</li><li>'Italy'</li><li>'Jamaica'</li><li>'Japan'</li><li>'Jordan'</li><li>'Kazakhstan'</li><li>'Kenya'</li><li>'Kiribati'</li><li>'Kuwait'</li><li>'Kyrgyzstan'</li><li>'Lao People\\'s Democratic Republic'</li><li>'Latvia'</li><li>'Lebanon'</li><li>'Lesotho'</li><li>'Liberia'</li><li>'Libya'</li><li>'Lithuania'</li><li>'Luxembourg'</li><li>'Madagascar'</li><li>'Malawi'</li><li>'Malaysia'</li><li>'Maldives'</li><li>'Mali'</li><li>'Malta'</li><li>'Marshall Islands'</li><li>'Mauritania'</li><li>'Mauritius'</li><li>'Mexico'</li><li>'Micronesia (Federated States of)'</li><li>'Monaco'</li><li>'Mongolia'</li><li>'Montenegro'</li><li>'Morocco'</li><li>'Mozambique'</li><li>'Myanmar'</li><li>'Namibia'</li><li>'Nauru'</li><li>'Nepal'</li><li>'Netherlands'</li><li>'New Zealand'</li><li>'Nicaragua'</li><li>'Niger'</li><li>'Nigeria'</li><li>'Niue'</li><li>'Norway'</li><li>'Oman'</li><li>'Pakistan'</li><li>'Palau'</li><li>'Panama'</li><li>'Papua New Guinea'</li><li>'Paraguay'</li><li>'Peru'</li><li>'Philippines'</li><li>'Poland'</li><li>'Portugal'</li><li>'Qatar'</li><li>'Republic of Korea'</li><li>'Republic of Moldova'</li><li>'Romania'</li><li>'Russian Federation'</li><li>'Rwanda'</li><li>'Saint Kitts and Nevis'</li><li>'Saint Lucia'</li><li>'Saint Vincent and the Grenadines'</li><li>'Samoa'</li><li>'San Marino'</li><li>'Sao Tome and Principe'</li><li>'Saudi Arabia'</li><li>'Senegal'</li><li>'Serbia'</li><li>'Seychelles'</li><li>'Sierra Leone'</li><li>'Singapore'</li><li>'Slovakia'</li><li>'Slovenia'</li><li>'Solomon Islands'</li><li>'Somalia'</li><li>'South Africa'</li><li>'South Sudan'</li><li>'Spain'</li><li>'Sri Lanka'</li><li>'Sudan'</li><li>'Suriname'</li><li>'Swaziland'</li><li>'Sweden'</li><li>'Switzerland'</li><li>'Syrian Arab Republic'</li><li>'Tajikistan'</li><li>'Thailand'</li><li>'The former Yugoslav Republic of Macedonia'</li><li>'Timor-Leste'</li><li>'Togo'</li><li>'Tonga'</li><li>'Trinidad and Tobago'</li><li>'Tunisia'</li><li>'Turkey'</li><li>'Turkmenistan'</li><li>'Tuvalu'</li><li>'Uganda'</li><li>'Ukraine'</li><li>'United Arab Emirates'</li><li>'United Kingdom'</li><li>'United Republic of Tanzania'</li><li>'United States of America'</li><li>'Uruguay'</li><li>'Uzbekistan'</li><li>'Vanuatu'</li><li>'Venezuela (Bolivarian Republic of)'</li><li>'Viet Nam'</li><li>'Yemen'</li><li>'Zambia'</li><li>'Zimbabwe'</li></ol>\n",
       "</details>"
      ],
      "text/latex": [
       "Japan\n",
       "\\emph{Levels}: \\begin{enumerate*}\n",
       "\\item 'Afghanistan'\n",
       "\\item 'Albania'\n",
       "\\item 'Algeria'\n",
       "\\item 'Andorra'\n",
       "\\item 'Angola'\n",
       "\\item 'Antigua and Barbuda'\n",
       "\\item 'Argentina'\n",
       "\\item 'Armenia'\n",
       "\\item 'Australia'\n",
       "\\item 'Austria'\n",
       "\\item 'Azerbaijan'\n",
       "\\item 'Bahamas'\n",
       "\\item 'Bahrain'\n",
       "\\item 'Bangladesh'\n",
       "\\item 'Barbados'\n",
       "\\item 'Belarus'\n",
       "\\item 'Belgium'\n",
       "\\item 'Belize'\n",
       "\\item 'Benin'\n",
       "\\item 'Bhutan'\n",
       "\\item 'Bolivia (Plurinational State of)'\n",
       "\\item 'Bosnia and Herzegovina'\n",
       "\\item 'Botswana'\n",
       "\\item 'Brazil'\n",
       "\\item 'Brunei Darussalam'\n",
       "\\item 'Bulgaria'\n",
       "\\item 'Burkina Faso'\n",
       "\\item 'Burundi'\n",
       "\\item 'C\\textbackslash{}xaate d\\textbackslash{}'Ivoire'\n",
       "\\item 'Cambodia'\n",
       "\\item 'Cameroon'\n",
       "\\item 'Canada'\n",
       "\\item 'Cape Verde'\n",
       "\\item 'Central African Republic'\n",
       "\\item 'Chad'\n",
       "\\item 'Chile'\n",
       "\\item 'China'\n",
       "\\item 'Colombia'\n",
       "\\item 'Comoros'\n",
       "\\item 'Congo'\n",
       "\\item 'Cook Islands'\n",
       "\\item 'Costa Rica'\n",
       "\\item 'Croatia'\n",
       "\\item 'Cuba'\n",
       "\\item 'Cyprus'\n",
       "\\item 'Czech Republic'\n",
       "\\item 'Democratic People\\textbackslash{}'s Republic of Korea'\n",
       "\\item 'Democratic Republic of the Congo'\n",
       "\\item 'Denmark'\n",
       "\\item 'Djibouti'\n",
       "\\item 'Dominica'\n",
       "\\item 'Dominican Republic'\n",
       "\\item 'Ecuador'\n",
       "\\item 'Egypt'\n",
       "\\item 'El Salvador'\n",
       "\\item 'Equatorial Guinea'\n",
       "\\item 'Eritrea'\n",
       "\\item 'Estonia'\n",
       "\\item 'Ethiopia'\n",
       "\\item 'Fiji'\n",
       "\\item 'Finland'\n",
       "\\item 'France'\n",
       "\\item 'Gabon'\n",
       "\\item 'Gambia'\n",
       "\\item 'Georgia'\n",
       "\\item 'Germany'\n",
       "\\item 'Ghana'\n",
       "\\item 'Greece'\n",
       "\\item 'Grenada'\n",
       "\\item 'Guatemala'\n",
       "\\item 'Guinea'\n",
       "\\item 'Guinea-Bissau'\n",
       "\\item 'Guyana'\n",
       "\\item 'Haiti'\n",
       "\\item 'Honduras'\n",
       "\\item 'Hungary'\n",
       "\\item 'Iceland'\n",
       "\\item 'India'\n",
       "\\item 'Indonesia'\n",
       "\\item 'Iran (Islamic Republic of)'\n",
       "\\item 'Iraq'\n",
       "\\item 'Ireland'\n",
       "\\item 'Israel'\n",
       "\\item 'Italy'\n",
       "\\item 'Jamaica'\n",
       "\\item 'Japan'\n",
       "\\item 'Jordan'\n",
       "\\item 'Kazakhstan'\n",
       "\\item 'Kenya'\n",
       "\\item 'Kiribati'\n",
       "\\item 'Kuwait'\n",
       "\\item 'Kyrgyzstan'\n",
       "\\item 'Lao People\\textbackslash{}'s Democratic Republic'\n",
       "\\item 'Latvia'\n",
       "\\item 'Lebanon'\n",
       "\\item 'Lesotho'\n",
       "\\item 'Liberia'\n",
       "\\item 'Libya'\n",
       "\\item 'Lithuania'\n",
       "\\item 'Luxembourg'\n",
       "\\item 'Madagascar'\n",
       "\\item 'Malawi'\n",
       "\\item 'Malaysia'\n",
       "\\item 'Maldives'\n",
       "\\item 'Mali'\n",
       "\\item 'Malta'\n",
       "\\item 'Marshall Islands'\n",
       "\\item 'Mauritania'\n",
       "\\item 'Mauritius'\n",
       "\\item 'Mexico'\n",
       "\\item 'Micronesia (Federated States of)'\n",
       "\\item 'Monaco'\n",
       "\\item 'Mongolia'\n",
       "\\item 'Montenegro'\n",
       "\\item 'Morocco'\n",
       "\\item 'Mozambique'\n",
       "\\item 'Myanmar'\n",
       "\\item 'Namibia'\n",
       "\\item 'Nauru'\n",
       "\\item 'Nepal'\n",
       "\\item 'Netherlands'\n",
       "\\item 'New Zealand'\n",
       "\\item 'Nicaragua'\n",
       "\\item 'Niger'\n",
       "\\item 'Nigeria'\n",
       "\\item 'Niue'\n",
       "\\item 'Norway'\n",
       "\\item 'Oman'\n",
       "\\item 'Pakistan'\n",
       "\\item 'Palau'\n",
       "\\item 'Panama'\n",
       "\\item 'Papua New Guinea'\n",
       "\\item 'Paraguay'\n",
       "\\item 'Peru'\n",
       "\\item 'Philippines'\n",
       "\\item 'Poland'\n",
       "\\item 'Portugal'\n",
       "\\item 'Qatar'\n",
       "\\item 'Republic of Korea'\n",
       "\\item 'Republic of Moldova'\n",
       "\\item 'Romania'\n",
       "\\item 'Russian Federation'\n",
       "\\item 'Rwanda'\n",
       "\\item 'Saint Kitts and Nevis'\n",
       "\\item 'Saint Lucia'\n",
       "\\item 'Saint Vincent and the Grenadines'\n",
       "\\item 'Samoa'\n",
       "\\item 'San Marino'\n",
       "\\item 'Sao Tome and Principe'\n",
       "\\item 'Saudi Arabia'\n",
       "\\item 'Senegal'\n",
       "\\item 'Serbia'\n",
       "\\item 'Seychelles'\n",
       "\\item 'Sierra Leone'\n",
       "\\item 'Singapore'\n",
       "\\item 'Slovakia'\n",
       "\\item 'Slovenia'\n",
       "\\item 'Solomon Islands'\n",
       "\\item 'Somalia'\n",
       "\\item 'South Africa'\n",
       "\\item 'South Sudan'\n",
       "\\item 'Spain'\n",
       "\\item 'Sri Lanka'\n",
       "\\item 'Sudan'\n",
       "\\item 'Suriname'\n",
       "\\item 'Swaziland'\n",
       "\\item 'Sweden'\n",
       "\\item 'Switzerland'\n",
       "\\item 'Syrian Arab Republic'\n",
       "\\item 'Tajikistan'\n",
       "\\item 'Thailand'\n",
       "\\item 'The former Yugoslav Republic of Macedonia'\n",
       "\\item 'Timor-Leste'\n",
       "\\item 'Togo'\n",
       "\\item 'Tonga'\n",
       "\\item 'Trinidad and Tobago'\n",
       "\\item 'Tunisia'\n",
       "\\item 'Turkey'\n",
       "\\item 'Turkmenistan'\n",
       "\\item 'Tuvalu'\n",
       "\\item 'Uganda'\n",
       "\\item 'Ukraine'\n",
       "\\item 'United Arab Emirates'\n",
       "\\item 'United Kingdom'\n",
       "\\item 'United Republic of Tanzania'\n",
       "\\item 'United States of America'\n",
       "\\item 'Uruguay'\n",
       "\\item 'Uzbekistan'\n",
       "\\item 'Vanuatu'\n",
       "\\item 'Venezuela (Bolivarian Republic of)'\n",
       "\\item 'Viet Nam'\n",
       "\\item 'Yemen'\n",
       "\\item 'Zambia'\n",
       "\\item 'Zimbabwe'\n",
       "\\end{enumerate*}\n"
      ],
      "text/markdown": [
       "Japan\n",
       "**Levels**: 1. 'Afghanistan'\n",
       "2. 'Albania'\n",
       "3. 'Algeria'\n",
       "4. 'Andorra'\n",
       "5. 'Angola'\n",
       "6. 'Antigua and Barbuda'\n",
       "7. 'Argentina'\n",
       "8. 'Armenia'\n",
       "9. 'Australia'\n",
       "10. 'Austria'\n",
       "11. 'Azerbaijan'\n",
       "12. 'Bahamas'\n",
       "13. 'Bahrain'\n",
       "14. 'Bangladesh'\n",
       "15. 'Barbados'\n",
       "16. 'Belarus'\n",
       "17. 'Belgium'\n",
       "18. 'Belize'\n",
       "19. 'Benin'\n",
       "20. 'Bhutan'\n",
       "21. 'Bolivia (Plurinational State of)'\n",
       "22. 'Bosnia and Herzegovina'\n",
       "23. 'Botswana'\n",
       "24. 'Brazil'\n",
       "25. 'Brunei Darussalam'\n",
       "26. 'Bulgaria'\n",
       "27. 'Burkina Faso'\n",
       "28. 'Burundi'\n",
       "29. 'C\\xaate d\\'Ivoire'\n",
       "30. 'Cambodia'\n",
       "31. 'Cameroon'\n",
       "32. 'Canada'\n",
       "33. 'Cape Verde'\n",
       "34. 'Central African Republic'\n",
       "35. 'Chad'\n",
       "36. 'Chile'\n",
       "37. 'China'\n",
       "38. 'Colombia'\n",
       "39. 'Comoros'\n",
       "40. 'Congo'\n",
       "41. 'Cook Islands'\n",
       "42. 'Costa Rica'\n",
       "43. 'Croatia'\n",
       "44. 'Cuba'\n",
       "45. 'Cyprus'\n",
       "46. 'Czech Republic'\n",
       "47. 'Democratic People\\'s Republic of Korea'\n",
       "48. 'Democratic Republic of the Congo'\n",
       "49. 'Denmark'\n",
       "50. 'Djibouti'\n",
       "51. 'Dominica'\n",
       "52. 'Dominican Republic'\n",
       "53. 'Ecuador'\n",
       "54. 'Egypt'\n",
       "55. 'El Salvador'\n",
       "56. 'Equatorial Guinea'\n",
       "57. 'Eritrea'\n",
       "58. 'Estonia'\n",
       "59. 'Ethiopia'\n",
       "60. 'Fiji'\n",
       "61. 'Finland'\n",
       "62. 'France'\n",
       "63. 'Gabon'\n",
       "64. 'Gambia'\n",
       "65. 'Georgia'\n",
       "66. 'Germany'\n",
       "67. 'Ghana'\n",
       "68. 'Greece'\n",
       "69. 'Grenada'\n",
       "70. 'Guatemala'\n",
       "71. 'Guinea'\n",
       "72. 'Guinea-Bissau'\n",
       "73. 'Guyana'\n",
       "74. 'Haiti'\n",
       "75. 'Honduras'\n",
       "76. 'Hungary'\n",
       "77. 'Iceland'\n",
       "78. 'India'\n",
       "79. 'Indonesia'\n",
       "80. 'Iran (Islamic Republic of)'\n",
       "81. 'Iraq'\n",
       "82. 'Ireland'\n",
       "83. 'Israel'\n",
       "84. 'Italy'\n",
       "85. 'Jamaica'\n",
       "86. 'Japan'\n",
       "87. 'Jordan'\n",
       "88. 'Kazakhstan'\n",
       "89. 'Kenya'\n",
       "90. 'Kiribati'\n",
       "91. 'Kuwait'\n",
       "92. 'Kyrgyzstan'\n",
       "93. 'Lao People\\'s Democratic Republic'\n",
       "94. 'Latvia'\n",
       "95. 'Lebanon'\n",
       "96. 'Lesotho'\n",
       "97. 'Liberia'\n",
       "98. 'Libya'\n",
       "99. 'Lithuania'\n",
       "100. 'Luxembourg'\n",
       "101. 'Madagascar'\n",
       "102. 'Malawi'\n",
       "103. 'Malaysia'\n",
       "104. 'Maldives'\n",
       "105. 'Mali'\n",
       "106. 'Malta'\n",
       "107. 'Marshall Islands'\n",
       "108. 'Mauritania'\n",
       "109. 'Mauritius'\n",
       "110. 'Mexico'\n",
       "111. 'Micronesia (Federated States of)'\n",
       "112. 'Monaco'\n",
       "113. 'Mongolia'\n",
       "114. 'Montenegro'\n",
       "115. 'Morocco'\n",
       "116. 'Mozambique'\n",
       "117. 'Myanmar'\n",
       "118. 'Namibia'\n",
       "119. 'Nauru'\n",
       "120. 'Nepal'\n",
       "121. 'Netherlands'\n",
       "122. 'New Zealand'\n",
       "123. 'Nicaragua'\n",
       "124. 'Niger'\n",
       "125. 'Nigeria'\n",
       "126. 'Niue'\n",
       "127. 'Norway'\n",
       "128. 'Oman'\n",
       "129. 'Pakistan'\n",
       "130. 'Palau'\n",
       "131. 'Panama'\n",
       "132. 'Papua New Guinea'\n",
       "133. 'Paraguay'\n",
       "134. 'Peru'\n",
       "135. 'Philippines'\n",
       "136. 'Poland'\n",
       "137. 'Portugal'\n",
       "138. 'Qatar'\n",
       "139. 'Republic of Korea'\n",
       "140. 'Republic of Moldova'\n",
       "141. 'Romania'\n",
       "142. 'Russian Federation'\n",
       "143. 'Rwanda'\n",
       "144. 'Saint Kitts and Nevis'\n",
       "145. 'Saint Lucia'\n",
       "146. 'Saint Vincent and the Grenadines'\n",
       "147. 'Samoa'\n",
       "148. 'San Marino'\n",
       "149. 'Sao Tome and Principe'\n",
       "150. 'Saudi Arabia'\n",
       "151. 'Senegal'\n",
       "152. 'Serbia'\n",
       "153. 'Seychelles'\n",
       "154. 'Sierra Leone'\n",
       "155. 'Singapore'\n",
       "156. 'Slovakia'\n",
       "157. 'Slovenia'\n",
       "158. 'Solomon Islands'\n",
       "159. 'Somalia'\n",
       "160. 'South Africa'\n",
       "161. 'South Sudan'\n",
       "162. 'Spain'\n",
       "163. 'Sri Lanka'\n",
       "164. 'Sudan'\n",
       "165. 'Suriname'\n",
       "166. 'Swaziland'\n",
       "167. 'Sweden'\n",
       "168. 'Switzerland'\n",
       "169. 'Syrian Arab Republic'\n",
       "170. 'Tajikistan'\n",
       "171. 'Thailand'\n",
       "172. 'The former Yugoslav Republic of Macedonia'\n",
       "173. 'Timor-Leste'\n",
       "174. 'Togo'\n",
       "175. 'Tonga'\n",
       "176. 'Trinidad and Tobago'\n",
       "177. 'Tunisia'\n",
       "178. 'Turkey'\n",
       "179. 'Turkmenistan'\n",
       "180. 'Tuvalu'\n",
       "181. 'Uganda'\n",
       "182. 'Ukraine'\n",
       "183. 'United Arab Emirates'\n",
       "184. 'United Kingdom'\n",
       "185. 'United Republic of Tanzania'\n",
       "186. 'United States of America'\n",
       "187. 'Uruguay'\n",
       "188. 'Uzbekistan'\n",
       "189. 'Vanuatu'\n",
       "190. 'Venezuela (Bolivarian Republic of)'\n",
       "191. 'Viet Nam'\n",
       "192. 'Yemen'\n",
       "193. 'Zambia'\n",
       "194. 'Zimbabwe'\n",
       "\n",
       "\n"
      ],
      "text/plain": [
       "[1] Japan\n",
       "194 Levels: Afghanistan Albania Algeria Andorra Angola ... Zimbabwe"
      ]
     },
     "metadata": {},
     "output_type": "display_data"
    }
   ],
   "source": [
    "WHO$Country[86]"
   ]
  },
  {
   "cell_type": "markdown",
   "metadata": {
    "nteract": {
     "transient": {
      "deleting": false
     }
    }
   },
   "source": [
    "## 散点图\n",
    "画GNI与FertilityRate的散点图"
   ]
  },
  {
   "cell_type": "code",
   "execution_count": 19,
   "metadata": {
    "collapsed": true,
    "execution": {
     "iopub.execute_input": "2020-05-09T00:02:25.798072Z",
     "iopub.status.busy": "2020-05-09T00:02:25.796298Z",
     "iopub.status.idle": "2020-05-09T00:02:25.902880Z",
     "shell.execute_reply": "2020-05-09T00:02:25.902178Z"
    },
    "jupyter": {
     "outputs_hidden": false,
     "source_hidden": false
    },
    "nteract": {
     "transient": {
      "deleting": false
     }
    },
    "outputExpanded": false
   },
   "outputs": [
    {
     "data": {
      "image/png": "[encoded data removed]",
      "text/plain": [
       "plot without title"
      ]
     },
     "metadata": {
      "filenames": {
       "image/png": "/home/jerrywang/GitHub/note_viajupyterbook/mynote/_build/jupyter_execute/content/R_study/R_usage_2_36_0.png"
      },
      "image/png": {
       "height": 420,
       "width": 420
      }
     },
     "output_type": "display_data"
    }
   ],
   "source": [
    "plot(WHO$GNI, WHO$FertilityRate)"
   ]
  },
  {
   "cell_type": "markdown",
   "metadata": {
    "nteract": {
     "transient": {
      "deleting": false
     }
    }
   },
   "source": [
    "## subset\n",
    "使用`subset()`找出收入高，生育率高的国家"
   ]
  },
  {
   "cell_type": "code",
   "execution_count": 20,
   "metadata": {
    "collapsed": true,
    "execution": {
     "iopub.execute_input": "2020-05-09T00:02:25.908921Z",
     "iopub.status.busy": "2020-05-09T00:02:25.907015Z",
     "iopub.status.idle": "2020-05-09T00:02:25.930433Z",
     "shell.execute_reply": "2020-05-09T00:02:25.924916Z"
    },
    "jupyter": {
     "outputs_hidden": false,
     "source_hidden": false
    },
    "nteract": {
     "transient": {
      "deleting": false
     }
    },
    "outputExpanded": false
   },
   "outputs": [
    {
     "data": {
      "text/html": [
       "7"
      ],
      "text/latex": [
       "7"
      ],
      "text/markdown": [
       "7"
      ],
      "text/plain": [
       "[1] 7"
      ]
     },
     "metadata": {},
     "output_type": "display_data"
    }
   ],
   "source": [
    "Outliers = subset(WHO,  GNI > 10000 & FertilityRate > 2.5)\n",
    "nrow(Outliers)"
   ]
  },
  {
   "cell_type": "markdown",
   "metadata": {
    "nteract": {
     "transient": {
      "deleting": false
     }
    }
   },
   "source": [
    "`nrow`函数返回DataFrame中的行数或观察值，我们可以看到有七个这样的国家。让我们仅输出国名，国民总收入和这七个国家的生育率。"
   ]
  },
  {
   "cell_type": "code",
   "execution_count": 21,
   "metadata": {
    "collapsed": true,
    "execution": {
     "iopub.execute_input": "2020-05-09T00:02:25.935197Z",
     "iopub.status.busy": "2020-05-09T00:02:25.933934Z",
     "iopub.status.idle": "2020-05-09T00:02:25.957993Z",
     "shell.execute_reply": "2020-05-09T00:02:25.956501Z"
    },
    "jupyter": {
     "outputs_hidden": false,
     "source_hidden": false
    },
    "nteract": {
     "transient": {
      "deleting": false
     }
    },
    "outputExpanded": false
   },
   "outputs": [
    {
     "data": {
      "text/html": [
       "<table>\n",
       "<caption>A data.frame: 7 × 3</caption>\n",
       "<thead>\n",
       "\t<tr><th></th><th scope=col>Country</th><th scope=col>GNI</th><th scope=col>FertilityRate</th></tr>\n",
       "\t<tr><th></th><th scope=col>&lt;fct&gt;</th><th scope=col>&lt;dbl&gt;</th><th scope=col>&lt;dbl&gt;</th></tr>\n",
       "</thead>\n",
       "<tbody>\n",
       "\t<tr><th scope=row>23</th><td>Botswana         </td><td>14550</td><td>2.71</td></tr>\n",
       "\t<tr><th scope=row>56</th><td>Equatorial Guinea</td><td>25620</td><td>5.04</td></tr>\n",
       "\t<tr><th scope=row>63</th><td>Gabon            </td><td>13740</td><td>4.18</td></tr>\n",
       "\t<tr><th scope=row>83</th><td>Israel           </td><td>27110</td><td>2.92</td></tr>\n",
       "\t<tr><th scope=row>88</th><td>Kazakhstan       </td><td>11250</td><td>2.52</td></tr>\n",
       "\t<tr><th scope=row>131</th><td>Panama           </td><td>14510</td><td>2.52</td></tr>\n",
       "\t<tr><th scope=row>150</th><td>Saudi Arabia     </td><td>24700</td><td>2.76</td></tr>\n",
       "</tbody>\n",
       "</table>\n"
      ],
      "text/latex": [
       "A data.frame: 7 × 3\n",
       "\\begin{tabular}{r|lll}\n",
       "  & Country & GNI & FertilityRate\\\\\n",
       "  & <fct> & <dbl> & <dbl>\\\\\n",
       "\\hline\n",
       "\t23 & Botswana          & 14550 & 2.71\\\\\n",
       "\t56 & Equatorial Guinea & 25620 & 5.04\\\\\n",
       "\t63 & Gabon             & 13740 & 4.18\\\\\n",
       "\t83 & Israel            & 27110 & 2.92\\\\\n",
       "\t88 & Kazakhstan        & 11250 & 2.52\\\\\n",
       "\t131 & Panama            & 14510 & 2.52\\\\\n",
       "\t150 & Saudi Arabia      & 24700 & 2.76\\\\\n",
       "\\end{tabular}\n"
      ],
      "text/markdown": [
       "\n",
       "A data.frame: 7 × 3\n",
       "\n",
       "| <!--/--> | Country &lt;fct&gt; | GNI &lt;dbl&gt; | FertilityRate &lt;dbl&gt; |\n",
       "|---|---|---|---|\n",
       "| 23 | Botswana          | 14550 | 2.71 |\n",
       "| 56 | Equatorial Guinea | 25620 | 5.04 |\n",
       "| 63 | Gabon             | 13740 | 4.18 |\n",
       "| 83 | Israel            | 27110 | 2.92 |\n",
       "| 88 | Kazakhstan        | 11250 | 2.52 |\n",
       "| 131 | Panama            | 14510 | 2.52 |\n",
       "| 150 | Saudi Arabia      | 24700 | 2.76 |\n",
       "\n"
      ],
      "text/plain": [
       "    Country           GNI   FertilityRate\n",
       "23  Botswana          14550 2.71         \n",
       "56  Equatorial Guinea 25620 5.04         \n",
       "63  Gabon             13740 4.18         \n",
       "83  Israel            27110 2.92         \n",
       "88  Kazakhstan        11250 2.52         \n",
       "131 Panama            14510 2.52         \n",
       "150 Saudi Arabia      24700 2.76         "
      ]
     },
     "metadata": {},
     "output_type": "display_data"
    }
   ],
   "source": [
    "Outliers[c(\"Country\", \"GNI\", \"FertilityRate\")]"
   ]
  },
  {
   "cell_type": "markdown",
   "metadata": {
    "nteract": {
     "transient": {
      "deleting": false
     }
    }
   },
   "source": [
    "## 直方图\n",
    "创建预期寿命的直方图"
   ]
  },
  {
   "cell_type": "code",
   "execution_count": 22,
   "metadata": {
    "collapsed": true,
    "execution": {
     "iopub.execute_input": "2020-05-09T00:02:25.963317Z",
     "iopub.status.busy": "2020-05-09T00:02:25.961515Z",
     "iopub.status.idle": "2020-05-09T00:02:26.056418Z",
     "shell.execute_reply": "2020-05-09T00:02:26.054848Z"
    },
    "jupyter": {
     "outputs_hidden": false,
     "source_hidden": false
    },
    "nteract": {
     "transient": {
      "deleting": false
     }
    },
    "outputExpanded": false
   },
   "outputs": [
    {
     "data": {
      "image/png": "[encoded data removed]",
      "text/plain": [
       "Plot with title “Histogram of WHO$LifeExpectancy”"
      ]
     },
     "metadata": {
      "filenames": {
       "image/png": "/home/jerrywang/GitHub/note_viajupyterbook/mynote/_build/jupyter_execute/content/R_study/R_usage_2_42_0.png"
      },
      "image/png": {
       "height": 420,
       "width": 420
      }
     },
     "output_type": "display_data"
    }
   ],
   "source": [
    "hist(WHO$LifeExpectancy)"
   ]
  },
  {
   "cell_type": "markdown",
   "metadata": {
    "nteract": {
     "transient": {
      "deleting": false
     }
    }
   },
   "source": [
    "## 箱形图\n",
    "画一个按照区域排序的LifeExpectancy箱形图"
   ]
  },
  {
   "cell_type": "code",
   "execution_count": 23,
   "metadata": {
    "collapsed": true,
    "execution": {
     "iopub.execute_input": "2020-05-09T00:02:26.062195Z",
     "iopub.status.busy": "2020-05-09T00:02:26.060291Z",
     "iopub.status.idle": "2020-05-09T00:02:26.157582Z",
     "shell.execute_reply": "2020-05-09T00:02:26.155174Z"
    },
    "jupyter": {
     "outputs_hidden": false,
     "source_hidden": false
    },
    "nteract": {
     "transient": {
      "deleting": false
     }
    },
    "outputExpanded": false
   },
   "outputs": [
    {
     "data": {
      "image/png": "[encoded data removed]",
      "text/plain": [
       "plot without title"
      ]
     },
     "metadata": {
      "filenames": {
       "image/png": "/home/jerrywang/GitHub/note_viajupyterbook/mynote/_build/jupyter_execute/content/R_study/R_usage_2_44_0.png"
      },
      "image/png": {
       "height": 420,
       "width": 420
      }
     },
     "output_type": "display_data"
    }
   ],
   "source": [
    "boxplot(WHO$LifeExpectancy ~ WHO$Region)"
   ]
  },
  {
   "cell_type": "markdown",
   "metadata": {
    "nteract": {
     "transient": {
      "deleting": false
     }
    }
   },
   "source": [
    "对图像做简单的注释"
   ]
  },
  {
   "cell_type": "code",
   "execution_count": 24,
   "metadata": {
    "collapsed": true,
    "execution": {
     "iopub.execute_input": "2020-05-09T00:02:26.163335Z",
     "iopub.status.busy": "2020-05-09T00:02:26.161483Z",
     "iopub.status.idle": "2020-05-09T00:02:26.240179Z",
     "shell.execute_reply": "2020-05-09T00:02:26.238866Z"
    },
    "jupyter": {
     "outputs_hidden": false,
     "source_hidden": false
    },
    "nteract": {
     "transient": {
      "deleting": false
     }
    },
    "outputExpanded": false
   },
   "outputs": [
    {
     "data": {
      "image/png": "[encoded data removed]",
      "text/plain": [
       "Plot with title “Life Expectancy of Countries by Region”"
      ]
     },
     "metadata": {
      "filenames": {
       "image/png": "/home/jerrywang/GitHub/note_viajupyterbook/mynote/_build/jupyter_execute/content/R_study/R_usage_2_46_0.png"
      },
      "image/png": {
       "height": 420,
       "width": 420
      }
     },
     "output_type": "display_data"
    }
   ],
   "source": [
    "boxplot(WHO$LifeExpectancy ~ WHO$Region, xlab = \"Region\", ylab = \"Life Expectancy\", main = \"Life Expectancy of Countries by Region\")"
   ]
  },
  {
   "cell_type": "markdown",
   "metadata": {
    "nteract": {
     "transient": {
      "deleting": false
     }
    }
   },
   "source": [
    "## 选择并生成表\n",
    "生成类型变量的汇总表"
   ]
  },
  {
   "cell_type": "code",
   "execution_count": 25,
   "metadata": {
    "collapsed": true,
    "execution": {
     "iopub.execute_input": "2020-05-09T00:02:26.244955Z",
     "iopub.status.busy": "2020-05-09T00:02:26.243612Z",
     "iopub.status.idle": "2020-05-09T00:02:26.257852Z",
     "shell.execute_reply": "2020-05-09T00:02:26.256556Z"
    },
    "jupyter": {
     "outputs_hidden": false,
     "source_hidden": false
    },
    "nteract": {
     "transient": {
      "deleting": false
     }
    },
    "outputExpanded": false
   },
   "outputs": [
    {
     "data": {
      "text/plain": [
       "\n",
       "               Africa              Americas Eastern Mediterranean \n",
       "                   46                    35                    22 \n",
       "               Europe       South-East Asia       Western Pacific \n",
       "                   53                    11                    27 "
      ]
     },
     "metadata": {},
     "output_type": "display_data"
    }
   ],
   "source": [
    "table(WHO$Region)"
   ]
  },
  {
   "cell_type": "markdown",
   "metadata": {
    "nteract": {
     "transient": {
      "deleting": false
     }
    }
   },
   "source": [
    "生成数值变量某一特征的汇总表，按照`WHO$Region`排序"
   ]
  },
  {
   "cell_type": "code",
   "execution_count": 26,
   "metadata": {
    "collapsed": true,
    "execution": {
     "iopub.execute_input": "2020-05-09T00:02:26.262741Z",
     "iopub.status.busy": "2020-05-09T00:02:26.261421Z",
     "iopub.status.idle": "2020-05-09T00:02:26.278663Z",
     "shell.execute_reply": "2020-05-09T00:02:26.277296Z"
    },
    "jupyter": {
     "outputs_hidden": false,
     "source_hidden": false
    },
    "nteract": {
     "transient": {
      "deleting": false
     }
    },
    "outputExpanded": false
   },
   "outputs": [
    {
     "data": {
      "text/html": [
       "<style>\n",
       ".dl-inline {width: auto; margin:0; padding: 0}\n",
       ".dl-inline>dt, .dl-inline>dd {float: none; width: auto; display: inline-block}\n",
       ".dl-inline>dt::after {content: \":\\0020\"; padding-right: .5ex}\n",
       ".dl-inline>dt:not(:first-of-type) {padding-left: .5ex}\n",
       "</style><dl class=dl-inline><dt>Africa</dt><dd>5.22065217391304</dd><dt>Americas</dt><dd>10.9437142857143</dd><dt>Eastern Mediterranean</dt><dd>5.62</dd><dt>Europe</dt><dd>19.7749056603774</dd><dt>South-East Asia</dt><dd>8.76909090909091</dd><dt>Western Pacific</dt><dd>10.162962962963</dd></dl>\n"
      ],
      "text/latex": [
       "\\begin{description*}\n",
       "\\item[Africa] 5.22065217391304\n",
       "\\item[Americas] 10.9437142857143\n",
       "\\item[Eastern Mediterranean] 5.62\n",
       "\\item[Europe] 19.7749056603774\n",
       "\\item[South-East Asia] 8.76909090909091\n",
       "\\item[Western Pacific] 10.162962962963\n",
       "\\end{description*}\n"
      ],
      "text/markdown": [
       "Africa\n",
       ":   5.22065217391304Americas\n",
       ":   10.9437142857143Eastern Mediterranean\n",
       ":   5.62Europe\n",
       ":   19.7749056603774South-East Asia\n",
       ":   8.76909090909091Western Pacific\n",
       ":   10.162962962963\n",
       "\n"
      ],
      "text/plain": [
       "               Africa              Americas Eastern Mediterranean \n",
       "             5.220652             10.943714              5.620000 \n",
       "               Europe       South-East Asia       Western Pacific \n",
       "            19.774906              8.769091             10.162963 "
      ]
     },
     "metadata": {},
     "output_type": "display_data"
    }
   ],
   "source": [
    "tapply(WHO$Over60, WHO$Region, mean)"
   ]
  },
  {
   "cell_type": "markdown",
   "metadata": {
    "nteract": {
     "transient": {
      "deleting": false
     }
    }
   },
   "source": [
    "按照第二个变量分类和排序，生成第一个变量的最小值表"
   ]
  },
  {
   "cell_type": "code",
   "execution_count": 27,
   "metadata": {
    "collapsed": true,
    "execution": {
     "iopub.execute_input": "2020-05-09T00:02:26.283423Z",
     "iopub.status.busy": "2020-05-09T00:02:26.282032Z",
     "iopub.status.idle": "2020-05-09T00:02:26.298784Z",
     "shell.execute_reply": "2020-05-09T00:02:26.296336Z"
    },
    "jupyter": {
     "outputs_hidden": false,
     "source_hidden": false
    },
    "nteract": {
     "transient": {
      "deleting": false
     }
    },
    "outputExpanded": false
   },
   "outputs": [
    {
     "data": {
      "text/html": [
       "<style>\n",
       ".dl-inline {width: auto; margin:0; padding: 0}\n",
       ".dl-inline>dt, .dl-inline>dd {float: none; width: auto; display: inline-block}\n",
       ".dl-inline>dt::after {content: \":\\0020\"; padding-right: .5ex}\n",
       ".dl-inline>dt:not(:first-of-type) {padding-left: .5ex}\n",
       "</style><dl class=dl-inline><dt>Africa</dt><dd>&lt;NA&gt;</dd><dt>Americas</dt><dd>&lt;NA&gt;</dd><dt>Eastern Mediterranean</dt><dd>&lt;NA&gt;</dd><dt>Europe</dt><dd>&lt;NA&gt;</dd><dt>South-East Asia</dt><dd>&lt;NA&gt;</dd><dt>Western Pacific</dt><dd>&lt;NA&gt;</dd></dl>\n"
      ],
      "text/latex": [
       "\\begin{description*}\n",
       "\\item[Africa] <NA>\n",
       "\\item[Americas] <NA>\n",
       "\\item[Eastern Mediterranean] <NA>\n",
       "\\item[Europe] <NA>\n",
       "\\item[South-East Asia] <NA>\n",
       "\\item[Western Pacific] <NA>\n",
       "\\end{description*}\n"
      ],
      "text/markdown": [
       "Africa\n",
       ":   &lt;NA&gt;Americas\n",
       ":   &lt;NA&gt;Eastern Mediterranean\n",
       ":   &lt;NA&gt;Europe\n",
       ":   &lt;NA&gt;South-East Asia\n",
       ":   &lt;NA&gt;Western Pacific\n",
       ":   &lt;NA&gt;\n",
       "\n"
      ],
      "text/plain": [
       "               Africa              Americas Eastern Mediterranean \n",
       "                   NA                    NA                    NA \n",
       "               Europe       South-East Asia       Western Pacific \n",
       "                   NA                    NA                    NA "
      ]
     },
     "metadata": {},
     "output_type": "display_data"
    }
   ],
   "source": [
    "tapply(WHO$LiteracyRate, WHO$Region, min)"
   ]
  },
  {
   "cell_type": "markdown",
   "metadata": {
    "nteract": {
     "transient": {
      "deleting": false
     }
    }
   },
   "source": [
    "这是因为有缺失值的存在，删除缺失值后解决"
   ]
  },
  {
   "cell_type": "code",
   "execution_count": 28,
   "metadata": {
    "collapsed": true,
    "execution": {
     "iopub.execute_input": "2020-05-09T00:02:26.303581Z",
     "iopub.status.busy": "2020-05-09T00:02:26.302273Z",
     "iopub.status.idle": "2020-05-09T00:02:26.318610Z",
     "shell.execute_reply": "2020-05-09T00:02:26.317290Z"
    },
    "jupyter": {
     "outputs_hidden": false,
     "source_hidden": false
    },
    "nteract": {
     "transient": {
      "deleting": false
     }
    },
    "outputExpanded": false
   },
   "outputs": [
    {
     "data": {
      "text/html": [
       "<style>\n",
       ".dl-inline {width: auto; margin:0; padding: 0}\n",
       ".dl-inline>dt, .dl-inline>dd {float: none; width: auto; display: inline-block}\n",
       ".dl-inline>dt::after {content: \":\\0020\"; padding-right: .5ex}\n",
       ".dl-inline>dt:not(:first-of-type) {padding-left: .5ex}\n",
       "</style><dl class=dl-inline><dt>Africa</dt><dd>31.1</dd><dt>Americas</dt><dd>75.2</dd><dt>Eastern Mediterranean</dt><dd>63.9</dd><dt>Europe</dt><dd>95.2</dd><dt>South-East Asia</dt><dd>56.8</dd><dt>Western Pacific</dt><dd>60.6</dd></dl>\n"
      ],
      "text/latex": [
       "\\begin{description*}\n",
       "\\item[Africa] 31.1\n",
       "\\item[Americas] 75.2\n",
       "\\item[Eastern Mediterranean] 63.9\n",
       "\\item[Europe] 95.2\n",
       "\\item[South-East Asia] 56.8\n",
       "\\item[Western Pacific] 60.6\n",
       "\\end{description*}\n"
      ],
      "text/markdown": [
       "Africa\n",
       ":   31.1Americas\n",
       ":   75.2Eastern Mediterranean\n",
       ":   63.9Europe\n",
       ":   95.2South-East Asia\n",
       ":   56.8Western Pacific\n",
       ":   60.6\n",
       "\n"
      ],
      "text/plain": [
       "               Africa              Americas Eastern Mediterranean \n",
       "                 31.1                  75.2                  63.9 \n",
       "               Europe       South-East Asia       Western Pacific \n",
       "                 95.2                  56.8                  60.6 "
      ]
     },
     "metadata": {},
     "output_type": "display_data"
    }
   ],
   "source": [
    "tapply(WHO$LiteracyRate, WHO$Region, min, na.rm = TRUE)"
   ]
  }
 ],
 "metadata": {
  "kernel_info": {
   "name": "ir"
  },
  "kernelspec": {
   "argv": [
    "/usr/lib/R/bin/R",
    "--slave",
    "-e",
    "IRkernel::main()",
    "--args",
    "{connection_file}"
   ],
   "display_name": "R",
   "language": "R",
   "name": "ir"
  },
  "language_info": {
   "codemirror_mode": "r",
   "file_extension": ".r",
   "mimetype": "text/x-r-source",
   "name": "R",
   "pygments_lexer": "r",
   "version": "3.6.3"
  },
  "nteract": {
   "version": "0.23.1"
  }
 },
 "nbformat": 4,
 "nbformat_minor": 0
}