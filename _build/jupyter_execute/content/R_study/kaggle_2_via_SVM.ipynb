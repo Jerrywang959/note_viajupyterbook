{
 "cells": [
  {
   "cell_type": "markdown",
   "metadata": {
    "nteract": {
     "transient": {
      "deleting": false
     }
    }
   },
   "source": [
    "# kaggle competition 2 \n",
    "## 加载和浏览数据集\n",
    "加载包"
   ]
  },
  {
   "cell_type": "code",
   "execution_count": 1,
   "metadata": {
    "collapsed": true,
    "execution": {
     "iopub.execute_input": "2020-06-19T02:32:51.633Z",
     "iopub.status.busy": "2020-06-19T02:32:51.620Z",
     "iopub.status.idle": "2020-06-19T02:32:51.908Z",
     "shell.execute_reply": "2020-06-19T02:32:51.898Z"
    },
    "jupyter": {
     "outputs_hidden": false,
     "source_hidden": false
    },
    "nteract": {
     "transient": {
      "deleting": false
     }
    }
   },
   "outputs": [],
   "source": [
    "library(e1071)\n",
    "library(caTools)"
   ]
  },
  {
   "cell_type": "markdown",
   "metadata": {
    "nteract": {
     "transient": {
      "deleting": false
     }
    }
   },
   "source": [
    "加载数据"
   ]
  },
  {
   "cell_type": "code",
   "execution_count": 2,
   "metadata": {
    "collapsed": true,
    "execution": {
     "iopub.execute_input": "2020-06-19T02:32:52.558Z",
     "iopub.status.busy": "2020-06-19T02:32:52.503Z",
     "iopub.status.idle": "2020-06-19T02:32:52.659Z",
     "shell.execute_reply": "2020-06-19T02:32:52.676Z"
    },
    "jupyter": {
     "outputs_hidden": false,
     "source_hidden": false
    },
    "nteract": {
     "transient": {
      "deleting": false
     }
    }
   },
   "outputs": [
    {
     "name": "stdout",
     "output_type": "stream",
     "text": [
      "'data.frame':\t932 obs. of  16 variables:\n",
      " $ Id          : int  301 302 303 304 305 306 307 308 309 310 ...\n",
      " $ Team        : chr  \"ANA\" \"ARI\" \"ATL\" \"BAL\" ...\n",
      " $ League      : chr  \"AL\" \"NL\" \"NL\" \"AL\" ...\n",
      " $ Year        : int  2002 2002 2002 2002 2002 2002 2002 2002 2002 2002 ...\n",
      " $ RS          : int  851 819 708 667 859 706 856 709 739 778 ...\n",
      " $ RA          : int  644 674 565 773 665 759 798 774 837 898 ...\n",
      " $ W           : int  99 98 101 67 93 67 81 78 74 73 ...\n",
      " $ OBP         : num  0.341 0.346 0.331 0.309 0.345 0.321 0.338 0.33 0.321 0.337 ...\n",
      " $ SLG         : num  0.433 0.423 0.409 0.403 0.444 0.413 0.449 0.408 0.412 0.423 ...\n",
      " $ BA          : num  0.282 0.267 0.26 0.246 0.277 0.246 0.268 0.253 0.249 0.274 ...\n",
      " $ Playoffs    : int  1 1 1 0 0 0 0 0 0 0 ...\n",
      " $ RankSeason  : int  3 4 2 NA NA NA NA NA NA NA ...\n",
      " $ RankPlayoffs: int  1 4 4 NA NA NA NA NA NA NA ...\n",
      " $ G           : int  162 162 161 162 162 162 162 162 162 162 ...\n",
      " $ OOBP        : num  0.314 0.305 0.313 0.336 0.308 0.331 0.33 0.338 0.348 0.349 ...\n",
      " $ OSLG        : num  0.392 0.397 0.364 0.435 0.385 0.407 0.423 0.426 0.423 0.466 ...\n"
     ]
    }
   ],
   "source": [
    "Trainraw=read.csv(\"../../datas/kaggle_2_Train.csv\")\n",
    "Testraw=read.csv(\"../../datas/kaggle_2_Test.csv\")\n",
    "str(Trainraw)"
   ]
  },
  {
   "cell_type": "markdown",
   "metadata": {
    "nteract": {
     "transient": {
      "deleting": false
     }
    }
   },
   "source": [
    "分割数据集"
   ]
  },
  {
   "cell_type": "code",
   "execution_count": 3,
   "metadata": {
    "collapsed": true,
    "execution": {
     "iopub.execute_input": "2020-06-19T02:32:58.710Z",
     "iopub.status.busy": "2020-06-19T02:32:58.698Z",
     "iopub.status.idle": "2020-06-19T02:32:58.727Z",
     "shell.execute_reply": "2020-06-19T02:32:58.742Z"
    },
    "jupyter": {
     "outputs_hidden": false,
     "source_hidden": false
    },
    "nteract": {
     "transient": {
      "deleting": false
     }
    }
   },
   "outputs": [],
   "source": [
    "set.seed(123)\n",
    "split = sample.split(Trainraw$Playoffs, SplitRatio = 0.70)"
   ]
  },
  {
   "cell_type": "code",
   "execution_count": 4,
   "metadata": {
    "collapsed": true,
    "execution": {
     "iopub.execute_input": "2020-06-19T02:32:59.104Z",
     "iopub.status.busy": "2020-06-19T02:32:59.089Z",
     "iopub.status.idle": "2020-06-19T02:32:59.124Z",
     "shell.execute_reply": "2020-06-19T02:32:59.144Z"
    },
    "jupyter": {
     "outputs_hidden": false,
     "source_hidden": false
    },
    "nteract": {
     "transient": {
      "deleting": false
     }
    }
   },
   "outputs": [],
   "source": [
    "MyTrain = subset(Trainraw, split == TRUE)\n",
    "MyTest = subset(Trainraw, split == FALSE)"
   ]
  },
  {
   "cell_type": "markdown",
   "metadata": {
    "nteract": {
     "transient": {
      "deleting": false
     }
    }
   },
   "source": [
    "## 逻辑回归\n",
    "### 仅使用 OBP+SLG 双变量"
   ]
  },
  {
   "cell_type": "code",
   "execution_count": 5,
   "metadata": {
    "collapsed": true,
    "execution": {
     "iopub.execute_input": "2020-06-19T02:34:52.160Z",
     "iopub.status.busy": "2020-06-19T02:34:52.151Z",
     "iopub.status.idle": "2020-06-19T02:34:52.268Z",
     "shell.execute_reply": "2020-06-19T02:34:52.284Z"
    },
    "jupyter": {
     "outputs_hidden": false,
     "source_hidden": false
    },
    "nteract": {
     "transient": {
      "deleting": false
     }
    }
   },
   "outputs": [
    {
     "data": {
      "text/plain": [
       "\n",
       "Call:\n",
       "glm(formula = Playoffs ~ OBP + SLG, family = binomial, data = MyTrain)\n",
       "\n",
       "Deviance Residuals: \n",
       "    Min       1Q   Median       3Q      Max  \n",
       "-1.5375  -0.6251  -0.4555  -0.2974   2.4924  \n",
       "\n",
       "Coefficients:\n",
       "            Estimate Std. Error z value Pr(>|z|)    \n",
       "(Intercept)  -20.842      2.815  -7.404 1.32e-13 ***\n",
       "OBP           52.314     12.411   4.215 2.49e-05 ***\n",
       "SLG            5.188      5.360   0.968    0.333    \n",
       "---\n",
       "Signif. codes:  0 ‘***’ 0.001 ‘**’ 0.01 ‘*’ 0.05 ‘.’ 0.1 ‘ ’ 1\n",
       "\n",
       "(Dispersion parameter for binomial family taken to be 1)\n",
       "\n",
       "    Null deviance: 601.28  on 651  degrees of freedom\n",
       "Residual deviance: 528.21  on 649  degrees of freedom\n",
       "AIC: 534.21\n",
       "\n",
       "Number of Fisher Scoring iterations: 5\n"
      ]
     },
     "metadata": {},
     "output_type": "display_data"
    }
   ],
   "source": [
    "QualityLog = glm(Playoffs ~ OBP+SLG, data = MyTrain, family = binomial)\n",
    "summary(QualityLog)"
   ]
  },
  {
   "cell_type": "markdown",
   "metadata": {
    "nteract": {
     "transient": {
      "deleting": false
     }
    }
   },
   "source": [
    "训练集验证及阈值筛选"
   ]
  },
  {
   "cell_type": "code",
   "execution_count": 16,
   "metadata": {
    "collapsed": true,
    "execution": {
     "iopub.execute_input": "2020-06-19T02:43:14.228Z",
     "iopub.status.busy": "2020-06-19T02:43:14.215Z",
     "iopub.status.idle": "2020-06-19T02:43:14.259Z",
     "shell.execute_reply": "2020-06-19T02:43:14.269Z"
    },
    "jupyter": {
     "outputs_hidden": false,
     "source_hidden": false
    },
    "nteract": {
     "transient": {
      "deleting": false
     }
    }
   },
   "outputs": [
    {
     "data": {
      "text/plain": [
       "    Min.  1st Qu.   Median     Mean  3rd Qu.     Max. \n",
       "0.009426 0.077302 0.135166 0.173313 0.231542 0.749071 "
      ]
     },
     "metadata": {},
     "output_type": "display_data"
    }
   ],
   "source": [
    "PatoffTrain_1 = predict(QualityLog, type = \"response\")\n",
    "summary(PatoffTrain_1)"
   ]
  },
  {
   "cell_type": "code",
   "execution_count": 20,
   "metadata": {
    "collapsed": true,
    "execution": {
     "iopub.execute_input": "2020-06-19T02:56:24.999Z",
     "iopub.status.busy": "2020-06-19T02:56:24.992Z",
     "iopub.status.idle": "2020-06-19T02:56:25.014Z",
     "shell.execute_reply": "2020-06-19T02:56:25.025Z"
    },
    "jupyter": {
     "outputs_hidden": false,
     "source_hidden": false
    },
    "nteract": {
     "transient": {
      "deleting": false
     }
    }
   },
   "outputs": [
    {
     "data": {
      "text/html": [
       "<style>\n",
       ".dl-inline {width: auto; margin:0; padding: 0}\n",
       ".dl-inline>dt, .dl-inline>dd {float: none; width: auto; display: inline-block}\n",
       ".dl-inline>dt::after {content: \":\\0020\"; padding-right: .5ex}\n",
       ".dl-inline>dt:not(:first-of-type) {padding-left: .5ex}\n",
       "</style><dl class=dl-inline><dt>0</dt><dd>0.152633373897801</dd><dt>1</dt><dd>0.27195231388603</dd></dl>\n"
      ],
      "text/latex": [
       "\\begin{description*}\n",
       "\\item[0] 0.152633373897801\n",
       "\\item[1] 0.27195231388603\n",
       "\\end{description*}\n"
      ],
      "text/markdown": [
       "0\n",
       ":   0.1526333738978011\n",
       ":   0.27195231388603\n",
       "\n"
      ],
      "text/plain": [
       "        0         1 \n",
       "0.1526334 0.2719523 "
      ]
     },
     "metadata": {},
     "output_type": "display_data"
    }
   ],
   "source": [
    "tapply(PatoffTrain_1, MyTrain$Playoffs, mean)"
   ]
  },
  {
   "cell_type": "code",
   "execution_count": 28,
   "metadata": {
    "collapsed": true,
    "execution": {
     "iopub.execute_input": "2020-06-19T02:57:38.279Z",
     "iopub.status.busy": "2020-06-19T02:57:38.271Z",
     "iopub.status.idle": "2020-06-19T02:57:38.292Z",
     "shell.execute_reply": "2020-06-19T02:57:38.304Z"
    },
    "jupyter": {
     "outputs_hidden": false,
     "source_hidden": false
    },
    "nteract": {
     "transient": {
      "deleting": false
     }
    }
   },
   "outputs": [
    {
     "data": {
      "text/plain": [
       "   \n",
       "    FALSE TRUE\n",
       "  0   514   25\n",
       "  1    91   22"
      ]
     },
     "metadata": {},
     "output_type": "display_data"
    }
   ],
   "source": [
    "conf05=table(MyTrain$Playoffs,predictTrain > 0.4)\n",
    "conf05"
   ]
  },
  {
   "cell_type": "markdown",
   "metadata": {
    "nteract": {
     "transient": {
      "deleting": false
     }
    }
   },
   "source": [
    "画ROC曲线"
   ]
  },
  {
   "cell_type": "code",
   "execution_count": null,
   "metadata": {
    "collapsed": true,
    "jupyter": {
     "outputs_hidden": false,
     "source_hidden": false
    },
    "nteract": {
     "transient": {
      "deleting": false
     }
    }
   },
   "outputs": [],
   "source": []
  }
 ],
 "metadata": {
  "kernel_info": {
   "name": "ir40"
  },
  "kernelspec": {
   "argv": [
    "/usr/lib/R/bin/R",
    "--slave",
    "-e",
    "IRkernel::main()",
    "--args",
    "{connection_file}"
   ],
   "display_name": "R 4.0",
   "language": "R",
   "name": "ir40"
  },
  "language_info": {
   "codemirror_mode": "r",
   "file_extension": ".r",
   "mimetype": "text/x-r-source",
   "name": "R",
   "pygments_lexer": "r",
   "version": "4.0.1"
  },
  "nteract": {
   "version": "0.23.3"
  }
 },
 "nbformat": 4,
 "nbformat_minor": 0
}